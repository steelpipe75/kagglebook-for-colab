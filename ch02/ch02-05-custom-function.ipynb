{
  "cells": [
    {
      "cell_type": "markdown",
      "metadata": {
        "id": "view-in-github",
        "colab_type": "text"
      },
      "source": [
        "<a href=\"https://colab.research.google.com/github/steelpipe75/kagglebook-for-colab/blob/master/ch02/ch02-05-custom-function.ipynb\" target=\"_parent\"><img src=\"https://colab.research.google.com/assets/colab-badge.svg\" alt=\"Open In Colab\"/></a>"
      ]
    },
    {
      "cell_type": "code",
      "execution_count": 1,
      "id": "1f49a243",
      "metadata": {
        "id": "1f49a243"
      },
      "outputs": [],
      "source": [
        "import numpy as np\n",
        "import pandas as pd"
      ]
    },
    {
      "cell_type": "markdown",
      "id": "fcbf5068",
      "metadata": {
        "id": "fcbf5068"
      },
      "source": [
        "-----------------------------------\n",
        "カスタム目的関数での評価指標の近似によるMAEの最適化\n",
        "-----------------------------------"
      ]
    },
    {
      "cell_type": "code",
      "execution_count": 2,
      "id": "14e4839c",
      "metadata": {
        "id": "14e4839c"
      },
      "outputs": [],
      "source": [
        "# Fair 関数\n",
        "def fair(preds, dtrain):\n",
        "    x = preds - dtrain.get_labels()  # 残差を取得\n",
        "    c = 1.0  # Fair関数のパラメータ\n",
        "    den = abs(x) + c  # 勾配の式の分母を計算\n",
        "    grad = c * x / den  # 勾配\n",
        "    hess = c * c / den ** 2  # 二階微分値\n",
        "    return grad, hess"
      ]
    },
    {
      "cell_type": "code",
      "execution_count": 3,
      "id": "9b5d62fa",
      "metadata": {
        "id": "9b5d62fa"
      },
      "outputs": [],
      "source": [
        "# Pseudo-Huber 関数\n",
        "def psuedo_huber(preds, dtrain):\n",
        "    d = preds - dtrain.get_labels()  # 残差を取得\n",
        "    delta = 1.0  # Pseudo-Huber関数のパラメータ\n",
        "    scale = 1 + (d / delta) ** 2\n",
        "    scale_sqrt = np.sqrt(scale)\n",
        "    grad = d / scale_sqrt  # 勾配\n",
        "    hess = 1 / scale / scale_sqrt  # 二階微分値\n",
        "    return grad, hess"
      ]
    }
  ],
  "metadata": {
    "jupytext": {
      "cell_metadata_filter": "-all",
      "main_language": "python",
      "notebook_metadata_filter": "-all"
    },
    "colab": {
      "provenance": [],
      "include_colab_link": true
    },
    "language_info": {
      "name": "python"
    },
    "kernelspec": {
      "name": "python3",
      "display_name": "Python 3"
    }
  },
  "nbformat": 4,
  "nbformat_minor": 5
}