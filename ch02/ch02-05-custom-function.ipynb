{
 "cells": [
  {
   "cell_type": "code",
   "execution_count": null,
   "id": "1f49a243",
   "metadata": {},
   "outputs": [],
   "source": [
    "import numpy as np\n",
    "import pandas as pd"
   ]
  },
  {
   "cell_type": "markdown",
   "id": "fcbf5068",
   "metadata": {},
   "source": [
    "-----------------------------------\n",
    "カスタム目的関数での評価指標の近似によるMAEの最適化\n",
    "-----------------------------------"
   ]
  },
  {
   "cell_type": "code",
   "execution_count": null,
   "id": "14e4839c",
   "metadata": {},
   "outputs": [],
   "source": [
    "# Fair 関数\n",
    "def fair(preds, dtrain):\n",
    "    x = preds - dtrain.get_labels()  # 残差を取得\n",
    "    c = 1.0  # Fair関数のパラメータ\n",
    "    den = abs(x) + c  # 勾配の式の分母を計算\n",
    "    grad = c * x / den  # 勾配\n",
    "    hess = c * c / den ** 2  # 二階微分値\n",
    "    return grad, hess"
   ]
  },
  {
   "cell_type": "code",
   "execution_count": null,
   "id": "9b5d62fa",
   "metadata": {},
   "outputs": [],
   "source": [
    "# Pseudo-Huber 関数\n",
    "def psuedo_huber(preds, dtrain):\n",
    "    d = preds - dtrain.get_labels()  # 残差を取得\n",
    "    delta = 1.0  # Pseudo-Huber関数のパラメータ\n",
    "    scale = 1 + (d / delta) ** 2\n",
    "    scale_sqrt = np.sqrt(scale)\n",
    "    grad = d / scale_sqrt  # 勾配\n",
    "    hess = 1 / scale / scale_sqrt  # 二階微分値\n",
    "    return grad, hess"
   ]
  }
 ],
 "metadata": {
  "jupytext": {
   "cell_metadata_filter": "-all",
   "main_language": "python",
   "notebook_metadata_filter": "-all"
  }
 },
 "nbformat": 4,
 "nbformat_minor": 5
}
