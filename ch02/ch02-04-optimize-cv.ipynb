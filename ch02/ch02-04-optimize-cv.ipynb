{
 "cells": [
  {
   "cell_type": "code",
   "execution_count": null,
   "id": "eac40285",
   "metadata": {},
   "outputs": [],
   "source": [
    "import numpy as np\n",
    "import pandas as pd"
   ]
  },
  {
   "cell_type": "code",
   "execution_count": null,
   "id": "3422a977",
   "metadata": {},
   "outputs": [],
   "source": [
    "# -----------------------------------\n",
    "# out-of-foldでの閾値の最適化\n",
    "# -----------------------------------\n",
    "from scipy.optimize import minimize\n",
    "from sklearn.metrics import f1_score\n",
    "from sklearn.model_selection import KFold"
   ]
  },
  {
   "cell_type": "code",
   "execution_count": null,
   "id": "273f8bd4",
   "metadata": {},
   "outputs": [],
   "source": [
    "# サンプルデータ生成の準備\n",
    "rand = np.random.RandomState(seed=71)\n",
    "train_y_prob = np.linspace(0, 1.0, 10000)"
   ]
  },
  {
   "cell_type": "code",
   "execution_count": null,
   "id": "1d6883a3",
   "metadata": {},
   "outputs": [],
   "source": [
    "# 真の値と予測値が以下のtrain_y, train_pred_probであったとする\n",
    "train_y = pd.Series(rand.uniform(0.0, 1.0, train_y_prob.size) < train_y_prob)\n",
    "train_pred_prob = np.clip(train_y_prob * np.exp(rand.standard_normal(train_y_prob.shape) * 0.3), 0.0, 1.0)"
   ]
  },
  {
   "cell_type": "code",
   "execution_count": null,
   "id": "46cc7dbf",
   "metadata": {},
   "outputs": [],
   "source": [
    "# クロスバリデーションの枠組みで閾値を求める\n",
    "thresholds = []\n",
    "scores_tr = []\n",
    "scores_va = []"
   ]
  },
  {
   "cell_type": "code",
   "execution_count": null,
   "id": "fbe8b715",
   "metadata": {},
   "outputs": [],
   "source": [
    "kf = KFold(n_splits=4, random_state=71, shuffle=True)\n",
    "for i, (tr_idx, va_idx) in enumerate(kf.split(train_pred_prob)):\n",
    "    tr_pred_prob, va_pred_prob = train_pred_prob[tr_idx], train_pred_prob[va_idx]\n",
    "    tr_y, va_y = train_y.iloc[tr_idx], train_y.iloc[va_idx]\n",
    "\n",
    "    # 最適化の目的関数を設定\n",
    "    def f1_opt(x):\n",
    "        return -f1_score(tr_y, tr_pred_prob >= x)\n",
    "\n",
    "    # 学習データで閾値の最適化を行い、バリデーションデータで評価を行う\n",
    "    result = minimize(f1_opt, x0=np.array([0.5]), method='Nelder-Mead')\n",
    "    threshold = result['x'].item()\n",
    "    score_tr = f1_score(tr_y, tr_pred_prob >= threshold)\n",
    "    score_va = f1_score(va_y, va_pred_prob >= threshold)\n",
    "    print(threshold, score_tr, score_va)\n",
    "\n",
    "    thresholds.append(threshold)\n",
    "    scores_tr.append(score_tr)\n",
    "    scores_va.append(score_va)"
   ]
  },
  {
   "cell_type": "code",
   "execution_count": null,
   "id": "32272a62",
   "metadata": {},
   "outputs": [],
   "source": [
    "# 各foldの閾値の平均をテストデータには適用する\n",
    "threshold_test = np.mean(thresholds)\n",
    "print(threshold_test)"
   ]
  }
 ],
 "metadata": {
  "jupytext": {
   "cell_metadata_filter": "-all",
   "main_language": "python",
   "notebook_metadata_filter": "-all"
  }
 },
 "nbformat": 4,
 "nbformat_minor": 5
}
