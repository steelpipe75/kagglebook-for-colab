{
  "cells": [
    {
      "cell_type": "markdown",
      "metadata": {
        "id": "view-in-github",
        "colab_type": "text"
      },
      "source": [
        "<a href=\"https://colab.research.google.com/github/steelpipe75/kagglebook-for-colab/blob/master/ch02/ch02-04-optimize-cv.ipynb\" target=\"_parent\"><img src=\"https://colab.research.google.com/assets/colab-badge.svg\" alt=\"Open In Colab\"/></a>"
      ]
    },
    {
      "cell_type": "code",
      "execution_count": 1,
      "id": "eac40285",
      "metadata": {
        "id": "eac40285"
      },
      "outputs": [],
      "source": [
        "import numpy as np\n",
        "import pandas as pd"
      ]
    },
    {
      "cell_type": "code",
      "execution_count": 2,
      "id": "3422a977",
      "metadata": {
        "id": "3422a977"
      },
      "outputs": [],
      "source": [
        "# -----------------------------------\n",
        "# out-of-foldでの閾値の最適化\n",
        "# -----------------------------------\n",
        "from scipy.optimize import minimize\n",
        "from sklearn.metrics import f1_score\n",
        "from sklearn.model_selection import KFold"
      ]
    },
    {
      "cell_type": "code",
      "execution_count": 3,
      "id": "273f8bd4",
      "metadata": {
        "id": "273f8bd4"
      },
      "outputs": [],
      "source": [
        "# サンプルデータ生成の準備\n",
        "rand = np.random.RandomState(seed=71)\n",
        "train_y_prob = np.linspace(0, 1.0, 10000)"
      ]
    },
    {
      "cell_type": "code",
      "execution_count": 4,
      "id": "1d6883a3",
      "metadata": {
        "id": "1d6883a3"
      },
      "outputs": [],
      "source": [
        "# 真の値と予測値が以下のtrain_y, train_pred_probであったとする\n",
        "train_y = pd.Series(rand.uniform(0.0, 1.0, train_y_prob.size) < train_y_prob)\n",
        "train_pred_prob = np.clip(train_y_prob * np.exp(rand.standard_normal(train_y_prob.shape) * 0.3), 0.0, 1.0)"
      ]
    },
    {
      "cell_type": "code",
      "execution_count": 5,
      "id": "46cc7dbf",
      "metadata": {
        "id": "46cc7dbf"
      },
      "outputs": [],
      "source": [
        "# クロスバリデーションの枠組みで閾値を求める\n",
        "thresholds = []\n",
        "scores_tr = []\n",
        "scores_va = []"
      ]
    },
    {
      "cell_type": "code",
      "execution_count": 6,
      "id": "fbe8b715",
      "metadata": {
        "id": "fbe8b715",
        "outputId": "2c35f9dc-b733-47e8-9f55-2c22cc05aa2f",
        "colab": {
          "base_uri": "https://localhost:8080/"
        }
      },
      "outputs": [
        {
          "output_type": "stream",
          "name": "stdout",
          "text": [
            "0.34257812499999984 0.7559183673469387 0.7570422535211268\n",
            "0.34277343749999983 0.7598457403295548 0.7450980392156863\n",
            "0.31787109374999983 0.7548253676470589 0.7584803256445047\n",
            "0.3234374999999998 0.7545569184913448 0.7588603196664351\n"
          ]
        }
      ],
      "source": [
        "kf = KFold(n_splits=4, random_state=71, shuffle=True)\n",
        "for i, (tr_idx, va_idx) in enumerate(kf.split(train_pred_prob)):\n",
        "    tr_pred_prob, va_pred_prob = train_pred_prob[tr_idx], train_pred_prob[va_idx]\n",
        "    tr_y, va_y = train_y.iloc[tr_idx], train_y.iloc[va_idx]\n",
        "\n",
        "    # 最適化の目的関数を設定\n",
        "    def f1_opt(x):\n",
        "        return -f1_score(tr_y, tr_pred_prob >= x)\n",
        "\n",
        "    # 学習データで閾値の最適化を行い、バリデーションデータで評価を行う\n",
        "    result = minimize(f1_opt, x0=np.array([0.5]), method='Nelder-Mead')\n",
        "    threshold = result['x'].item()\n",
        "    score_tr = f1_score(tr_y, tr_pred_prob >= threshold)\n",
        "    score_va = f1_score(va_y, va_pred_prob >= threshold)\n",
        "    print(threshold, score_tr, score_va)\n",
        "\n",
        "    thresholds.append(threshold)\n",
        "    scores_tr.append(score_tr)\n",
        "    scores_va.append(score_va)"
      ]
    },
    {
      "cell_type": "code",
      "execution_count": 7,
      "id": "32272a62",
      "metadata": {
        "id": "32272a62",
        "outputId": "a8cd4ea5-caad-4352-89ba-85cdbba06644",
        "colab": {
          "base_uri": "https://localhost:8080/"
        }
      },
      "outputs": [
        {
          "output_type": "stream",
          "name": "stdout",
          "text": [
            "0.33166503906249983\n"
          ]
        }
      ],
      "source": [
        "# 各foldの閾値の平均をテストデータには適用する\n",
        "threshold_test = np.mean(thresholds)\n",
        "print(threshold_test)"
      ]
    }
  ],
  "metadata": {
    "jupytext": {
      "cell_metadata_filter": "-all",
      "main_language": "python",
      "notebook_metadata_filter": "-all"
    },
    "colab": {
      "provenance": [],
      "include_colab_link": true
    },
    "language_info": {
      "name": "python"
    },
    "kernelspec": {
      "name": "python3",
      "display_name": "Python 3"
    }
  },
  "nbformat": 4,
  "nbformat_minor": 5
}