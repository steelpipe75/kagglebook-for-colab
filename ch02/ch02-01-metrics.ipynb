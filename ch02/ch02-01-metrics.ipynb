{
 "cells": [
  {
   "cell_type": "code",
   "execution_count": null,
   "id": "f6d72646",
   "metadata": {},
   "outputs": [],
   "source": [
    "import numpy as np\n",
    "import pandas as pd"
   ]
  },
  {
   "cell_type": "markdown",
   "id": "3f513b5b",
   "metadata": {},
   "source": [
    "-----------------------------------\n",
    "回帰\n",
    "-----------------------------------\n",
    "rmse"
   ]
  },
  {
   "cell_type": "code",
   "execution_count": null,
   "id": "79e28f13",
   "metadata": {},
   "outputs": [],
   "source": [
    "from sklearn.metrics import mean_squared_error"
   ]
  },
  {
   "cell_type": "code",
   "execution_count": null,
   "id": "6f3dadc8",
   "metadata": {},
   "outputs": [],
   "source": [
    "# y_trueが真の値、y_predが予測値\n",
    "y_true = [1.0, 1.5, 2.0, 1.2, 1.8]\n",
    "y_pred = [0.8, 1.5, 1.8, 1.3, 3.0]"
   ]
  },
  {
   "cell_type": "code",
   "execution_count": null,
   "id": "cdceaedc",
   "metadata": {},
   "outputs": [],
   "source": [
    "rmse = np.sqrt(mean_squared_error(y_true, y_pred))\n",
    "print(rmse)\n",
    "# 0.5532"
   ]
  },
  {
   "cell_type": "markdown",
   "id": "a2c2bab0",
   "metadata": {},
   "source": [
    "-----------------------------------\n",
    "二値分類\n",
    "-----------------------------------\n",
    "混同行列"
   ]
  },
  {
   "cell_type": "code",
   "execution_count": null,
   "id": "1e2cdca5",
   "metadata": {},
   "outputs": [],
   "source": [
    "from sklearn.metrics import confusion_matrix"
   ]
  },
  {
   "cell_type": "code",
   "execution_count": null,
   "id": "7a269bdb",
   "metadata": {},
   "outputs": [],
   "source": [
    "# 0, 1で表される二値分類の真の値と予測値\n",
    "y_true = [1, 0, 1, 1, 0, 1, 1, 0]\n",
    "y_pred = [0, 0, 1, 1, 0, 0, 1, 1]"
   ]
  },
  {
   "cell_type": "code",
   "execution_count": null,
   "id": "9ea09784",
   "metadata": {},
   "outputs": [],
   "source": [
    "tp = np.sum((np.array(y_true) == 1) & (np.array(y_pred) == 1))\n",
    "tn = np.sum((np.array(y_true) == 0) & (np.array(y_pred) == 0))\n",
    "fp = np.sum((np.array(y_true) == 0) & (np.array(y_pred) == 1))\n",
    "fn = np.sum((np.array(y_true) == 1) & (np.array(y_pred) == 0))"
   ]
  },
  {
   "cell_type": "code",
   "execution_count": null,
   "id": "77b9dda1",
   "metadata": {},
   "outputs": [],
   "source": [
    "confusion_matrix1 = np.array([[tp, fp],\n",
    "                              [fn, tn]])\n",
    "print(confusion_matrix1)\n",
    "# array([[3, 1],\n",
    "#        [2, 2]])"
   ]
  },
  {
   "cell_type": "code",
   "execution_count": null,
   "id": "d6f5f294",
   "metadata": {},
   "outputs": [],
   "source": [
    "# scikit-learnのmetricsモジュールのconfusion_matrixでも作成できるが、混同行列の要素の配置が違うので注意が必要\n",
    "confusion_matrix2 = confusion_matrix(y_true, y_pred)\n",
    "print(confusion_matrix2)\n",
    "# array([[2, 1],\n",
    "#        [2, 3]])"
   ]
  },
  {
   "cell_type": "markdown",
   "id": "1a9bf5cb",
   "metadata": {},
   "source": [
    "-----------------------------------\n",
    "accuracy"
   ]
  },
  {
   "cell_type": "code",
   "execution_count": null,
   "id": "0a7bd88b",
   "metadata": {},
   "outputs": [],
   "source": [
    "from sklearn.metrics import accuracy_score"
   ]
  },
  {
   "cell_type": "code",
   "execution_count": null,
   "id": "68ada1b5",
   "metadata": {},
   "outputs": [],
   "source": [
    "# 0, 1で表される二値分類の真の値と予測値\n",
    "y_true = [1, 0, 1, 1, 0, 1, 1, 0]\n",
    "y_pred = [0, 0, 1, 1, 0, 0, 1, 1]\n",
    "accuracy = accuracy_score(y_true, y_pred)\n",
    "print(accuracy)\n",
    "# 0.625"
   ]
  },
  {
   "cell_type": "markdown",
   "id": "52d1a35a",
   "metadata": {},
   "source": [
    "-----------------------------------\n",
    "logloss"
   ]
  },
  {
   "cell_type": "code",
   "execution_count": null,
   "id": "8e676ed4",
   "metadata": {},
   "outputs": [],
   "source": [
    "from sklearn.metrics import log_loss"
   ]
  },
  {
   "cell_type": "code",
   "execution_count": null,
   "id": "68fd9665",
   "metadata": {},
   "outputs": [],
   "source": [
    "# 0, 1で表される二値分類の真の値と予測確率\n",
    "y_true = [1, 0, 1, 1, 0, 1]\n",
    "y_prob = [0.1, 0.2, 0.8, 0.8, 0.1, 0.3]"
   ]
  },
  {
   "cell_type": "code",
   "execution_count": null,
   "id": "880dc3b4",
   "metadata": {},
   "outputs": [],
   "source": [
    "logloss = log_loss(y_true, y_prob)\n",
    "print(logloss)\n",
    "# 0.7136"
   ]
  },
  {
   "cell_type": "markdown",
   "id": "e97e3c24",
   "metadata": {},
   "source": [
    "-----------------------------------\n",
    "マルチクラス分類\n",
    "-----------------------------------\n",
    "multi-class logloss"
   ]
  },
  {
   "cell_type": "code",
   "execution_count": null,
   "id": "50b67043",
   "metadata": {},
   "outputs": [],
   "source": [
    "from sklearn.metrics import log_loss"
   ]
  },
  {
   "cell_type": "code",
   "execution_count": null,
   "id": "de91e117",
   "metadata": {},
   "outputs": [],
   "source": [
    "# 3クラス分類の真の値と予測値\n",
    "y_true = np.array([0, 2, 1, 2, 2])\n",
    "y_pred = np.array([[0.68, 0.32, 0.00],\n",
    "                   [0.00, 0.00, 1.00],\n",
    "                   [0.60, 0.40, 0.00],\n",
    "                   [0.00, 0.00, 1.00],\n",
    "                   [0.28, 0.12, 0.60]])\n",
    "logloss = log_loss(y_true, y_pred)\n",
    "print(logloss)\n",
    "# 0.3626"
   ]
  },
  {
   "cell_type": "markdown",
   "id": "9c58a7cc",
   "metadata": {},
   "source": [
    "-----------------------------------\n",
    "マルチラベル分類\n",
    "-----------------------------------\n",
    "mean_f1, macro_f1, micro_f1"
   ]
  },
  {
   "cell_type": "code",
   "execution_count": null,
   "id": "71a1f298",
   "metadata": {},
   "outputs": [],
   "source": [
    "from sklearn.metrics import f1_score"
   ]
  },
  {
   "cell_type": "code",
   "execution_count": null,
   "id": "ffd605de",
   "metadata": {},
   "outputs": [],
   "source": [
    "# マルチラベル分類の真の値・予測値は、評価指標の計算上はレコード×クラスの二値の行列とした方が扱いやすい\n",
    "# 真の値 - [[1,2], [1], [1,2,3], [2,3], [3]]\n",
    "y_true = np.array([[1, 1, 0],\n",
    "                   [1, 0, 0],\n",
    "                   [1, 1, 1],\n",
    "                   [0, 1, 1],\n",
    "                   [0, 0, 1]])"
   ]
  },
  {
   "cell_type": "code",
   "execution_count": null,
   "id": "1748274e",
   "metadata": {},
   "outputs": [],
   "source": [
    "# 予測値 - [[1,3], [2], [1,3], [3], [3]]\n",
    "y_pred = np.array([[1, 0, 1],\n",
    "                   [0, 1, 0],\n",
    "                   [1, 0, 1],\n",
    "                   [0, 0, 1],\n",
    "                   [0, 0, 1]])"
   ]
  },
  {
   "cell_type": "code",
   "execution_count": null,
   "id": "2a0c39fd",
   "metadata": {},
   "outputs": [],
   "source": [
    "# mean-f1ではレコードごとにF1-scoreを計算して平均をとる\n",
    "mean_f1 = np.mean([f1_score(y_true[i, :], y_pred[i, :]) for i in range(len(y_true))])"
   ]
  },
  {
   "cell_type": "code",
   "execution_count": null,
   "id": "09567240",
   "metadata": {},
   "outputs": [],
   "source": [
    "# macro-f1ではクラスごとにF1-scoreを計算して平均をとる\n",
    "n_class = 3\n",
    "macro_f1 = np.mean([f1_score(y_true[:, c], y_pred[:, c]) for c in range(n_class)])"
   ]
  },
  {
   "cell_type": "code",
   "execution_count": null,
   "id": "bccff819",
   "metadata": {},
   "outputs": [],
   "source": [
    "# micro-f1ではレコード×クラスのペアごとにTP/TN/FP/FNを計算し、F1-scoreを求める\n",
    "micro_f1 = f1_score(y_true.reshape(-1), y_pred.reshape(-1))"
   ]
  },
  {
   "cell_type": "code",
   "execution_count": null,
   "id": "2fc995d8",
   "metadata": {},
   "outputs": [],
   "source": [
    "print(mean_f1, macro_f1, micro_f1)\n",
    "# 0.5933, 0.5524, 0.6250"
   ]
  },
  {
   "cell_type": "code",
   "execution_count": null,
   "id": "84da38a9",
   "metadata": {},
   "outputs": [],
   "source": [
    "# scikit-learnのメソッドを使うことでも計算できる\n",
    "mean_f1 = f1_score(y_true, y_pred, average='samples')\n",
    "macro_f1 = f1_score(y_true, y_pred, average='macro')\n",
    "micro_f1 = f1_score(y_true, y_pred, average='micro')"
   ]
  },
  {
   "cell_type": "markdown",
   "id": "79e96870",
   "metadata": {},
   "source": [
    "-----------------------------------\n",
    "クラス間に順序関係があるマルチクラス分類\n",
    "-----------------------------------\n",
    "quadratic weighted kappa"
   ]
  },
  {
   "cell_type": "code",
   "execution_count": null,
   "id": "0f9c393b",
   "metadata": {},
   "outputs": [],
   "source": [
    "from sklearn.metrics import confusion_matrix, cohen_kappa_score"
   ]
  },
  {
   "cell_type": "code",
   "execution_count": null,
   "id": "d44e4899",
   "metadata": {},
   "outputs": [],
   "source": [
    "# quadratic weighted kappaを計算する関数\n",
    "def quadratic_weighted_kappa(c_matrix):\n",
    "    numer = 0.0\n",
    "    denom = 0.0\n",
    "\n",
    "    for i in range(c_matrix.shape[0]):\n",
    "        for j in range(c_matrix.shape[1]):\n",
    "            n = c_matrix.shape[0]\n",
    "            wij = ((i - j) ** 2.0)\n",
    "            oij = c_matrix[i, j]\n",
    "            eij = c_matrix[i, :].sum() * c_matrix[:, j].sum() / c_matrix.sum()\n",
    "            numer += wij * oij\n",
    "            denom += wij * eij\n",
    "\n",
    "    return 1.0 - numer / denom"
   ]
  },
  {
   "cell_type": "code",
   "execution_count": null,
   "id": "a6dca8ba",
   "metadata": {},
   "outputs": [],
   "source": [
    "# y_true は真の値のクラスのリスト、y_pred は予測値のクラスのリスト\n",
    "y_true = [1, 2, 3, 4, 3]\n",
    "y_pred = [2, 2, 4, 4, 5]"
   ]
  },
  {
   "cell_type": "code",
   "execution_count": null,
   "id": "c2518c2d",
   "metadata": {},
   "outputs": [],
   "source": [
    "# 混同行列を計算する\n",
    "c_matrix = confusion_matrix(y_true, y_pred, labels=[1, 2, 3, 4, 5])"
   ]
  },
  {
   "cell_type": "code",
   "execution_count": null,
   "id": "9ff2f29a",
   "metadata": {},
   "outputs": [],
   "source": [
    "# quadratic weighted kappaを計算する\n",
    "kappa = quadratic_weighted_kappa(c_matrix)\n",
    "print(kappa)\n",
    "# 0.6153"
   ]
  },
  {
   "cell_type": "code",
   "execution_count": null,
   "id": "19c96910",
   "metadata": {},
   "outputs": [],
   "source": [
    "# scikit-learnのメソッドを使うことでも計算できる\n",
    "kappa = cohen_kappa_score(y_true, y_pred, weights='quadratic')"
   ]
  },
  {
   "cell_type": "markdown",
   "id": "a7979c9f",
   "metadata": {},
   "source": [
    "-----------------------------------\n",
    "レコメンデーション\n",
    "-----------------------------------\n",
    "MAP@K"
   ]
  },
  {
   "cell_type": "code",
   "execution_count": null,
   "id": "ac240fb9",
   "metadata": {},
   "outputs": [],
   "source": [
    "# K=3、レコード数は5個、クラスは4種類とする\n",
    "K = 3"
   ]
  },
  {
   "cell_type": "code",
   "execution_count": null,
   "id": "6375b70f",
   "metadata": {},
   "outputs": [],
   "source": [
    "# 各レコードの真の値\n",
    "y_true = [[1, 2], [1, 2], [4], [1, 2, 3, 4], [3, 4]]"
   ]
  },
  {
   "cell_type": "code",
   "execution_count": null,
   "id": "9526e8bb",
   "metadata": {},
   "outputs": [],
   "source": [
    "# 各レコードに対する予測値 - K=3なので、通常は各レコードにそれぞれ3個まで順位をつけて予測する\n",
    "y_pred = [[1, 2, 4], [4, 1, 2], [1, 4, 3], [1, 2, 3], [1, 2, 4]]"
   ]
  },
  {
   "cell_type": "code",
   "execution_count": null,
   "id": "d3bed10a",
   "metadata": {},
   "outputs": [],
   "source": [
    "# 各レコードごとのaverage precisionを計算する関数\n",
    "def apk(y_i_true, y_i_pred):\n",
    "    # y_predがK以下の長さで、要素がすべて異なることが必要\n",
    "    assert (len(y_i_pred) <= K)\n",
    "    assert (len(np.unique(y_i_pred)) == len(y_i_pred))\n",
    "\n",
    "    sum_precision = 0.0\n",
    "    num_hits = 0.0\n",
    "\n",
    "    for i, p in enumerate(y_i_pred):\n",
    "        if p in y_i_true:\n",
    "            num_hits += 1\n",
    "            precision = num_hits / (i + 1)\n",
    "            sum_precision += precision\n",
    "\n",
    "    return sum_precision / min(len(y_i_true), K)"
   ]
  },
  {
   "cell_type": "code",
   "execution_count": null,
   "id": "f3e11dfe",
   "metadata": {},
   "outputs": [],
   "source": [
    "# MAP@K を計算する関数\n",
    "def mapk(y_true, y_pred):\n",
    "    return np.mean([apk(y_i_true, y_i_pred) for y_i_true, y_i_pred in zip(y_true, y_pred)])"
   ]
  },
  {
   "cell_type": "code",
   "execution_count": null,
   "id": "1e930a08",
   "metadata": {},
   "outputs": [],
   "source": [
    "# MAP@Kを求める\n",
    "print(mapk(y_true, y_pred))\n",
    "# 0.65"
   ]
  },
  {
   "cell_type": "code",
   "execution_count": null,
   "id": "371ff283",
   "metadata": {},
   "outputs": [],
   "source": [
    "# 正解の数が同じでも、順序が違うとスコアも異なる\n",
    "print(apk(y_true[0], y_pred[0]))\n",
    "print(apk(y_true[1], y_pred[1]))\n",
    "# 1.0, 0.5833"
   ]
  }
 ],
 "metadata": {
  "jupytext": {
   "cell_metadata_filter": "-all",
   "main_language": "python",
   "notebook_metadata_filter": "-all"
  }
 },
 "nbformat": 4,
 "nbformat_minor": 5
}
