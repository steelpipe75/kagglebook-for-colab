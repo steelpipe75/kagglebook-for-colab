{
 "cells": [
  {
   "cell_type": "code",
   "execution_count": null,
   "id": "7ad6aedf",
   "metadata": {},
   "outputs": [],
   "source": [
    "import numpy as np\n",
    "import pandas as pd"
   ]
  },
  {
   "cell_type": "code",
   "execution_count": null,
   "id": "bb91ac6a",
   "metadata": {},
   "outputs": [],
   "source": [
    "# -----------------------------------\n",
    "# 閾値の最適化\n",
    "# -----------------------------------\n",
    "from sklearn.metrics import f1_score\n",
    "from scipy.optimize import minimize"
   ]
  },
  {
   "cell_type": "code",
   "execution_count": null,
   "id": "167d739a",
   "metadata": {},
   "outputs": [],
   "source": [
    "# サンプルデータ生成の準備\n",
    "rand = np.random.RandomState(seed=71)\n",
    "train_y_prob = np.linspace(0, 1.0, 10000)"
   ]
  },
  {
   "cell_type": "code",
   "execution_count": null,
   "id": "4aa4a477",
   "metadata": {},
   "outputs": [],
   "source": [
    "# 真の値と予測値が以下のtrain_y, train_pred_probであったとする\n",
    "train_y = pd.Series(rand.uniform(0.0, 1.0, train_y_prob.size) < train_y_prob)\n",
    "train_pred_prob = np.clip(train_y_prob * np.exp(rand.standard_normal(train_y_prob.shape) * 0.3), 0.0, 1.0)"
   ]
  },
  {
   "cell_type": "code",
   "execution_count": null,
   "id": "ed02b8cb",
   "metadata": {},
   "outputs": [],
   "source": [
    "# 閾値を0.5とすると、F1は0.722\n",
    "init_threshold = 0.5\n",
    "init_score = f1_score(train_y, train_pred_prob >= init_threshold)\n",
    "print(init_threshold, init_score)"
   ]
  },
  {
   "cell_type": "code",
   "execution_count": null,
   "id": "345bae8d",
   "metadata": {},
   "outputs": [],
   "source": [
    "# 最適化の目的関数を設定\n",
    "def f1_opt(x):\n",
    "    return -f1_score(train_y, train_pred_prob >= x)"
   ]
  },
  {
   "cell_type": "code",
   "execution_count": null,
   "id": "0b0df490",
   "metadata": {},
   "outputs": [],
   "source": [
    "# scipy.optimizeのminimizeメソッドで最適な閾値を求める\n",
    "# 求めた最適な閾値をもとにF1を求めると、0.756 となる\n",
    "result = minimize(f1_opt, x0=np.array([0.5]), method='Nelder-Mead')\n",
    "best_threshold = result['x'].item()\n",
    "best_score = f1_score(train_y, train_pred_prob >= best_threshold)\n",
    "print(best_threshold, best_score)"
   ]
  }
 ],
 "metadata": {
  "jupytext": {
   "cell_metadata_filter": "-all",
   "main_language": "python",
   "notebook_metadata_filter": "-all"
  }
 },
 "nbformat": 4,
 "nbformat_minor": 5
}
