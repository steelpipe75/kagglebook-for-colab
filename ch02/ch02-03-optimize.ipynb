{
  "cells": [
    {
      "cell_type": "markdown",
      "metadata": {
        "id": "view-in-github",
        "colab_type": "text"
      },
      "source": [
        "<a href=\"https://colab.research.google.com/github/steelpipe75/kagglebook-for-colab/blob/master/ch02/ch02-03-optimize.ipynb\" target=\"_parent\"><img src=\"https://colab.research.google.com/assets/colab-badge.svg\" alt=\"Open In Colab\"/></a>"
      ]
    },
    {
      "cell_type": "code",
      "execution_count": 1,
      "id": "7ad6aedf",
      "metadata": {
        "id": "7ad6aedf"
      },
      "outputs": [],
      "source": [
        "import numpy as np\n",
        "import pandas as pd"
      ]
    },
    {
      "cell_type": "code",
      "execution_count": 2,
      "id": "bb91ac6a",
      "metadata": {
        "id": "bb91ac6a"
      },
      "outputs": [],
      "source": [
        "# -----------------------------------\n",
        "# 閾値の最適化\n",
        "# -----------------------------------\n",
        "from sklearn.metrics import f1_score\n",
        "from scipy.optimize import minimize"
      ]
    },
    {
      "cell_type": "code",
      "execution_count": 3,
      "id": "167d739a",
      "metadata": {
        "id": "167d739a"
      },
      "outputs": [],
      "source": [
        "# サンプルデータ生成の準備\n",
        "rand = np.random.RandomState(seed=71)\n",
        "train_y_prob = np.linspace(0, 1.0, 10000)"
      ]
    },
    {
      "cell_type": "code",
      "execution_count": 4,
      "id": "4aa4a477",
      "metadata": {
        "id": "4aa4a477"
      },
      "outputs": [],
      "source": [
        "# 真の値と予測値が以下のtrain_y, train_pred_probであったとする\n",
        "train_y = pd.Series(rand.uniform(0.0, 1.0, train_y_prob.size) < train_y_prob)\n",
        "train_pred_prob = np.clip(train_y_prob * np.exp(rand.standard_normal(train_y_prob.shape) * 0.3), 0.0, 1.0)"
      ]
    },
    {
      "cell_type": "code",
      "execution_count": 5,
      "id": "ed02b8cb",
      "metadata": {
        "id": "ed02b8cb",
        "outputId": "030023c2-4917-48c1-8a09-c74b8d700707",
        "colab": {
          "base_uri": "https://localhost:8080/"
        }
      },
      "outputs": [
        {
          "output_type": "stream",
          "name": "stdout",
          "text": [
            "0.5 0.7224831529507862\n"
          ]
        }
      ],
      "source": [
        "# 閾値を0.5とすると、F1は0.722\n",
        "init_threshold = 0.5\n",
        "init_score = f1_score(train_y, train_pred_prob >= init_threshold)\n",
        "print(init_threshold, init_score)"
      ]
    },
    {
      "cell_type": "code",
      "execution_count": 6,
      "id": "345bae8d",
      "metadata": {
        "id": "345bae8d"
      },
      "outputs": [],
      "source": [
        "# 最適化の目的関数を設定\n",
        "def f1_opt(x):\n",
        "    return -f1_score(train_y, train_pred_prob >= x)"
      ]
    },
    {
      "cell_type": "code",
      "execution_count": 7,
      "id": "0b0df490",
      "metadata": {
        "id": "0b0df490",
        "outputId": "175e7971-b4af-483c-dbc4-ced9949b00d8",
        "colab": {
          "base_uri": "https://localhost:8080/"
        }
      },
      "outputs": [
        {
          "output_type": "stream",
          "name": "stdout",
          "text": [
            "0.32324218749999983 0.7557317703844165\n"
          ]
        }
      ],
      "source": [
        "# scipy.optimizeのminimizeメソッドで最適な閾値を求める\n",
        "# 求めた最適な閾値をもとにF1を求めると、0.756 となる\n",
        "result = minimize(f1_opt, x0=np.array([0.5]), method='Nelder-Mead')\n",
        "best_threshold = result['x'].item()\n",
        "best_score = f1_score(train_y, train_pred_prob >= best_threshold)\n",
        "print(best_threshold, best_score)"
      ]
    }
  ],
  "metadata": {
    "jupytext": {
      "cell_metadata_filter": "-all",
      "main_language": "python",
      "notebook_metadata_filter": "-all"
    },
    "colab": {
      "provenance": [],
      "include_colab_link": true
    },
    "language_info": {
      "name": "python"
    },
    "kernelspec": {
      "name": "python3",
      "display_name": "Python 3"
    }
  },
  "nbformat": 4,
  "nbformat_minor": 5
}