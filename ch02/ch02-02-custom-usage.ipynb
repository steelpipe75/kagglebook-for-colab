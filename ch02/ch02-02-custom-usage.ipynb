{
  "cells": [
    {
      "cell_type": "markdown",
      "metadata": {
        "id": "view-in-github",
        "colab_type": "text"
      },
      "source": [
        "<a href=\"https://colab.research.google.com/github/steelpipe75/kagglebook-for-colab/blob/master/ch02/ch02-02-custom-usage.ipynb\" target=\"_parent\"><img src=\"https://colab.research.google.com/assets/colab-badge.svg\" alt=\"Open In Colab\"/></a>"
      ]
    },
    {
      "cell_type": "code",
      "execution_count": 1,
      "id": "1b4fdbc7",
      "metadata": {
        "id": "1b4fdbc7"
      },
      "outputs": [],
      "source": [
        "# ---------------------------------\n",
        "# データ等の準備\n",
        "# ----------------------------------\n",
        "import numpy as np\n",
        "import pandas as pd"
      ]
    },
    {
      "cell_type": "code",
      "source": [
        "import importlib\n",
        "import sys\n",
        "import subprocess\n",
        "\n",
        "# Google Colab 上で実行しているかどうかを判断するフラグ\n",
        "ON_COLAB = \"google.colab\" in sys.modules\n",
        "print(f\"ON_COLAB: {ON_COLAB}\")\n",
        "\n",
        "if ON_COLAB:\n",
        "    USE_GIT = True # Gitを使う\n",
        "    # USE_GIT = False # Gitを使わない\n",
        "\n",
        "    print(f\"USE_GIT: {USE_GIT}\")\n",
        "    if USE_GIT:\n",
        "        !git clone https://github.com/ghmagazine/kagglebook.git\n",
        "    else:\n",
        "        # Google Drive にマウントする\n",
        "        drive = importlib.import_module(\"google.colab.drive\")\n",
        "        drive.mount(\"/content/drive/\")\n",
        "\n",
        "        import os\n",
        "        colab_dir = \"/content/drive/MyDrive/kagglebook/\" # データ置き場"
      ],
      "metadata": {
        "id": "z533GNgTKjwE",
        "outputId": "e1dace55-267c-4b07-a882-5cad163b537a",
        "colab": {
          "base_uri": "https://localhost:8080/"
        }
      },
      "id": "z533GNgTKjwE",
      "execution_count": 2,
      "outputs": [
        {
          "output_type": "stream",
          "name": "stdout",
          "text": [
            "ON_COLAB: True\n",
            "USE_GIT: True\n",
            "fatal: destination path 'kagglebook' already exists and is not an empty directory.\n"
          ]
        }
      ]
    },
    {
      "cell_type": "markdown",
      "id": "ea3355a4",
      "metadata": {
        "id": "ea3355a4"
      },
      "source": [
        "train_xは学習データ、train_yは目的変数、test_xはテストデータ\n",
        "pandasのDataFrame, Seriesで保持します。（numpyのarrayで保持することもあります）"
      ]
    },
    {
      "cell_type": "code",
      "execution_count": 3,
      "id": "43f5fd1f",
      "metadata": {
        "id": "43f5fd1f"
      },
      "outputs": [],
      "source": [
        "if ON_COLAB:\n",
        "    if USE_GIT:\n",
        "        train = pd.read_csv('/content/kagglebook/input/sample-data/train_preprocessed.csv')\n",
        "    else:\n",
        "        train = pd.read_csv(os.path.join(colab_dir, 'input/sample-data/train_preprocessed.csv'))\n",
        "else:\n",
        "    train = pd.read_csv('../input/sample-data/train_preprocessed.csv')\n",
        "train_x = train.drop(['target'], axis=1)\n",
        "train_y = train['target']\n",
        "if ON_COLAB:\n",
        "    if USE_GIT:\n",
        "        test_x = pd.read_csv('/content/kagglebook/input/sample-data/test_preprocessed.csv')\n",
        "    else:\n",
        "        test_x = pd.read_csv(os.path.join(colab_dir, 'input/sample-data/test_preprocessed.csv'))\n",
        "else:\n",
        "    test_x = pd.read_csv('../input/sample-data/test_preprocessed.csv')"
      ]
    },
    {
      "cell_type": "code",
      "execution_count": 4,
      "id": "6d699f0d",
      "metadata": {
        "id": "6d699f0d"
      },
      "outputs": [],
      "source": [
        "from sklearn.model_selection import KFold"
      ]
    },
    {
      "cell_type": "code",
      "execution_count": 5,
      "id": "df6dda28",
      "metadata": {
        "id": "df6dda28"
      },
      "outputs": [],
      "source": [
        "kf = KFold(n_splits=4, shuffle=True, random_state=71)\n",
        "tr_idx, va_idx = list(kf.split(train_x))[0]"
      ]
    },
    {
      "cell_type": "code",
      "execution_count": 6,
      "id": "ac0bad91",
      "metadata": {
        "id": "ac0bad91"
      },
      "outputs": [],
      "source": [
        "# 学習データを学習データとバリデーションデータに分ける\n",
        "tr_x, va_x = train_x.iloc[tr_idx], train_x.iloc[va_idx]\n",
        "tr_y, va_y = train_y.iloc[tr_idx], train_y.iloc[va_idx]"
      ]
    },
    {
      "cell_type": "code",
      "execution_count": 7,
      "id": "b3463bab",
      "metadata": {
        "id": "b3463bab"
      },
      "outputs": [],
      "source": [
        "# -----------------------------------\n",
        "# xgboost におけるカスタム評価指標と目的関数の例\n",
        "# （参考）https://github.com/dmlc/xgboost/blob/master/demo/guide-python/custom_objective.py\n",
        "# -----------------------------------\n",
        "import xgboost as xgb\n",
        "from sklearn.metrics import log_loss"
      ]
    },
    {
      "cell_type": "code",
      "execution_count": 8,
      "id": "00b00212",
      "metadata": {
        "id": "00b00212"
      },
      "outputs": [],
      "source": [
        "# 特徴量と目的変数をxgboostのデータ構造に変換する\n",
        "# 学習データの特徴量と目的変数がtr_x, tr_y、バリデーションデータの特徴量と目的変数がva_x, va_yとする\n",
        "dtrain = xgb.DMatrix(tr_x, label=tr_y)\n",
        "dvalid = xgb.DMatrix(va_x, label=va_y)"
      ]
    },
    {
      "cell_type": "code",
      "execution_count": 9,
      "id": "504a15f9",
      "metadata": {
        "id": "504a15f9"
      },
      "outputs": [],
      "source": [
        "# カスタム目的関数（この場合はloglossであり、xgboostの'binary:logistic'と等価）\n",
        "def logregobj(preds, dtrain):\n",
        "    labels = dtrain.get_label()  # 真の値のラベルを取得\n",
        "    preds = 1.0 / (1.0 + np.exp(-preds))  # シグモイド関数\n",
        "    grad = preds - labels  # 勾配\n",
        "    hess = preds * (1.0 - preds)  # 二階微分値\n",
        "    return grad, hess"
      ]
    },
    {
      "cell_type": "code",
      "execution_count": 10,
      "id": "f4236514",
      "metadata": {
        "id": "f4236514"
      },
      "outputs": [],
      "source": [
        "# カスタム評価指標（この場合は誤答率）\n",
        "def evalerror(preds, dtrain):\n",
        "    labels = dtrain.get_label()  # 真の値のラベルを取得\n",
        "    return 'custom-error', float(sum(labels != (preds > 0.0))) / len(labels)"
      ]
    },
    {
      "cell_type": "code",
      "execution_count": 11,
      "id": "634532a0",
      "metadata": {
        "id": "634532a0"
      },
      "outputs": [],
      "source": [
        "# ハイパーパラメータの設定\n",
        "params = {'silent': 1, 'random_state': 71}\n",
        "num_round = 50\n",
        "watchlist = [(dtrain, 'train'), (dvalid, 'eval')]"
      ]
    },
    {
      "cell_type": "code",
      "execution_count": 12,
      "id": "7c4e9663",
      "metadata": {
        "id": "7c4e9663",
        "outputId": "3721b71f-de4b-4524-9f0e-8536a16d09cb",
        "colab": {
          "base_uri": "https://localhost:8080/"
        }
      },
      "outputs": [
        {
          "output_type": "stream",
          "name": "stdout",
          "text": [
            "[0]\ttrain-rmse:0.40096\ttrain-custom-error:0.17067\teval-rmse:0.42510\teval-custom-error:0.19160\n",
            "[1]\ttrain-rmse:0.70012\ttrain-custom-error:0.11627\teval-rmse:0.71947\teval-custom-error:0.14880\n"
          ]
        },
        {
          "output_type": "stream",
          "name": "stderr",
          "text": [
            "/usr/local/lib/python3.11/dist-packages/xgboost/core.py:723: FutureWarning: Pass `evals` as keyword args.\n",
            "  warnings.warn(msg, FutureWarning)\n",
            "/usr/local/lib/python3.11/dist-packages/xgboost/training.py:38: UserWarning: `feval` is deprecated, use `custom_metric` instead.  They have different behavior when custom objective is also used.See https://xgboost.readthedocs.io/en/latest/tutorials/custom_metric_obj.html for details on the `custom_metric`.\n",
            "  warnings.warn(\n",
            "/usr/local/lib/python3.11/dist-packages/xgboost/core.py:158: UserWarning: [13:10:09] WARNING: /workspace/src/learner.cc:740: \n",
            "Parameters: { \"silent\" } are not used.\n",
            "\n",
            "  warnings.warn(smsg, UserWarning)\n"
          ]
        },
        {
          "output_type": "stream",
          "name": "stdout",
          "text": [
            "[2]\ttrain-rmse:0.98004\ttrain-custom-error:0.10707\teval-rmse:0.99417\teval-custom-error:0.14120\n",
            "[3]\ttrain-rmse:1.22553\ttrain-custom-error:0.09853\teval-rmse:1.23620\teval-custom-error:0.13680\n",
            "[4]\ttrain-rmse:1.43887\ttrain-custom-error:0.09307\teval-rmse:1.45035\teval-custom-error:0.13280\n",
            "[5]\ttrain-rmse:1.62458\ttrain-custom-error:0.09027\teval-rmse:1.62992\teval-custom-error:0.13160\n",
            "[6]\ttrain-rmse:1.79119\ttrain-custom-error:0.08507\teval-rmse:1.79517\teval-custom-error:0.13080\n",
            "[7]\ttrain-rmse:1.92439\ttrain-custom-error:0.08133\teval-rmse:1.92730\teval-custom-error:0.13720\n",
            "[8]\ttrain-rmse:2.05722\ttrain-custom-error:0.07693\teval-rmse:2.05313\teval-custom-error:0.12880\n",
            "[9]\ttrain-rmse:2.16512\ttrain-custom-error:0.07427\teval-rmse:2.15662\teval-custom-error:0.12320\n",
            "[10]\ttrain-rmse:2.25427\ttrain-custom-error:0.07227\teval-rmse:2.24850\teval-custom-error:0.12160\n",
            "[11]\ttrain-rmse:2.34389\ttrain-custom-error:0.06680\teval-rmse:2.33289\teval-custom-error:0.11640\n",
            "[12]\ttrain-rmse:2.43563\ttrain-custom-error:0.06373\teval-rmse:2.42562\teval-custom-error:0.11920\n",
            "[13]\ttrain-rmse:2.50021\ttrain-custom-error:0.06013\teval-rmse:2.49314\teval-custom-error:0.11720\n",
            "[14]\ttrain-rmse:2.57911\ttrain-custom-error:0.05693\teval-rmse:2.56659\teval-custom-error:0.11440\n",
            "[15]\ttrain-rmse:2.65232\ttrain-custom-error:0.05507\teval-rmse:2.63893\teval-custom-error:0.11680\n",
            "[16]\ttrain-rmse:2.70002\ttrain-custom-error:0.05253\teval-rmse:2.68689\teval-custom-error:0.11520\n",
            "[17]\ttrain-rmse:2.77880\ttrain-custom-error:0.04560\teval-rmse:2.76086\teval-custom-error:0.11200\n",
            "[18]\ttrain-rmse:2.83845\ttrain-custom-error:0.04493\teval-rmse:2.81897\teval-custom-error:0.11320\n",
            "[19]\ttrain-rmse:2.91034\ttrain-custom-error:0.04187\teval-rmse:2.88701\teval-custom-error:0.10680\n",
            "[20]\ttrain-rmse:2.95466\ttrain-custom-error:0.04067\teval-rmse:2.92630\teval-custom-error:0.10800\n",
            "[21]\ttrain-rmse:3.03754\ttrain-custom-error:0.03653\teval-rmse:3.00486\teval-custom-error:0.10680\n",
            "[22]\ttrain-rmse:3.09375\ttrain-custom-error:0.03413\teval-rmse:3.05862\teval-custom-error:0.10720\n",
            "[23]\ttrain-rmse:3.13221\ttrain-custom-error:0.03267\teval-rmse:3.09715\teval-custom-error:0.10400\n",
            "[24]\ttrain-rmse:3.19813\ttrain-custom-error:0.03000\teval-rmse:3.15782\teval-custom-error:0.10200\n",
            "[25]\ttrain-rmse:3.23752\ttrain-custom-error:0.02960\teval-rmse:3.19417\teval-custom-error:0.10200\n",
            "[26]\ttrain-rmse:3.29579\ttrain-custom-error:0.02693\teval-rmse:3.24915\teval-custom-error:0.10160\n",
            "[27]\ttrain-rmse:3.31909\ttrain-custom-error:0.02667\teval-rmse:3.26929\teval-custom-error:0.10240\n",
            "[28]\ttrain-rmse:3.36750\ttrain-custom-error:0.02693\teval-rmse:3.31901\teval-custom-error:0.10080\n",
            "[29]\ttrain-rmse:3.39405\ttrain-custom-error:0.02480\teval-rmse:3.33855\teval-custom-error:0.10040\n",
            "[30]\ttrain-rmse:3.43995\ttrain-custom-error:0.02453\teval-rmse:3.38500\teval-custom-error:0.10160\n",
            "[31]\ttrain-rmse:3.49259\ttrain-custom-error:0.02160\teval-rmse:3.43292\teval-custom-error:0.10280\n",
            "[32]\ttrain-rmse:3.54050\ttrain-custom-error:0.01960\teval-rmse:3.47181\teval-custom-error:0.10040\n",
            "[33]\ttrain-rmse:3.58603\ttrain-custom-error:0.01813\teval-rmse:3.51648\teval-custom-error:0.10000\n",
            "[34]\ttrain-rmse:3.62879\ttrain-custom-error:0.01667\teval-rmse:3.56008\teval-custom-error:0.09960\n",
            "[35]\ttrain-rmse:3.65900\ttrain-custom-error:0.01533\teval-rmse:3.58828\teval-custom-error:0.10120\n",
            "[36]\ttrain-rmse:3.69221\ttrain-custom-error:0.01507\teval-rmse:3.61814\teval-custom-error:0.10120\n",
            "[37]\ttrain-rmse:3.74006\ttrain-custom-error:0.01560\teval-rmse:3.66225\teval-custom-error:0.09920\n",
            "[38]\ttrain-rmse:3.79369\ttrain-custom-error:0.01413\teval-rmse:3.71152\teval-custom-error:0.09720\n",
            "[39]\ttrain-rmse:3.83048\ttrain-custom-error:0.01307\teval-rmse:3.74731\teval-custom-error:0.09800\n",
            "[40]\ttrain-rmse:3.86900\ttrain-custom-error:0.01320\teval-rmse:3.78295\teval-custom-error:0.09880\n",
            "[41]\ttrain-rmse:3.89659\ttrain-custom-error:0.01280\teval-rmse:3.80983\teval-custom-error:0.09880\n",
            "[42]\ttrain-rmse:3.93369\ttrain-custom-error:0.01160\teval-rmse:3.84536\teval-custom-error:0.09720\n",
            "[43]\ttrain-rmse:4.00046\ttrain-custom-error:0.01013\teval-rmse:3.91435\teval-custom-error:0.09880\n",
            "[44]\ttrain-rmse:4.03320\ttrain-custom-error:0.01000\teval-rmse:3.94701\teval-custom-error:0.09680\n",
            "[45]\ttrain-rmse:4.06739\ttrain-custom-error:0.00920\teval-rmse:3.98061\teval-custom-error:0.09400\n",
            "[46]\ttrain-rmse:4.10175\ttrain-custom-error:0.00880\teval-rmse:4.01514\teval-custom-error:0.09360\n",
            "[47]\ttrain-rmse:4.14088\ttrain-custom-error:0.00880\teval-rmse:4.05122\teval-custom-error:0.09240\n",
            "[48]\ttrain-rmse:4.16606\ttrain-custom-error:0.00907\teval-rmse:4.07529\teval-custom-error:0.09320\n",
            "[49]\ttrain-rmse:4.19586\ttrain-custom-error:0.00800\teval-rmse:4.10429\teval-custom-error:0.09160\n"
          ]
        }
      ],
      "source": [
        "# モデルの学習の実行\n",
        "bst = xgb.train(params, dtrain, num_round, watchlist, obj=logregobj, feval=evalerror)"
      ]
    },
    {
      "cell_type": "code",
      "execution_count": 13,
      "id": "32bf9599",
      "metadata": {
        "id": "32bf9599",
        "outputId": "6d37ee43-6416-4bca-e224-e043e75cb29f",
        "colab": {
          "base_uri": "https://localhost:8080/"
        }
      },
      "outputs": [
        {
          "output_type": "stream",
          "name": "stdout",
          "text": [
            "0.21992204652445954\n"
          ]
        }
      ],
      "source": [
        "# 目的関数にbinary:logisticを指定したときと違い、確率に変換する前の値で予測値が出力されるので変換が必要\n",
        "pred_val = bst.predict(dvalid)\n",
        "pred = 1.0 / (1.0 + np.exp(-pred_val))\n",
        "logloss = log_loss(va_y, pred)\n",
        "print(logloss)"
      ]
    },
    {
      "cell_type": "code",
      "execution_count": 14,
      "id": "fa244fc4",
      "metadata": {
        "id": "fa244fc4",
        "outputId": "4629b7f5-f5d4-4cd8-a9a5-c96640b48d50",
        "colab": {
          "base_uri": "https://localhost:8080/"
        }
      },
      "outputs": [
        {
          "output_type": "stream",
          "name": "stdout",
          "text": [
            "[0]\ttrain-logloss:0.41663\teval-logloss:0.43550\n",
            "[1]\ttrain-logloss:0.37126\teval-logloss:0.39889\n",
            "[2]\ttrain-logloss:0.33889\teval-logloss:0.37205\n",
            "[3]\ttrain-logloss:0.31320\teval-logloss:0.35606\n",
            "[4]\ttrain-logloss:0.29062\teval-logloss:0.33709\n",
            "[5]\ttrain-logloss:0.27315\teval-logloss:0.32549\n",
            "[6]\ttrain-logloss:0.25735\teval-logloss:0.31328\n",
            "[7]\ttrain-logloss:0.24299\teval-logloss:0.30434\n",
            "[8]\ttrain-logloss:0.22850\teval-logloss:0.29755\n",
            "[9]\ttrain-logloss:0.21984\teval-logloss:0.29490\n"
          ]
        },
        {
          "output_type": "stream",
          "name": "stderr",
          "text": [
            "/usr/local/lib/python3.11/dist-packages/xgboost/core.py:723: FutureWarning: Pass `evals` as keyword args.\n",
            "  warnings.warn(msg, FutureWarning)\n",
            "/usr/local/lib/python3.11/dist-packages/xgboost/core.py:158: UserWarning: [13:10:13] WARNING: /workspace/src/learner.cc:740: \n",
            "Parameters: { \"silent\" } are not used.\n",
            "\n",
            "  warnings.warn(smsg, UserWarning)\n"
          ]
        },
        {
          "output_type": "stream",
          "name": "stdout",
          "text": [
            "[10]\ttrain-logloss:0.21094\teval-logloss:0.28867\n",
            "[11]\ttrain-logloss:0.20280\teval-logloss:0.28290\n",
            "[12]\ttrain-logloss:0.19173\teval-logloss:0.27823\n",
            "[13]\ttrain-logloss:0.18626\teval-logloss:0.27372\n",
            "[14]\ttrain-logloss:0.17750\teval-logloss:0.27174\n",
            "[15]\ttrain-logloss:0.17111\teval-logloss:0.26724\n",
            "[16]\ttrain-logloss:0.16269\teval-logloss:0.26364\n",
            "[17]\ttrain-logloss:0.15749\teval-logloss:0.26171\n",
            "[18]\ttrain-logloss:0.15286\teval-logloss:0.25777\n",
            "[19]\ttrain-logloss:0.14977\teval-logloss:0.25564\n",
            "[20]\ttrain-logloss:0.14463\teval-logloss:0.25519\n",
            "[21]\ttrain-logloss:0.13899\teval-logloss:0.25306\n",
            "[22]\ttrain-logloss:0.13512\teval-logloss:0.25066\n",
            "[23]\ttrain-logloss:0.13177\teval-logloss:0.24852\n",
            "[24]\ttrain-logloss:0.12694\teval-logloss:0.24723\n",
            "[25]\ttrain-logloss:0.12473\teval-logloss:0.24621\n",
            "[26]\ttrain-logloss:0.12146\teval-logloss:0.24510\n",
            "[27]\ttrain-logloss:0.11716\teval-logloss:0.24219\n",
            "[28]\ttrain-logloss:0.11285\teval-logloss:0.24188\n",
            "[29]\ttrain-logloss:0.11031\teval-logloss:0.24129\n",
            "[30]\ttrain-logloss:0.10748\teval-logloss:0.24004\n",
            "[31]\ttrain-logloss:0.10524\teval-logloss:0.23853\n",
            "[32]\ttrain-logloss:0.10267\teval-logloss:0.23720\n",
            "[33]\ttrain-logloss:0.10009\teval-logloss:0.23633\n",
            "[34]\ttrain-logloss:0.09839\teval-logloss:0.23639\n",
            "[35]\ttrain-logloss:0.09561\teval-logloss:0.23573\n",
            "[36]\ttrain-logloss:0.09340\teval-logloss:0.23530\n",
            "[37]\ttrain-logloss:0.09026\teval-logloss:0.23576\n",
            "[38]\ttrain-logloss:0.08846\teval-logloss:0.23531\n",
            "[39]\ttrain-logloss:0.08633\teval-logloss:0.23498\n",
            "[40]\ttrain-logloss:0.08452\teval-logloss:0.23354\n",
            "[41]\ttrain-logloss:0.08389\teval-logloss:0.23332\n",
            "[42]\ttrain-logloss:0.08273\teval-logloss:0.23285\n",
            "[43]\ttrain-logloss:0.08079\teval-logloss:0.23127\n",
            "[44]\ttrain-logloss:0.07987\teval-logloss:0.23133\n",
            "[45]\ttrain-logloss:0.07617\teval-logloss:0.22856\n",
            "[46]\ttrain-logloss:0.07404\teval-logloss:0.22731\n",
            "[47]\ttrain-logloss:0.07240\teval-logloss:0.22753\n",
            "[48]\ttrain-logloss:0.07084\teval-logloss:0.22650\n",
            "[49]\ttrain-logloss:0.06933\teval-logloss:0.22573\n"
          ]
        }
      ],
      "source": [
        "# （参考）通常の方法で学習を行う場合\n",
        "params = {'silent': 1, 'random_state': 71, 'objective': 'binary:logistic'}\n",
        "bst = xgb.train(params, dtrain, num_round, watchlist)"
      ]
    },
    {
      "cell_type": "code",
      "execution_count": 15,
      "id": "d4ebbce7",
      "metadata": {
        "id": "d4ebbce7",
        "outputId": "9424dd46-ad70-4d6d-cba1-8d2fda7b5651",
        "colab": {
          "base_uri": "https://localhost:8080/"
        }
      },
      "outputs": [
        {
          "output_type": "stream",
          "name": "stdout",
          "text": [
            "0.22572590332195305\n"
          ]
        }
      ],
      "source": [
        "pred = bst.predict(dvalid)\n",
        "logloss = log_loss(va_y, pred)\n",
        "print(logloss)"
      ]
    }
  ],
  "metadata": {
    "jupytext": {
      "cell_metadata_filter": "-all",
      "main_language": "python",
      "notebook_metadata_filter": "-all"
    },
    "colab": {
      "provenance": [],
      "include_colab_link": true
    },
    "language_info": {
      "name": "python"
    },
    "kernelspec": {
      "name": "python3",
      "display_name": "Python 3"
    }
  },
  "nbformat": 4,
  "nbformat_minor": 5
}