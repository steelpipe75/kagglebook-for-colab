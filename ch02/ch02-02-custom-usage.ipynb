{
 "cells": [
  {
   "cell_type": "code",
   "execution_count": null,
   "id": "1b4fdbc7",
   "metadata": {},
   "outputs": [],
   "source": [
    "# ---------------------------------\n",
    "# データ等の準備\n",
    "# ----------------------------------\n",
    "import numpy as np\n",
    "import pandas as pd"
   ]
  },
  {
   "cell_type": "markdown",
   "id": "ea3355a4",
   "metadata": {},
   "source": [
    "train_xは学習データ、train_yは目的変数、test_xはテストデータ\n",
    "pandasのDataFrame, Seriesで保持します。（numpyのarrayで保持することもあります）"
   ]
  },
  {
   "cell_type": "code",
   "execution_count": null,
   "id": "43f5fd1f",
   "metadata": {},
   "outputs": [],
   "source": [
    "train = pd.read_csv('../input/sample-data/train_preprocessed.csv')\n",
    "train_x = train.drop(['target'], axis=1)\n",
    "train_y = train['target']\n",
    "test_x = pd.read_csv('../input/sample-data/test_preprocessed.csv')"
   ]
  },
  {
   "cell_type": "code",
   "execution_count": null,
   "id": "6d699f0d",
   "metadata": {},
   "outputs": [],
   "source": [
    "from sklearn.model_selection import KFold"
   ]
  },
  {
   "cell_type": "code",
   "execution_count": null,
   "id": "df6dda28",
   "metadata": {},
   "outputs": [],
   "source": [
    "kf = KFold(n_splits=4, shuffle=True, random_state=71)\n",
    "tr_idx, va_idx = list(kf.split(train_x))[0]"
   ]
  },
  {
   "cell_type": "code",
   "execution_count": null,
   "id": "ac0bad91",
   "metadata": {},
   "outputs": [],
   "source": [
    "# 学習データを学習データとバリデーションデータに分ける\n",
    "tr_x, va_x = train_x.iloc[tr_idx], train_x.iloc[va_idx]\n",
    "tr_y, va_y = train_y.iloc[tr_idx], train_y.iloc[va_idx]"
   ]
  },
  {
   "cell_type": "code",
   "execution_count": null,
   "id": "b3463bab",
   "metadata": {},
   "outputs": [],
   "source": [
    "# -----------------------------------\n",
    "# xgboost におけるカスタム評価指標と目的関数の例\n",
    "# （参考）https://github.com/dmlc/xgboost/blob/master/demo/guide-python/custom_objective.py\n",
    "# -----------------------------------\n",
    "import xgboost as xgb\n",
    "from sklearn.metrics import log_loss"
   ]
  },
  {
   "cell_type": "code",
   "execution_count": null,
   "id": "00b00212",
   "metadata": {},
   "outputs": [],
   "source": [
    "# 特徴量と目的変数をxgboostのデータ構造に変換する\n",
    "# 学習データの特徴量と目的変数がtr_x, tr_y、バリデーションデータの特徴量と目的変数がva_x, va_yとする\n",
    "dtrain = xgb.DMatrix(tr_x, label=tr_y)\n",
    "dvalid = xgb.DMatrix(va_x, label=va_y)"
   ]
  },
  {
   "cell_type": "code",
   "execution_count": null,
   "id": "504a15f9",
   "metadata": {},
   "outputs": [],
   "source": [
    "# カスタム目的関数（この場合はloglossであり、xgboostの'binary:logistic'と等価）\n",
    "def logregobj(preds, dtrain):\n",
    "    labels = dtrain.get_label()  # 真の値のラベルを取得\n",
    "    preds = 1.0 / (1.0 + np.exp(-preds))  # シグモイド関数\n",
    "    grad = preds - labels  # 勾配\n",
    "    hess = preds * (1.0 - preds)  # 二階微分値\n",
    "    return grad, hess"
   ]
  },
  {
   "cell_type": "code",
   "execution_count": null,
   "id": "f4236514",
   "metadata": {},
   "outputs": [],
   "source": [
    "# カスタム評価指標（この場合は誤答率）\n",
    "def evalerror(preds, dtrain):\n",
    "    labels = dtrain.get_label()  # 真の値のラベルを取得\n",
    "    return 'custom-error', float(sum(labels != (preds > 0.0))) / len(labels)"
   ]
  },
  {
   "cell_type": "code",
   "execution_count": null,
   "id": "634532a0",
   "metadata": {},
   "outputs": [],
   "source": [
    "# ハイパーパラメータの設定\n",
    "params = {'silent': 1, 'random_state': 71}\n",
    "num_round = 50\n",
    "watchlist = [(dtrain, 'train'), (dvalid, 'eval')]"
   ]
  },
  {
   "cell_type": "code",
   "execution_count": null,
   "id": "7c4e9663",
   "metadata": {},
   "outputs": [],
   "source": [
    "# モデルの学習の実行\n",
    "bst = xgb.train(params, dtrain, num_round, watchlist, obj=logregobj, feval=evalerror)"
   ]
  },
  {
   "cell_type": "code",
   "execution_count": null,
   "id": "32bf9599",
   "metadata": {},
   "outputs": [],
   "source": [
    "# 目的関数にbinary:logisticを指定したときと違い、確率に変換する前の値で予測値が出力されるので変換が必要\n",
    "pred_val = bst.predict(dvalid)\n",
    "pred = 1.0 / (1.0 + np.exp(-pred_val))\n",
    "logloss = log_loss(va_y, pred)\n",
    "print(logloss)"
   ]
  },
  {
   "cell_type": "code",
   "execution_count": null,
   "id": "fa244fc4",
   "metadata": {},
   "outputs": [],
   "source": [
    "# （参考）通常の方法で学習を行う場合\n",
    "params = {'silent': 1, 'random_state': 71, 'objective': 'binary:logistic'}\n",
    "bst = xgb.train(params, dtrain, num_round, watchlist)"
   ]
  },
  {
   "cell_type": "code",
   "execution_count": null,
   "id": "d4ebbce7",
   "metadata": {},
   "outputs": [],
   "source": [
    "pred = bst.predict(dvalid)\n",
    "logloss = log_loss(va_y, pred)\n",
    "print(logloss)"
   ]
  }
 ],
 "metadata": {
  "jupytext": {
   "cell_metadata_filter": "-all",
   "main_language": "python",
   "notebook_metadata_filter": "-all"
  }
 },
 "nbformat": 4,
 "nbformat_minor": 5
}
