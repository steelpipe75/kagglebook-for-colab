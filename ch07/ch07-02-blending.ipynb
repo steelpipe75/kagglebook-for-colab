{
  "cells": [
    {
      "cell_type": "markdown",
      "metadata": {
        "id": "view-in-github",
        "colab_type": "text"
      },
      "source": [
        "<a href=\"https://colab.research.google.com/github/steelpipe75/kagglebook-for-colab/blob/master/ch07/ch07-02-blending.ipynb\" target=\"_parent\"><img src=\"https://colab.research.google.com/assets/colab-badge.svg\" alt=\"Open In Colab\"/></a>"
      ]
    },
    {
      "cell_type": "code",
      "execution_count": 1,
      "id": "85e06a2f",
      "metadata": {
        "id": "85e06a2f"
      },
      "outputs": [],
      "source": [
        "# ---------------------------------\n",
        "# データ等の準備\n",
        "# ----------------------------------\n",
        "import numpy as np\n",
        "import pandas as pd"
      ]
    },
    {
      "cell_type": "code",
      "source": [
        "import importlib\n",
        "import sys\n",
        "import subprocess\n",
        "\n",
        "# Google Colab 上で実行しているかどうかを判断するフラグ\n",
        "ON_COLAB = \"google.colab\" in sys.modules\n",
        "print(f\"ON_COLAB: {ON_COLAB}\")\n",
        "\n",
        "if ON_COLAB:\n",
        "    USE_GIT = True # Gitを使う\n",
        "    # USE_GIT = False # Gitを使わない\n",
        "\n",
        "    import sys\n",
        "    import os\n",
        "\n",
        "    print(f\"USE_GIT: {USE_GIT}\")\n",
        "    if USE_GIT:\n",
        "        !git clone https://github.com/steelpipe75/kagglebook-for-colab.git\n",
        "\n",
        "        sys.path.append('/content/kagglebook-for-colab/ch07')\n",
        "    else:\n",
        "        # Google Drive にマウントする\n",
        "        drive = importlib.import_module(\"google.colab.drive\")\n",
        "        drive.mount(\"/content/drive/\")\n",
        "\n",
        "        colab_dir = \"/content/drive/MyDrive/kagglebook/\" # データ置き場\n",
        "        sys.path.append(os.path.join(colab_dir, 'ch07'))"
      ],
      "metadata": {
        "id": "Q3gTYOkvWoiQ",
        "outputId": "92c5da64-4dd8-4169-f13e-3bfd54e4a308",
        "colab": {
          "base_uri": "https://localhost:8080/"
        }
      },
      "id": "Q3gTYOkvWoiQ",
      "execution_count": 2,
      "outputs": [
        {
          "output_type": "stream",
          "name": "stdout",
          "text": [
            "ON_COLAB: True\n",
            "USE_GIT: True\n",
            "fatal: destination path 'kagglebook-for-colab' already exists and is not an empty directory.\n"
          ]
        }
      ]
    },
    {
      "cell_type": "markdown",
      "id": "7a85b047",
      "metadata": {
        "id": "7a85b047"
      },
      "source": [
        "train_xは学習データ、train_yは目的変数、test_xはテストデータ\n",
        "pandasのDataFrame, Seriesで保持します。（numpyのarrayで保持することもあります）"
      ]
    },
    {
      "cell_type": "code",
      "execution_count": 3,
      "id": "dc77307f",
      "metadata": {
        "id": "dc77307f"
      },
      "outputs": [],
      "source": [
        "if ON_COLAB:\n",
        "    if USE_GIT:\n",
        "        train = pd.read_csv('/content/kagglebook-for-colab/input/sample-data/train_preprocessed.csv')\n",
        "    else:\n",
        "        train = pd.read_csv(os.path.join(colab_dir, 'input/sample-data/train_preprocessed.csv'))\n",
        "else:\n",
        "    train = pd.read_csv('../input/sample-data/train_preprocessed.csv')\n",
        "train_x = train.drop(['target'], axis=1)\n",
        "train_y = train['target']\n",
        "if ON_COLAB:\n",
        "    if USE_GIT:\n",
        "        test_x = pd.read_csv('/content/kagglebook-for-colab/input/sample-data/test_preprocessed.csv')\n",
        "    else:\n",
        "        test_x = pd.read_csv(os.path.join(colab_dir, 'input/sample-data/test_preprocessed.csv'))\n",
        "else:\n",
        "    test_x = pd.read_csv('../input/sample-data/test_preprocessed.csv')"
      ]
    },
    {
      "cell_type": "code",
      "execution_count": 4,
      "id": "97c1888f",
      "metadata": {
        "id": "97c1888f"
      },
      "outputs": [],
      "source": [
        "# neural net用のデータ\n",
        "if ON_COLAB:\n",
        "    if USE_GIT:\n",
        "        train_nn = pd.read_csv('/content/kagglebook-for-colab/input/sample-data/train_preprocessed_onehot.csv')\n",
        "    else:\n",
        "        train_nn = pd.read_csv(os.path.join(colab_dir, 'input/sample-data/train_preprocessed_onehot.csv'))\n",
        "else:\n",
        "    train_nn = pd.read_csv('../input/sample-data/train_preprocessed_onehot.csv')\n",
        "train_x_nn = train_nn.drop(['target'], axis=1)\n",
        "train_y_nn = train_nn['target']\n",
        "if ON_COLAB:\n",
        "    if USE_GIT:\n",
        "        test_x_nn = pd.read_csv('/content/kagglebook-for-colab/input/sample-data/test_preprocessed_onehot.csv')\n",
        "    else:\n",
        "        test_x_nn = pd.read_csv(os.path.join(colab_dir, 'input/sample-data/test_preprocessed_onehot.csv'))\n",
        "else:\n",
        "    test_x_nn = pd.read_csv('../input/sample-data/test_preprocessed_onehot.csv')"
      ]
    },
    {
      "cell_type": "code",
      "execution_count": 5,
      "id": "f5d0b6f0",
      "metadata": {
        "id": "f5d0b6f0"
      },
      "outputs": [],
      "source": [
        "# ---------------------------------\n",
        "# hold-outデータへの予測値を用いたアンサンブル\n",
        "# ----------------------------------\n",
        "from sklearn.metrics import log_loss\n",
        "from sklearn.model_selection import KFold"
      ]
    },
    {
      "cell_type": "code",
      "execution_count": 6,
      "id": "fd5bfd30",
      "metadata": {
        "id": "fd5bfd30"
      },
      "outputs": [],
      "source": [
        "kf = KFold(n_splits=4, shuffle=True, random_state=71)\n",
        "tr_idx, va_index = list(kf.split(train_x))[0]\n",
        "tr_x, va_x = train_x.iloc[tr_idx], train_x.iloc[va_index]\n",
        "tr_y, va_y = train_y.iloc[tr_idx], train_y.iloc[va_index]\n",
        "tr_x_nn, va_x_nn = train_x_nn.iloc[tr_idx], train_x_nn.iloc[va_index]"
      ]
    },
    {
      "cell_type": "code",
      "execution_count": 7,
      "id": "e5265fd6",
      "metadata": {
        "id": "e5265fd6"
      },
      "outputs": [],
      "source": [
        "# models.pyにModel1_1, Model1_2, Model2を定義しているものとする\n",
        "# 各クラスは、fitで学習し、predictで予測値の確率を出力する\n",
        "from models import Model1Xgb, Model1NN, Model2Linear"
      ]
    },
    {
      "cell_type": "code",
      "execution_count": 8,
      "id": "ee36a450",
      "metadata": {
        "id": "ee36a450",
        "outputId": "0946aa25-d052-4f8d-a91d-754e0768f07f",
        "colab": {
          "base_uri": "https://localhost:8080/"
        }
      },
      "outputs": [
        {
          "output_type": "stream",
          "name": "stderr",
          "text": [
            "/usr/local/lib/python3.11/dist-packages/xgboost/core.py:158: UserWarning: [13:33:22] WARNING: /workspace/src/learner.cc:740: \n",
            "Parameters: { \"silent\" } are not used.\n",
            "\n",
            "  warnings.warn(smsg, UserWarning)\n"
          ]
        },
        {
          "output_type": "stream",
          "name": "stdout",
          "text": [
            "[0]\ttrain-logloss:0.41663\teval-logloss:0.43550\n",
            "[1]\ttrain-logloss:0.37126\teval-logloss:0.39889\n",
            "[2]\ttrain-logloss:0.33889\teval-logloss:0.37205\n",
            "[3]\ttrain-logloss:0.31320\teval-logloss:0.35606\n",
            "[4]\ttrain-logloss:0.29062\teval-logloss:0.33709\n",
            "[5]\ttrain-logloss:0.27315\teval-logloss:0.32549\n",
            "[6]\ttrain-logloss:0.25735\teval-logloss:0.31328\n",
            "[7]\ttrain-logloss:0.24299\teval-logloss:0.30434\n",
            "[8]\ttrain-logloss:0.22850\teval-logloss:0.29755\n",
            "[9]\ttrain-logloss:0.21984\teval-logloss:0.29490\n"
          ]
        }
      ],
      "source": [
        "# 1層目のモデル\n",
        "# 学習データで学習し、hold-outデータとテストデータへの予測値を出力する\n",
        "model_1a = Model1Xgb()\n",
        "model_1a.fit(tr_x, tr_y, va_x, va_y)\n",
        "va_pred_1a = model_1a.predict(va_x)\n",
        "test_pred_1a = model_1a.predict(test_x)"
      ]
    },
    {
      "cell_type": "code",
      "execution_count": 9,
      "id": "22f27aa4",
      "metadata": {
        "id": "22f27aa4",
        "outputId": "a609e295-f470-4292-b4f9-c66bd8a38d06",
        "colab": {
          "base_uri": "https://localhost:8080/"
        }
      },
      "outputs": [
        {
          "output_type": "stream",
          "name": "stderr",
          "text": [
            "/usr/local/lib/python3.11/dist-packages/keras/src/layers/core/dense.py:87: UserWarning: Do not pass an `input_shape`/`input_dim` argument to a layer. When using Sequential models, prefer using an `Input(shape)` object as the first layer in the model instead.\n",
            "  super().__init__(activity_regularizer=activity_regularizer, **kwargs)\n"
          ]
        },
        {
          "output_type": "stream",
          "name": "stdout",
          "text": [
            "Epoch 1/10\n",
            "\u001b[1m59/59\u001b[0m \u001b[32m━━━━━━━━━━━━━━━━━━━━\u001b[0m\u001b[37m\u001b[0m \u001b[1m4s\u001b[0m 11ms/step - loss: 0.4789 - val_loss: 0.3868\n",
            "Epoch 2/10\n",
            "\u001b[1m59/59\u001b[0m \u001b[32m━━━━━━━━━━━━━━━━━━━━\u001b[0m\u001b[37m\u001b[0m \u001b[1m1s\u001b[0m 9ms/step - loss: 0.3556 - val_loss: 0.3794\n",
            "Epoch 3/10\n",
            "\u001b[1m59/59\u001b[0m \u001b[32m━━━━━━━━━━━━━━━━━━━━\u001b[0m\u001b[37m\u001b[0m \u001b[1m1s\u001b[0m 8ms/step - loss: 0.3480 - val_loss: 0.3723\n",
            "Epoch 4/10\n",
            "\u001b[1m59/59\u001b[0m \u001b[32m━━━━━━━━━━━━━━━━━━━━\u001b[0m\u001b[37m\u001b[0m \u001b[1m1s\u001b[0m 13ms/step - loss: 0.3194 - val_loss: 0.3669\n",
            "Epoch 5/10\n",
            "\u001b[1m59/59\u001b[0m \u001b[32m━━━━━━━━━━━━━━━━━━━━\u001b[0m\u001b[37m\u001b[0m \u001b[1m1s\u001b[0m 16ms/step - loss: 0.2968 - val_loss: 0.3519\n",
            "Epoch 6/10\n",
            "\u001b[1m59/59\u001b[0m \u001b[32m━━━━━━━━━━━━━━━━━━━━\u001b[0m\u001b[37m\u001b[0m \u001b[1m1s\u001b[0m 14ms/step - loss: 0.2750 - val_loss: 0.3336\n",
            "Epoch 7/10\n",
            "\u001b[1m59/59\u001b[0m \u001b[32m━━━━━━━━━━━━━━━━━━━━\u001b[0m\u001b[37m\u001b[0m \u001b[1m1s\u001b[0m 13ms/step - loss: 0.2485 - val_loss: 0.3144\n",
            "Epoch 8/10\n",
            "\u001b[1m59/59\u001b[0m \u001b[32m━━━━━━━━━━━━━━━━━━━━\u001b[0m\u001b[37m\u001b[0m \u001b[1m0s\u001b[0m 8ms/step - loss: 0.2178 - val_loss: 0.2938\n",
            "Epoch 9/10\n",
            "\u001b[1m59/59\u001b[0m \u001b[32m━━━━━━━━━━━━━━━━━━━━\u001b[0m\u001b[37m\u001b[0m \u001b[1m1s\u001b[0m 9ms/step - loss: 0.2045 - val_loss: 0.2922\n",
            "Epoch 10/10\n",
            "\u001b[1m59/59\u001b[0m \u001b[32m━━━━━━━━━━━━━━━━━━━━\u001b[0m\u001b[37m\u001b[0m \u001b[1m1s\u001b[0m 9ms/step - loss: 0.1777 - val_loss: 0.2903\n",
            "\u001b[1m79/79\u001b[0m \u001b[32m━━━━━━━━━━━━━━━━━━━━\u001b[0m\u001b[37m\u001b[0m \u001b[1m0s\u001b[0m 2ms/step\n",
            "\u001b[1m313/313\u001b[0m \u001b[32m━━━━━━━━━━━━━━━━━━━━\u001b[0m\u001b[37m\u001b[0m \u001b[1m1s\u001b[0m 2ms/step\n"
          ]
        }
      ],
      "source": [
        "model_1b = Model1NN()\n",
        "model_1b.fit(tr_x_nn, tr_y, va_x_nn, va_y)\n",
        "va_pred_1b = model_1b.predict(va_x_nn)\n",
        "test_pred_1b = model_1b.predict(test_x_nn)"
      ]
    },
    {
      "cell_type": "code",
      "execution_count": 10,
      "id": "cf718812",
      "metadata": {
        "id": "cf718812",
        "outputId": "a937bb4f-e9ec-45b1-c5fd-8ae6858f2aa5",
        "colab": {
          "base_uri": "https://localhost:8080/",
          "height": 345
        }
      },
      "outputs": [
        {
          "output_type": "error",
          "ename": "TypeError",
          "evalue": "got an unexpected keyword argument 'eps'",
          "traceback": [
            "\u001b[0;31m---------------------------------------------------------------------------\u001b[0m",
            "\u001b[0;31mTypeError\u001b[0m                                 Traceback (most recent call last)",
            "\u001b[0;32m<ipython-input-10-364eb80c0ac3>\u001b[0m in \u001b[0;36m<cell line: 0>\u001b[0;34m()\u001b[0m\n\u001b[1;32m      1\u001b[0m \u001b[0;31m# hold-outデータでの精度を評価する\u001b[0m\u001b[0;34m\u001b[0m\u001b[0;34m\u001b[0m\u001b[0m\n\u001b[0;32m----> 2\u001b[0;31m \u001b[0mprint\u001b[0m\u001b[0;34m(\u001b[0m\u001b[0;34mf'logloss: {log_loss(va_y, va_pred_1a, eps=1e-7):.4f}'\u001b[0m\u001b[0;34m)\u001b[0m\u001b[0;34m\u001b[0m\u001b[0;34m\u001b[0m\u001b[0m\n\u001b[0m\u001b[1;32m      3\u001b[0m \u001b[0mprint\u001b[0m\u001b[0;34m(\u001b[0m\u001b[0;34mf'logloss: {log_loss(va_y, va_pred_1b, eps=1e-7):.4f}'\u001b[0m\u001b[0;34m)\u001b[0m\u001b[0;34m\u001b[0m\u001b[0;34m\u001b[0m\u001b[0m\n",
            "\u001b[0;32m/usr/local/lib/python3.11/dist-packages/sklearn/utils/_param_validation.py\u001b[0m in \u001b[0;36mwrapper\u001b[0;34m(*args, **kwargs)\u001b[0m\n\u001b[1;32m    192\u001b[0m \u001b[0;34m\u001b[0m\u001b[0m\n\u001b[1;32m    193\u001b[0m             \u001b[0;31m# Map *args/**kwargs to the function signature\u001b[0m\u001b[0;34m\u001b[0m\u001b[0;34m\u001b[0m\u001b[0m\n\u001b[0;32m--> 194\u001b[0;31m             \u001b[0mparams\u001b[0m \u001b[0;34m=\u001b[0m \u001b[0mfunc_sig\u001b[0m\u001b[0;34m.\u001b[0m\u001b[0mbind\u001b[0m\u001b[0;34m(\u001b[0m\u001b[0;34m*\u001b[0m\u001b[0margs\u001b[0m\u001b[0;34m,\u001b[0m \u001b[0;34m**\u001b[0m\u001b[0mkwargs\u001b[0m\u001b[0;34m)\u001b[0m\u001b[0;34m\u001b[0m\u001b[0;34m\u001b[0m\u001b[0m\n\u001b[0m\u001b[1;32m    195\u001b[0m             \u001b[0mparams\u001b[0m\u001b[0;34m.\u001b[0m\u001b[0mapply_defaults\u001b[0m\u001b[0;34m(\u001b[0m\u001b[0;34m)\u001b[0m\u001b[0;34m\u001b[0m\u001b[0;34m\u001b[0m\u001b[0m\n\u001b[1;32m    196\u001b[0m \u001b[0;34m\u001b[0m\u001b[0m\n",
            "\u001b[0;32m/usr/lib/python3.11/inspect.py\u001b[0m in \u001b[0;36mbind\u001b[0;34m(self, *args, **kwargs)\u001b[0m\n\u001b[1;32m   3193\u001b[0m         \u001b[0;32mif\u001b[0m \u001b[0mthe\u001b[0m \u001b[0mpassed\u001b[0m \u001b[0marguments\u001b[0m \u001b[0mcan\u001b[0m \u001b[0;32mnot\u001b[0m \u001b[0mbe\u001b[0m \u001b[0mbound\u001b[0m\u001b[0;34m.\u001b[0m\u001b[0;34m\u001b[0m\u001b[0;34m\u001b[0m\u001b[0m\n\u001b[1;32m   3194\u001b[0m         \"\"\"\n\u001b[0;32m-> 3195\u001b[0;31m         \u001b[0;32mreturn\u001b[0m \u001b[0mself\u001b[0m\u001b[0;34m.\u001b[0m\u001b[0m_bind\u001b[0m\u001b[0;34m(\u001b[0m\u001b[0margs\u001b[0m\u001b[0;34m,\u001b[0m \u001b[0mkwargs\u001b[0m\u001b[0;34m)\u001b[0m\u001b[0;34m\u001b[0m\u001b[0;34m\u001b[0m\u001b[0m\n\u001b[0m\u001b[1;32m   3196\u001b[0m \u001b[0;34m\u001b[0m\u001b[0m\n\u001b[1;32m   3197\u001b[0m     \u001b[0;32mdef\u001b[0m \u001b[0mbind_partial\u001b[0m\u001b[0;34m(\u001b[0m\u001b[0mself\u001b[0m\u001b[0;34m,\u001b[0m \u001b[0;34m/\u001b[0m\u001b[0;34m,\u001b[0m \u001b[0;34m*\u001b[0m\u001b[0margs\u001b[0m\u001b[0;34m,\u001b[0m \u001b[0;34m**\u001b[0m\u001b[0mkwargs\u001b[0m\u001b[0;34m)\u001b[0m\u001b[0;34m:\u001b[0m\u001b[0;34m\u001b[0m\u001b[0;34m\u001b[0m\u001b[0m\n",
            "\u001b[0;32m/usr/lib/python3.11/inspect.py\u001b[0m in \u001b[0;36m_bind\u001b[0;34m(self, args, kwargs, partial)\u001b[0m\n\u001b[1;32m   3182\u001b[0m                 \u001b[0marguments\u001b[0m\u001b[0;34m[\u001b[0m\u001b[0mkwargs_param\u001b[0m\u001b[0;34m.\u001b[0m\u001b[0mname\u001b[0m\u001b[0;34m]\u001b[0m \u001b[0;34m=\u001b[0m \u001b[0mkwargs\u001b[0m\u001b[0;34m\u001b[0m\u001b[0;34m\u001b[0m\u001b[0m\n\u001b[1;32m   3183\u001b[0m             \u001b[0;32melse\u001b[0m\u001b[0;34m:\u001b[0m\u001b[0;34m\u001b[0m\u001b[0;34m\u001b[0m\u001b[0m\n\u001b[0;32m-> 3184\u001b[0;31m                 raise TypeError(\n\u001b[0m\u001b[1;32m   3185\u001b[0m                     'got an unexpected keyword argument {arg!r}'.format(\n\u001b[1;32m   3186\u001b[0m                         arg=next(iter(kwargs))))\n",
            "\u001b[0;31mTypeError\u001b[0m: got an unexpected keyword argument 'eps'"
          ]
        }
      ],
      "source": [
        "# hold-outデータでの精度を評価する\n",
        "print(f'logloss: {log_loss(va_y, va_pred_1a, eps=1e-7):.4f}')\n",
        "print(f'logloss: {log_loss(va_y, va_pred_1b, eps=1e-7):.4f}')"
      ]
    },
    {
      "cell_type": "code",
      "execution_count": null,
      "id": "c8925a57",
      "metadata": {
        "id": "c8925a57"
      },
      "outputs": [],
      "source": [
        "# hold-outデータとテストデータへの予測値を特徴量としてデータフレームを作成\n",
        "va_x_2 = pd.DataFrame({'pred_1a': va_pred_1a, 'pred_1b': va_pred_1b})\n",
        "test_x_2 = pd.DataFrame({'pred_1a': test_pred_1a, 'pred_1b': test_pred_1b})"
      ]
    },
    {
      "cell_type": "code",
      "execution_count": null,
      "id": "183f6e94",
      "metadata": {
        "id": "183f6e94"
      },
      "outputs": [],
      "source": [
        "# 2層目のモデル\n",
        "# Hold-outデータすべてで学習しているので、評価することができない。\n",
        "# 評価を行うには、Hold-outデータをさらにクロスバリデーションする方法が考えられる。\n",
        "model2 = Model2Linear()\n",
        "model2.fit(va_x_2, va_y, None, None)\n",
        "pred_test_2 = model2.predict(test_x_2)"
      ]
    }
  ],
  "metadata": {
    "jupytext": {
      "cell_metadata_filter": "-all",
      "main_language": "python",
      "notebook_metadata_filter": "-all"
    },
    "colab": {
      "provenance": [],
      "include_colab_link": true
    },
    "language_info": {
      "name": "python"
    },
    "kernelspec": {
      "name": "python3",
      "display_name": "Python 3"
    }
  },
  "nbformat": 4,
  "nbformat_minor": 5
}