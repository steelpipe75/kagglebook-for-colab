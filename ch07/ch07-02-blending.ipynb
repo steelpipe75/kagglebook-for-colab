{
  "cells": [
    {
      "cell_type": "markdown",
      "metadata": {
        "id": "view-in-github",
        "colab_type": "text"
      },
      "source": [
        "<a href=\"https://colab.research.google.com/github/steelpipe75/kagglebook-for-colab/blob/master/ch07/ch07-02-blending.ipynb\" target=\"_parent\"><img src=\"https://colab.research.google.com/assets/colab-badge.svg\" alt=\"Open In Colab\"/></a>"
      ]
    },
    {
      "cell_type": "code",
      "execution_count": 1,
      "id": "85e06a2f",
      "metadata": {
        "id": "85e06a2f"
      },
      "outputs": [],
      "source": [
        "# ---------------------------------\n",
        "# データ等の準備\n",
        "# ----------------------------------\n",
        "import numpy as np\n",
        "import pandas as pd"
      ]
    },
    {
      "cell_type": "code",
      "source": [
        "import importlib\n",
        "import sys\n",
        "import subprocess\n",
        "\n",
        "# Google Colab 上で実行しているかどうかを判断するフラグ\n",
        "ON_COLAB = \"google.colab\" in sys.modules\n",
        "print(f\"ON_COLAB: {ON_COLAB}\")\n",
        "\n",
        "if ON_COLAB:\n",
        "    USE_GIT = True # Gitを使う\n",
        "    # USE_GIT = False # Gitを使わない\n",
        "\n",
        "    print(f\"USE_GIT: {USE_GIT}\")\n",
        "    if USE_GIT:\n",
        "        !git clone https://github.com/ghmagazine/kagglebook.git\n",
        "    else:\n",
        "        # Google Drive にマウントする\n",
        "        drive = importlib.import_module(\"google.colab.drive\")\n",
        "        drive.mount(\"/content/drive/\")\n",
        "\n",
        "        import os\n",
        "        colab_dir = \"/content/drive/MyDrive/kagglebook/\" # データ置き場"
      ],
      "metadata": {
        "id": "Q3gTYOkvWoiQ",
        "outputId": "9dc429a5-b915-43ba-acb6-c605ae1c0da6",
        "colab": {
          "base_uri": "https://localhost:8080/"
        }
      },
      "id": "Q3gTYOkvWoiQ",
      "execution_count": 2,
      "outputs": [
        {
          "output_type": "stream",
          "name": "stdout",
          "text": [
            "ON_COLAB: True\n",
            "USE_GIT: True\n",
            "fatal: destination path 'kagglebook' already exists and is not an empty directory.\n"
          ]
        }
      ]
    },
    {
      "cell_type": "markdown",
      "id": "7a85b047",
      "metadata": {
        "id": "7a85b047"
      },
      "source": [
        "train_xは学習データ、train_yは目的変数、test_xはテストデータ\n",
        "pandasのDataFrame, Seriesで保持します。（numpyのarrayで保持することもあります）"
      ]
    },
    {
      "cell_type": "code",
      "execution_count": 3,
      "id": "dc77307f",
      "metadata": {
        "id": "dc77307f"
      },
      "outputs": [],
      "source": [
        "if ON_COLAB:\n",
        "    if USE_GIT:\n",
        "        train = pd.read_csv('/content/kagglebook/input/sample-data/train_preprocessed.csv')\n",
        "    else:\n",
        "        train = pd.read_csv(os.path.join(colab_dir, 'input/sample-data/train_preprocessed.csv'))\n",
        "else:\n",
        "    train = pd.read_csv('../input/sample-data/train_preprocessed.csv')\n",
        "train_x = train.drop(['target'], axis=1)\n",
        "train_y = train['target']\n",
        "if ON_COLAB:\n",
        "    if USE_GIT:\n",
        "        test_x = pd.read_csv('/content/kagglebook/input/sample-data/test_preprocessed.csv')\n",
        "    else:\n",
        "        test_x = pd.read_csv(os.path.join(colab_dir, 'input/sample-data/test_preprocessed.csv'))\n",
        "else:\n",
        "    test_x = pd.read_csv('../input/sample-data/test_preprocessed.csv')"
      ]
    },
    {
      "cell_type": "code",
      "execution_count": 4,
      "id": "97c1888f",
      "metadata": {
        "id": "97c1888f"
      },
      "outputs": [],
      "source": [
        "# neural net用のデータ\n",
        "if ON_COLAB:\n",
        "    if USE_GIT:\n",
        "        train_nn = pd.read_csv('/content/kagglebook/input/sample-data/train_preprocessed_onehot.csv')\n",
        "    else:\n",
        "        train_nn = pd.read_csv(os.path.join(colab_dir, 'input/sample-data/train_preprocessed_onehot.csv'))\n",
        "else:\n",
        "    train_nn = pd.read_csv('../input/sample-data/train_preprocessed_onehot.csv')\n",
        "train_x_nn = train_nn.drop(['target'], axis=1)\n",
        "train_y_nn = train_nn['target']\n",
        "if ON_COLAB:\n",
        "    if USE_GIT:\n",
        "        test_x_nn = pd.read_csv('/content/kagglebook/input/sample-data/test_preprocessed_onehot.csv')\n",
        "    else:\n",
        "        test_x_nn = pd.read_csv(os.path.join(colab_dir, 'input/sample-data/test_preprocessed_onehot.csv'))\n",
        "else:\n",
        "    test_x_nn = pd.read_csv('../input/sample-data/test_preprocessed_onehot.csv')"
      ]
    },
    {
      "cell_type": "code",
      "execution_count": 5,
      "id": "f5d0b6f0",
      "metadata": {
        "id": "f5d0b6f0"
      },
      "outputs": [],
      "source": [
        "# ---------------------------------\n",
        "# hold-outデータへの予測値を用いたアンサンブル\n",
        "# ----------------------------------\n",
        "from sklearn.metrics import log_loss\n",
        "from sklearn.model_selection import KFold"
      ]
    },
    {
      "cell_type": "code",
      "execution_count": 6,
      "id": "fd5bfd30",
      "metadata": {
        "id": "fd5bfd30"
      },
      "outputs": [],
      "source": [
        "kf = KFold(n_splits=4, shuffle=True, random_state=71)\n",
        "tr_idx, va_index = list(kf.split(train_x))[0]\n",
        "tr_x, va_x = train_x.iloc[tr_idx], train_x.iloc[va_index]\n",
        "tr_y, va_y = train_y.iloc[tr_idx], train_y.iloc[va_index]\n",
        "tr_x_nn, va_x_nn = train_x_nn.iloc[tr_idx], train_x_nn.iloc[va_index]"
      ]
    },
    {
      "cell_type": "code",
      "execution_count": 7,
      "id": "e5265fd6",
      "metadata": {
        "id": "e5265fd6",
        "outputId": "ac0753f4-5e74-4bd3-92ba-74d1ce7c3995",
        "colab": {
          "base_uri": "https://localhost:8080/",
          "height": 375
        }
      },
      "outputs": [
        {
          "output_type": "error",
          "ename": "ModuleNotFoundError",
          "evalue": "No module named 'models'",
          "traceback": [
            "\u001b[0;31m---------------------------------------------------------------------------\u001b[0m",
            "\u001b[0;31mModuleNotFoundError\u001b[0m                       Traceback (most recent call last)",
            "\u001b[0;32m<ipython-input-7-53282152cb59>\u001b[0m in \u001b[0;36m<cell line: 0>\u001b[0;34m()\u001b[0m\n\u001b[1;32m      1\u001b[0m \u001b[0;31m# models.pyにModel1_1, Model1_2, Model2を定義しているものとする\u001b[0m\u001b[0;34m\u001b[0m\u001b[0;34m\u001b[0m\u001b[0m\n\u001b[1;32m      2\u001b[0m \u001b[0;31m# 各クラスは、fitで学習し、predictで予測値の確率を出力する\u001b[0m\u001b[0;34m\u001b[0m\u001b[0;34m\u001b[0m\u001b[0m\n\u001b[0;32m----> 3\u001b[0;31m \u001b[0;32mfrom\u001b[0m \u001b[0mmodels\u001b[0m \u001b[0;32mimport\u001b[0m \u001b[0mModel1Xgb\u001b[0m\u001b[0;34m,\u001b[0m \u001b[0mModel1NN\u001b[0m\u001b[0;34m,\u001b[0m \u001b[0mModel2Linear\u001b[0m\u001b[0;34m\u001b[0m\u001b[0;34m\u001b[0m\u001b[0m\n\u001b[0m",
            "\u001b[0;31mModuleNotFoundError\u001b[0m: No module named 'models'",
            "",
            "\u001b[0;31m---------------------------------------------------------------------------\u001b[0;32m\nNOTE: If your import is failing due to a missing package, you can\nmanually install dependencies using either !pip or !apt.\n\nTo view examples of installing some common dependencies, click the\n\"Open Examples\" button below.\n\u001b[0;31m---------------------------------------------------------------------------\u001b[0m\n"
          ],
          "errorDetails": {
            "actions": [
              {
                "action": "open_url",
                "actionText": "Open Examples",
                "url": "/notebooks/snippets/importing_libraries.ipynb"
              }
            ]
          }
        }
      ],
      "source": [
        "# models.pyにModel1_1, Model1_2, Model2を定義しているものとする\n",
        "# 各クラスは、fitで学習し、predictで予測値の確率を出力する\n",
        "from models import Model1Xgb, Model1NN, Model2Linear"
      ]
    },
    {
      "cell_type": "code",
      "execution_count": null,
      "id": "ee36a450",
      "metadata": {
        "id": "ee36a450"
      },
      "outputs": [],
      "source": [
        "# 1層目のモデル\n",
        "# 学習データで学習し、hold-outデータとテストデータへの予測値を出力する\n",
        "model_1a = Model1Xgb()\n",
        "model_1a.fit(tr_x, tr_y, va_x, va_y)\n",
        "va_pred_1a = model_1a.predict(va_x)\n",
        "test_pred_1a = model_1a.predict(test_x)"
      ]
    },
    {
      "cell_type": "code",
      "execution_count": null,
      "id": "22f27aa4",
      "metadata": {
        "id": "22f27aa4"
      },
      "outputs": [],
      "source": [
        "model_1b = Model1NN()\n",
        "model_1b.fit(tr_x_nn, tr_y, va_x_nn, va_y)\n",
        "va_pred_1b = model_1b.predict(va_x_nn)\n",
        "test_pred_1b = model_1b.predict(test_x_nn)"
      ]
    },
    {
      "cell_type": "code",
      "execution_count": null,
      "id": "cf718812",
      "metadata": {
        "id": "cf718812"
      },
      "outputs": [],
      "source": [
        "# hold-outデータでの精度を評価する\n",
        "print(f'logloss: {log_loss(va_y, va_pred_1a, eps=1e-7):.4f}')\n",
        "print(f'logloss: {log_loss(va_y, va_pred_1b, eps=1e-7):.4f}')"
      ]
    },
    {
      "cell_type": "code",
      "execution_count": null,
      "id": "c8925a57",
      "metadata": {
        "id": "c8925a57"
      },
      "outputs": [],
      "source": [
        "# hold-outデータとテストデータへの予測値を特徴量としてデータフレームを作成\n",
        "va_x_2 = pd.DataFrame({'pred_1a': va_pred_1a, 'pred_1b': va_pred_1b})\n",
        "test_x_2 = pd.DataFrame({'pred_1a': test_pred_1a, 'pred_1b': test_pred_1b})"
      ]
    },
    {
      "cell_type": "code",
      "execution_count": null,
      "id": "183f6e94",
      "metadata": {
        "id": "183f6e94"
      },
      "outputs": [],
      "source": [
        "# 2層目のモデル\n",
        "# Hold-outデータすべてで学習しているので、評価することができない。\n",
        "# 評価を行うには、Hold-outデータをさらにクロスバリデーションする方法が考えられる。\n",
        "model2 = Model2Linear()\n",
        "model2.fit(va_x_2, va_y, None, None)\n",
        "pred_test_2 = model2.predict(test_x_2)"
      ]
    }
  ],
  "metadata": {
    "jupytext": {
      "cell_metadata_filter": "-all",
      "main_language": "python",
      "notebook_metadata_filter": "-all"
    },
    "colab": {
      "provenance": [],
      "include_colab_link": true
    },
    "language_info": {
      "name": "python"
    },
    "kernelspec": {
      "name": "python3",
      "display_name": "Python 3"
    }
  },
  "nbformat": 4,
  "nbformat_minor": 5
}