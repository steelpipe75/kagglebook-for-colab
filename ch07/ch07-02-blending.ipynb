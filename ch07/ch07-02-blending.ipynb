{
 "cells": [
  {
   "cell_type": "code",
   "execution_count": null,
   "id": "85e06a2f",
   "metadata": {},
   "outputs": [],
   "source": [
    "# ---------------------------------\n",
    "# データ等の準備\n",
    "# ----------------------------------\n",
    "import numpy as np\n",
    "import pandas as pd"
   ]
  },
  {
   "cell_type": "markdown",
   "id": "7a85b047",
   "metadata": {},
   "source": [
    "train_xは学習データ、train_yは目的変数、test_xはテストデータ\n",
    "pandasのDataFrame, Seriesで保持します。（numpyのarrayで保持することもあります）"
   ]
  },
  {
   "cell_type": "code",
   "execution_count": null,
   "id": "dc77307f",
   "metadata": {},
   "outputs": [],
   "source": [
    "train = pd.read_csv('../input/sample-data/train_preprocessed.csv')\n",
    "train_x = train.drop(['target'], axis=1)\n",
    "train_y = train['target']\n",
    "test_x = pd.read_csv('../input/sample-data/test_preprocessed.csv')"
   ]
  },
  {
   "cell_type": "code",
   "execution_count": null,
   "id": "97c1888f",
   "metadata": {},
   "outputs": [],
   "source": [
    "# neural net用のデータ\n",
    "train_nn = pd.read_csv('../input/sample-data/train_preprocessed_onehot.csv')\n",
    "train_x_nn = train_nn.drop(['target'], axis=1)\n",
    "train_y_nn = train_nn['target']\n",
    "test_x_nn = pd.read_csv('../input/sample-data/test_preprocessed_onehot.csv')"
   ]
  },
  {
   "cell_type": "code",
   "execution_count": null,
   "id": "f5d0b6f0",
   "metadata": {},
   "outputs": [],
   "source": [
    "# ---------------------------------\n",
    "# hold-outデータへの予測値を用いたアンサンブル\n",
    "# ----------------------------------\n",
    "from sklearn.metrics import log_loss\n",
    "from sklearn.model_selection import KFold"
   ]
  },
  {
   "cell_type": "code",
   "execution_count": null,
   "id": "fd5bfd30",
   "metadata": {},
   "outputs": [],
   "source": [
    "kf = KFold(n_splits=4, shuffle=True, random_state=71)\n",
    "tr_idx, va_index = list(kf.split(train_x))[0]\n",
    "tr_x, va_x = train_x.iloc[tr_idx], train_x.iloc[va_index]\n",
    "tr_y, va_y = train_y.iloc[tr_idx], train_y.iloc[va_index]\n",
    "tr_x_nn, va_x_nn = train_x_nn.iloc[tr_idx], train_x_nn.iloc[va_index]"
   ]
  },
  {
   "cell_type": "code",
   "execution_count": null,
   "id": "e5265fd6",
   "metadata": {},
   "outputs": [],
   "source": [
    "# models.pyにModel1_1, Model1_2, Model2を定義しているものとする\n",
    "# 各クラスは、fitで学習し、predictで予測値の確率を出力する\n",
    "from models import Model1Xgb, Model1NN, Model2Linear"
   ]
  },
  {
   "cell_type": "code",
   "execution_count": null,
   "id": "ee36a450",
   "metadata": {},
   "outputs": [],
   "source": [
    "# 1層目のモデル\n",
    "# 学習データで学習し、hold-outデータとテストデータへの予測値を出力する\n",
    "model_1a = Model1Xgb()\n",
    "model_1a.fit(tr_x, tr_y, va_x, va_y)\n",
    "va_pred_1a = model_1a.predict(va_x)\n",
    "test_pred_1a = model_1a.predict(test_x)"
   ]
  },
  {
   "cell_type": "code",
   "execution_count": null,
   "id": "22f27aa4",
   "metadata": {},
   "outputs": [],
   "source": [
    "model_1b = Model1NN()\n",
    "model_1b.fit(tr_x_nn, tr_y, va_x_nn, va_y)\n",
    "va_pred_1b = model_1b.predict(va_x_nn)\n",
    "test_pred_1b = model_1b.predict(test_x_nn)"
   ]
  },
  {
   "cell_type": "code",
   "execution_count": null,
   "id": "cf718812",
   "metadata": {},
   "outputs": [],
   "source": [
    "# hold-outデータでの精度を評価する\n",
    "print(f'logloss: {log_loss(va_y, va_pred_1a, eps=1e-7):.4f}')\n",
    "print(f'logloss: {log_loss(va_y, va_pred_1b, eps=1e-7):.4f}')"
   ]
  },
  {
   "cell_type": "code",
   "execution_count": null,
   "id": "c8925a57",
   "metadata": {},
   "outputs": [],
   "source": [
    "# hold-outデータとテストデータへの予測値を特徴量としてデータフレームを作成\n",
    "va_x_2 = pd.DataFrame({'pred_1a': va_pred_1a, 'pred_1b': va_pred_1b})\n",
    "test_x_2 = pd.DataFrame({'pred_1a': test_pred_1a, 'pred_1b': test_pred_1b})"
   ]
  },
  {
   "cell_type": "code",
   "execution_count": null,
   "id": "183f6e94",
   "metadata": {},
   "outputs": [],
   "source": [
    "# 2層目のモデル\n",
    "# Hold-outデータすべてで学習しているので、評価することができない。\n",
    "# 評価を行うには、Hold-outデータをさらにクロスバリデーションする方法が考えられる。\n",
    "model2 = Model2Linear()\n",
    "model2.fit(va_x_2, va_y, None, None)\n",
    "pred_test_2 = model2.predict(test_x_2)"
   ]
  }
 ],
 "metadata": {
  "jupytext": {
   "cell_metadata_filter": "-all",
   "main_language": "python",
   "notebook_metadata_filter": "-all"
  }
 },
 "nbformat": 4,
 "nbformat_minor": 5
}
