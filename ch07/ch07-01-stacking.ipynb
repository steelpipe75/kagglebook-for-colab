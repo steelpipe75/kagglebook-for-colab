{
  "cells": [
    {
      "cell_type": "markdown",
      "metadata": {
        "id": "view-in-github",
        "colab_type": "text"
      },
      "source": [
        "<a href=\"https://colab.research.google.com/github/steelpipe75/kagglebook-for-colab/blob/master/ch07/ch07-01-stacking.ipynb\" target=\"_parent\"><img src=\"https://colab.research.google.com/assets/colab-badge.svg\" alt=\"Open In Colab\"/></a>"
      ]
    },
    {
      "cell_type": "code",
      "execution_count": 1,
      "id": "10e824dd",
      "metadata": {
        "id": "10e824dd"
      },
      "outputs": [],
      "source": [
        "# ---------------------------------\n",
        "# データ等の準備\n",
        "# ----------------------------------\n",
        "import numpy as np\n",
        "import pandas as pd"
      ]
    },
    {
      "cell_type": "code",
      "source": [
        "import importlib\n",
        "import sys\n",
        "import subprocess\n",
        "\n",
        "# Google Colab 上で実行しているかどうかを判断するフラグ\n",
        "ON_COLAB = \"google.colab\" in sys.modules\n",
        "print(f\"ON_COLAB: {ON_COLAB}\")\n",
        "\n",
        "if ON_COLAB:\n",
        "    USE_GIT = True # Gitを使う\n",
        "    # USE_GIT = False # Gitを使わない\n",
        "\n",
        "    print(f\"USE_GIT: {USE_GIT}\")\n",
        "    if USE_GIT:\n",
        "        !git clone https://github.com/ghmagazine/kagglebook.git\n",
        "    else:\n",
        "        # Google Drive にマウントする\n",
        "        drive = importlib.import_module(\"google.colab.drive\")\n",
        "        drive.mount(\"/content/drive/\")\n",
        "\n",
        "        import os\n",
        "        colab_dir = \"/content/drive/MyDrive/kagglebook/\" # データ置き場"
      ],
      "metadata": {
        "id": "ffxM60MvUeYy",
        "outputId": "78779fb5-7d67-4fa1-8d1d-3bf747efcea2",
        "colab": {
          "base_uri": "https://localhost:8080/"
        }
      },
      "id": "ffxM60MvUeYy",
      "execution_count": 2,
      "outputs": [
        {
          "output_type": "stream",
          "name": "stdout",
          "text": [
            "ON_COLAB: True\n",
            "USE_GIT: True\n",
            "fatal: destination path 'kagglebook' already exists and is not an empty directory.\n"
          ]
        }
      ]
    },
    {
      "cell_type": "markdown",
      "id": "a47572a2",
      "metadata": {
        "id": "a47572a2"
      },
      "source": [
        "train_xは学習データ、train_yは目的変数、test_xはテストデータ\n",
        "pandasのDataFrame, Seriesで保持します。（numpyのarrayで保持することもあります）"
      ]
    },
    {
      "cell_type": "code",
      "execution_count": 3,
      "id": "5dfe7e90",
      "metadata": {
        "id": "5dfe7e90"
      },
      "outputs": [],
      "source": [
        "if ON_COLAB:\n",
        "    if USE_GIT:\n",
        "        train = pd.read_csv('/content/kagglebook/input/sample-data/train_preprocessed.csv')\n",
        "    else:\n",
        "        train = pd.read_csv(os.path.join(colab_dir, 'input/sample-data/train_preprocessed.csv'))\n",
        "else:\n",
        "    train = pd.read_csv('../input/sample-data/train_preprocessed.csv')\n",
        "train_x = train.drop(['target'], axis=1)\n",
        "train_y = train['target']\n",
        "if ON_COLAB:\n",
        "    if USE_GIT:\n",
        "        test_x = pd.read_csv('/content/kagglebook/input/sample-data/test_preprocessed.csv')\n",
        "    else:\n",
        "        test_x = pd.read_csv(os.path.join(colab_dir, 'input/sample-data/test_preprocessed.csv'))\n",
        "else:\n",
        "    test_x = pd.read_csv('../input/sample-data/test_preprocessed.csv')"
      ]
    },
    {
      "cell_type": "code",
      "execution_count": 4,
      "id": "5159be74",
      "metadata": {
        "id": "5159be74"
      },
      "outputs": [],
      "source": [
        "# neural net用のデータ\n",
        "if ON_COLAB:\n",
        "    if USE_GIT:\n",
        "        train_nn = pd.read_csv('/content/kagglebook/input/sample-data/train_preprocessed_onehot.csv')\n",
        "    else:\n",
        "        train_nn = pd.read_csv(os.path.join(colab_dir, 'input/sample-data/train_preprocessed_onehot.csv'))\n",
        "else:\n",
        "    train_nn = pd.read_csv('../input/sample-data/train_preprocessed_onehot.csv')\n",
        "train_x_nn = train_nn.drop(['target'], axis=1)\n",
        "train_y_nn = train_nn['target']\n",
        "if ON_COLAB:\n",
        "    if USE_GIT:\n",
        "        test_x_nn = pd.read_csv('/content/kagglebook/input/sample-data/test_preprocessed_onehot.csv')\n",
        "    else:\n",
        "        test_x_nn = pd.read_csv(os.path.join(colab_dir, 'input/sample-data/test_preprocessed_onehot.csv'))\n",
        "else:\n",
        "    test_x_nn = pd.read_csv('../input/sample-data/test_preprocessed_onehot.csv')"
      ]
    },
    {
      "cell_type": "code",
      "execution_count": 5,
      "id": "74526ef3",
      "metadata": {
        "id": "74526ef3"
      },
      "outputs": [],
      "source": [
        "# ---------------------------------\n",
        "# スタッキング\n",
        "# ----------------------------------\n",
        "from sklearn.metrics import log_loss\n",
        "from sklearn.model_selection import KFold"
      ]
    },
    {
      "cell_type": "markdown",
      "id": "39557c1e",
      "metadata": {
        "id": "39557c1e"
      },
      "source": [
        "models.pyにModel1Xgb, Model1NN, Model2Linearを定義しているものとする\n",
        "各クラスは、fitで学習し、predictで予測値の確率を出力する"
      ]
    },
    {
      "cell_type": "code",
      "execution_count": 6,
      "id": "ea703b71",
      "metadata": {
        "id": "ea703b71",
        "outputId": "08312738-bfbe-432b-a902-c34ce80faa66",
        "colab": {
          "base_uri": "https://localhost:8080/",
          "height": 337
        }
      },
      "outputs": [
        {
          "output_type": "error",
          "ename": "ModuleNotFoundError",
          "evalue": "No module named 'models'",
          "traceback": [
            "\u001b[0;31m---------------------------------------------------------------------------\u001b[0m",
            "\u001b[0;31mModuleNotFoundError\u001b[0m                       Traceback (most recent call last)",
            "\u001b[0;32m<ipython-input-6-fcc14075d646>\u001b[0m in \u001b[0;36m<cell line: 0>\u001b[0;34m()\u001b[0m\n\u001b[0;32m----> 1\u001b[0;31m \u001b[0;32mfrom\u001b[0m \u001b[0mmodels\u001b[0m \u001b[0;32mimport\u001b[0m \u001b[0mModel1Xgb\u001b[0m\u001b[0;34m,\u001b[0m \u001b[0mModel1NN\u001b[0m\u001b[0;34m,\u001b[0m \u001b[0mModel2Linear\u001b[0m\u001b[0;34m\u001b[0m\u001b[0;34m\u001b[0m\u001b[0m\n\u001b[0m",
            "\u001b[0;31mModuleNotFoundError\u001b[0m: No module named 'models'",
            "",
            "\u001b[0;31m---------------------------------------------------------------------------\u001b[0;32m\nNOTE: If your import is failing due to a missing package, you can\nmanually install dependencies using either !pip or !apt.\n\nTo view examples of installing some common dependencies, click the\n\"Open Examples\" button below.\n\u001b[0;31m---------------------------------------------------------------------------\u001b[0m\n"
          ],
          "errorDetails": {
            "actions": [
              {
                "action": "open_url",
                "actionText": "Open Examples",
                "url": "/notebooks/snippets/importing_libraries.ipynb"
              }
            ]
          }
        }
      ],
      "source": [
        "from models import Model1Xgb, Model1NN, Model2Linear"
      ]
    },
    {
      "cell_type": "code",
      "execution_count": null,
      "id": "605805bb",
      "metadata": {
        "id": "605805bb"
      },
      "outputs": [],
      "source": [
        "# 学習データに対する「目的変数を知らない」予測値と、テストデータに対する予測値を返す関数\n",
        "def predict_cv(model, train_x, train_y, test_x):\n",
        "    preds = []\n",
        "    preds_test = []\n",
        "    va_idxes = []\n",
        "\n",
        "    kf = KFold(n_splits=4, shuffle=True, random_state=71)\n",
        "\n",
        "    # クロスバリデーションで学習・予測を行い、予測値とインデックスを保存する\n",
        "    for i, (tr_idx, va_idx) in enumerate(kf.split(train_x)):\n",
        "        tr_x, va_x = train_x.iloc[tr_idx], train_x.iloc[va_idx]\n",
        "        tr_y, va_y = train_y.iloc[tr_idx], train_y.iloc[va_idx]\n",
        "        model.fit(tr_x, tr_y, va_x, va_y)\n",
        "        pred = model.predict(va_x)\n",
        "        preds.append(pred)\n",
        "        pred_test = model.predict(test_x)\n",
        "        preds_test.append(pred_test)\n",
        "        va_idxes.append(va_idx)\n",
        "\n",
        "    # バリデーションデータに対する予測値を連結し、その後元の順序に並べ直す\n",
        "    va_idxes = np.concatenate(va_idxes)\n",
        "    preds = np.concatenate(preds, axis=0)\n",
        "    order = np.argsort(va_idxes)\n",
        "    pred_train = preds[order]\n",
        "\n",
        "    # テストデータに対する予測値の平均をとる\n",
        "    preds_test = np.mean(preds_test, axis=0)\n",
        "\n",
        "    return pred_train, preds_test"
      ]
    },
    {
      "cell_type": "code",
      "execution_count": null,
      "id": "4207a228",
      "metadata": {
        "id": "4207a228"
      },
      "outputs": [],
      "source": [
        "# 1層目のモデル\n",
        "# pred_train_1a, pred_train_1bは、学習データのクロスバリデーションでの予測値\n",
        "# pred_test_1a, pred_test_1bは、テストデータの予測値\n",
        "model_1a = Model1Xgb()\n",
        "pred_train_1a, pred_test_1a = predict_cv(model_1a, train_x, train_y, test_x)"
      ]
    },
    {
      "cell_type": "code",
      "execution_count": null,
      "id": "247e13ae",
      "metadata": {
        "id": "247e13ae"
      },
      "outputs": [],
      "source": [
        "model_1b = Model1NN()\n",
        "pred_train_1b, pred_test_1b = predict_cv(model_1b, train_x_nn, train_y, test_x_nn)"
      ]
    },
    {
      "cell_type": "code",
      "execution_count": null,
      "id": "cb843527",
      "metadata": {
        "id": "cb843527"
      },
      "outputs": [],
      "source": [
        "# 1層目のモデルの評価\n",
        "print(f'logloss: {log_loss(train_y, pred_train_1a, eps=1e-7):.4f}')\n",
        "print(f'logloss: {log_loss(train_y, pred_train_1b, eps=1e-7):.4f}')"
      ]
    },
    {
      "cell_type": "code",
      "execution_count": null,
      "id": "765cfb23",
      "metadata": {
        "id": "765cfb23"
      },
      "outputs": [],
      "source": [
        "# 予測値を特徴量としてデータフレームを作成\n",
        "train_x_2 = pd.DataFrame({'pred_1a': pred_train_1a, 'pred_1b': pred_train_1b})\n",
        "test_x_2 = pd.DataFrame({'pred_1a': pred_test_1a, 'pred_1b': pred_test_1b})"
      ]
    },
    {
      "cell_type": "code",
      "execution_count": null,
      "id": "0e944e8e",
      "metadata": {
        "id": "0e944e8e"
      },
      "outputs": [],
      "source": [
        "# 2層目のモデル\n",
        "# pred_train_2は、2層目のモデルの学習データのクロスバリデーションでの予測値\n",
        "# pred_test_2は、2層目のモデルのテストデータの予測値\n",
        "model_2 = Model2Linear()\n",
        "pred_train_2, pred_test_2 = predict_cv(model_2, train_x_2, train_y, test_x_2)\n",
        "print(f'logloss: {log_loss(train_y, pred_train_2, eps=1e-7):.4f}')"
      ]
    }
  ],
  "metadata": {
    "jupytext": {
      "cell_metadata_filter": "-all",
      "main_language": "python",
      "notebook_metadata_filter": "-all"
    },
    "colab": {
      "provenance": [],
      "include_colab_link": true
    },
    "language_info": {
      "name": "python"
    },
    "kernelspec": {
      "name": "python3",
      "display_name": "Python 3"
    }
  },
  "nbformat": 4,
  "nbformat_minor": 5
}