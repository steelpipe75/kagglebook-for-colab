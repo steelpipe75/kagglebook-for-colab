{
  "cells": [
    {
      "cell_type": "markdown",
      "metadata": {
        "id": "view-in-github",
        "colab_type": "text"
      },
      "source": [
        "<a href=\"https://colab.research.google.com/github/steelpipe75/kagglebook-for-colab/blob/master/ch07/ch07-01-stacking.ipynb\" target=\"_parent\"><img src=\"https://colab.research.google.com/assets/colab-badge.svg\" alt=\"Open In Colab\"/></a>"
      ]
    },
    {
      "cell_type": "code",
      "execution_count": 1,
      "id": "10e824dd",
      "metadata": {
        "id": "10e824dd"
      },
      "outputs": [],
      "source": [
        "# ---------------------------------\n",
        "# データ等の準備\n",
        "# ----------------------------------\n",
        "import numpy as np\n",
        "import pandas as pd"
      ]
    },
    {
      "cell_type": "code",
      "source": [
        "import importlib\n",
        "import sys\n",
        "import subprocess\n",
        "\n",
        "# Google Colab 上で実行しているかどうかを判断するフラグ\n",
        "ON_COLAB = \"google.colab\" in sys.modules\n",
        "print(f\"ON_COLAB: {ON_COLAB}\")\n",
        "\n",
        "if ON_COLAB:\n",
        "    USE_GIT = True # Gitを使う\n",
        "    # USE_GIT = False # Gitを使わない\n",
        "\n",
        "    import sys\n",
        "    import os\n",
        "\n",
        "    print(f\"USE_GIT: {USE_GIT}\")\n",
        "    if USE_GIT:\n",
        "        !git clone https://github.com/steelpipe75/kagglebook-for-colab.git\n",
        "\n",
        "        sys.path.append('/content/kagglebook-for-colab/ch07')\n",
        "    else:\n",
        "        # Google Drive にマウントする\n",
        "        drive = importlib.import_module(\"google.colab.drive\")\n",
        "        drive.mount(\"/content/drive/\")\n",
        "\n",
        "        colab_dir = \"/content/drive/MyDrive/kagglebook/\" # データ置き場\n",
        "        sys.path.append(os.path.join(colab_dir, 'ch07'))"
      ],
      "metadata": {
        "id": "ffxM60MvUeYy",
        "outputId": "9cf0a393-ed87-43e4-cd35-351599860954",
        "colab": {
          "base_uri": "https://localhost:8080/"
        }
      },
      "id": "ffxM60MvUeYy",
      "execution_count": 2,
      "outputs": [
        {
          "output_type": "stream",
          "name": "stdout",
          "text": [
            "ON_COLAB: True\n",
            "USE_GIT: True\n",
            "fatal: destination path 'kagglebook-for-colab' already exists and is not an empty directory.\n"
          ]
        }
      ]
    },
    {
      "cell_type": "markdown",
      "id": "a47572a2",
      "metadata": {
        "id": "a47572a2"
      },
      "source": [
        "train_xは学習データ、train_yは目的変数、test_xはテストデータ\n",
        "pandasのDataFrame, Seriesで保持します。（numpyのarrayで保持することもあります）"
      ]
    },
    {
      "cell_type": "code",
      "execution_count": 3,
      "id": "5dfe7e90",
      "metadata": {
        "id": "5dfe7e90"
      },
      "outputs": [],
      "source": [
        "if ON_COLAB:\n",
        "    if USE_GIT:\n",
        "        train = pd.read_csv('/content/kagglebook-for-colab/input/sample-data/train_preprocessed.csv')\n",
        "    else:\n",
        "        train = pd.read_csv(os.path.join(colab_dir, 'input/sample-data/train_preprocessed.csv'))\n",
        "else:\n",
        "    train = pd.read_csv('../input/sample-data/train_preprocessed.csv')\n",
        "train_x = train.drop(['target'], axis=1)\n",
        "train_y = train['target']\n",
        "if ON_COLAB:\n",
        "    if USE_GIT:\n",
        "        test_x = pd.read_csv('/content/kagglebook-for-colab/input/sample-data/test_preprocessed.csv')\n",
        "    else:\n",
        "        test_x = pd.read_csv(os.path.join(colab_dir, 'input/sample-data/test_preprocessed.csv'))\n",
        "else:\n",
        "    test_x = pd.read_csv('../input/sample-data/test_preprocessed.csv')"
      ]
    },
    {
      "cell_type": "code",
      "execution_count": 4,
      "id": "5159be74",
      "metadata": {
        "id": "5159be74"
      },
      "outputs": [],
      "source": [
        "# neural net用のデータ\n",
        "if ON_COLAB:\n",
        "    if USE_GIT:\n",
        "        train_nn = pd.read_csv('/content/kagglebook-for-colab/input/sample-data/train_preprocessed_onehot.csv')\n",
        "    else:\n",
        "        train_nn = pd.read_csv(os.path.join(colab_dir, 'input/sample-data/train_preprocessed_onehot.csv'))\n",
        "else:\n",
        "    train_nn = pd.read_csv('../input/sample-data/train_preprocessed_onehot.csv')\n",
        "train_x_nn = train_nn.drop(['target'], axis=1)\n",
        "train_y_nn = train_nn['target']\n",
        "if ON_COLAB:\n",
        "    if USE_GIT:\n",
        "        test_x_nn = pd.read_csv('/content/kagglebook-for-colab/input/sample-data/test_preprocessed_onehot.csv')\n",
        "    else:\n",
        "        test_x_nn = pd.read_csv(os.path.join(colab_dir, 'input/sample-data/test_preprocessed_onehot.csv'))\n",
        "else:\n",
        "    test_x_nn = pd.read_csv('../input/sample-data/test_preprocessed_onehot.csv')"
      ]
    },
    {
      "cell_type": "code",
      "execution_count": 5,
      "id": "74526ef3",
      "metadata": {
        "id": "74526ef3"
      },
      "outputs": [],
      "source": [
        "# ---------------------------------\n",
        "# スタッキング\n",
        "# ----------------------------------\n",
        "from sklearn.metrics import log_loss\n",
        "from sklearn.model_selection import KFold"
      ]
    },
    {
      "cell_type": "markdown",
      "id": "39557c1e",
      "metadata": {
        "id": "39557c1e"
      },
      "source": [
        "models.pyにModel1Xgb, Model1NN, Model2Linearを定義しているものとする\n",
        "各クラスは、fitで学習し、predictで予測値の確率を出力する"
      ]
    },
    {
      "cell_type": "code",
      "execution_count": 6,
      "id": "ea703b71",
      "metadata": {
        "id": "ea703b71"
      },
      "outputs": [],
      "source": [
        "from models import Model1Xgb, Model1NN, Model2Linear"
      ]
    },
    {
      "cell_type": "code",
      "execution_count": 7,
      "id": "605805bb",
      "metadata": {
        "id": "605805bb"
      },
      "outputs": [],
      "source": [
        "# 学習データに対する「目的変数を知らない」予測値と、テストデータに対する予測値を返す関数\n",
        "def predict_cv(model, train_x, train_y, test_x):\n",
        "    preds = []\n",
        "    preds_test = []\n",
        "    va_idxes = []\n",
        "\n",
        "    kf = KFold(n_splits=4, shuffle=True, random_state=71)\n",
        "\n",
        "    # クロスバリデーションで学習・予測を行い、予測値とインデックスを保存する\n",
        "    for i, (tr_idx, va_idx) in enumerate(kf.split(train_x)):\n",
        "        tr_x, va_x = train_x.iloc[tr_idx], train_x.iloc[va_idx]\n",
        "        tr_y, va_y = train_y.iloc[tr_idx], train_y.iloc[va_idx]\n",
        "        model.fit(tr_x, tr_y, va_x, va_y)\n",
        "        pred = model.predict(va_x)\n",
        "        preds.append(pred)\n",
        "        pred_test = model.predict(test_x)\n",
        "        preds_test.append(pred_test)\n",
        "        va_idxes.append(va_idx)\n",
        "\n",
        "    # バリデーションデータに対する予測値を連結し、その後元の順序に並べ直す\n",
        "    va_idxes = np.concatenate(va_idxes)\n",
        "    preds = np.concatenate(preds, axis=0)\n",
        "    order = np.argsort(va_idxes)\n",
        "    pred_train = preds[order]\n",
        "\n",
        "    # テストデータに対する予測値の平均をとる\n",
        "    preds_test = np.mean(preds_test, axis=0)\n",
        "\n",
        "    return pred_train, preds_test"
      ]
    },
    {
      "cell_type": "code",
      "execution_count": 8,
      "id": "4207a228",
      "metadata": {
        "id": "4207a228",
        "outputId": "4d4eca5c-afd3-44aa-ceec-97eb02937e56",
        "colab": {
          "base_uri": "https://localhost:8080/"
        }
      },
      "outputs": [
        {
          "output_type": "stream",
          "name": "stderr",
          "text": [
            "/usr/local/lib/python3.11/dist-packages/xgboost/core.py:158: UserWarning: [14:27:37] WARNING: /workspace/src/learner.cc:740: \n",
            "Parameters: { \"silent\" } are not used.\n",
            "\n",
            "  warnings.warn(smsg, UserWarning)\n"
          ]
        },
        {
          "output_type": "stream",
          "name": "stdout",
          "text": [
            "[0]\ttrain-logloss:0.41663\teval-logloss:0.43550\n",
            "[1]\ttrain-logloss:0.37126\teval-logloss:0.39889\n",
            "[2]\ttrain-logloss:0.33889\teval-logloss:0.37205\n",
            "[3]\ttrain-logloss:0.31320\teval-logloss:0.35606\n",
            "[4]\ttrain-logloss:0.29062\teval-logloss:0.33709\n",
            "[5]\ttrain-logloss:0.27315\teval-logloss:0.32549\n",
            "[6]\ttrain-logloss:0.25735\teval-logloss:0.31328\n",
            "[7]\ttrain-logloss:0.24299\teval-logloss:0.30434\n",
            "[8]\ttrain-logloss:0.22850\teval-logloss:0.29755\n",
            "[9]\ttrain-logloss:0.21984\teval-logloss:0.29490\n",
            "[0]\ttrain-logloss:0.41964\teval-logloss:0.41762\n",
            "[1]\ttrain-logloss:0.37576\teval-logloss:0.38620\n",
            "[2]\ttrain-logloss:0.34343\teval-logloss:0.36018\n"
          ]
        },
        {
          "output_type": "stream",
          "name": "stderr",
          "text": [
            "/usr/local/lib/python3.11/dist-packages/xgboost/core.py:158: UserWarning: [14:27:39] WARNING: /workspace/src/learner.cc:740: \n",
            "Parameters: { \"silent\" } are not used.\n",
            "\n",
            "  warnings.warn(smsg, UserWarning)\n"
          ]
        },
        {
          "output_type": "stream",
          "name": "stdout",
          "text": [
            "[3]\ttrain-logloss:0.31776\teval-logloss:0.34322\n",
            "[4]\ttrain-logloss:0.29396\teval-logloss:0.32650\n",
            "[5]\ttrain-logloss:0.27618\teval-logloss:0.31509\n",
            "[6]\ttrain-logloss:0.26377\teval-logloss:0.30590\n",
            "[7]\ttrain-logloss:0.24848\teval-logloss:0.29695\n",
            "[8]\ttrain-logloss:0.23521\teval-logloss:0.28744\n",
            "[9]\ttrain-logloss:0.22311\teval-logloss:0.28122\n",
            "[0]\ttrain-logloss:0.41890\teval-logloss:0.43249\n",
            "[1]\ttrain-logloss:0.37293\teval-logloss:0.39662\n"
          ]
        },
        {
          "output_type": "stream",
          "name": "stderr",
          "text": [
            "/usr/local/lib/python3.11/dist-packages/xgboost/core.py:158: UserWarning: [14:27:40] WARNING: /workspace/src/learner.cc:740: \n",
            "Parameters: { \"silent\" } are not used.\n",
            "\n",
            "  warnings.warn(smsg, UserWarning)\n"
          ]
        },
        {
          "output_type": "stream",
          "name": "stdout",
          "text": [
            "[2]\ttrain-logloss:0.34196\teval-logloss:0.37120\n",
            "[3]\ttrain-logloss:0.31459\teval-logloss:0.35191\n",
            "[4]\ttrain-logloss:0.29310\teval-logloss:0.33963\n",
            "[5]\ttrain-logloss:0.27737\teval-logloss:0.32667\n",
            "[6]\ttrain-logloss:0.25757\teval-logloss:0.31103\n",
            "[7]\ttrain-logloss:0.24559\teval-logloss:0.30324\n",
            "[8]\ttrain-logloss:0.23499\teval-logloss:0.29798\n",
            "[9]\ttrain-logloss:0.22137\teval-logloss:0.28779\n",
            "[0]\ttrain-logloss:0.41761\teval-logloss:0.43674\n",
            "[1]\ttrain-logloss:0.37038\teval-logloss:0.39970\n",
            "[2]\ttrain-logloss:0.33898\teval-logloss:0.37438\n"
          ]
        },
        {
          "output_type": "stream",
          "name": "stderr",
          "text": [
            "/usr/local/lib/python3.11/dist-packages/xgboost/core.py:158: UserWarning: [14:27:41] WARNING: /workspace/src/learner.cc:740: \n",
            "Parameters: { \"silent\" } are not used.\n",
            "\n",
            "  warnings.warn(smsg, UserWarning)\n"
          ]
        },
        {
          "output_type": "stream",
          "name": "stdout",
          "text": [
            "[3]\ttrain-logloss:0.31250\teval-logloss:0.35629\n",
            "[4]\ttrain-logloss:0.28992\teval-logloss:0.34197\n",
            "[5]\ttrain-logloss:0.27194\teval-logloss:0.33111\n",
            "[6]\ttrain-logloss:0.25641\teval-logloss:0.32024\n",
            "[7]\ttrain-logloss:0.24382\teval-logloss:0.31233\n",
            "[8]\ttrain-logloss:0.23406\teval-logloss:0.30578\n",
            "[9]\ttrain-logloss:0.22478\teval-logloss:0.30087\n"
          ]
        }
      ],
      "source": [
        "# 1層目のモデル\n",
        "# pred_train_1a, pred_train_1bは、学習データのクロスバリデーションでの予測値\n",
        "# pred_test_1a, pred_test_1bは、テストデータの予測値\n",
        "model_1a = Model1Xgb()\n",
        "pred_train_1a, pred_test_1a = predict_cv(model_1a, train_x, train_y, test_x)"
      ]
    },
    {
      "cell_type": "code",
      "execution_count": 9,
      "id": "247e13ae",
      "metadata": {
        "id": "247e13ae",
        "outputId": "6ecb5902-97af-4709-a6b8-fe51508ac0ca",
        "colab": {
          "base_uri": "https://localhost:8080/"
        }
      },
      "outputs": [
        {
          "output_type": "stream",
          "name": "stderr",
          "text": [
            "/usr/local/lib/python3.11/dist-packages/keras/src/layers/core/dense.py:87: UserWarning: Do not pass an `input_shape`/`input_dim` argument to a layer. When using Sequential models, prefer using an `Input(shape)` object as the first layer in the model instead.\n",
            "  super().__init__(activity_regularizer=activity_regularizer, **kwargs)\n"
          ]
        },
        {
          "output_type": "stream",
          "name": "stdout",
          "text": [
            "Epoch 1/10\n",
            "\u001b[1m59/59\u001b[0m \u001b[32m━━━━━━━━━━━━━━━━━━━━\u001b[0m\u001b[37m\u001b[0m \u001b[1m4s\u001b[0m 9ms/step - loss: 0.5458 - val_loss: 0.3845\n",
            "Epoch 2/10\n",
            "\u001b[1m59/59\u001b[0m \u001b[32m━━━━━━━━━━━━━━━━━━━━\u001b[0m\u001b[37m\u001b[0m \u001b[1m0s\u001b[0m 6ms/step - loss: 0.3720 - val_loss: 0.3790\n",
            "Epoch 3/10\n",
            "\u001b[1m59/59\u001b[0m \u001b[32m━━━━━━━━━━━━━━━━━━━━\u001b[0m\u001b[37m\u001b[0m \u001b[1m1s\u001b[0m 6ms/step - loss: 0.3375 - val_loss: 0.3719\n",
            "Epoch 4/10\n",
            "\u001b[1m59/59\u001b[0m \u001b[32m━━━━━━━━━━━━━━━━━━━━\u001b[0m\u001b[37m\u001b[0m \u001b[1m1s\u001b[0m 6ms/step - loss: 0.3193 - val_loss: 0.3662\n",
            "Epoch 5/10\n",
            "\u001b[1m59/59\u001b[0m \u001b[32m━━━━━━━━━━━━━━━━━━━━\u001b[0m\u001b[37m\u001b[0m \u001b[1m0s\u001b[0m 6ms/step - loss: 0.3045 - val_loss: 0.3580\n",
            "Epoch 6/10\n",
            "\u001b[1m59/59\u001b[0m \u001b[32m━━━━━━━━━━━━━━━━━━━━\u001b[0m\u001b[37m\u001b[0m \u001b[1m1s\u001b[0m 7ms/step - loss: 0.2744 - val_loss: 0.3406\n",
            "Epoch 7/10\n",
            "\u001b[1m59/59\u001b[0m \u001b[32m━━━━━━━━━━━━━━━━━━━━\u001b[0m\u001b[37m\u001b[0m \u001b[1m0s\u001b[0m 6ms/step - loss: 0.2505 - val_loss: 0.3221\n",
            "Epoch 8/10\n",
            "\u001b[1m59/59\u001b[0m \u001b[32m━━━━━━━━━━━━━━━━━━━━\u001b[0m\u001b[37m\u001b[0m \u001b[1m1s\u001b[0m 6ms/step - loss: 0.2321 - val_loss: 0.2997\n",
            "Epoch 9/10\n",
            "\u001b[1m59/59\u001b[0m \u001b[32m━━━━━━━━━━━━━━━━━━━━\u001b[0m\u001b[37m\u001b[0m \u001b[1m0s\u001b[0m 6ms/step - loss: 0.1979 - val_loss: 0.2978\n",
            "Epoch 10/10\n",
            "\u001b[1m59/59\u001b[0m \u001b[32m━━━━━━━━━━━━━━━━━━━━\u001b[0m\u001b[37m\u001b[0m \u001b[1m0s\u001b[0m 6ms/step - loss: 0.1865 - val_loss: 0.2980\n",
            "\u001b[1m79/79\u001b[0m \u001b[32m━━━━━━━━━━━━━━━━━━━━\u001b[0m\u001b[37m\u001b[0m \u001b[1m0s\u001b[0m 2ms/step\n",
            "\u001b[1m313/313\u001b[0m \u001b[32m━━━━━━━━━━━━━━━━━━━━\u001b[0m\u001b[37m\u001b[0m \u001b[1m0s\u001b[0m 1ms/step\n",
            "Epoch 1/10\n"
          ]
        },
        {
          "output_type": "stream",
          "name": "stderr",
          "text": [
            "/usr/local/lib/python3.11/dist-packages/keras/src/layers/core/dense.py:87: UserWarning: Do not pass an `input_shape`/`input_dim` argument to a layer. When using Sequential models, prefer using an `Input(shape)` object as the first layer in the model instead.\n",
            "  super().__init__(activity_regularizer=activity_regularizer, **kwargs)\n"
          ]
        },
        {
          "output_type": "stream",
          "name": "stdout",
          "text": [
            "\u001b[1m59/59\u001b[0m \u001b[32m━━━━━━━━━━━━━━━━━━━━\u001b[0m\u001b[37m\u001b[0m \u001b[1m2s\u001b[0m 9ms/step - loss: 0.5297 - val_loss: 0.3766\n",
            "Epoch 2/10\n",
            "\u001b[1m59/59\u001b[0m \u001b[32m━━━━━━━━━━━━━━━━━━━━\u001b[0m\u001b[37m\u001b[0m \u001b[1m0s\u001b[0m 6ms/step - loss: 0.3700 - val_loss: 0.3713\n",
            "Epoch 3/10\n",
            "\u001b[1m59/59\u001b[0m \u001b[32m━━━━━━━━━━━━━━━━━━━━\u001b[0m\u001b[37m\u001b[0m \u001b[1m1s\u001b[0m 6ms/step - loss: 0.3489 - val_loss: 0.3598\n",
            "Epoch 4/10\n",
            "\u001b[1m59/59\u001b[0m \u001b[32m━━━━━━━━━━━━━━━━━━━━\u001b[0m\u001b[37m\u001b[0m \u001b[1m1s\u001b[0m 11ms/step - loss: 0.3359 - val_loss: 0.3521\n",
            "Epoch 5/10\n",
            "\u001b[1m59/59\u001b[0m \u001b[32m━━━━━━━━━━━━━━━━━━━━\u001b[0m\u001b[37m\u001b[0m \u001b[1m1s\u001b[0m 10ms/step - loss: 0.3124 - val_loss: 0.3429\n",
            "Epoch 6/10\n",
            "\u001b[1m59/59\u001b[0m \u001b[32m━━━━━━━━━━━━━━━━━━━━\u001b[0m\u001b[37m\u001b[0m \u001b[1m0s\u001b[0m 6ms/step - loss: 0.2812 - val_loss: 0.3183\n",
            "Epoch 7/10\n",
            "\u001b[1m59/59\u001b[0m \u001b[32m━━━━━━━━━━━━━━━━━━━━\u001b[0m\u001b[37m\u001b[0m \u001b[1m1s\u001b[0m 6ms/step - loss: 0.2525 - val_loss: 0.2965\n",
            "Epoch 8/10\n",
            "\u001b[1m59/59\u001b[0m \u001b[32m━━━━━━━━━━━━━━━━━━━━\u001b[0m\u001b[37m\u001b[0m \u001b[1m1s\u001b[0m 6ms/step - loss: 0.2276 - val_loss: 0.2836\n",
            "Epoch 9/10\n",
            "\u001b[1m59/59\u001b[0m \u001b[32m━━━━━━━━━━━━━━━━━━━━\u001b[0m\u001b[37m\u001b[0m \u001b[1m0s\u001b[0m 6ms/step - loss: 0.2153 - val_loss: 0.2817\n",
            "Epoch 10/10\n",
            "\u001b[1m59/59\u001b[0m \u001b[32m━━━━━━━━━━━━━━━━━━━━\u001b[0m\u001b[37m\u001b[0m \u001b[1m0s\u001b[0m 6ms/step - loss: 0.1874 - val_loss: 0.2892\n",
            "\u001b[1m79/79\u001b[0m \u001b[32m━━━━━━━━━━━━━━━━━━━━\u001b[0m\u001b[37m\u001b[0m \u001b[1m0s\u001b[0m 2ms/step\n",
            "\u001b[1m313/313\u001b[0m \u001b[32m━━━━━━━━━━━━━━━━━━━━\u001b[0m\u001b[37m\u001b[0m \u001b[1m0s\u001b[0m 1ms/step\n",
            "Epoch 1/10\n"
          ]
        },
        {
          "output_type": "stream",
          "name": "stderr",
          "text": [
            "/usr/local/lib/python3.11/dist-packages/keras/src/layers/core/dense.py:87: UserWarning: Do not pass an `input_shape`/`input_dim` argument to a layer. When using Sequential models, prefer using an `Input(shape)` object as the first layer in the model instead.\n",
            "  super().__init__(activity_regularizer=activity_regularizer, **kwargs)\n"
          ]
        },
        {
          "output_type": "stream",
          "name": "stdout",
          "text": [
            "\u001b[1m59/59\u001b[0m \u001b[32m━━━━━━━━━━━━━━━━━━━━\u001b[0m\u001b[37m\u001b[0m \u001b[1m2s\u001b[0m 9ms/step - loss: 0.4876 - val_loss: 0.3718\n",
            "Epoch 2/10\n",
            "\u001b[1m59/59\u001b[0m \u001b[32m━━━━━━━━━━━━━━━━━━━━\u001b[0m\u001b[37m\u001b[0m \u001b[1m0s\u001b[0m 6ms/step - loss: 0.3676 - val_loss: 0.3583\n",
            "Epoch 3/10\n",
            "\u001b[1m59/59\u001b[0m \u001b[32m━━━━━━━━━━━━━━━━━━━━\u001b[0m\u001b[37m\u001b[0m \u001b[1m1s\u001b[0m 6ms/step - loss: 0.3520 - val_loss: 0.3503\n",
            "Epoch 4/10\n",
            "\u001b[1m59/59\u001b[0m \u001b[32m━━━━━━━━━━━━━━━━━━━━\u001b[0m\u001b[37m\u001b[0m \u001b[1m1s\u001b[0m 8ms/step - loss: 0.3301 - val_loss: 0.3360\n",
            "Epoch 5/10\n",
            "\u001b[1m59/59\u001b[0m \u001b[32m━━━━━━━━━━━━━━━━━━━━\u001b[0m\u001b[37m\u001b[0m \u001b[1m1s\u001b[0m 6ms/step - loss: 0.3112 - val_loss: 0.3242\n",
            "Epoch 6/10\n",
            "\u001b[1m59/59\u001b[0m \u001b[32m━━━━━━━━━━━━━━━━━━━━\u001b[0m\u001b[37m\u001b[0m \u001b[1m1s\u001b[0m 6ms/step - loss: 0.2764 - val_loss: 0.3018\n",
            "Epoch 7/10\n",
            "\u001b[1m59/59\u001b[0m \u001b[32m━━━━━━━━━━━━━━━━━━━━\u001b[0m\u001b[37m\u001b[0m \u001b[1m0s\u001b[0m 6ms/step - loss: 0.2451 - val_loss: 0.2961\n",
            "Epoch 8/10\n",
            "\u001b[1m59/59\u001b[0m \u001b[32m━━━━━━━━━━━━━━━━━━━━\u001b[0m\u001b[37m\u001b[0m \u001b[1m0s\u001b[0m 7ms/step - loss: 0.2222 - val_loss: 0.2802\n",
            "Epoch 9/10\n",
            "\u001b[1m59/59\u001b[0m \u001b[32m━━━━━━━━━━━━━━━━━━━━\u001b[0m\u001b[37m\u001b[0m \u001b[1m1s\u001b[0m 7ms/step - loss: 0.1930 - val_loss: 0.2774\n",
            "Epoch 10/10\n",
            "\u001b[1m59/59\u001b[0m \u001b[32m━━━━━━━━━━━━━━━━━━━━\u001b[0m\u001b[37m\u001b[0m \u001b[1m1s\u001b[0m 11ms/step - loss: 0.1740 - val_loss: 0.2798\n",
            "\u001b[1m79/79\u001b[0m \u001b[32m━━━━━━━━━━━━━━━━━━━━\u001b[0m\u001b[37m\u001b[0m \u001b[1m0s\u001b[0m 3ms/step\n",
            "\u001b[1m313/313\u001b[0m \u001b[32m━━━━━━━━━━━━━━━━━━━━\u001b[0m\u001b[37m\u001b[0m \u001b[1m1s\u001b[0m 2ms/step\n",
            "Epoch 1/10\n"
          ]
        },
        {
          "output_type": "stream",
          "name": "stderr",
          "text": [
            "/usr/local/lib/python3.11/dist-packages/keras/src/layers/core/dense.py:87: UserWarning: Do not pass an `input_shape`/`input_dim` argument to a layer. When using Sequential models, prefer using an `Input(shape)` object as the first layer in the model instead.\n",
            "  super().__init__(activity_regularizer=activity_regularizer, **kwargs)\n"
          ]
        },
        {
          "output_type": "stream",
          "name": "stdout",
          "text": [
            "\u001b[1m59/59\u001b[0m \u001b[32m━━━━━━━━━━━━━━━━━━━━\u001b[0m\u001b[37m\u001b[0m \u001b[1m2s\u001b[0m 9ms/step - loss: 0.4693 - val_loss: 0.3679\n",
            "Epoch 2/10\n",
            "\u001b[1m59/59\u001b[0m \u001b[32m━━━━━━━━━━━━━━━━━━━━\u001b[0m\u001b[37m\u001b[0m \u001b[1m0s\u001b[0m 6ms/step - loss: 0.3635 - val_loss: 0.3662\n",
            "Epoch 3/10\n",
            "\u001b[1m59/59\u001b[0m \u001b[32m━━━━━━━━━━━━━━━━━━━━\u001b[0m\u001b[37m\u001b[0m \u001b[1m1s\u001b[0m 6ms/step - loss: 0.3399 - val_loss: 0.3599\n",
            "Epoch 4/10\n",
            "\u001b[1m59/59\u001b[0m \u001b[32m━━━━━━━━━━━━━━━━━━━━\u001b[0m\u001b[37m\u001b[0m \u001b[1m0s\u001b[0m 6ms/step - loss: 0.3273 - val_loss: 0.3499\n",
            "Epoch 5/10\n",
            "\u001b[1m59/59\u001b[0m \u001b[32m━━━━━━━━━━━━━━━━━━━━\u001b[0m\u001b[37m\u001b[0m \u001b[1m0s\u001b[0m 6ms/step - loss: 0.3049 - val_loss: 0.3474\n",
            "Epoch 6/10\n",
            "\u001b[1m59/59\u001b[0m \u001b[32m━━━━━━━━━━━━━━━━━━━━\u001b[0m\u001b[37m\u001b[0m \u001b[1m1s\u001b[0m 6ms/step - loss: 0.2740 - val_loss: 0.3415\n",
            "Epoch 7/10\n",
            "\u001b[1m59/59\u001b[0m \u001b[32m━━━━━━━━━━━━━━━━━━━━\u001b[0m\u001b[37m\u001b[0m \u001b[1m0s\u001b[0m 6ms/step - loss: 0.2441 - val_loss: 0.3196\n",
            "Epoch 8/10\n",
            "\u001b[1m59/59\u001b[0m \u001b[32m━━━━━━━━━━━━━━━━━━━━\u001b[0m\u001b[37m\u001b[0m \u001b[1m0s\u001b[0m 6ms/step - loss: 0.2188 - val_loss: 0.3096\n",
            "Epoch 9/10\n",
            "\u001b[1m59/59\u001b[0m \u001b[32m━━━━━━━━━━━━━━━━━━━━\u001b[0m\u001b[37m\u001b[0m \u001b[1m1s\u001b[0m 7ms/step - loss: 0.2007 - val_loss: 0.3014\n",
            "Epoch 10/10\n",
            "\u001b[1m59/59\u001b[0m \u001b[32m━━━━━━━━━━━━━━━━━━━━\u001b[0m\u001b[37m\u001b[0m \u001b[1m0s\u001b[0m 6ms/step - loss: 0.1877 - val_loss: 0.3004\n",
            "\u001b[1m79/79\u001b[0m \u001b[32m━━━━━━━━━━━━━━━━━━━━\u001b[0m\u001b[37m\u001b[0m \u001b[1m0s\u001b[0m 2ms/step\n",
            "\u001b[1m313/313\u001b[0m \u001b[32m━━━━━━━━━━━━━━━━━━━━\u001b[0m\u001b[37m\u001b[0m \u001b[1m0s\u001b[0m 1ms/step\n"
          ]
        }
      ],
      "source": [
        "model_1b = Model1NN()\n",
        "pred_train_1b, pred_test_1b = predict_cv(model_1b, train_x_nn, train_y, test_x_nn)"
      ]
    },
    {
      "cell_type": "code",
      "execution_count": 10,
      "id": "cb843527",
      "metadata": {
        "id": "cb843527",
        "outputId": "5f3d36fa-d2b3-4077-f5af-1a243345f6c9",
        "colab": {
          "base_uri": "https://localhost:8080/"
        }
      },
      "outputs": [
        {
          "output_type": "stream",
          "name": "stdout",
          "text": [
            "logloss: 0.2912\n",
            "logloss: 0.2918\n"
          ]
        }
      ],
      "source": [
        "# 1層目のモデルの評価\n",
        "# print(f'logloss: {log_loss(train_y, pred_train_1a, eps=1e-7):.4f}')\n",
        "print(f'logloss: {log_loss(train_y, pred_train_1a):.4f}')\n",
        "# print(f'logloss: {log_loss(train_y, pred_train_1b, eps=1e-7):.4f}')\n",
        "print(f'logloss: {log_loss(train_y, pred_train_1b):.4f}')"
      ]
    },
    {
      "cell_type": "code",
      "execution_count": 11,
      "id": "765cfb23",
      "metadata": {
        "id": "765cfb23"
      },
      "outputs": [],
      "source": [
        "# 予測値を特徴量としてデータフレームを作成\n",
        "# train_x_2 = pd.DataFrame({'pred_1a': pred_train_1a, 'pred_1b': pred_train_1b})\n",
        "train_x_2 = pd.DataFrame({'pred_1a': pred_train_1a, 'pred_1b': pred_train_1b.ravel()})\n",
        "# test_x_2 = pd.DataFrame({'pred_1a': pred_test_1a, 'pred_1b': pred_test_1b})\n",
        "test_x_2 = pd.DataFrame({'pred_1a': pred_test_1a, 'pred_1b': pred_test_1b.ravel()})"
      ]
    },
    {
      "cell_type": "code",
      "execution_count": 12,
      "id": "0e944e8e",
      "metadata": {
        "id": "0e944e8e",
        "outputId": "cc7e9c3d-fb9a-45d1-eae2-107a4990d4b2",
        "colab": {
          "base_uri": "https://localhost:8080/"
        }
      },
      "outputs": [
        {
          "output_type": "stream",
          "name": "stdout",
          "text": [
            "logloss: 0.2538\n"
          ]
        }
      ],
      "source": [
        "# 2層目のモデル\n",
        "# pred_train_2は、2層目のモデルの学習データのクロスバリデーションでの予測値\n",
        "# pred_test_2は、2層目のモデルのテストデータの予測値\n",
        "model_2 = Model2Linear()\n",
        "pred_train_2, pred_test_2 = predict_cv(model_2, train_x_2, train_y, test_x_2)\n",
        "# print(f'logloss: {log_loss(train_y, pred_train_2, eps=1e-7):.4f}')\n",
        "print(f'logloss: {log_loss(train_y, pred_train_2):.4f}')"
      ]
    }
  ],
  "metadata": {
    "jupytext": {
      "cell_metadata_filter": "-all",
      "main_language": "python",
      "notebook_metadata_filter": "-all"
    },
    "colab": {
      "provenance": [],
      "include_colab_link": true
    },
    "language_info": {
      "name": "python"
    },
    "kernelspec": {
      "name": "python3",
      "display_name": "Python 3"
    }
  },
  "nbformat": 4,
  "nbformat_minor": 5
}