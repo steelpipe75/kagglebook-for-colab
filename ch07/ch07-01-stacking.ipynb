{
 "cells": [
  {
   "cell_type": "code",
   "execution_count": null,
   "id": "10e824dd",
   "metadata": {},
   "outputs": [],
   "source": [
    "# ---------------------------------\n",
    "# データ等の準備\n",
    "# ----------------------------------\n",
    "import numpy as np\n",
    "import pandas as pd"
   ]
  },
  {
   "cell_type": "markdown",
   "id": "a47572a2",
   "metadata": {},
   "source": [
    "train_xは学習データ、train_yは目的変数、test_xはテストデータ\n",
    "pandasのDataFrame, Seriesで保持します。（numpyのarrayで保持することもあります）"
   ]
  },
  {
   "cell_type": "code",
   "execution_count": null,
   "id": "5dfe7e90",
   "metadata": {},
   "outputs": [],
   "source": [
    "train = pd.read_csv('../input/sample-data/train_preprocessed.csv')\n",
    "train_x = train.drop(['target'], axis=1)\n",
    "train_y = train['target']\n",
    "test_x = pd.read_csv('../input/sample-data/test_preprocessed.csv')"
   ]
  },
  {
   "cell_type": "code",
   "execution_count": null,
   "id": "5159be74",
   "metadata": {},
   "outputs": [],
   "source": [
    "# neural net用のデータ\n",
    "train_nn = pd.read_csv('../input/sample-data/train_preprocessed_onehot.csv')\n",
    "train_x_nn = train_nn.drop(['target'], axis=1)\n",
    "train_y_nn = train_nn['target']\n",
    "test_x_nn = pd.read_csv('../input/sample-data/test_preprocessed_onehot.csv')"
   ]
  },
  {
   "cell_type": "code",
   "execution_count": null,
   "id": "74526ef3",
   "metadata": {},
   "outputs": [],
   "source": [
    "# ---------------------------------\n",
    "# スタッキング\n",
    "# ----------------------------------\n",
    "from sklearn.metrics import log_loss\n",
    "from sklearn.model_selection import KFold"
   ]
  },
  {
   "cell_type": "markdown",
   "id": "39557c1e",
   "metadata": {},
   "source": [
    "models.pyにModel1Xgb, Model1NN, Model2Linearを定義しているものとする\n",
    "各クラスは、fitで学習し、predictで予測値の確率を出力する"
   ]
  },
  {
   "cell_type": "code",
   "execution_count": null,
   "id": "ea703b71",
   "metadata": {},
   "outputs": [],
   "source": [
    "from models import Model1Xgb, Model1NN, Model2Linear"
   ]
  },
  {
   "cell_type": "code",
   "execution_count": null,
   "id": "605805bb",
   "metadata": {},
   "outputs": [],
   "source": [
    "# 学習データに対する「目的変数を知らない」予測値と、テストデータに対する予測値を返す関数\n",
    "def predict_cv(model, train_x, train_y, test_x):\n",
    "    preds = []\n",
    "    preds_test = []\n",
    "    va_idxes = []\n",
    "\n",
    "    kf = KFold(n_splits=4, shuffle=True, random_state=71)\n",
    "\n",
    "    # クロスバリデーションで学習・予測を行い、予測値とインデックスを保存する\n",
    "    for i, (tr_idx, va_idx) in enumerate(kf.split(train_x)):\n",
    "        tr_x, va_x = train_x.iloc[tr_idx], train_x.iloc[va_idx]\n",
    "        tr_y, va_y = train_y.iloc[tr_idx], train_y.iloc[va_idx]\n",
    "        model.fit(tr_x, tr_y, va_x, va_y)\n",
    "        pred = model.predict(va_x)\n",
    "        preds.append(pred)\n",
    "        pred_test = model.predict(test_x)\n",
    "        preds_test.append(pred_test)\n",
    "        va_idxes.append(va_idx)\n",
    "\n",
    "    # バリデーションデータに対する予測値を連結し、その後元の順序に並べ直す\n",
    "    va_idxes = np.concatenate(va_idxes)\n",
    "    preds = np.concatenate(preds, axis=0)\n",
    "    order = np.argsort(va_idxes)\n",
    "    pred_train = preds[order]\n",
    "\n",
    "    # テストデータに対する予測値の平均をとる\n",
    "    preds_test = np.mean(preds_test, axis=0)\n",
    "\n",
    "    return pred_train, preds_test"
   ]
  },
  {
   "cell_type": "code",
   "execution_count": null,
   "id": "4207a228",
   "metadata": {},
   "outputs": [],
   "source": [
    "# 1層目のモデル\n",
    "# pred_train_1a, pred_train_1bは、学習データのクロスバリデーションでの予測値\n",
    "# pred_test_1a, pred_test_1bは、テストデータの予測値\n",
    "model_1a = Model1Xgb()\n",
    "pred_train_1a, pred_test_1a = predict_cv(model_1a, train_x, train_y, test_x)"
   ]
  },
  {
   "cell_type": "code",
   "execution_count": null,
   "id": "247e13ae",
   "metadata": {},
   "outputs": [],
   "source": [
    "model_1b = Model1NN()\n",
    "pred_train_1b, pred_test_1b = predict_cv(model_1b, train_x_nn, train_y, test_x_nn)"
   ]
  },
  {
   "cell_type": "code",
   "execution_count": null,
   "id": "cb843527",
   "metadata": {},
   "outputs": [],
   "source": [
    "# 1層目のモデルの評価\n",
    "print(f'logloss: {log_loss(train_y, pred_train_1a, eps=1e-7):.4f}')\n",
    "print(f'logloss: {log_loss(train_y, pred_train_1b, eps=1e-7):.4f}')"
   ]
  },
  {
   "cell_type": "code",
   "execution_count": null,
   "id": "765cfb23",
   "metadata": {},
   "outputs": [],
   "source": [
    "# 予測値を特徴量としてデータフレームを作成\n",
    "train_x_2 = pd.DataFrame({'pred_1a': pred_train_1a, 'pred_1b': pred_train_1b})\n",
    "test_x_2 = pd.DataFrame({'pred_1a': pred_test_1a, 'pred_1b': pred_test_1b})"
   ]
  },
  {
   "cell_type": "code",
   "execution_count": null,
   "id": "0e944e8e",
   "metadata": {},
   "outputs": [],
   "source": [
    "# 2層目のモデル\n",
    "# pred_train_2は、2層目のモデルの学習データのクロスバリデーションでの予測値\n",
    "# pred_test_2は、2層目のモデルのテストデータの予測値\n",
    "model_2 = Model2Linear()\n",
    "pred_train_2, pred_test_2 = predict_cv(model_2, train_x_2, train_y, test_x_2)\n",
    "print(f'logloss: {log_loss(train_y, pred_train_2, eps=1e-7):.4f}')"
   ]
  }
 ],
 "metadata": {
  "jupytext": {
   "cell_metadata_filter": "-all",
   "main_language": "python",
   "notebook_metadata_filter": "-all"
  }
 },
 "nbformat": 4,
 "nbformat_minor": 5
}
