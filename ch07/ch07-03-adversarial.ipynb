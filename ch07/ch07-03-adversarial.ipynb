{
 "cells": [
  {
   "cell_type": "code",
   "execution_count": null,
   "id": "0c2f5372",
   "metadata": {},
   "outputs": [],
   "source": [
    "# ---------------------------------\n",
    "# データ等の準備\n",
    "# ----------------------------------\n",
    "import numpy as np\n",
    "import pandas as pd"
   ]
  },
  {
   "cell_type": "code",
   "execution_count": null,
   "id": "1c9f4ce6",
   "metadata": {},
   "outputs": [],
   "source": [
    "# データの作成（ランダムなデータとしています）\n",
    "rand = np.random.RandomState(71)\n",
    "train_x = pd.DataFrame(rand.uniform(0.0, 1.0, (10000, 2)), columns=['model1', 'model2'])\n",
    "adv_train = pd.Series(rand.uniform(0.0, 1.0, 10000))\n",
    "w = np.array([0.3, 0.7]).reshape(1, -1)\n",
    "train_y = pd.Series((train_x.values * w).sum(axis=1) > 0.5)"
   ]
  },
  {
   "cell_type": "markdown",
   "id": "5413e46a",
   "metadata": {},
   "source": [
    "---------------------------------\n",
    "adversarial stochastic blending\n",
    "----------------------------------\n",
    "モデルの予測値を加重平均する重みの値をadversarial validationで求める\n",
    "train_x: 各モデルによる確率の予測値（実際には順位に変換したものを使用）\n",
    "train_y: 目的変数\n",
    "adv_train: 学習データのテストデータらしさを確率で表した値"
   ]
  },
  {
   "cell_type": "code",
   "execution_count": null,
   "id": "177cce08",
   "metadata": {},
   "outputs": [],
   "source": [
    "from scipy.optimize import minimize\n",
    "from sklearn.metrics import roc_auc_score"
   ]
  },
  {
   "cell_type": "code",
   "execution_count": null,
   "id": "b386ece4",
   "metadata": {},
   "outputs": [],
   "source": [
    "n_sampling = 50  # サンプリングの回数\n",
    "frac_sampling = 0.5  # サンプリングで学習データから取り出す割合"
   ]
  },
  {
   "cell_type": "code",
   "execution_count": null,
   "id": "a907abda",
   "metadata": {},
   "outputs": [],
   "source": [
    "def score(x, data_x, data_y):\n",
    "    # 評価指標はAUCとする\n",
    "    y_prob = data_x['model1'] * x + data_x['model2'] * (1 - x)\n",
    "    return -roc_auc_score(data_y, y_prob)"
   ]
  },
  {
   "cell_type": "code",
   "execution_count": null,
   "id": "bd28783e",
   "metadata": {},
   "outputs": [],
   "source": [
    "# サンプリングにより加重平均の重みの値を求めることを繰り返す\n",
    "results = []\n",
    "for i in range(n_sampling):\n",
    "    # サンプリングを行う\n",
    "    seed = i\n",
    "    idx = pd.Series(np.arange(len(train_y))).sample(frac=frac_sampling, replace=False,\n",
    "                                                    random_state=seed, weights=adv_train)\n",
    "    x_sample = train_x.iloc[idx]\n",
    "    y_sample = train_y.iloc[idx]\n",
    "\n",
    "    # サンプリングしたデータに対して、加重平均の重みの値を最適化により求める\n",
    "    # 制約式を持たせるようにしたため、アルゴリズムはCOBYLAを選択\n",
    "    init_x = np.array(0.5)\n",
    "    constraints = (\n",
    "        {'type': 'ineq', 'fun': lambda x: x},\n",
    "        {'type': 'ineq', 'fun': lambda x: 1.0 - x},\n",
    "    )\n",
    "    result = minimize(score, x0=init_x,\n",
    "                      args=(x_sample, y_sample),\n",
    "                      constraints=constraints,\n",
    "                      method='COBYLA')\n",
    "    results.append((result.x, 1.0 - result.x))"
   ]
  },
  {
   "cell_type": "code",
   "execution_count": null,
   "id": "6b4d595f",
   "metadata": {},
   "outputs": [],
   "source": [
    "# model1, model2の加重平均の重み\n",
    "results = np.array(results)\n",
    "w_model1, w_model2 = results.mean(axis=0)"
   ]
  }
 ],
 "metadata": {
  "jupytext": {
   "cell_metadata_filter": "-all",
   "main_language": "python",
   "notebook_metadata_filter": "-all"
  }
 },
 "nbformat": 4,
 "nbformat_minor": 5
}
