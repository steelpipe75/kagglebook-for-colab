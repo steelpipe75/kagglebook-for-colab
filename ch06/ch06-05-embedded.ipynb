{
 "cells": [
  {
   "cell_type": "code",
   "execution_count": null,
   "id": "e0d0ef19",
   "metadata": {},
   "outputs": [],
   "source": [
    "import numpy as np\n",
    "import pandas as pd"
   ]
  },
  {
   "cell_type": "code",
   "execution_count": null,
   "id": "7f87da41",
   "metadata": {},
   "outputs": [],
   "source": [
    "# ---------------------------------\n",
    "# ランダムフォレストの特徴量の重要度\n",
    "# ---------------------------------\n",
    "# train_xは学習データ、train_yは目的変数\n",
    "# 欠損値が扱えないため、欠損値を補完したデータを読み込む\n",
    "train = pd.read_csv('../input/sample-data/train_preprocessed_onehot.csv')\n",
    "train_x = train.drop(['target'], axis=1)\n",
    "train_y = train['target']\n",
    "# ---------------------------------\n",
    "from sklearn.ensemble import RandomForestClassifier"
   ]
  },
  {
   "cell_type": "code",
   "execution_count": null,
   "id": "a7009293",
   "metadata": {},
   "outputs": [],
   "source": [
    "# ランダムフォレスト\n",
    "clf = RandomForestClassifier(n_estimators=10, random_state=71)\n",
    "clf.fit(train_x, train_y)\n",
    "fi = clf.feature_importances_"
   ]
  },
  {
   "cell_type": "code",
   "execution_count": null,
   "id": "2cc5255b",
   "metadata": {},
   "outputs": [],
   "source": [
    "# 重要度の上位を出力する\n",
    "idx = np.argsort(fi)[::-1]\n",
    "top_cols, top_importances = train_x.columns.values[idx][:5], fi[idx][:5]\n",
    "print('random forest importance')\n",
    "print(top_cols, top_importances)"
   ]
  },
  {
   "cell_type": "code",
   "execution_count": null,
   "id": "66dd18f0",
   "metadata": {},
   "outputs": [],
   "source": [
    "# ---------------------------------\n",
    "# xgboostの特徴量の重要度\n",
    "# ---------------------------------\n",
    "# train_xは学習データ、train_yは目的変数\n",
    "train = pd.read_csv('../input/sample-data/train_preprocessed.csv')\n",
    "train_x = train.drop(['target'], axis=1)\n",
    "train_y = train['target']\n",
    "# ---------------------------------\n",
    "import xgboost as xgb"
   ]
  },
  {
   "cell_type": "code",
   "execution_count": null,
   "id": "8832a9ff",
   "metadata": {},
   "outputs": [],
   "source": [
    "# xgboost\n",
    "dtrain = xgb.DMatrix(train_x, label=train_y)\n",
    "params = {'objective': 'binary:logistic', 'silent': 1, 'random_state': 71}\n",
    "num_round = 50\n",
    "model = xgb.train(params, dtrain, num_round)"
   ]
  },
  {
   "cell_type": "code",
   "execution_count": null,
   "id": "1d7ac55e",
   "metadata": {},
   "outputs": [],
   "source": [
    "# 重要度の上位を出力する\n",
    "fscore = model.get_score(importance_type='total_gain')\n",
    "fscore = sorted([(k, v) for k, v in fscore.items()], key=lambda tpl: tpl[1], reverse=True)\n",
    "print('xgboost importance')\n",
    "print(fscore[:5])"
   ]
  }
 ],
 "metadata": {
  "jupytext": {
   "cell_metadata_filter": "-all",
   "main_language": "python",
   "notebook_metadata_filter": "-all"
  }
 },
 "nbformat": 4,
 "nbformat_minor": 5
}
