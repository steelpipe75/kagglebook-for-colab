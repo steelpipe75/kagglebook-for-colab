{
  "cells": [
    {
      "cell_type": "markdown",
      "metadata": {
        "id": "view-in-github",
        "colab_type": "text"
      },
      "source": [
        "<a href=\"https://colab.research.google.com/github/steelpipe75/kagglebook-for-colab/blob/master/ch06/ch06-05-embedded.ipynb\" target=\"_parent\"><img src=\"https://colab.research.google.com/assets/colab-badge.svg\" alt=\"Open In Colab\"/></a>"
      ]
    },
    {
      "cell_type": "code",
      "execution_count": 1,
      "id": "e0d0ef19",
      "metadata": {
        "id": "e0d0ef19"
      },
      "outputs": [],
      "source": [
        "import numpy as np\n",
        "import pandas as pd"
      ]
    },
    {
      "cell_type": "code",
      "source": [
        "import importlib\n",
        "import sys\n",
        "import subprocess\n",
        "\n",
        "# Google Colab 上で実行しているかどうかを判断するフラグ\n",
        "ON_COLAB = \"google.colab\" in sys.modules\n",
        "print(f\"ON_COLAB: {ON_COLAB}\")\n",
        "\n",
        "if ON_COLAB:\n",
        "    USE_GIT = True # Gitを使う\n",
        "    # USE_GIT = False # Gitを使わない\n",
        "\n",
        "    print(f\"USE_GIT: {USE_GIT}\")\n",
        "    if USE_GIT:\n",
        "        !git clone https://github.com/ghmagazine/kagglebook.git\n",
        "    else:\n",
        "        # Google Drive にマウントする\n",
        "        drive = importlib.import_module(\"google.colab.drive\")\n",
        "        drive.mount(\"/content/drive/\")\n",
        "\n",
        "        import os\n",
        "        colab_dir = \"/content/drive/MyDrive/kagglebook/\" # データ置き場"
      ],
      "metadata": {
        "id": "HzAdCpSWAWAV",
        "outputId": "d12d1d20-21c8-40dc-dba6-f588d661d3b8",
        "colab": {
          "base_uri": "https://localhost:8080/"
        }
      },
      "id": "HzAdCpSWAWAV",
      "execution_count": 2,
      "outputs": [
        {
          "output_type": "stream",
          "name": "stdout",
          "text": [
            "ON_COLAB: True\n",
            "USE_GIT: True\n",
            "fatal: destination path 'kagglebook' already exists and is not an empty directory.\n"
          ]
        }
      ]
    },
    {
      "cell_type": "code",
      "execution_count": 3,
      "id": "7f87da41",
      "metadata": {
        "id": "7f87da41"
      },
      "outputs": [],
      "source": [
        "# ---------------------------------\n",
        "# ランダムフォレストの特徴量の重要度\n",
        "# ---------------------------------\n",
        "# train_xは学習データ、train_yは目的変数\n",
        "# 欠損値が扱えないため、欠損値を補完したデータを読み込む\n",
        "if ON_COLAB:\n",
        "    if USE_GIT:\n",
        "        train = pd.read_csv('/content/kagglebook/input/sample-data/train_preprocessed_onehot.csv')\n",
        "    else:\n",
        "        train = pd.read_csv(os.path.join(colab_dir, 'input/sample-data/train_preprocessed_onehot.csv'))\n",
        "else:\n",
        "    train = pd.read_csv('../input/sample-data/train_preprocessed_onehot.csv')\n",
        "train_x = train.drop(['target'], axis=1)\n",
        "train_y = train['target']\n",
        "# ---------------------------------\n",
        "from sklearn.ensemble import RandomForestClassifier"
      ]
    },
    {
      "cell_type": "code",
      "execution_count": 4,
      "id": "a7009293",
      "metadata": {
        "id": "a7009293"
      },
      "outputs": [],
      "source": [
        "# ランダムフォレスト\n",
        "clf = RandomForestClassifier(n_estimators=10, random_state=71)\n",
        "clf.fit(train_x, train_y)\n",
        "fi = clf.feature_importances_"
      ]
    },
    {
      "cell_type": "code",
      "execution_count": 5,
      "id": "2cc5255b",
      "metadata": {
        "id": "2cc5255b",
        "outputId": "cb881c84-67b3-4760-cf4b-c492c5040c0d",
        "colab": {
          "base_uri": "https://localhost:8080/"
        }
      },
      "outputs": [
        {
          "output_type": "stream",
          "name": "stdout",
          "text": [
            "random forest importance\n",
            "['medical_info_a1' 'weight' 'age' 'medical_info_a2' 'height'] [0.12604874 0.11164059 0.07741062 0.07132529 0.05367491]\n"
          ]
        }
      ],
      "source": [
        "# 重要度の上位を出力する\n",
        "idx = np.argsort(fi)[::-1]\n",
        "top_cols, top_importances = train_x.columns.values[idx][:5], fi[idx][:5]\n",
        "print('random forest importance')\n",
        "print(top_cols, top_importances)"
      ]
    },
    {
      "cell_type": "code",
      "execution_count": 6,
      "id": "66dd18f0",
      "metadata": {
        "id": "66dd18f0"
      },
      "outputs": [],
      "source": [
        "# ---------------------------------\n",
        "# xgboostの特徴量の重要度\n",
        "# ---------------------------------\n",
        "# train_xは学習データ、train_yは目的変数\n",
        "if ON_COLAB:\n",
        "    if USE_GIT:\n",
        "        train = pd.read_csv('/content/kagglebook/input/sample-data/train_preprocessed.csv')\n",
        "    else:\n",
        "        train = pd.read_csv(os.path.join(colab_dir, 'input/sample-data/train_preprocessed.csv'))\n",
        "else:\n",
        "    train = pd.read_csv('../input/sample-data/train_preprocessed.csv')\n",
        "train_x = train.drop(['target'], axis=1)\n",
        "train_y = train['target']\n",
        "# ---------------------------------\n",
        "import xgboost as xgb"
      ]
    },
    {
      "cell_type": "code",
      "execution_count": 7,
      "id": "8832a9ff",
      "metadata": {
        "id": "8832a9ff",
        "outputId": "05a682bf-f9d9-4ca8-9208-4f8450ab0a29",
        "colab": {
          "base_uri": "https://localhost:8080/"
        }
      },
      "outputs": [
        {
          "output_type": "stream",
          "name": "stderr",
          "text": [
            "/usr/local/lib/python3.11/dist-packages/xgboost/core.py:158: UserWarning: [11:02:29] WARNING: /workspace/src/learner.cc:740: \n",
            "Parameters: { \"silent\" } are not used.\n",
            "\n",
            "  warnings.warn(smsg, UserWarning)\n"
          ]
        }
      ],
      "source": [
        "# xgboost\n",
        "dtrain = xgb.DMatrix(train_x, label=train_y)\n",
        "params = {'objective': 'binary:logistic', 'silent': 1, 'random_state': 71}\n",
        "num_round = 50\n",
        "model = xgb.train(params, dtrain, num_round)"
      ]
    },
    {
      "cell_type": "code",
      "execution_count": 8,
      "id": "1d7ac55e",
      "metadata": {
        "id": "1d7ac55e",
        "outputId": "2732d5e6-5c7d-40a2-eece-28b89903d04e",
        "colab": {
          "base_uri": "https://localhost:8080/"
        }
      },
      "outputs": [
        {
          "output_type": "stream",
          "name": "stdout",
          "text": [
            "xgboost importance\n",
            "[('weight', 2678.062744140625), ('medical_info_a1', 2396.2119140625), ('height', 1944.5745849609375), ('age', 1599.1385498046875), ('medical_info_a2', 1127.4130859375)]\n"
          ]
        }
      ],
      "source": [
        "# 重要度の上位を出力する\n",
        "fscore = model.get_score(importance_type='total_gain')\n",
        "fscore = sorted([(k, v) for k, v in fscore.items()], key=lambda tpl: tpl[1], reverse=True)\n",
        "print('xgboost importance')\n",
        "print(fscore[:5])"
      ]
    }
  ],
  "metadata": {
    "jupytext": {
      "cell_metadata_filter": "-all",
      "main_language": "python",
      "notebook_metadata_filter": "-all"
    },
    "colab": {
      "provenance": [],
      "include_colab_link": true
    },
    "language_info": {
      "name": "python"
    },
    "kernelspec": {
      "name": "python3",
      "display_name": "Python 3"
    }
  },
  "nbformat": 4,
  "nbformat_minor": 5
}