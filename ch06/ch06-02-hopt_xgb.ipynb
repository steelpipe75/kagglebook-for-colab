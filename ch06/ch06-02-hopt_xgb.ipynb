{
 "cells": [
  {
   "cell_type": "code",
   "execution_count": null,
   "id": "c8ebbfa0",
   "metadata": {},
   "outputs": [],
   "source": [
    "import numpy as np\n",
    "from hyperopt import hp"
   ]
  },
  {
   "cell_type": "markdown",
   "id": "076b68ab",
   "metadata": {},
   "source": [
    "-----------------------------------\n",
    "xgboostのパラメータ空間の例\n",
    "-----------------------------------"
   ]
  },
  {
   "cell_type": "code",
   "execution_count": null,
   "id": "30a9bb77",
   "metadata": {},
   "outputs": [],
   "source": [
    "# ベースラインのパラメータ\n",
    "params = {\n",
    "    'booster': 'gbtree',\n",
    "    'objective': 'binary:logistic',\n",
    "    'eta': 0.1,\n",
    "    'gamma': 0.0,\n",
    "    'alpha': 0.0,\n",
    "    'lambda': 1.0,\n",
    "    'min_child_weight': 1,\n",
    "    'max_depth': 5,\n",
    "    'subsample': 0.8,\n",
    "    'colsample_bytree': 0.8,\n",
    "    'random_state': 71,\n",
    "}"
   ]
  },
  {
   "cell_type": "code",
   "execution_count": null,
   "id": "e7ec9605",
   "metadata": {},
   "outputs": [],
   "source": [
    "# パラメータの探索範囲\n",
    "param_space = {\n",
    "    'min_child_weight': hp.loguniform('min_child_weight', np.log(0.1), np.log(10)),\n",
    "    'max_depth': hp.quniform('max_depth', 3, 9, 1),\n",
    "    'subsample': hp.quniform('subsample', 0.6, 0.95, 0.05),\n",
    "    'colsample_bytree': hp.quniform('colsample_bytree', 0.6, 0.95, 0.05),\n",
    "    'gamma': hp.loguniform('gamma', np.log(1e-8), np.log(1.0)),\n",
    "    # 余裕があればalpha, lambdaも調整する\n",
    "    # 'alpha' : hp.loguniform('alpha', np.log(1e-8), np.log(1.0)),\n",
    "    # 'lambda' : hp.loguniform('lambda', np.log(1e-6), np.log(10.0)),\n",
    "}"
   ]
  }
 ],
 "metadata": {
  "jupytext": {
   "cell_metadata_filter": "-all",
   "main_language": "python",
   "notebook_metadata_filter": "-all"
  }
 },
 "nbformat": 4,
 "nbformat_minor": 5
}
