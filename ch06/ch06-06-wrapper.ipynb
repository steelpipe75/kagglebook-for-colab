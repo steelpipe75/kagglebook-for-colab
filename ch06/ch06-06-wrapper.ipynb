{
 "cells": [
  {
   "cell_type": "code",
   "execution_count": null,
   "id": "8575066a",
   "metadata": {},
   "outputs": [],
   "source": [
    "# ---------------------------------\n",
    "# データ等の準備\n",
    "# ----------------------------------\n",
    "import numpy as np\n",
    "import pandas as pd"
   ]
  },
  {
   "cell_type": "markdown",
   "id": "4309c2d8",
   "metadata": {},
   "source": [
    "train_xは学習データ、train_yは目的変数、test_xはテストデータ\n",
    "pandasのDataFrame, Seriesで保持します。（numpyのarrayで保持することもあります）"
   ]
  },
  {
   "cell_type": "code",
   "execution_count": null,
   "id": "7a91e592",
   "metadata": {},
   "outputs": [],
   "source": [
    "train = pd.read_csv('../input/sample-data/train_preprocessed.csv')\n",
    "train_x = train.drop(['target'], axis=1)\n",
    "train_y = train['target']\n",
    "test_x = pd.read_csv('../input/sample-data/test_preprocessed.csv')"
   ]
  },
  {
   "cell_type": "code",
   "execution_count": null,
   "id": "99131db9",
   "metadata": {},
   "outputs": [],
   "source": [
    "# 学習データを学習データとバリデーションデータに分ける\n",
    "from sklearn.model_selection import KFold"
   ]
  },
  {
   "cell_type": "code",
   "execution_count": null,
   "id": "a80a671e",
   "metadata": {},
   "outputs": [],
   "source": [
    "kf = KFold(n_splits=4, shuffle=True, random_state=71)\n",
    "tr_idx, va_idx = list(kf.split(train_x))[0]\n",
    "tr_x, va_x = train_x.iloc[tr_idx], train_x.iloc[va_idx]\n",
    "tr_y, va_y = train_y.iloc[tr_idx], train_y.iloc[va_idx]"
   ]
  },
  {
   "cell_type": "code",
   "execution_count": null,
   "id": "82d7d1cf",
   "metadata": {},
   "outputs": [],
   "source": [
    "# 特徴量のリストに対して精度を評価するevaluate関数の定義\n",
    "import xgboost as xgb\n",
    "from sklearn.metrics import log_loss"
   ]
  },
  {
   "cell_type": "code",
   "execution_count": null,
   "id": "285cd732",
   "metadata": {},
   "outputs": [],
   "source": [
    "def evaluate(features):\n",
    "    dtrain = xgb.DMatrix(tr_x[features], label=tr_y)\n",
    "    dvalid = xgb.DMatrix(va_x[features], label=va_y)\n",
    "    params = {'objective': 'binary:logistic', 'silent': 1, 'random_state': 71}\n",
    "    num_round = 10  # 実際にはもっと多いround数が必要\n",
    "    early_stopping_rounds = 3\n",
    "    watchlist = [(dtrain, 'train'), (dvalid, 'eval')]\n",
    "    model = xgb.train(params, dtrain, num_round,\n",
    "                      evals=watchlist, early_stopping_rounds=early_stopping_rounds,\n",
    "                      verbose_eval=0)\n",
    "    va_pred = model.predict(dvalid)\n",
    "    score = log_loss(va_y, va_pred)\n",
    "\n",
    "    return score"
   ]
  },
  {
   "cell_type": "markdown",
   "id": "ff695a4b",
   "metadata": {},
   "source": [
    "---------------------------------\n",
    "Greedy Forward Selection\n",
    "----------------------------------"
   ]
  },
  {
   "cell_type": "code",
   "execution_count": null,
   "id": "f85f6815",
   "metadata": {},
   "outputs": [],
   "source": [
    "best_score = 9999.0\n",
    "selected = set([])"
   ]
  },
  {
   "cell_type": "code",
   "execution_count": null,
   "id": "f1e35e62",
   "metadata": {},
   "outputs": [],
   "source": [
    "print('start greedy forward selection')"
   ]
  },
  {
   "cell_type": "code",
   "execution_count": null,
   "id": "bde80db8",
   "metadata": {},
   "outputs": [],
   "source": [
    "while True:\n",
    "\n",
    "    if len(selected) == len(train_x.columns):\n",
    "        # すべての特徴が選ばれて終了\n",
    "        break\n",
    "\n",
    "    scores = []\n",
    "    for feature in train_x.columns:\n",
    "        if feature not in selected:\n",
    "            # 特徴量のリストに対して精度を評価するevaluate関数があるものとする\n",
    "            fs = list(selected) + [feature]\n",
    "            score = evaluate(fs)\n",
    "            scores.append((feature, score))\n",
    "\n",
    "    # スコアは低い方が良いとする\n",
    "    b_feature, b_score = sorted(scores, key=lambda tpl: tpl[1])[0]\n",
    "    if b_score < best_score:\n",
    "        selected.add(b_feature)\n",
    "        best_score = b_score\n",
    "        print(f'selected:{b_feature}')\n",
    "        print(f'score:{b_score}')\n",
    "    else:\n",
    "        # どの特徴を追加してもスコアが上がらないので終了\n",
    "        break"
   ]
  },
  {
   "cell_type": "code",
   "execution_count": null,
   "id": "20738d91",
   "metadata": {},
   "outputs": [],
   "source": [
    "print(f'selected features: {selected}')"
   ]
  },
  {
   "cell_type": "markdown",
   "id": "966d925f",
   "metadata": {},
   "source": [
    "---------------------------------\n",
    "Greedy Forward Selectionを単純化した手法\n",
    "----------------------------------"
   ]
  },
  {
   "cell_type": "code",
   "execution_count": null,
   "id": "f725ce99",
   "metadata": {},
   "outputs": [],
   "source": [
    "best_score = 9999.0\n",
    "candidates = np.random.RandomState(71).permutation(train_x.columns)\n",
    "selected = set([])"
   ]
  },
  {
   "cell_type": "code",
   "execution_count": null,
   "id": "78982067",
   "metadata": {},
   "outputs": [],
   "source": [
    "print('start simple selection')\n",
    "for feature in candidates:\n",
    "    # 特徴量のリストに対して精度を評価するevaluate関数があるものとする\n",
    "    fs = list(selected) + [feature]\n",
    "    score = evaluate(fs)\n",
    "\n",
    "    # スコアは低い方が良いとする\n",
    "    if score < best_score:\n",
    "        selected.add(feature)\n",
    "        best_score = score\n",
    "        print(f'selected:{feature}')\n",
    "        print(f'score:{score}')"
   ]
  },
  {
   "cell_type": "code",
   "execution_count": null,
   "id": "4be7f5b8",
   "metadata": {},
   "outputs": [],
   "source": [
    "print(f'selected features: {selected}')"
   ]
  }
 ],
 "metadata": {
  "jupytext": {
   "cell_metadata_filter": "-all",
   "main_language": "python",
   "notebook_metadata_filter": "-all"
  }
 },
 "nbformat": 4,
 "nbformat_minor": 5
}
