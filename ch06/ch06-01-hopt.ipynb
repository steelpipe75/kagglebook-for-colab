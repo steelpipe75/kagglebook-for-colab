{
  "cells": [
    {
      "cell_type": "markdown",
      "metadata": {
        "id": "view-in-github",
        "colab_type": "text"
      },
      "source": [
        "<a href=\"https://colab.research.google.com/github/steelpipe75/kagglebook-for-colab/blob/master/ch06/ch06-01-hopt.ipynb\" target=\"_parent\"><img src=\"https://colab.research.google.com/assets/colab-badge.svg\" alt=\"Open In Colab\"/></a>"
      ]
    },
    {
      "cell_type": "code",
      "execution_count": 1,
      "id": "261180c8",
      "metadata": {
        "id": "261180c8"
      },
      "outputs": [],
      "source": [
        "# ---------------------------------\n",
        "# データ等の準備\n",
        "# ----------------------------------\n",
        "import numpy as np\n",
        "import pandas as pd"
      ]
    },
    {
      "cell_type": "code",
      "source": [
        "import importlib\n",
        "import sys\n",
        "import subprocess\n",
        "\n",
        "# Google Colab 上で実行しているかどうかを判断するフラグ\n",
        "ON_COLAB = \"google.colab\" in sys.modules\n",
        "print(f\"ON_COLAB: {ON_COLAB}\")\n",
        "\n",
        "if ON_COLAB:\n",
        "    USE_GIT = True # Gitを使う\n",
        "    # USE_GIT = False # Gitを使わない\n",
        "\n",
        "    print(f\"USE_GIT: {USE_GIT}\")\n",
        "    if USE_GIT:\n",
        "        !git clone https://github.com/ghmagazine/kagglebook.git\n",
        "    else:\n",
        "        # Google Drive にマウントする\n",
        "        drive = importlib.import_module(\"google.colab.drive\")\n",
        "        drive.mount(\"/content/drive/\")\n",
        "\n",
        "        import os\n",
        "        colab_dir = \"/content/drive/MyDrive/kagglebook/\" # データ置き場"
      ],
      "metadata": {
        "id": "3YV2BSsbl5yW",
        "outputId": "e4a04316-8cab-4f50-97ec-baf89d268e83",
        "colab": {
          "base_uri": "https://localhost:8080/"
        }
      },
      "id": "3YV2BSsbl5yW",
      "execution_count": 2,
      "outputs": [
        {
          "output_type": "stream",
          "name": "stdout",
          "text": [
            "ON_COLAB: True\n",
            "USE_GIT: True\n",
            "fatal: destination path 'kagglebook' already exists and is not an empty directory.\n"
          ]
        }
      ]
    },
    {
      "cell_type": "markdown",
      "id": "6d42640d",
      "metadata": {
        "id": "6d42640d"
      },
      "source": [
        "train_xは学習データ、train_yは目的変数、test_xはテストデータ\n",
        "pandasのDataFrame, Seriesで保持します。（numpyのarrayで保持することもあります）"
      ]
    },
    {
      "cell_type": "code",
      "execution_count": 3,
      "id": "2b0665dc",
      "metadata": {
        "id": "2b0665dc"
      },
      "outputs": [],
      "source": [
        "if ON_COLAB:\n",
        "    if USE_GIT:\n",
        "        train = pd.read_csv('/content/kagglebook/input/sample-data/train_preprocessed.csv')\n",
        "    else:\n",
        "        train = pd.read_csv(os.path.join(colab_dir, 'input/sample-data/train_preprocessed.csv'))\n",
        "else:\n",
        "    train = pd.read_csv('../input/sample-data/train_preprocessed.csv')\n",
        "train_x = train.drop(['target'], axis=1)\n",
        "train_y = train['target']\n",
        "if ON_COLAB:\n",
        "    if USE_GIT:\n",
        "        test_x = pd.read_csv('/content/kagglebook/input/sample-data/test_preprocessed.csv')\n",
        "    else:\n",
        "        test_x = pd.read_csv(os.path.join(colab_dir, 'input/sample-data/test_preprocessed.csv'))\n",
        "else:\n",
        "    test_x = pd.read_csv('../input/sample-data/test_preprocessed.csv')"
      ]
    },
    {
      "cell_type": "code",
      "execution_count": 4,
      "id": "613f67d6",
      "metadata": {
        "id": "613f67d6"
      },
      "outputs": [],
      "source": [
        "# 学習データを学習データとバリデーションデータに分ける\n",
        "from sklearn.model_selection import KFold"
      ]
    },
    {
      "cell_type": "code",
      "execution_count": 5,
      "id": "15556257",
      "metadata": {
        "id": "15556257"
      },
      "outputs": [],
      "source": [
        "kf = KFold(n_splits=4, shuffle=True, random_state=71)\n",
        "tr_idx, va_idx = list(kf.split(train_x))[0]\n",
        "tr_x, va_x = train_x.iloc[tr_idx], train_x.iloc[va_idx]\n",
        "tr_y, va_y = train_y.iloc[tr_idx], train_y.iloc[va_idx]"
      ]
    },
    {
      "cell_type": "code",
      "execution_count": 6,
      "id": "ec4d2f12",
      "metadata": {
        "id": "ec4d2f12"
      },
      "outputs": [],
      "source": [
        "# xgboostによる学習・予測を行うクラス\n",
        "import xgboost as xgb"
      ]
    },
    {
      "cell_type": "code",
      "execution_count": 7,
      "id": "d54b6319",
      "metadata": {
        "id": "d54b6319"
      },
      "outputs": [],
      "source": [
        "class Model:\n",
        "\n",
        "    def __init__(self, params=None):\n",
        "        self.model = None\n",
        "        if params is None:\n",
        "            self.params = {}\n",
        "        else:\n",
        "            self.params = params\n",
        "\n",
        "    def fit(self, tr_x, tr_y, va_x, va_y):\n",
        "        params = {'objective': 'binary:logistic', 'silent': 1, 'random_state': 71}\n",
        "        params.update(self.params)\n",
        "        num_round = 10\n",
        "        dtrain = xgb.DMatrix(tr_x, label=tr_y)\n",
        "        dvalid = xgb.DMatrix(va_x, label=va_y)\n",
        "        watchlist = [(dtrain, 'train'), (dvalid, 'eval')]\n",
        "        self.model = xgb.train(params, dtrain, num_round, evals=watchlist)\n",
        "\n",
        "    def predict(self, x):\n",
        "        data = xgb.DMatrix(x)\n",
        "        pred = self.model.predict(data)\n",
        "        return pred"
      ]
    },
    {
      "cell_type": "markdown",
      "id": "304cb209",
      "metadata": {
        "id": "304cb209"
      },
      "source": [
        "-----------------------------------\n",
        "探索するパラメータの空間の指定\n",
        "-----------------------------------\n",
        "hp.choiceでは、複数の選択肢から選ぶ\n",
        "hp.uniformでは、下限・上限を指定した一様分布から抽出する。引数は下限・上限\n",
        "hp.quniformでは、下限・上限を指定した一様分布のうち一定の間隔ごとの点から抽出する。引数は下限・上限・間隔\n",
        "hp.loguniformでは、下限・上限を指定した対数が一様分布に従う分布から抽出する。引数は下限・上限の対数をとった値"
      ]
    },
    {
      "cell_type": "code",
      "execution_count": 8,
      "id": "1f274088",
      "metadata": {
        "id": "1f274088"
      },
      "outputs": [],
      "source": [
        "from hyperopt import hp"
      ]
    },
    {
      "cell_type": "code",
      "execution_count": 9,
      "id": "14fe1803",
      "metadata": {
        "id": "14fe1803"
      },
      "outputs": [],
      "source": [
        "space = {\n",
        "    'activation': hp.choice('activation', ['prelu', 'relu']),\n",
        "    'dropout': hp.uniform('dropout', 0, 0.2),\n",
        "    'units': hp.quniform('units', 32, 256, 32),\n",
        "    'learning_rate': hp.loguniform('learning_rate', np.log(0.00001), np.log(0.01)),\n",
        "}"
      ]
    },
    {
      "cell_type": "code",
      "execution_count": 10,
      "id": "9d36968d",
      "metadata": {
        "id": "9d36968d"
      },
      "outputs": [],
      "source": [
        "# -----------------------------------\n",
        "# hyperoptを使ったパラメータ探索\n",
        "# -----------------------------------\n",
        "from hyperopt import fmin, tpe, hp, STATUS_OK, Trials\n",
        "from sklearn.metrics import log_loss"
      ]
    },
    {
      "cell_type": "code",
      "execution_count": 11,
      "id": "f9a6c819",
      "metadata": {
        "id": "f9a6c819"
      },
      "outputs": [],
      "source": [
        "def score(params):\n",
        "    # パラメータを与えたときに最小化する評価指標を指定する\n",
        "    # 具体的には、モデルにパラメータを指定して学習・予測させた場合のスコアを返すようにする\n",
        "\n",
        "    # max_depthの型を整数型に修正する\n",
        "    params['max_depth'] = int(params['max_depth'])\n",
        "\n",
        "    # Modelクラスを定義しているものとする\n",
        "    # Modelクラスは、fitで学習し、predictで予測値の確率を出力する\n",
        "    model = Model(params)\n",
        "    model.fit(tr_x, tr_y, va_x, va_y)\n",
        "    va_pred = model.predict(va_x)\n",
        "    score = log_loss(va_y, va_pred)\n",
        "    print(f'params: {params}, logloss: {score:.4f}')\n",
        "\n",
        "    # 情報を記録しておく\n",
        "    history.append((params, score))\n",
        "\n",
        "    return {'loss': score, 'status': STATUS_OK}"
      ]
    },
    {
      "cell_type": "code",
      "execution_count": 12,
      "id": "7f29a868",
      "metadata": {
        "id": "7f29a868"
      },
      "outputs": [],
      "source": [
        "# 探索するパラメータの空間を指定する\n",
        "space = {\n",
        "    'min_child_weight': hp.quniform('min_child_weight', 1, 5, 1),\n",
        "    'max_depth': hp.quniform('max_depth', 3, 9, 1),\n",
        "    'gamma': hp.quniform('gamma', 0, 0.4, 0.1),\n",
        "}"
      ]
    },
    {
      "cell_type": "code",
      "execution_count": 13,
      "id": "3c7a16c6",
      "metadata": {
        "id": "3c7a16c6",
        "outputId": "7b3c08fb-5e4b-4d55-de4b-eb95296ccd10",
        "colab": {
          "base_uri": "https://localhost:8080/"
        }
      },
      "outputs": [
        {
          "output_type": "stream",
          "name": "stdout",
          "text": [
            "\r  0%|          | 0/10 [00:00<?, ?trial/s, best loss=?]"
          ]
        },
        {
          "output_type": "stream",
          "name": "stderr",
          "text": [
            "/usr/local/lib/python3.11/dist-packages/xgboost/core.py:158: UserWarning: [14:32:14] WARNING: /workspace/src/learner.cc:740: \n",
            "Parameters: { \"silent\" } are not used.\n",
            "\n",
            "  warnings.warn(smsg, UserWarning)\n",
            "\n"
          ]
        },
        {
          "output_type": "stream",
          "name": "stdout",
          "text": [
            "[0]\ttrain-logloss:0.43616\teval-logloss:0.44908\n",
            "[1]\ttrain-logloss:0.40152\teval-logloss:0.41851\n",
            "[2]\ttrain-logloss:0.37815\teval-logloss:0.39463\n",
            "[3]\ttrain-logloss:0.35871\teval-logloss:0.37839\n",
            "[4]\ttrain-logloss:0.34113\teval-logloss:0.36450\n",
            "[5]\ttrain-logloss:0.32922\teval-logloss:0.35546\n",
            "[6]\ttrain-logloss:0.31727\teval-logloss:0.34401\n",
            "[7]\ttrain-logloss:0.30476\teval-logloss:0.33126\n",
            "[8]\ttrain-logloss:0.29570\teval-logloss:0.32379\n",
            "[9]\ttrain-logloss:0.28685\teval-logloss:0.31610\n",
            "params: {'gamma': 0.30000000000000004, 'max_depth': 4, 'min_child_weight': 2.0}, logloss: 0.3161\n",
            "[0]\ttrain-logloss:0.43615\teval-logloss:0.44921\n",
            "[1]\ttrain-logloss:0.40165\teval-logloss:0.41864\n",
            "[2]\ttrain-logloss:0.37854\teval-logloss:0.39472\n",
            "[3]\ttrain-logloss:0.36032\teval-logloss:0.37623\n",
            "[4]\ttrain-logloss:0.34341\teval-logloss:0.36069\n",
            "[5]\ttrain-logloss:0.33057\teval-logloss:0.35026\n",
            "[6]\ttrain-logloss:0.31790\teval-logloss:0.33990\n",
            "[7]\ttrain-logloss:0.30732\teval-logloss:0.33210\n",
            " 10%|█         | 1/10 [00:01<00:08,  1.12trial/s, best loss: 0.31609811638674035]"
          ]
        },
        {
          "output_type": "stream",
          "name": "stderr",
          "text": [
            "/usr/local/lib/python3.11/dist-packages/xgboost/core.py:158: UserWarning: [14:32:14] WARNING: /workspace/src/learner.cc:740: \n",
            "Parameters: { \"silent\" } are not used.\n",
            "\n",
            "  warnings.warn(smsg, UserWarning)\n",
            "\n"
          ]
        },
        {
          "output_type": "stream",
          "name": "stdout",
          "text": [
            "[8]\ttrain-logloss:0.29800\teval-logloss:0.32694\n",
            "[9]\ttrain-logloss:0.29106\teval-logloss:0.32114\n",
            "params: {'gamma': 0.2, 'max_depth': 4, 'min_child_weight': 4.0}, logloss: 0.3211\n",
            "[0]\ttrain-logloss:0.40449\teval-logloss:0.42510\n",
            "[1]\ttrain-logloss:0.35106\teval-logloss:0.38295\n",
            "[2]\ttrain-logloss:0.31431\teval-logloss:0.35595\n",
            "[3]\ttrain-logloss:0.28192\teval-logloss:0.33448\n",
            "[4]\ttrain-logloss:0.25610\teval-logloss:0.32048\n",
            "[5]\ttrain-logloss:0.23467\teval-logloss:0.30797\n",
            "[6]\ttrain-logloss:0.21776\teval-logloss:0.29882\n",
            " 20%|██        | 2/10 [00:01<00:04,  1.82trial/s, best loss: 0.31609811638674035]"
          ]
        },
        {
          "output_type": "stream",
          "name": "stderr",
          "text": [
            "/usr/local/lib/python3.11/dist-packages/xgboost/core.py:158: UserWarning: [14:32:15] WARNING: /workspace/src/learner.cc:740: \n",
            "Parameters: { \"silent\" } are not used.\n",
            "\n",
            "  warnings.warn(smsg, UserWarning)\n",
            "\n"
          ]
        },
        {
          "output_type": "stream",
          "name": "stdout",
          "text": [
            "[7]\ttrain-logloss:0.19952\teval-logloss:0.28584\n",
            "[8]\ttrain-logloss:0.18474\teval-logloss:0.27859\n",
            "[9]\ttrain-logloss:0.17275\teval-logloss:0.27479\n",
            "params: {'gamma': 0.1, 'max_depth': 8, 'min_child_weight': 2.0}, logloss: 0.2748\n",
            " 30%|███       | 3/10 [00:01<00:04,  1.73trial/s, best loss: 0.2747885863063065] "
          ]
        },
        {
          "output_type": "stream",
          "name": "stderr",
          "text": [
            "/usr/local/lib/python3.11/dist-packages/xgboost/core.py:158: UserWarning: [14:32:15] WARNING: /workspace/src/learner.cc:740: \n",
            "Parameters: { \"silent\" } are not used.\n",
            "\n",
            "  warnings.warn(smsg, UserWarning)\n",
            "\n"
          ]
        },
        {
          "output_type": "stream",
          "name": "stdout",
          "text": [
            "[0]\ttrain-logloss:0.42683\teval-logloss:0.44172\n",
            "[1]\ttrain-logloss:0.38767\teval-logloss:0.40447\n",
            "[2]\ttrain-logloss:0.35966\teval-logloss:0.37957\n",
            "[3]\ttrain-logloss:0.33930\teval-logloss:0.36456\n",
            "[4]\ttrain-logloss:0.32109\teval-logloss:0.34844\n",
            "[5]\ttrain-logloss:0.30795\teval-logloss:0.33849\n",
            "[6]\ttrain-logloss:0.29357\teval-logloss:0.32787\n",
            "[7]\ttrain-logloss:0.28335\teval-logloss:0.31915\n",
            "[8]\ttrain-logloss:0.27233\teval-logloss:0.31164\n",
            "[9]\ttrain-logloss:0.26312\teval-logloss:0.30487\n",
            "params: {'gamma': 0.2, 'max_depth': 5, 'min_child_weight': 4.0}, logloss: 0.3049\n",
            " 40%|████      | 4/10 [00:03<00:06,  1.09s/trial, best loss: 0.2747885863063065]"
          ]
        },
        {
          "output_type": "stream",
          "name": "stderr",
          "text": [
            "/usr/local/lib/python3.11/dist-packages/xgboost/core.py:158: UserWarning: [14:32:17] WARNING: /workspace/src/learner.cc:740: \n",
            "Parameters: { \"silent\" } are not used.\n",
            "\n",
            "  warnings.warn(smsg, UserWarning)\n",
            "\n"
          ]
        },
        {
          "output_type": "stream",
          "name": "stdout",
          "text": [
            "[0]\ttrain-logloss:0.40902\teval-logloss:0.42971\n",
            "[1]\ttrain-logloss:0.35834\teval-logloss:0.39027\n",
            "[2]\ttrain-logloss:0.32324\teval-logloss:0.36383\n",
            "[3]\ttrain-logloss:0.29153\teval-logloss:0.34601\n",
            "[4]\ttrain-logloss:0.26798\teval-logloss:0.32641\n",
            "[5]\ttrain-logloss:0.24755\teval-logloss:0.31388\n",
            "[6]\ttrain-logloss:0.23155\teval-logloss:0.30684\n",
            "[7]\ttrain-logloss:0.21771\teval-logloss:0.29866\n",
            "[8]\ttrain-logloss:0.20244\teval-logloss:0.29134\n",
            "[9]\ttrain-logloss:0.18816\teval-logloss:0.28562\n",
            "params: {'gamma': 0.1, 'max_depth': 7, 'min_child_weight': 1.0}, logloss: 0.2856\n",
            "[0]\ttrain-logloss:0.41899\teval-logloss:0.43492\n",
            " 50%|█████     | 5/10 [00:05<00:05,  1.17s/trial, best loss: 0.2747885863063065]"
          ]
        },
        {
          "output_type": "stream",
          "name": "stderr",
          "text": [
            "/usr/local/lib/python3.11/dist-packages/xgboost/core.py:158: UserWarning: [14:32:18] WARNING: /workspace/src/learner.cc:740: \n",
            "Parameters: { \"silent\" } are not used.\n",
            "\n",
            "  warnings.warn(smsg, UserWarning)\n",
            "\n"
          ]
        },
        {
          "output_type": "stream",
          "name": "stdout",
          "text": [
            "[1]\ttrain-logloss:0.37547\teval-logloss:0.39706\n",
            "[2]\ttrain-logloss:0.34487\teval-logloss:0.37009\n",
            "[3]\ttrain-logloss:0.31964\teval-logloss:0.35019\n",
            "[4]\ttrain-logloss:0.30073\teval-logloss:0.33686\n",
            "[5]\ttrain-logloss:0.28647\teval-logloss:0.32836\n",
            "[6]\ttrain-logloss:0.26945\teval-logloss:0.31741\n",
            "[7]\ttrain-logloss:0.25797\teval-logloss:0.30956\n",
            "[8]\ttrain-logloss:0.24658\teval-logloss:0.30300\n",
            "[9]\ttrain-logloss:0.23559\teval-logloss:0.29580\n",
            "params: {'gamma': 0.4, 'max_depth': 6, 'min_child_weight': 4.0}, logloss: 0.2958\n",
            "[0]\ttrain-logloss:0.40449\teval-logloss:0.42510\n",
            " 60%|██████    | 6/10 [00:06<00:04,  1.11s/trial, best loss: 0.2747885863063065]"
          ]
        },
        {
          "output_type": "stream",
          "name": "stderr",
          "text": [
            "/usr/local/lib/python3.11/dist-packages/xgboost/core.py:158: UserWarning: [14:32:19] WARNING: /workspace/src/learner.cc:740: \n",
            "Parameters: { \"silent\" } are not used.\n",
            "\n",
            "  warnings.warn(smsg, UserWarning)\n",
            "\n"
          ]
        },
        {
          "output_type": "stream",
          "name": "stdout",
          "text": [
            "[1]\ttrain-logloss:0.35109\teval-logloss:0.38300\n",
            "[2]\ttrain-logloss:0.31438\teval-logloss:0.35603\n",
            "[3]\ttrain-logloss:0.28202\teval-logloss:0.33487\n",
            "[4]\ttrain-logloss:0.25517\teval-logloss:0.31980\n",
            "[5]\ttrain-logloss:0.23427\teval-logloss:0.30751\n",
            "[6]\ttrain-logloss:0.21658\teval-logloss:0.29947\n",
            "[7]\ttrain-logloss:0.20056\teval-logloss:0.28993\n",
            "[8]\ttrain-logloss:0.18723\teval-logloss:0.28326\n",
            "[9]\ttrain-logloss:0.17612\teval-logloss:0.27735\n",
            "params: {'gamma': 0.4, 'max_depth': 8, 'min_child_weight': 2.0}, logloss: 0.2774\n",
            " 70%|███████   | 7/10 [00:07<00:03,  1.13s/trial, best loss: 0.2747885863063065]"
          ]
        },
        {
          "output_type": "stream",
          "name": "stderr",
          "text": [
            "/usr/local/lib/python3.11/dist-packages/xgboost/core.py:158: UserWarning: [14:32:21] WARNING: /workspace/src/learner.cc:740: \n",
            "Parameters: { \"silent\" } are not used.\n",
            "\n",
            "  warnings.warn(smsg, UserWarning)\n",
            "\n"
          ]
        },
        {
          "output_type": "stream",
          "name": "stdout",
          "text": [
            "[0]\ttrain-logloss:0.41203\teval-logloss:0.43011\n",
            "[1]\ttrain-logloss:0.36413\teval-logloss:0.39215\n",
            "[2]\ttrain-logloss:0.32955\teval-logloss:0.36492\n",
            "[3]\ttrain-logloss:0.30291\teval-logloss:0.34306\n",
            "[4]\ttrain-logloss:0.27817\teval-logloss:0.32746\n",
            "[5]\ttrain-logloss:0.25976\teval-logloss:0.31245\n",
            "[6]\ttrain-logloss:0.24374\teval-logloss:0.30373\n",
            "[7]\ttrain-logloss:0.22893\teval-logloss:0.29598\n",
            "[8]\ttrain-logloss:0.21587\teval-logloss:0.28778\n",
            "[9]\ttrain-logloss:0.20511\teval-logloss:0.28047\n",
            "params: {'gamma': 0.2, 'max_depth': 7, 'min_child_weight': 3.0}, logloss: 0.2805\n",
            " 80%|████████  | 8/10 [00:08<00:02,  1.08s/trial, best loss: 0.2747885863063065]"
          ]
        },
        {
          "output_type": "stream",
          "name": "stderr",
          "text": [
            "/usr/local/lib/python3.11/dist-packages/xgboost/core.py:158: UserWarning: [14:32:22] WARNING: /workspace/src/learner.cc:740: \n",
            "Parameters: { \"silent\" } are not used.\n",
            "\n",
            "  warnings.warn(smsg, UserWarning)\n",
            "\n"
          ]
        },
        {
          "output_type": "stream",
          "name": "stdout",
          "text": [
            "[0]\ttrain-logloss:0.41899\teval-logloss:0.43492\n",
            "[1]\ttrain-logloss:0.37547\teval-logloss:0.39706\n",
            "[2]\ttrain-logloss:0.34486\teval-logloss:0.37003\n",
            "[3]\ttrain-logloss:0.31961\teval-logloss:0.35014\n",
            "[4]\ttrain-logloss:0.30069\teval-logloss:0.33680\n",
            "[5]\ttrain-logloss:0.28643\teval-logloss:0.32830\n",
            "[6]\ttrain-logloss:0.26939\teval-logloss:0.31731\n",
            "[7]\ttrain-logloss:0.25789\teval-logloss:0.30927\n",
            "[8]\ttrain-logloss:0.24649\teval-logloss:0.30243\n",
            "[9]\ttrain-logloss:0.23548\teval-logloss:0.29511\n",
            "params: {'gamma': 0.1, 'max_depth': 6, 'min_child_weight': 4.0}, logloss: 0.2951\n",
            " 90%|█████████ | 9/10 [00:09<00:01,  1.27s/trial, best loss: 0.2747885863063065]"
          ]
        },
        {
          "output_type": "stream",
          "name": "stderr",
          "text": [
            "/usr/local/lib/python3.11/dist-packages/xgboost/core.py:158: UserWarning: [14:32:23] WARNING: /workspace/src/learner.cc:740: \n",
            "Parameters: { \"silent\" } are not used.\n",
            "\n",
            "  warnings.warn(smsg, UserWarning)\n",
            "\n"
          ]
        },
        {
          "output_type": "stream",
          "name": "stdout",
          "text": [
            "[0]\ttrain-logloss:0.42629\teval-logloss:0.44193\n",
            "[1]\ttrain-logloss:0.38733\teval-logloss:0.40437\n",
            "[2]\ttrain-logloss:0.35859\teval-logloss:0.38211\n",
            "[3]\ttrain-logloss:0.33758\teval-logloss:0.36448\n",
            "[4]\ttrain-logloss:0.32182\teval-logloss:0.35370\n",
            "[5]\ttrain-logloss:0.30505\teval-logloss:0.34174\n",
            "[6]\ttrain-logloss:0.29448\teval-logloss:0.33184\n",
            "[7]\ttrain-logloss:0.28293\teval-logloss:0.32383\n",
            "[8]\ttrain-logloss:0.27048\teval-logloss:0.31236\n",
            "[9]\ttrain-logloss:0.26060\teval-logloss:0.30486\n",
            "params: {'gamma': 0.1, 'max_depth': 5, 'min_child_weight': 3.0}, logloss: 0.3049\n",
            "100%|██████████| 10/10 [00:11<00:00,  1.13s/trial, best loss: 0.2747885863063065]\n"
          ]
        },
        {
          "output_type": "execute_result",
          "data": {
            "text/plain": [
              "{'gamma': np.float64(0.1),\n",
              " 'max_depth': np.float64(8.0),\n",
              " 'min_child_weight': np.float64(2.0)}"
            ]
          },
          "metadata": {},
          "execution_count": 13
        }
      ],
      "source": [
        "# hyperoptによるパラメータ探索の実行\n",
        "max_evals = 10\n",
        "trials = Trials()\n",
        "history = []\n",
        "fmin(score, space, algo=tpe.suggest, trials=trials, max_evals=max_evals)"
      ]
    },
    {
      "cell_type": "code",
      "execution_count": 14,
      "id": "b1d90632",
      "metadata": {
        "id": "b1d90632",
        "outputId": "08f0f171-2b39-48ab-bd6d-36b107f2f96f",
        "colab": {
          "base_uri": "https://localhost:8080/"
        }
      },
      "outputs": [
        {
          "output_type": "stream",
          "name": "stdout",
          "text": [
            "best params:{'gamma': 0.1, 'max_depth': 8, 'min_child_weight': 2.0}, score:0.2748\n"
          ]
        }
      ],
      "source": [
        "# 記録した情報からパラメータとスコアを出力する\n",
        "# （trialsからも情報が取得できるが、パラメータの取得がやや行いづらいため）\n",
        "history = sorted(history, key=lambda tpl: tpl[1])\n",
        "best = history[0]\n",
        "print(f'best params:{best[0]}, score:{best[1]:.4f}')"
      ]
    }
  ],
  "metadata": {
    "jupytext": {
      "cell_metadata_filter": "-all",
      "main_language": "python",
      "notebook_metadata_filter": "-all"
    },
    "colab": {
      "provenance": [],
      "include_colab_link": true
    },
    "language_info": {
      "name": "python"
    },
    "kernelspec": {
      "name": "python3",
      "display_name": "Python 3"
    }
  },
  "nbformat": 4,
  "nbformat_minor": 5
}