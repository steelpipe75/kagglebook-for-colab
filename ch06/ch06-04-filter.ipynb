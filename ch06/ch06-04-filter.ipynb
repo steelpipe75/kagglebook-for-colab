{
  "cells": [
    {
      "cell_type": "markdown",
      "metadata": {
        "id": "view-in-github",
        "colab_type": "text"
      },
      "source": [
        "<a href=\"https://colab.research.google.com/github/steelpipe75/kagglebook-for-colab/blob/master/ch06/ch06-04-filter.ipynb\" target=\"_parent\"><img src=\"https://colab.research.google.com/assets/colab-badge.svg\" alt=\"Open In Colab\"/></a>"
      ]
    },
    {
      "cell_type": "code",
      "execution_count": 1,
      "id": "056f76f8",
      "metadata": {
        "id": "056f76f8"
      },
      "outputs": [],
      "source": [
        "# ---------------------------------\n",
        "# データ等の準備\n",
        "# ----------------------------------\n",
        "import numpy as np\n",
        "import pandas as pd"
      ]
    },
    {
      "cell_type": "code",
      "source": [
        "import importlib\n",
        "import sys\n",
        "import subprocess\n",
        "\n",
        "# Google Colab 上で実行しているかどうかを判断するフラグ\n",
        "ON_COLAB = \"google.colab\" in sys.modules\n",
        "print(f\"ON_COLAB: {ON_COLAB}\")\n",
        "\n",
        "if ON_COLAB:\n",
        "    USE_GIT = True # Gitを使う\n",
        "    # USE_GIT = False # Gitを使わない\n",
        "\n",
        "    print(f\"USE_GIT: {USE_GIT}\")\n",
        "    if USE_GIT:\n",
        "        !git clone https://github.com/ghmagazine/kagglebook.git\n",
        "    else:\n",
        "        # Google Drive にマウントする\n",
        "        drive = importlib.import_module(\"google.colab.drive\")\n",
        "        drive.mount(\"/content/drive/\")\n",
        "\n",
        "        import os\n",
        "        colab_dir = \"/content/drive/MyDrive/kagglebook/\" # データ置き場"
      ],
      "metadata": {
        "id": "_wLig_Yn_J3N",
        "outputId": "becf43c9-ec56-4cd7-c268-ebd42f33a4be",
        "colab": {
          "base_uri": "https://localhost:8080/"
        }
      },
      "id": "_wLig_Yn_J3N",
      "execution_count": 2,
      "outputs": [
        {
          "output_type": "stream",
          "name": "stdout",
          "text": [
            "ON_COLAB: True\n",
            "USE_GIT: True\n",
            "fatal: destination path 'kagglebook' already exists and is not an empty directory.\n"
          ]
        }
      ]
    },
    {
      "cell_type": "markdown",
      "id": "30ae3f9f",
      "metadata": {
        "id": "30ae3f9f"
      },
      "source": [
        "train_xは学習データ、train_yは目的変数、test_xはテストデータ\n",
        "pandasのDataFrame, Seriesで保持します。（numpyのarrayで保持することもあります）"
      ]
    },
    {
      "cell_type": "code",
      "execution_count": 3,
      "id": "85572f73",
      "metadata": {
        "id": "85572f73"
      },
      "outputs": [],
      "source": [
        "if ON_COLAB:\n",
        "    if USE_GIT:\n",
        "        train = pd.read_csv('/content/kagglebook/input/sample-data/train_preprocessed_onehot.csv')\n",
        "    else:\n",
        "        train = pd.read_csv(os.path.join(colab_dir, 'input/sample-data/train_preprocessed_onehot.csv'))\n",
        "else:\n",
        "    train = pd.read_csv('../input/sample-data/train_preprocessed_onehot.csv')\n",
        "train_x = train.drop(['target'], axis=1)\n",
        "train_y = train['target']\n",
        "if ON_COLAB:\n",
        "    if USE_GIT:\n",
        "        test_x = pd.read_csv('/content/kagglebook/input/sample-data/test_preprocessed_onehot.csv')\n",
        "    else:\n",
        "        test_x = pd.read_csv(os.path.join(colab_dir, 'input/sample-data/test_preprocessed_onehot.csv'))\n",
        "else:\n",
        "    test_x = pd.read_csv('../input/sample-data/test_preprocessed_onehot.csv')"
      ]
    },
    {
      "cell_type": "code",
      "execution_count": 4,
      "id": "033007d9",
      "metadata": {
        "id": "033007d9",
        "outputId": "d3c7681b-98d3-42a4-f2dd-9bf6bfa93ad8",
        "colab": {
          "base_uri": "https://localhost:8080/"
        }
      },
      "outputs": [
        {
          "output_type": "stream",
          "name": "stdout",
          "text": [
            "[3 0 1 2]\n",
            "[2 1 0 3]\n"
          ]
        }
      ],
      "source": [
        "# ---------------------------------\n",
        "# argsortによるインデックスのソート\n",
        "# ---------------------------------\n",
        "# argsortを使うことで、配列の値が小さい順／大きい順にインデックスをソートできる\n",
        "ary = np.array([10, 20, 30, 0])\n",
        "idx = ary.argsort()\n",
        "print(idx)  # 昇順 - [3 0 1 2]\n",
        "print(idx[::-1])  # 降順 - [2 1 0 3]"
      ]
    },
    {
      "cell_type": "code",
      "execution_count": 5,
      "id": "9a957196",
      "metadata": {
        "id": "9a957196",
        "outputId": "14a0ab88-2693-434d-9b09-ccb5990686c4",
        "colab": {
          "base_uri": "https://localhost:8080/"
        }
      },
      "outputs": [
        {
          "output_type": "stream",
          "name": "stdout",
          "text": [
            "[30 20 10]\n"
          ]
        }
      ],
      "source": [
        "print(ary[idx[::-1][:3]])  # ベスト3を出力 - [30, 20, 10]"
      ]
    },
    {
      "cell_type": "code",
      "execution_count": 6,
      "id": "1aa558c1",
      "metadata": {
        "id": "1aa558c1"
      },
      "outputs": [],
      "source": [
        "# ---------------------------------\n",
        "# 相関係数\n",
        "# ---------------------------------\n",
        "import scipy.stats as st"
      ]
    },
    {
      "cell_type": "code",
      "execution_count": 7,
      "id": "ca06db55",
      "metadata": {
        "id": "ca06db55"
      },
      "outputs": [],
      "source": [
        "# 相関係数\n",
        "corrs = []\n",
        "for c in train_x.columns:\n",
        "    corr = np.corrcoef(train_x[c], train_y)[0, 1]\n",
        "    corrs.append(corr)\n",
        "corrs = np.array(corrs)"
      ]
    },
    {
      "cell_type": "code",
      "execution_count": 8,
      "id": "54040990",
      "metadata": {
        "id": "54040990"
      },
      "outputs": [],
      "source": [
        "# スピアマンの順位相関係数\n",
        "corrs_sp = []\n",
        "for c in train_x.columns:\n",
        "    corr_sp = st.spearmanr(train_x[c], train_y).correlation\n",
        "    corrs_sp.append(corr_sp)\n",
        "corrs_sp = np.array(corrs_sp)"
      ]
    },
    {
      "cell_type": "code",
      "execution_count": 9,
      "id": "2f1bf22a",
      "metadata": {
        "id": "2f1bf22a",
        "outputId": "361d5121-0098-49f0-dcf4-1c9d446800e7",
        "colab": {
          "base_uri": "https://localhost:8080/"
        }
      },
      "outputs": [
        {
          "output_type": "stream",
          "name": "stdout",
          "text": [
            "['medical_info_a1' 'medical_keyword_5' 'medical_keyword_4'\n",
            " 'medical_keyword_3' 'age'] [0.21805214 0.21368557 0.18109642 0.16723961 0.15155308]\n"
          ]
        }
      ],
      "source": [
        "# 重要度の上位を出力する（上位5個まで）\n",
        "# np.argsortを使うことで、値の順序のとおりに並べたインデックスを取得できる\n",
        "idx = np.argsort(np.abs(corrs))[::-1]\n",
        "top_cols, top_importances = train_x.columns.values[idx][:5], corrs[idx][:5]\n",
        "print(top_cols, top_importances)"
      ]
    },
    {
      "cell_type": "code",
      "execution_count": 10,
      "id": "f578c6dd",
      "metadata": {
        "id": "f578c6dd",
        "outputId": "5b64ae45-8573-42b1-e13f-f4bcd47fc256",
        "colab": {
          "base_uri": "https://localhost:8080/"
        }
      },
      "outputs": [
        {
          "output_type": "stream",
          "name": "stdout",
          "text": [
            "['medical_info_a1' 'medical_keyword_5' 'medical_keyword_4'\n",
            " 'medical_keyword_3' 'age'] [0.22182331 0.21368557 0.18109642 0.16723961 0.15170291]\n"
          ]
        }
      ],
      "source": [
        "idx2 = np.argsort(np.abs(corrs_sp))[::-1]\n",
        "top_cols2, top_importances2 = train_x.columns.values[idx][:5], corrs_sp[idx][:5]\n",
        "print(top_cols2, top_importances2)"
      ]
    },
    {
      "cell_type": "code",
      "execution_count": 11,
      "id": "76984961",
      "metadata": {
        "id": "76984961"
      },
      "outputs": [],
      "source": [
        "# ---------------------------------\n",
        "# カイ二乗統計量\n",
        "# ---------------------------------\n",
        "from sklearn.feature_selection import chi2\n",
        "from sklearn.preprocessing import MinMaxScaler"
      ]
    },
    {
      "cell_type": "code",
      "execution_count": 12,
      "id": "df7904b7",
      "metadata": {
        "id": "df7904b7"
      },
      "outputs": [],
      "source": [
        "# カイ二乗統計量\n",
        "x = MinMaxScaler().fit_transform(train_x)\n",
        "c2, _ = chi2(x, train_y)"
      ]
    },
    {
      "cell_type": "code",
      "execution_count": 13,
      "id": "ac83e346",
      "metadata": {
        "id": "ac83e346",
        "outputId": "26bb430d-c0e3-4acf-d73b-3596b17868dd",
        "colab": {
          "base_uri": "https://localhost:8080/"
        }
      },
      "outputs": [
        {
          "output_type": "stream",
          "name": "stdout",
          "text": [
            "['medical_keyword_5' 'medical_keyword_4' 'medical_keyword_3' 'product_9'\n",
            " 'medical_keyword_2'] [0.21368557 0.18109642 0.16723961 0.11706115 0.1184609 ]\n"
          ]
        }
      ],
      "source": [
        "# 重要度の上位を出力する（上位5個まで）\n",
        "idx = np.argsort(c2)[::-1]\n",
        "top_cols, top_importances = train_x.columns.values[idx][:5], corrs[idx][:5]\n",
        "print(top_cols, top_importances)"
      ]
    },
    {
      "cell_type": "code",
      "execution_count": 14,
      "id": "346f97c2",
      "metadata": {
        "id": "346f97c2"
      },
      "outputs": [],
      "source": [
        "# ---------------------------------\n",
        "# 相互情報量\n",
        "# ---------------------------------\n",
        "from sklearn.feature_selection import mutual_info_classif"
      ]
    },
    {
      "cell_type": "code",
      "execution_count": 15,
      "id": "d5064383",
      "metadata": {
        "id": "d5064383"
      },
      "outputs": [],
      "source": [
        "# 相互情報量\n",
        "mi = mutual_info_classif(train_x, train_y)"
      ]
    },
    {
      "cell_type": "code",
      "execution_count": 16,
      "id": "f0c01087",
      "metadata": {
        "id": "f0c01087",
        "outputId": "bb628f29-ef0c-41d7-b828-c72bf9a908b5",
        "colab": {
          "base_uri": "https://localhost:8080/"
        }
      },
      "outputs": [
        {
          "output_type": "stream",
          "name": "stdout",
          "text": [
            "['medical_info_a1' 'weight' 'age' 'medical_keyword_5' 'medical_keyword_4'] [0.21805214 0.00437808 0.15155308 0.21368557 0.18109642]\n"
          ]
        }
      ],
      "source": [
        "# 重要度の上位を出力する（上位5個まで）\n",
        "idx = np.argsort(mi)[::-1]\n",
        "top_cols, top_importances = train_x.columns.values[idx][:5], corrs[idx][:5]\n",
        "print(top_cols, top_importances)"
      ]
    }
  ],
  "metadata": {
    "jupytext": {
      "cell_metadata_filter": "-all",
      "main_language": "python",
      "notebook_metadata_filter": "-all"
    },
    "colab": {
      "provenance": [],
      "include_colab_link": true
    },
    "language_info": {
      "name": "python"
    },
    "kernelspec": {
      "name": "python3",
      "display_name": "Python 3"
    }
  },
  "nbformat": 4,
  "nbformat_minor": 5
}