{
 "cells": [
  {
   "cell_type": "code",
   "execution_count": null,
   "id": "056f76f8",
   "metadata": {},
   "outputs": [],
   "source": [
    "# ---------------------------------\n",
    "# データ等の準備\n",
    "# ----------------------------------\n",
    "import numpy as np\n",
    "import pandas as pd"
   ]
  },
  {
   "cell_type": "markdown",
   "id": "30ae3f9f",
   "metadata": {},
   "source": [
    "train_xは学習データ、train_yは目的変数、test_xはテストデータ\n",
    "pandasのDataFrame, Seriesで保持します。（numpyのarrayで保持することもあります）"
   ]
  },
  {
   "cell_type": "code",
   "execution_count": null,
   "id": "85572f73",
   "metadata": {},
   "outputs": [],
   "source": [
    "train = pd.read_csv('../input/sample-data/train_preprocessed_onehot.csv')\n",
    "train_x = train.drop(['target'], axis=1)\n",
    "train_y = train['target']\n",
    "test_x = pd.read_csv('../input/sample-data/test_preprocessed_onehot.csv')"
   ]
  },
  {
   "cell_type": "code",
   "execution_count": null,
   "id": "033007d9",
   "metadata": {},
   "outputs": [],
   "source": [
    "# ---------------------------------\n",
    "# argsortによるインデックスのソート\n",
    "# ---------------------------------\n",
    "# argsortを使うことで、配列の値が小さい順／大きい順にインデックスをソートできる\n",
    "ary = np.array([10, 20, 30, 0])\n",
    "idx = ary.argsort()\n",
    "print(idx)  # 昇順 - [3 0 1 2]\n",
    "print(idx[::-1])  # 降順 - [2 1 0 3]"
   ]
  },
  {
   "cell_type": "code",
   "execution_count": null,
   "id": "9a957196",
   "metadata": {},
   "outputs": [],
   "source": [
    "print(ary[idx[::-1][:3]])  # ベスト3を出力 - [30, 20, 10]"
   ]
  },
  {
   "cell_type": "code",
   "execution_count": null,
   "id": "1aa558c1",
   "metadata": {},
   "outputs": [],
   "source": [
    "# ---------------------------------\n",
    "# 相関係数\n",
    "# ---------------------------------\n",
    "import scipy.stats as st"
   ]
  },
  {
   "cell_type": "code",
   "execution_count": null,
   "id": "ca06db55",
   "metadata": {},
   "outputs": [],
   "source": [
    "# 相関係数\n",
    "corrs = []\n",
    "for c in train_x.columns:\n",
    "    corr = np.corrcoef(train_x[c], train_y)[0, 1]\n",
    "    corrs.append(corr)\n",
    "corrs = np.array(corrs)"
   ]
  },
  {
   "cell_type": "code",
   "execution_count": null,
   "id": "54040990",
   "metadata": {},
   "outputs": [],
   "source": [
    "# スピアマンの順位相関係数\n",
    "corrs_sp = []\n",
    "for c in train_x.columns:\n",
    "    corr_sp = st.spearmanr(train_x[c], train_y).correlation\n",
    "    corrs_sp.append(corr_sp)\n",
    "corrs_sp = np.array(corrs_sp)"
   ]
  },
  {
   "cell_type": "code",
   "execution_count": null,
   "id": "2f1bf22a",
   "metadata": {},
   "outputs": [],
   "source": [
    "# 重要度の上位を出力する（上位5個まで）\n",
    "# np.argsortを使うことで、値の順序のとおりに並べたインデックスを取得できる\n",
    "idx = np.argsort(np.abs(corrs))[::-1]\n",
    "top_cols, top_importances = train_x.columns.values[idx][:5], corrs[idx][:5]\n",
    "print(top_cols, top_importances)"
   ]
  },
  {
   "cell_type": "code",
   "execution_count": null,
   "id": "f578c6dd",
   "metadata": {},
   "outputs": [],
   "source": [
    "idx2 = np.argsort(np.abs(corrs_sp))[::-1]\n",
    "top_cols2, top_importances2 = train_x.columns.values[idx][:5], corrs_sp[idx][:5]\n",
    "print(top_cols2, top_importances2)"
   ]
  },
  {
   "cell_type": "code",
   "execution_count": null,
   "id": "76984961",
   "metadata": {},
   "outputs": [],
   "source": [
    "# ---------------------------------\n",
    "# カイ二乗統計量\n",
    "# ---------------------------------\n",
    "from sklearn.feature_selection import chi2\n",
    "from sklearn.preprocessing import MinMaxScaler"
   ]
  },
  {
   "cell_type": "code",
   "execution_count": null,
   "id": "df7904b7",
   "metadata": {},
   "outputs": [],
   "source": [
    "# カイ二乗統計量\n",
    "x = MinMaxScaler().fit_transform(train_x)\n",
    "c2, _ = chi2(x, train_y)"
   ]
  },
  {
   "cell_type": "code",
   "execution_count": null,
   "id": "ac83e346",
   "metadata": {},
   "outputs": [],
   "source": [
    "# 重要度の上位を出力する（上位5個まで）\n",
    "idx = np.argsort(c2)[::-1]\n",
    "top_cols, top_importances = train_x.columns.values[idx][:5], corrs[idx][:5]\n",
    "print(top_cols, top_importances)"
   ]
  },
  {
   "cell_type": "code",
   "execution_count": null,
   "id": "346f97c2",
   "metadata": {},
   "outputs": [],
   "source": [
    "# ---------------------------------\n",
    "# 相互情報量\n",
    "# ---------------------------------\n",
    "from sklearn.feature_selection import mutual_info_classif"
   ]
  },
  {
   "cell_type": "code",
   "execution_count": null,
   "id": "d5064383",
   "metadata": {},
   "outputs": [],
   "source": [
    "# 相互情報量\n",
    "mi = mutual_info_classif(train_x, train_y)"
   ]
  },
  {
   "cell_type": "code",
   "execution_count": null,
   "id": "f0c01087",
   "metadata": {},
   "outputs": [],
   "source": [
    "# 重要度の上位を出力する（上位5個まで）\n",
    "idx = np.argsort(mi)[::-1]\n",
    "top_cols, top_importances = train_x.columns.values[idx][:5], corrs[idx][:5]\n",
    "print(top_cols, top_importances)"
   ]
  }
 ],
 "metadata": {
  "jupytext": {
   "cell_metadata_filter": "-all",
   "main_language": "python",
   "notebook_metadata_filter": "-all"
  }
 },
 "nbformat": 4,
 "nbformat_minor": 5
}
