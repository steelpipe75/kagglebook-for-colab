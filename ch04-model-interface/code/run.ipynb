{
 "cells": [
  {
   "cell_type": "code",
   "execution_count": null,
   "id": "c94975d0",
   "metadata": {},
   "outputs": [],
   "source": [
    "import numpy as np\n",
    "import pandas as pd"
   ]
  },
  {
   "cell_type": "code",
   "execution_count": null,
   "id": "d02d1497",
   "metadata": {},
   "outputs": [],
   "source": [
    "from model_nn import ModelNN\n",
    "from model_xgb import ModelXGB\n",
    "from runner import Runner\n",
    "from util import Submission"
   ]
  },
  {
   "cell_type": "code",
   "execution_count": null,
   "id": "ec77dcf6",
   "metadata": {},
   "outputs": [],
   "source": [
    "if __name__ == '__main__':\n",
    "\n",
    "    params_xgb = {\n",
    "        'objective': 'multi:softprob',\n",
    "        'eval_metric': 'mlogloss',\n",
    "        'num_class': 9,\n",
    "        'max_depth': 12,\n",
    "        'eta': 0.1,\n",
    "        'min_child_weight': 10,\n",
    "        'subsample': 0.9,\n",
    "        'colsample_bytree': 0.8,\n",
    "        'silent': 1,\n",
    "        'random_state': 71,\n",
    "        'num_round': 10000,\n",
    "        'early_stopping_rounds': 10,\n",
    "    }\n",
    "\n",
    "    params_xgb_all = dict(params_xgb)\n",
    "    params_xgb_all['num_round'] = 350\n",
    "\n",
    "    params_nn = {\n",
    "        'layers': 3,\n",
    "        # サンプルのため早く終わるように設定\n",
    "        'nb_epoch': 5,  # 1000\n",
    "        'patience': 10,\n",
    "        'dropout': 0.5,\n",
    "        'units': 512,\n",
    "    }\n",
    "\n",
    "    # 特徴量の指定\n",
    "    features = [f'feat_{i}' for i in range(1, 94)]\n",
    "\n",
    "    # xgboostによる学習・予測\n",
    "    runner = Runner('xgb1', ModelXGB, features, params_xgb)\n",
    "    runner.run_train_cv()\n",
    "    runner.run_predict_cv()\n",
    "    Submission.create_submission('xgb1')\n",
    "\n",
    "    # ニューラルネットによる学習・予測\n",
    "    runner = Runner('nn1', ModelNN, features, params_nn)\n",
    "    runner.run_train_cv()\n",
    "    runner.run_predict_cv()\n",
    "    Submission.create_submission('nn1')\n",
    "\n",
    "    '''\n",
    "    # (参考）xgboostによる学習・予測 - 学習データ全体を使う場合\n",
    "    runner = Runner('xgb1-train-all', ModelXGB, features, params_xgb_all)\n",
    "    runner.run_train_all()\n",
    "    runner.run_test_all()\n",
    "    Submission.create_submission('xgb1-train-all')\n",
    "    '''"
   ]
  }
 ],
 "metadata": {
  "jupytext": {
   "cell_metadata_filter": "-all",
   "main_language": "python",
   "notebook_metadata_filter": "-all"
  }
 },
 "nbformat": 4,
 "nbformat_minor": 5
}
