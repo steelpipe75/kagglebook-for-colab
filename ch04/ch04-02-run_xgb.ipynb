{
 "cells": [
  {
   "cell_type": "code",
   "execution_count": null,
   "id": "6aa180e4",
   "metadata": {},
   "outputs": [],
   "source": [
    "# ---------------------------------\n",
    "# データ等の準備\n",
    "# ----------------------------------\n",
    "import numpy as np\n",
    "import pandas as pd"
   ]
  },
  {
   "cell_type": "markdown",
   "id": "50e086d5",
   "metadata": {},
   "source": [
    "train_xは学習データ、train_yは目的変数、test_xはテストデータ\n",
    "pandasのDataFrame, Seriesで保持します。（numpyのarrayで保持することもあります）"
   ]
  },
  {
   "cell_type": "code",
   "execution_count": null,
   "id": "ef95f8ae",
   "metadata": {},
   "outputs": [],
   "source": [
    "train = pd.read_csv('../input/sample-data/train_preprocessed.csv')\n",
    "train_x = train.drop(['target'], axis=1)\n",
    "train_y = train['target']\n",
    "test_x = pd.read_csv('../input/sample-data/test_preprocessed.csv')"
   ]
  },
  {
   "cell_type": "code",
   "execution_count": null,
   "id": "cd5fe19b",
   "metadata": {},
   "outputs": [],
   "source": [
    "# 学習データを学習データとバリデーションデータに分ける\n",
    "from sklearn.model_selection import KFold"
   ]
  },
  {
   "cell_type": "code",
   "execution_count": null,
   "id": "bf11383b",
   "metadata": {},
   "outputs": [],
   "source": [
    "kf = KFold(n_splits=4, shuffle=True, random_state=71)\n",
    "tr_idx, va_idx = list(kf.split(train_x))[0]\n",
    "tr_x, va_x = train_x.iloc[tr_idx], train_x.iloc[va_idx]\n",
    "tr_y, va_y = train_y.iloc[tr_idx], train_y.iloc[va_idx]"
   ]
  },
  {
   "cell_type": "code",
   "execution_count": null,
   "id": "22b700cc",
   "metadata": {},
   "outputs": [],
   "source": [
    "# -----------------------------------\n",
    "# xgboostの実装\n",
    "# -----------------------------------\n",
    "import xgboost as xgb\n",
    "from sklearn.metrics import log_loss"
   ]
  },
  {
   "cell_type": "code",
   "execution_count": null,
   "id": "36ea03cc",
   "metadata": {},
   "outputs": [],
   "source": [
    "# 特徴量と目的変数をxgboostのデータ構造に変換する\n",
    "dtrain = xgb.DMatrix(tr_x, label=tr_y)\n",
    "dvalid = xgb.DMatrix(va_x, label=va_y)\n",
    "dtest = xgb.DMatrix(test_x)"
   ]
  },
  {
   "cell_type": "code",
   "execution_count": null,
   "id": "d6271685",
   "metadata": {},
   "outputs": [],
   "source": [
    "# ハイパーパラメータの設定\n",
    "params = {'objective': 'binary:logistic', 'silent': 1, 'random_state': 71}\n",
    "num_round = 50"
   ]
  },
  {
   "cell_type": "code",
   "execution_count": null,
   "id": "a46bca04",
   "metadata": {},
   "outputs": [],
   "source": [
    "# 学習の実行\n",
    "# バリデーションデータもモデルに渡し、学習の進行とともにスコアがどう変わるかモニタリングする\n",
    "# watchlistには学習データおよびバリデーションデータをセットする\n",
    "watchlist = [(dtrain, 'train'), (dvalid, 'eval')]\n",
    "model = xgb.train(params, dtrain, num_round, evals=watchlist)"
   ]
  },
  {
   "cell_type": "code",
   "execution_count": null,
   "id": "66d59388",
   "metadata": {},
   "outputs": [],
   "source": [
    "# バリデーションデータでのスコアの確認\n",
    "va_pred = model.predict(dvalid)\n",
    "score = log_loss(va_y, va_pred)\n",
    "print(f'logloss: {score:.4f}')"
   ]
  },
  {
   "cell_type": "code",
   "execution_count": null,
   "id": "1abd3d47",
   "metadata": {},
   "outputs": [],
   "source": [
    "# 予測（二値の予測値ではなく、1である確率を出力するようにしている）\n",
    "pred = model.predict(dtest)"
   ]
  },
  {
   "cell_type": "code",
   "execution_count": null,
   "id": "d42a865b",
   "metadata": {},
   "outputs": [],
   "source": [
    "# -----------------------------------\n",
    "# 学習データとバリデーションデータのスコアのモニタリング\n",
    "# -----------------------------------\n",
    "# モニタリングをloglossで行い、アーリーストッピングの観察するroundを20とする\n",
    "params = {'objective': 'binary:logistic', 'silent': 1, 'random_state': 71,\n",
    "          'eval_metric': 'logloss'}\n",
    "num_round = 500\n",
    "watchlist = [(dtrain, 'train'), (dvalid, 'eval')]\n",
    "model = xgb.train(params, dtrain, num_round, evals=watchlist,\n",
    "                  early_stopping_rounds=20)"
   ]
  },
  {
   "cell_type": "code",
   "execution_count": null,
   "id": "39c984b6",
   "metadata": {},
   "outputs": [],
   "source": [
    "# 最適な決定木の本数で予測を行う\n",
    "pred = model.predict(dtest, ntree_limit=model.best_ntree_limit)"
   ]
  }
 ],
 "metadata": {
  "jupytext": {
   "cell_metadata_filter": "-all",
   "main_language": "python",
   "notebook_metadata_filter": "-all"
  }
 },
 "nbformat": 4,
 "nbformat_minor": 5
}
