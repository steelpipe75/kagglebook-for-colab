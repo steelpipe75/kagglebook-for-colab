{
  "cells": [
    {
      "cell_type": "markdown",
      "metadata": {
        "id": "view-in-github",
        "colab_type": "text"
      },
      "source": [
        "<a href=\"https://colab.research.google.com/github/steelpipe75/kagglebook-for-colab/blob/master/ch04/ch04-02-run_xgb.ipynb\" target=\"_parent\"><img src=\"https://colab.research.google.com/assets/colab-badge.svg\" alt=\"Open In Colab\"/></a>"
      ]
    },
    {
      "cell_type": "code",
      "execution_count": 1,
      "id": "6aa180e4",
      "metadata": {
        "id": "6aa180e4"
      },
      "outputs": [],
      "source": [
        "# ---------------------------------\n",
        "# データ等の準備\n",
        "# ----------------------------------\n",
        "import numpy as np\n",
        "import pandas as pd"
      ]
    },
    {
      "cell_type": "code",
      "source": [
        "import importlib\n",
        "import sys\n",
        "import subprocess\n",
        "\n",
        "# Google Colab 上で実行しているかどうかを判断するフラグ\n",
        "ON_COLAB = \"google.colab\" in sys.modules\n",
        "print(f\"ON_COLAB: {ON_COLAB}\")\n",
        "\n",
        "if ON_COLAB:\n",
        "    USE_GIT = True # Gitを使う\n",
        "    # USE_GIT = False # Gitを使わない\n",
        "\n",
        "    print(f\"USE_GIT: {USE_GIT}\")\n",
        "    if USE_GIT:\n",
        "        !git clone https://github.com/ghmagazine/kagglebook.git\n",
        "    else:\n",
        "        # Google Drive にマウントする\n",
        "        drive = importlib.import_module(\"google.colab.drive\")\n",
        "        drive.mount(\"/content/drive/\")\n",
        "\n",
        "        import os\n",
        "        colab_dir = \"/content/drive/MyDrive/kagglebook/\" # データ置き場"
      ],
      "metadata": {
        "id": "6YzzT2B-FzFG",
        "outputId": "6c22bef6-92fb-4176-f384-fc7ce70a86f9",
        "colab": {
          "base_uri": "https://localhost:8080/"
        }
      },
      "id": "6YzzT2B-FzFG",
      "execution_count": 2,
      "outputs": [
        {
          "output_type": "stream",
          "name": "stdout",
          "text": [
            "ON_COLAB: True\n",
            "USE_GIT: True\n",
            "fatal: destination path 'kagglebook' already exists and is not an empty directory.\n"
          ]
        }
      ]
    },
    {
      "cell_type": "markdown",
      "id": "50e086d5",
      "metadata": {
        "id": "50e086d5"
      },
      "source": [
        "train_xは学習データ、train_yは目的変数、test_xはテストデータ\n",
        "pandasのDataFrame, Seriesで保持します。（numpyのarrayで保持することもあります）"
      ]
    },
    {
      "cell_type": "code",
      "execution_count": 3,
      "id": "ef95f8ae",
      "metadata": {
        "id": "ef95f8ae"
      },
      "outputs": [],
      "source": [
        "if ON_COLAB:\n",
        "    if USE_GIT:\n",
        "        train = pd.read_csv('/content/kagglebook/input/sample-data/train_preprocessed.csv')\n",
        "    else:\n",
        "        train = pd.read_csv(os.path.join(colab_dir, 'input/sample-data/train_preprocessed.csv'))\n",
        "else:\n",
        "    train = pd.read_csv('../input/sample-data/train_preprocessed.csv')\n",
        "train_x = train.drop(['target'], axis=1)\n",
        "train_y = train['target']\n",
        "if ON_COLAB:\n",
        "    if USE_GIT:\n",
        "        test_x = pd.read_csv('/content/kagglebook/input/sample-data/test_preprocessed.csv')\n",
        "    else:\n",
        "        test_x = pd.read_csv(os.path.join(colab_dir, 'input/sample-data/test_preprocessed.csv'))\n",
        "else:\n",
        "    test_x = pd.read_csv('../input/sample-data/test_preprocessed.csv')"
      ]
    },
    {
      "cell_type": "code",
      "execution_count": 4,
      "id": "cd5fe19b",
      "metadata": {
        "id": "cd5fe19b"
      },
      "outputs": [],
      "source": [
        "# 学習データを学習データとバリデーションデータに分ける\n",
        "from sklearn.model_selection import KFold"
      ]
    },
    {
      "cell_type": "code",
      "execution_count": 5,
      "id": "bf11383b",
      "metadata": {
        "id": "bf11383b"
      },
      "outputs": [],
      "source": [
        "kf = KFold(n_splits=4, shuffle=True, random_state=71)\n",
        "tr_idx, va_idx = list(kf.split(train_x))[0]\n",
        "tr_x, va_x = train_x.iloc[tr_idx], train_x.iloc[va_idx]\n",
        "tr_y, va_y = train_y.iloc[tr_idx], train_y.iloc[va_idx]"
      ]
    },
    {
      "cell_type": "code",
      "execution_count": 6,
      "id": "22b700cc",
      "metadata": {
        "id": "22b700cc"
      },
      "outputs": [],
      "source": [
        "# -----------------------------------\n",
        "# xgboostの実装\n",
        "# -----------------------------------\n",
        "import xgboost as xgb\n",
        "from sklearn.metrics import log_loss"
      ]
    },
    {
      "cell_type": "code",
      "execution_count": 7,
      "id": "36ea03cc",
      "metadata": {
        "id": "36ea03cc"
      },
      "outputs": [],
      "source": [
        "# 特徴量と目的変数をxgboostのデータ構造に変換する\n",
        "dtrain = xgb.DMatrix(tr_x, label=tr_y)\n",
        "dvalid = xgb.DMatrix(va_x, label=va_y)\n",
        "dtest = xgb.DMatrix(test_x)"
      ]
    },
    {
      "cell_type": "code",
      "execution_count": 8,
      "id": "d6271685",
      "metadata": {
        "id": "d6271685"
      },
      "outputs": [],
      "source": [
        "# ハイパーパラメータの設定\n",
        "params = {'objective': 'binary:logistic', 'silent': 1, 'random_state': 71}\n",
        "num_round = 50"
      ]
    },
    {
      "cell_type": "code",
      "execution_count": 9,
      "id": "a46bca04",
      "metadata": {
        "id": "a46bca04",
        "outputId": "7f3825b7-82b5-405e-94d9-eb620044e344",
        "colab": {
          "base_uri": "https://localhost:8080/"
        }
      },
      "outputs": [
        {
          "output_type": "stream",
          "name": "stderr",
          "text": [
            "/usr/local/lib/python3.11/dist-packages/xgboost/core.py:158: UserWarning: [14:03:50] WARNING: /workspace/src/learner.cc:740: \n",
            "Parameters: { \"silent\" } are not used.\n",
            "\n",
            "  warnings.warn(smsg, UserWarning)\n"
          ]
        },
        {
          "output_type": "stream",
          "name": "stdout",
          "text": [
            "[0]\ttrain-logloss:0.41663\teval-logloss:0.43550\n",
            "[1]\ttrain-logloss:0.37126\teval-logloss:0.39889\n",
            "[2]\ttrain-logloss:0.33889\teval-logloss:0.37205\n",
            "[3]\ttrain-logloss:0.31320\teval-logloss:0.35606\n",
            "[4]\ttrain-logloss:0.29062\teval-logloss:0.33709\n",
            "[5]\ttrain-logloss:0.27315\teval-logloss:0.32549\n",
            "[6]\ttrain-logloss:0.25735\teval-logloss:0.31328\n",
            "[7]\ttrain-logloss:0.24299\teval-logloss:0.30434\n",
            "[8]\ttrain-logloss:0.22850\teval-logloss:0.29755\n",
            "[9]\ttrain-logloss:0.21984\teval-logloss:0.29490\n",
            "[10]\ttrain-logloss:0.21094\teval-logloss:0.28867\n",
            "[11]\ttrain-logloss:0.20280\teval-logloss:0.28290\n",
            "[12]\ttrain-logloss:0.19173\teval-logloss:0.27823\n",
            "[13]\ttrain-logloss:0.18626\teval-logloss:0.27372\n",
            "[14]\ttrain-logloss:0.17750\teval-logloss:0.27174\n",
            "[15]\ttrain-logloss:0.17111\teval-logloss:0.26724\n",
            "[16]\ttrain-logloss:0.16269\teval-logloss:0.26364\n",
            "[17]\ttrain-logloss:0.15749\teval-logloss:0.26171\n",
            "[18]\ttrain-logloss:0.15286\teval-logloss:0.25777\n",
            "[19]\ttrain-logloss:0.14977\teval-logloss:0.25564\n",
            "[20]\ttrain-logloss:0.14463\teval-logloss:0.25519\n",
            "[21]\ttrain-logloss:0.13899\teval-logloss:0.25306\n",
            "[22]\ttrain-logloss:0.13512\teval-logloss:0.25066\n",
            "[23]\ttrain-logloss:0.13177\teval-logloss:0.24852\n",
            "[24]\ttrain-logloss:0.12694\teval-logloss:0.24723\n",
            "[25]\ttrain-logloss:0.12473\teval-logloss:0.24621\n",
            "[26]\ttrain-logloss:0.12146\teval-logloss:0.24510\n",
            "[27]\ttrain-logloss:0.11716\teval-logloss:0.24219\n",
            "[28]\ttrain-logloss:0.11285\teval-logloss:0.24188\n",
            "[29]\ttrain-logloss:0.11031\teval-logloss:0.24129\n",
            "[30]\ttrain-logloss:0.10748\teval-logloss:0.24004\n",
            "[31]\ttrain-logloss:0.10524\teval-logloss:0.23853\n",
            "[32]\ttrain-logloss:0.10267\teval-logloss:0.23720\n",
            "[33]\ttrain-logloss:0.10009\teval-logloss:0.23633\n",
            "[34]\ttrain-logloss:0.09839\teval-logloss:0.23639\n",
            "[35]\ttrain-logloss:0.09561\teval-logloss:0.23573\n",
            "[36]\ttrain-logloss:0.09340\teval-logloss:0.23530\n",
            "[37]\ttrain-logloss:0.09026\teval-logloss:0.23576\n",
            "[38]\ttrain-logloss:0.08846\teval-logloss:0.23531\n",
            "[39]\ttrain-logloss:0.08633\teval-logloss:0.23498\n",
            "[40]\ttrain-logloss:0.08452\teval-logloss:0.23354\n",
            "[41]\ttrain-logloss:0.08389\teval-logloss:0.23332\n",
            "[42]\ttrain-logloss:0.08273\teval-logloss:0.23285\n",
            "[43]\ttrain-logloss:0.08079\teval-logloss:0.23127\n",
            "[44]\ttrain-logloss:0.07987\teval-logloss:0.23133\n",
            "[45]\ttrain-logloss:0.07617\teval-logloss:0.22856\n",
            "[46]\ttrain-logloss:0.07404\teval-logloss:0.22731\n",
            "[47]\ttrain-logloss:0.07240\teval-logloss:0.22753\n",
            "[48]\ttrain-logloss:0.07084\teval-logloss:0.22650\n",
            "[49]\ttrain-logloss:0.06933\teval-logloss:0.22573\n"
          ]
        }
      ],
      "source": [
        "# 学習の実行\n",
        "# バリデーションデータもモデルに渡し、学習の進行とともにスコアがどう変わるかモニタリングする\n",
        "# watchlistには学習データおよびバリデーションデータをセットする\n",
        "watchlist = [(dtrain, 'train'), (dvalid, 'eval')]\n",
        "model = xgb.train(params, dtrain, num_round, evals=watchlist)"
      ]
    },
    {
      "cell_type": "code",
      "execution_count": 10,
      "id": "66d59388",
      "metadata": {
        "id": "66d59388",
        "outputId": "6c2c42e8-d5a4-40a2-c0b4-8fc04c18d9c7",
        "colab": {
          "base_uri": "https://localhost:8080/"
        }
      },
      "outputs": [
        {
          "output_type": "stream",
          "name": "stdout",
          "text": [
            "logloss: 0.2257\n"
          ]
        }
      ],
      "source": [
        "# バリデーションデータでのスコアの確認\n",
        "va_pred = model.predict(dvalid)\n",
        "score = log_loss(va_y, va_pred)\n",
        "print(f'logloss: {score:.4f}')"
      ]
    },
    {
      "cell_type": "code",
      "execution_count": 11,
      "id": "1abd3d47",
      "metadata": {
        "id": "1abd3d47"
      },
      "outputs": [],
      "source": [
        "# 予測（二値の予測値ではなく、1である確率を出力するようにしている）\n",
        "pred = model.predict(dtest)"
      ]
    },
    {
      "cell_type": "code",
      "execution_count": 12,
      "id": "d42a865b",
      "metadata": {
        "id": "d42a865b",
        "outputId": "0c73769a-8fa0-41d7-b668-f3253776fdac",
        "colab": {
          "base_uri": "https://localhost:8080/"
        }
      },
      "outputs": [
        {
          "output_type": "stream",
          "name": "stdout",
          "text": [
            "[0]\ttrain-logloss:0.41663\teval-logloss:0.43550\n",
            "[1]\ttrain-logloss:0.37126\teval-logloss:0.39889\n"
          ]
        },
        {
          "output_type": "stream",
          "name": "stderr",
          "text": [
            "/usr/local/lib/python3.11/dist-packages/xgboost/core.py:158: UserWarning: [14:03:55] WARNING: /workspace/src/learner.cc:740: \n",
            "Parameters: { \"silent\" } are not used.\n",
            "\n",
            "  warnings.warn(smsg, UserWarning)\n"
          ]
        },
        {
          "output_type": "stream",
          "name": "stdout",
          "text": [
            "[2]\ttrain-logloss:0.33889\teval-logloss:0.37205\n",
            "[3]\ttrain-logloss:0.31320\teval-logloss:0.35606\n",
            "[4]\ttrain-logloss:0.29062\teval-logloss:0.33709\n",
            "[5]\ttrain-logloss:0.27315\teval-logloss:0.32549\n",
            "[6]\ttrain-logloss:0.25735\teval-logloss:0.31328\n",
            "[7]\ttrain-logloss:0.24299\teval-logloss:0.30434\n",
            "[8]\ttrain-logloss:0.22850\teval-logloss:0.29755\n",
            "[9]\ttrain-logloss:0.21984\teval-logloss:0.29490\n",
            "[10]\ttrain-logloss:0.21094\teval-logloss:0.28867\n",
            "[11]\ttrain-logloss:0.20280\teval-logloss:0.28290\n",
            "[12]\ttrain-logloss:0.19173\teval-logloss:0.27823\n",
            "[13]\ttrain-logloss:0.18626\teval-logloss:0.27372\n",
            "[14]\ttrain-logloss:0.17750\teval-logloss:0.27174\n",
            "[15]\ttrain-logloss:0.17111\teval-logloss:0.26724\n",
            "[16]\ttrain-logloss:0.16269\teval-logloss:0.26364\n",
            "[17]\ttrain-logloss:0.15749\teval-logloss:0.26171\n",
            "[18]\ttrain-logloss:0.15286\teval-logloss:0.25777\n",
            "[19]\ttrain-logloss:0.14977\teval-logloss:0.25564\n",
            "[20]\ttrain-logloss:0.14463\teval-logloss:0.25519\n",
            "[21]\ttrain-logloss:0.13899\teval-logloss:0.25306\n",
            "[22]\ttrain-logloss:0.13512\teval-logloss:0.25066\n",
            "[23]\ttrain-logloss:0.13177\teval-logloss:0.24852\n",
            "[24]\ttrain-logloss:0.12694\teval-logloss:0.24723\n",
            "[25]\ttrain-logloss:0.12473\teval-logloss:0.24621\n",
            "[26]\ttrain-logloss:0.12146\teval-logloss:0.24510\n",
            "[27]\ttrain-logloss:0.11716\teval-logloss:0.24219\n",
            "[28]\ttrain-logloss:0.11285\teval-logloss:0.24188\n",
            "[29]\ttrain-logloss:0.11031\teval-logloss:0.24129\n",
            "[30]\ttrain-logloss:0.10748\teval-logloss:0.24004\n",
            "[31]\ttrain-logloss:0.10524\teval-logloss:0.23853\n",
            "[32]\ttrain-logloss:0.10267\teval-logloss:0.23720\n",
            "[33]\ttrain-logloss:0.10009\teval-logloss:0.23633\n",
            "[34]\ttrain-logloss:0.09839\teval-logloss:0.23639\n",
            "[35]\ttrain-logloss:0.09561\teval-logloss:0.23573\n",
            "[36]\ttrain-logloss:0.09340\teval-logloss:0.23530\n",
            "[37]\ttrain-logloss:0.09026\teval-logloss:0.23576\n",
            "[38]\ttrain-logloss:0.08846\teval-logloss:0.23531\n",
            "[39]\ttrain-logloss:0.08633\teval-logloss:0.23498\n",
            "[40]\ttrain-logloss:0.08452\teval-logloss:0.23354\n",
            "[41]\ttrain-logloss:0.08389\teval-logloss:0.23332\n",
            "[42]\ttrain-logloss:0.08273\teval-logloss:0.23285\n",
            "[43]\ttrain-logloss:0.08079\teval-logloss:0.23127\n",
            "[44]\ttrain-logloss:0.07987\teval-logloss:0.23133\n",
            "[45]\ttrain-logloss:0.07617\teval-logloss:0.22856\n",
            "[46]\ttrain-logloss:0.07404\teval-logloss:0.22731\n",
            "[47]\ttrain-logloss:0.07240\teval-logloss:0.22753\n",
            "[48]\ttrain-logloss:0.07084\teval-logloss:0.22650\n",
            "[49]\ttrain-logloss:0.06933\teval-logloss:0.22573\n",
            "[50]\ttrain-logloss:0.06807\teval-logloss:0.22534\n",
            "[51]\ttrain-logloss:0.06739\teval-logloss:0.22514\n",
            "[52]\ttrain-logloss:0.06546\teval-logloss:0.22560\n",
            "[53]\ttrain-logloss:0.06451\teval-logloss:0.22516\n",
            "[54]\ttrain-logloss:0.06357\teval-logloss:0.22499\n",
            "[55]\ttrain-logloss:0.06227\teval-logloss:0.22509\n",
            "[56]\ttrain-logloss:0.06110\teval-logloss:0.22415\n",
            "[57]\ttrain-logloss:0.05826\teval-logloss:0.21932\n",
            "[58]\ttrain-logloss:0.05639\teval-logloss:0.21938\n",
            "[59]\ttrain-logloss:0.05539\teval-logloss:0.21889\n",
            "[60]\ttrain-logloss:0.05415\teval-logloss:0.21868\n",
            "[61]\ttrain-logloss:0.05286\teval-logloss:0.21995\n",
            "[62]\ttrain-logloss:0.05221\teval-logloss:0.21956\n",
            "[63]\ttrain-logloss:0.05132\teval-logloss:0.21878\n",
            "[64]\ttrain-logloss:0.05011\teval-logloss:0.21858\n",
            "[65]\ttrain-logloss:0.04951\teval-logloss:0.21883\n",
            "[66]\ttrain-logloss:0.04833\teval-logloss:0.21874\n",
            "[67]\ttrain-logloss:0.04757\teval-logloss:0.21894\n",
            "[68]\ttrain-logloss:0.04618\teval-logloss:0.21845\n",
            "[69]\ttrain-logloss:0.04494\teval-logloss:0.21851\n",
            "[70]\ttrain-logloss:0.04453\teval-logloss:0.21845\n",
            "[71]\ttrain-logloss:0.04400\teval-logloss:0.21847\n",
            "[72]\ttrain-logloss:0.04277\teval-logloss:0.21636\n",
            "[73]\ttrain-logloss:0.04147\teval-logloss:0.21696\n",
            "[74]\ttrain-logloss:0.04101\teval-logloss:0.21772\n",
            "[75]\ttrain-logloss:0.04009\teval-logloss:0.21772\n",
            "[76]\ttrain-logloss:0.03966\teval-logloss:0.21816\n",
            "[77]\ttrain-logloss:0.03878\teval-logloss:0.21805\n",
            "[78]\ttrain-logloss:0.03856\teval-logloss:0.21830\n",
            "[79]\ttrain-logloss:0.03754\teval-logloss:0.21730\n",
            "[80]\ttrain-logloss:0.03671\teval-logloss:0.21787\n",
            "[81]\ttrain-logloss:0.03596\teval-logloss:0.21765\n",
            "[82]\ttrain-logloss:0.03537\teval-logloss:0.21729\n",
            "[83]\ttrain-logloss:0.03507\teval-logloss:0.21744\n",
            "[84]\ttrain-logloss:0.03435\teval-logloss:0.21613\n",
            "[85]\ttrain-logloss:0.03395\teval-logloss:0.21604\n",
            "[86]\ttrain-logloss:0.03317\teval-logloss:0.21662\n",
            "[87]\ttrain-logloss:0.03244\teval-logloss:0.21733\n",
            "[88]\ttrain-logloss:0.03224\teval-logloss:0.21748\n",
            "[89]\ttrain-logloss:0.03173\teval-logloss:0.21745\n",
            "[90]\ttrain-logloss:0.03119\teval-logloss:0.21733\n",
            "[91]\ttrain-logloss:0.03080\teval-logloss:0.21781\n",
            "[92]\ttrain-logloss:0.03015\teval-logloss:0.21770\n",
            "[93]\ttrain-logloss:0.02992\teval-logloss:0.21796\n",
            "[94]\ttrain-logloss:0.02926\teval-logloss:0.21857\n",
            "[95]\ttrain-logloss:0.02866\teval-logloss:0.21819\n",
            "[96]\ttrain-logloss:0.02844\teval-logloss:0.21846\n",
            "[97]\ttrain-logloss:0.02816\teval-logloss:0.21895\n",
            "[98]\ttrain-logloss:0.02751\teval-logloss:0.21816\n",
            "[99]\ttrain-logloss:0.02708\teval-logloss:0.21845\n",
            "[100]\ttrain-logloss:0.02671\teval-logloss:0.21809\n",
            "[101]\ttrain-logloss:0.02644\teval-logloss:0.21877\n",
            "[102]\ttrain-logloss:0.02614\teval-logloss:0.21823\n",
            "[103]\ttrain-logloss:0.02572\teval-logloss:0.21912\n",
            "[104]\ttrain-logloss:0.02551\teval-logloss:0.21908\n",
            "[105]\ttrain-logloss:0.02535\teval-logloss:0.21946\n"
          ]
        }
      ],
      "source": [
        "# -----------------------------------\n",
        "# 学習データとバリデーションデータのスコアのモニタリング\n",
        "# -----------------------------------\n",
        "# モニタリングをloglossで行い、アーリーストッピングの観察するroundを20とする\n",
        "params = {'objective': 'binary:logistic', 'silent': 1, 'random_state': 71,\n",
        "          'eval_metric': 'logloss'}\n",
        "num_round = 500\n",
        "watchlist = [(dtrain, 'train'), (dvalid, 'eval')]\n",
        "model = xgb.train(params, dtrain, num_round, evals=watchlist,\n",
        "                  early_stopping_rounds=20)"
      ]
    },
    {
      "cell_type": "code",
      "execution_count": 13,
      "id": "39c984b6",
      "metadata": {
        "id": "39c984b6",
        "outputId": "d123b914-58ed-4e18-c92e-b294b4ca8774",
        "colab": {
          "base_uri": "https://localhost:8080/",
          "height": 170
        }
      },
      "outputs": [
        {
          "output_type": "error",
          "ename": "AttributeError",
          "evalue": "'Booster' object has no attribute 'best_ntree_limit'",
          "traceback": [
            "\u001b[0;31m---------------------------------------------------------------------------\u001b[0m",
            "\u001b[0;31mAttributeError\u001b[0m                            Traceback (most recent call last)",
            "\u001b[0;32m<ipython-input-13-7fb10fcf443f>\u001b[0m in \u001b[0;36m<cell line: 0>\u001b[0;34m()\u001b[0m\n\u001b[1;32m      1\u001b[0m \u001b[0;31m# 最適な決定木の本数で予測を行う\u001b[0m\u001b[0;34m\u001b[0m\u001b[0;34m\u001b[0m\u001b[0m\n\u001b[0;32m----> 2\u001b[0;31m \u001b[0mpred\u001b[0m \u001b[0;34m=\u001b[0m \u001b[0mmodel\u001b[0m\u001b[0;34m.\u001b[0m\u001b[0mpredict\u001b[0m\u001b[0;34m(\u001b[0m\u001b[0mdtest\u001b[0m\u001b[0;34m,\u001b[0m \u001b[0mntree_limit\u001b[0m\u001b[0;34m=\u001b[0m\u001b[0mmodel\u001b[0m\u001b[0;34m.\u001b[0m\u001b[0mbest_ntree_limit\u001b[0m\u001b[0;34m)\u001b[0m\u001b[0;34m\u001b[0m\u001b[0;34m\u001b[0m\u001b[0m\n\u001b[0m",
            "\u001b[0;31mAttributeError\u001b[0m: 'Booster' object has no attribute 'best_ntree_limit'"
          ]
        }
      ],
      "source": [
        "# 最適な決定木の本数で予測を行う\n",
        "pred = model.predict(dtest, ntree_limit=model.best_ntree_limit)"
      ]
    }
  ],
  "metadata": {
    "jupytext": {
      "cell_metadata_filter": "-all",
      "main_language": "python",
      "notebook_metadata_filter": "-all"
    },
    "colab": {
      "provenance": [],
      "include_colab_link": true
    },
    "language_info": {
      "name": "python"
    },
    "kernelspec": {
      "name": "python3",
      "display_name": "Python 3"
    }
  },
  "nbformat": 4,
  "nbformat_minor": 5
}