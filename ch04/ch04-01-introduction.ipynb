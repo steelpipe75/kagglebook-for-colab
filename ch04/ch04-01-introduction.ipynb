{
 "cells": [
  {
   "cell_type": "code",
   "execution_count": null,
   "id": "d86ff844",
   "metadata": {},
   "outputs": [],
   "source": [
    "# ---------------------------------\n",
    "# データ等の準備\n",
    "# ----------------------------------\n",
    "import numpy as np\n",
    "import pandas as pd"
   ]
  },
  {
   "cell_type": "markdown",
   "id": "78555cbb",
   "metadata": {},
   "source": [
    "train_xは学習データ、train_yは目的変数、test_xはテストデータ\n",
    "pandasのDataFrame, Seriesで保持します。（numpyのarrayで保持することもあります）"
   ]
  },
  {
   "cell_type": "code",
   "execution_count": null,
   "id": "796c097b",
   "metadata": {},
   "outputs": [],
   "source": [
    "train = pd.read_csv('../input/sample-data/train_preprocessed.csv')\n",
    "train_x = train.drop(['target'], axis=1)\n",
    "train_y = train['target']\n",
    "test_x = pd.read_csv('../input/sample-data/test_preprocessed.csv')"
   ]
  },
  {
   "cell_type": "code",
   "execution_count": null,
   "id": "b39af281",
   "metadata": {},
   "outputs": [],
   "source": [
    "import xgboost as xgb"
   ]
  },
  {
   "cell_type": "code",
   "execution_count": null,
   "id": "d7b7e55d",
   "metadata": {},
   "outputs": [],
   "source": [
    "# コードの動作を確認するためのモデル\n",
    "class Model:\n",
    "\n",
    "    def __init__(self, params=None):\n",
    "        self.model = None\n",
    "        if params is None:\n",
    "            self.params = {}\n",
    "        else:\n",
    "            self.params = params\n",
    "\n",
    "    def fit(self, tr_x, tr_y):\n",
    "        params = {'objective': 'binary:logistic', 'silent': 1, 'random_state': 71}\n",
    "        params.update(self.params)\n",
    "        num_round = 10\n",
    "        dtrain = xgb.DMatrix(tr_x, label=tr_y)\n",
    "        self.model = xgb.train(params, dtrain, num_round)\n",
    "\n",
    "    def predict(self, x):\n",
    "        data = xgb.DMatrix(x)\n",
    "        pred = self.model.predict(data)\n",
    "        return pred"
   ]
  },
  {
   "cell_type": "code",
   "execution_count": null,
   "id": "77cdac71",
   "metadata": {},
   "outputs": [],
   "source": [
    "# -----------------------------------\n",
    "# モデルの学習と予測\n",
    "# -----------------------------------\n",
    "# モデルのハイパーパラメータを指定する\n",
    "params = {'param1': 10, 'param2': 100}"
   ]
  },
  {
   "cell_type": "markdown",
   "id": "f1e38ad7",
   "metadata": {},
   "source": [
    "Modelクラスを定義しているものとする\n",
    "Modelクラスは、fitで学習し、predictで予測値の確率を出力する"
   ]
  },
  {
   "cell_type": "code",
   "execution_count": null,
   "id": "aa83e06c",
   "metadata": {},
   "outputs": [],
   "source": [
    "# モデルを定義する\n",
    "model = Model(params)"
   ]
  },
  {
   "cell_type": "code",
   "execution_count": null,
   "id": "b092591c",
   "metadata": {},
   "outputs": [],
   "source": [
    "# 学習データに対してモデルを学習させる\n",
    "model.fit(train_x, train_y)"
   ]
  },
  {
   "cell_type": "code",
   "execution_count": null,
   "id": "cf25705a",
   "metadata": {},
   "outputs": [],
   "source": [
    "# テストデータに対して予測結果を出力する\n",
    "pred = model.predict(test_x)"
   ]
  },
  {
   "cell_type": "code",
   "execution_count": null,
   "id": "b8b3150f",
   "metadata": {},
   "outputs": [],
   "source": [
    "# -----------------------------------\n",
    "# バリデーション\n",
    "# -----------------------------------\n",
    "from sklearn.metrics import log_loss\n",
    "from sklearn.model_selection import KFold"
   ]
  },
  {
   "cell_type": "code",
   "execution_count": null,
   "id": "46daafc6",
   "metadata": {},
   "outputs": [],
   "source": [
    "# 学習データ・バリデーションデータを分けるためのインデックスを作成する\n",
    "# 学習データを4つに分割し、うち1つをバリデーションデータとする\n",
    "kf = KFold(n_splits=4, shuffle=True, random_state=71)\n",
    "tr_idx, va_idx = list(kf.split(train_x))[0]"
   ]
  },
  {
   "cell_type": "code",
   "execution_count": null,
   "id": "f0bfa07e",
   "metadata": {},
   "outputs": [],
   "source": [
    "# 学習データを学習データとバリデーションデータに分ける\n",
    "tr_x, va_x = train_x.iloc[tr_idx], train_x.iloc[va_idx]\n",
    "tr_y, va_y = train_y.iloc[tr_idx], train_y.iloc[va_idx]"
   ]
  },
  {
   "cell_type": "code",
   "execution_count": null,
   "id": "3c3afcde",
   "metadata": {},
   "outputs": [],
   "source": [
    "# モデルを定義する\n",
    "model = Model(params)"
   ]
  },
  {
   "cell_type": "code",
   "execution_count": null,
   "id": "01fc19ec",
   "metadata": {},
   "outputs": [],
   "source": [
    "# 学習データに対してモデルを学習させる\n",
    "# モデルによっては、バリデーションデータを同時に与えてスコアをモニタリングすることができる\n",
    "model.fit(tr_x, tr_y)"
   ]
  },
  {
   "cell_type": "code",
   "execution_count": null,
   "id": "3ca375fd",
   "metadata": {},
   "outputs": [],
   "source": [
    "# バリデーションデータに対して予測し、評価を行う\n",
    "va_pred = model.predict(va_x)\n",
    "score = log_loss(va_y, va_pred)\n",
    "print(f'logloss: {score:.4f}')"
   ]
  },
  {
   "cell_type": "code",
   "execution_count": null,
   "id": "acd6c7af",
   "metadata": {},
   "outputs": [],
   "source": [
    "# -----------------------------------\n",
    "# クロスバリデーション\n",
    "# -----------------------------------\n",
    "from sklearn.metrics import log_loss\n",
    "from sklearn.model_selection import KFold"
   ]
  },
  {
   "cell_type": "code",
   "execution_count": null,
   "id": "5a6a9511",
   "metadata": {},
   "outputs": [],
   "source": [
    "# 学習データを4つに分け、うち1つをバリデーションデータとする\n",
    "# どれをバリデーションデータとするかを変えて学習・評価を4回行う\n",
    "scores = []\n",
    "kf = KFold(n_splits=4, shuffle=True, random_state=71)\n",
    "for tr_idx, va_idx in kf.split(train_x):\n",
    "    tr_x, va_x = train_x.iloc[tr_idx], train_x.iloc[va_idx]\n",
    "    tr_y, va_y = train_y.iloc[tr_idx], train_y.iloc[va_idx]\n",
    "    model = Model(params)\n",
    "    model.fit(tr_x, tr_y)\n",
    "    va_pred = model.predict(va_x)\n",
    "    score = log_loss(va_y, va_pred)\n",
    "    scores.append(score)"
   ]
  },
  {
   "cell_type": "code",
   "execution_count": null,
   "id": "333f589c",
   "metadata": {},
   "outputs": [],
   "source": [
    "# クロスバリデーションの平均のスコアを出力する\n",
    "print(f'logloss: {np.mean(scores):.4f}')"
   ]
  }
 ],
 "metadata": {
  "jupytext": {
   "cell_metadata_filter": "-all",
   "main_language": "python",
   "notebook_metadata_filter": "-all"
  }
 },
 "nbformat": 4,
 "nbformat_minor": 5
}
