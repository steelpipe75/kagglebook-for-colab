{
  "cells": [
    {
      "cell_type": "markdown",
      "metadata": {
        "id": "view-in-github",
        "colab_type": "text"
      },
      "source": [
        "<a href=\"https://colab.research.google.com/github/steelpipe75/kagglebook-for-colab/blob/master/ch04/ch04-01-introduction.ipynb\" target=\"_parent\"><img src=\"https://colab.research.google.com/assets/colab-badge.svg\" alt=\"Open In Colab\"/></a>"
      ]
    },
    {
      "cell_type": "code",
      "execution_count": 1,
      "id": "d86ff844",
      "metadata": {
        "id": "d86ff844"
      },
      "outputs": [],
      "source": [
        "# ---------------------------------\n",
        "# データ等の準備\n",
        "# ----------------------------------\n",
        "import numpy as np\n",
        "import pandas as pd"
      ]
    },
    {
      "cell_type": "code",
      "source": [
        "import importlib\n",
        "import sys\n",
        "import subprocess\n",
        "\n",
        "# Google Colab 上で実行しているかどうかを判断するフラグ\n",
        "ON_COLAB = \"google.colab\" in sys.modules\n",
        "print(f\"ON_COLAB: {ON_COLAB}\")\n",
        "\n",
        "if ON_COLAB:\n",
        "    USE_GIT = True # Gitを使う\n",
        "    # USE_GIT = False # Gitを使わない\n",
        "\n",
        "    print(f\"USE_GIT: {USE_GIT}\")\n",
        "    if USE_GIT:\n",
        "        !git clone https://github.com/ghmagazine/kagglebook.git\n",
        "    else:\n",
        "        # Google Drive にマウントする\n",
        "        drive = importlib.import_module(\"google.colab.drive\")\n",
        "        drive.mount(\"/content/drive/\")\n",
        "\n",
        "        import os\n",
        "        colab_dir = \"/content/drive/MyDrive/kagglebook/\" # データ置き場"
      ],
      "metadata": {
        "id": "JLgsWgM_8yoY",
        "outputId": "9fc63d38-4885-4093-d244-d7ac6d30c49b",
        "colab": {
          "base_uri": "https://localhost:8080/"
        }
      },
      "id": "JLgsWgM_8yoY",
      "execution_count": 2,
      "outputs": [
        {
          "output_type": "stream",
          "name": "stdout",
          "text": [
            "ON_COLAB: True\n",
            "USE_GIT: True\n",
            "fatal: destination path 'kagglebook' already exists and is not an empty directory.\n"
          ]
        }
      ]
    },
    {
      "cell_type": "markdown",
      "id": "78555cbb",
      "metadata": {
        "id": "78555cbb"
      },
      "source": [
        "train_xは学習データ、train_yは目的変数、test_xはテストデータ\n",
        "pandasのDataFrame, Seriesで保持します。（numpyのarrayで保持することもあります）"
      ]
    },
    {
      "cell_type": "code",
      "execution_count": 3,
      "id": "796c097b",
      "metadata": {
        "id": "796c097b"
      },
      "outputs": [],
      "source": [
        "\n",
        "if ON_COLAB:\n",
        "    if USE_GIT:\n",
        "        train = pd.read_csv('/content/kagglebook/input/sample-data/train_preprocessed.csv')\n",
        "    else:\n",
        "        train = pd.read_csv(os.path.join(colab_dir, 'input/sample-data/train_preprocessed.csv'))\n",
        "else:\n",
        "    train = pd.read_csv('../input/sample-data/train_preprocessed.csv')\n",
        "train_x = train.drop(['target'], axis=1)\n",
        "train_y = train['target']\n",
        "if ON_COLAB:\n",
        "    if USE_GIT:\n",
        "        test_x = pd.read_csv('/content/kagglebook/input/sample-data/test_preprocessed.csv')\n",
        "    else:\n",
        "        test_x = pd.read_csv(os.path.join(colab_dir, 'input/sample-data/test_preprocessed.csv'))\n",
        "else:\n",
        "    test_x = pd.read_csv('../input/sample-data/test_preprocessed.csv')"
      ]
    },
    {
      "cell_type": "code",
      "execution_count": 4,
      "id": "b39af281",
      "metadata": {
        "id": "b39af281"
      },
      "outputs": [],
      "source": [
        "import xgboost as xgb"
      ]
    },
    {
      "cell_type": "code",
      "execution_count": 5,
      "id": "d7b7e55d",
      "metadata": {
        "id": "d7b7e55d"
      },
      "outputs": [],
      "source": [
        "# コードの動作を確認するためのモデル\n",
        "class Model:\n",
        "\n",
        "    def __init__(self, params=None):\n",
        "        self.model = None\n",
        "        if params is None:\n",
        "            self.params = {}\n",
        "        else:\n",
        "            self.params = params\n",
        "\n",
        "    def fit(self, tr_x, tr_y):\n",
        "        params = {'objective': 'binary:logistic', 'silent': 1, 'random_state': 71}\n",
        "        params.update(self.params)\n",
        "        num_round = 10\n",
        "        dtrain = xgb.DMatrix(tr_x, label=tr_y)\n",
        "        self.model = xgb.train(params, dtrain, num_round)\n",
        "\n",
        "    def predict(self, x):\n",
        "        data = xgb.DMatrix(x)\n",
        "        pred = self.model.predict(data)\n",
        "        return pred"
      ]
    },
    {
      "cell_type": "code",
      "execution_count": 6,
      "id": "77cdac71",
      "metadata": {
        "id": "77cdac71"
      },
      "outputs": [],
      "source": [
        "# -----------------------------------\n",
        "# モデルの学習と予測\n",
        "# -----------------------------------\n",
        "# モデルのハイパーパラメータを指定する\n",
        "params = {'param1': 10, 'param2': 100}"
      ]
    },
    {
      "cell_type": "markdown",
      "id": "f1e38ad7",
      "metadata": {
        "id": "f1e38ad7"
      },
      "source": [
        "Modelクラスを定義しているものとする\n",
        "Modelクラスは、fitで学習し、predictで予測値の確率を出力する"
      ]
    },
    {
      "cell_type": "code",
      "execution_count": 7,
      "id": "aa83e06c",
      "metadata": {
        "id": "aa83e06c"
      },
      "outputs": [],
      "source": [
        "# モデルを定義する\n",
        "model = Model(params)"
      ]
    },
    {
      "cell_type": "code",
      "execution_count": 8,
      "id": "b092591c",
      "metadata": {
        "id": "b092591c",
        "outputId": "e5421991-fd44-4854-bee8-2cb1282fda61",
        "colab": {
          "base_uri": "https://localhost:8080/"
        }
      },
      "outputs": [
        {
          "output_type": "stream",
          "name": "stderr",
          "text": [
            "/usr/local/lib/python3.11/dist-packages/xgboost/core.py:158: UserWarning: [11:38:26] WARNING: /workspace/src/learner.cc:740: \n",
            "Parameters: { \"param1\", \"param2\", \"silent\" } are not used.\n",
            "\n",
            "  warnings.warn(smsg, UserWarning)\n"
          ]
        }
      ],
      "source": [
        "# 学習データに対してモデルを学習させる\n",
        "model.fit(train_x, train_y)"
      ]
    },
    {
      "cell_type": "code",
      "execution_count": 9,
      "id": "cf25705a",
      "metadata": {
        "id": "cf25705a"
      },
      "outputs": [],
      "source": [
        "# テストデータに対して予測結果を出力する\n",
        "pred = model.predict(test_x)"
      ]
    },
    {
      "cell_type": "code",
      "execution_count": 10,
      "id": "b8b3150f",
      "metadata": {
        "id": "b8b3150f"
      },
      "outputs": [],
      "source": [
        "# -----------------------------------\n",
        "# バリデーション\n",
        "# -----------------------------------\n",
        "from sklearn.metrics import log_loss\n",
        "from sklearn.model_selection import KFold"
      ]
    },
    {
      "cell_type": "code",
      "execution_count": 11,
      "id": "46daafc6",
      "metadata": {
        "id": "46daafc6"
      },
      "outputs": [],
      "source": [
        "# 学習データ・バリデーションデータを分けるためのインデックスを作成する\n",
        "# 学習データを4つに分割し、うち1つをバリデーションデータとする\n",
        "kf = KFold(n_splits=4, shuffle=True, random_state=71)\n",
        "tr_idx, va_idx = list(kf.split(train_x))[0]"
      ]
    },
    {
      "cell_type": "code",
      "execution_count": 12,
      "id": "f0bfa07e",
      "metadata": {
        "id": "f0bfa07e"
      },
      "outputs": [],
      "source": [
        "# 学習データを学習データとバリデーションデータに分ける\n",
        "tr_x, va_x = train_x.iloc[tr_idx], train_x.iloc[va_idx]\n",
        "tr_y, va_y = train_y.iloc[tr_idx], train_y.iloc[va_idx]"
      ]
    },
    {
      "cell_type": "code",
      "execution_count": 13,
      "id": "3c3afcde",
      "metadata": {
        "id": "3c3afcde"
      },
      "outputs": [],
      "source": [
        "# モデルを定義する\n",
        "model = Model(params)"
      ]
    },
    {
      "cell_type": "code",
      "execution_count": 14,
      "id": "01fc19ec",
      "metadata": {
        "id": "01fc19ec",
        "outputId": "2bf15627-788b-41e4-f79c-b34152c22f48",
        "colab": {
          "base_uri": "https://localhost:8080/"
        }
      },
      "outputs": [
        {
          "output_type": "stream",
          "name": "stderr",
          "text": [
            "/usr/local/lib/python3.11/dist-packages/xgboost/core.py:158: UserWarning: [11:38:27] WARNING: /workspace/src/learner.cc:740: \n",
            "Parameters: { \"param1\", \"param2\", \"silent\" } are not used.\n",
            "\n",
            "  warnings.warn(smsg, UserWarning)\n"
          ]
        }
      ],
      "source": [
        "# 学習データに対してモデルを学習させる\n",
        "# モデルによっては、バリデーションデータを同時に与えてスコアをモニタリングすることができる\n",
        "model.fit(tr_x, tr_y)"
      ]
    },
    {
      "cell_type": "code",
      "execution_count": 15,
      "id": "3ca375fd",
      "metadata": {
        "id": "3ca375fd",
        "outputId": "5136d6f7-f260-4c9d-a361-0d322b3439c2",
        "colab": {
          "base_uri": "https://localhost:8080/"
        }
      },
      "outputs": [
        {
          "output_type": "stream",
          "name": "stdout",
          "text": [
            "logloss: 0.2949\n"
          ]
        }
      ],
      "source": [
        "# バリデーションデータに対して予測し、評価を行う\n",
        "va_pred = model.predict(va_x)\n",
        "score = log_loss(va_y, va_pred)\n",
        "print(f'logloss: {score:.4f}')"
      ]
    },
    {
      "cell_type": "code",
      "execution_count": 16,
      "id": "acd6c7af",
      "metadata": {
        "id": "acd6c7af"
      },
      "outputs": [],
      "source": [
        "# -----------------------------------\n",
        "# クロスバリデーション\n",
        "# -----------------------------------\n",
        "from sklearn.metrics import log_loss\n",
        "from sklearn.model_selection import KFold"
      ]
    },
    {
      "cell_type": "code",
      "execution_count": 17,
      "id": "5a6a9511",
      "metadata": {
        "id": "5a6a9511",
        "outputId": "5ee5f976-aee0-4bf4-ba86-6332db6d41f6",
        "colab": {
          "base_uri": "https://localhost:8080/"
        }
      },
      "outputs": [
        {
          "output_type": "stream",
          "name": "stderr",
          "text": [
            "/usr/local/lib/python3.11/dist-packages/xgboost/core.py:158: UserWarning: [11:38:27] WARNING: /workspace/src/learner.cc:740: \n",
            "Parameters: { \"param1\", \"param2\", \"silent\" } are not used.\n",
            "\n",
            "  warnings.warn(smsg, UserWarning)\n",
            "/usr/local/lib/python3.11/dist-packages/xgboost/core.py:158: UserWarning: [11:38:28] WARNING: /workspace/src/learner.cc:740: \n",
            "Parameters: { \"param1\", \"param2\", \"silent\" } are not used.\n",
            "\n",
            "  warnings.warn(smsg, UserWarning)\n",
            "/usr/local/lib/python3.11/dist-packages/xgboost/core.py:158: UserWarning: [11:38:28] WARNING: /workspace/src/learner.cc:740: \n",
            "Parameters: { \"param1\", \"param2\", \"silent\" } are not used.\n",
            "\n",
            "  warnings.warn(smsg, UserWarning)\n",
            "/usr/local/lib/python3.11/dist-packages/xgboost/core.py:158: UserWarning: [11:38:29] WARNING: /workspace/src/learner.cc:740: \n",
            "Parameters: { \"param1\", \"param2\", \"silent\" } are not used.\n",
            "\n",
            "  warnings.warn(smsg, UserWarning)\n"
          ]
        }
      ],
      "source": [
        "# 学習データを4つに分け、うち1つをバリデーションデータとする\n",
        "# どれをバリデーションデータとするかを変えて学習・評価を4回行う\n",
        "scores = []\n",
        "kf = KFold(n_splits=4, shuffle=True, random_state=71)\n",
        "for tr_idx, va_idx in kf.split(train_x):\n",
        "    tr_x, va_x = train_x.iloc[tr_idx], train_x.iloc[va_idx]\n",
        "    tr_y, va_y = train_y.iloc[tr_idx], train_y.iloc[va_idx]\n",
        "    model = Model(params)\n",
        "    model.fit(tr_x, tr_y)\n",
        "    va_pred = model.predict(va_x)\n",
        "    score = log_loss(va_y, va_pred)\n",
        "    scores.append(score)"
      ]
    },
    {
      "cell_type": "code",
      "execution_count": 18,
      "id": "333f589c",
      "metadata": {
        "id": "333f589c",
        "outputId": "0086dd5e-b99e-4c88-ef66-cb2c0ccea785",
        "colab": {
          "base_uri": "https://localhost:8080/"
        }
      },
      "outputs": [
        {
          "output_type": "stream",
          "name": "stdout",
          "text": [
            "logloss: 0.2912\n"
          ]
        }
      ],
      "source": [
        "# クロスバリデーションの平均のスコアを出力する\n",
        "print(f'logloss: {np.mean(scores):.4f}')"
      ]
    }
  ],
  "metadata": {
    "jupytext": {
      "cell_metadata_filter": "-all",
      "main_language": "python",
      "notebook_metadata_filter": "-all"
    },
    "colab": {
      "provenance": [],
      "include_colab_link": true
    },
    "language_info": {
      "name": "python"
    },
    "kernelspec": {
      "name": "python3",
      "display_name": "Python 3"
    }
  },
  "nbformat": 4,
  "nbformat_minor": 5
}