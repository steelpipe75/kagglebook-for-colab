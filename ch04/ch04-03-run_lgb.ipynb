{
  "cells": [
    {
      "cell_type": "markdown",
      "metadata": {
        "id": "view-in-github",
        "colab_type": "text"
      },
      "source": [
        "<a href=\"https://colab.research.google.com/github/steelpipe75/kagglebook-for-colab/blob/master/ch04/ch04-03-run_lgb.ipynb\" target=\"_parent\"><img src=\"https://colab.research.google.com/assets/colab-badge.svg\" alt=\"Open In Colab\"/></a>"
      ]
    },
    {
      "cell_type": "code",
      "execution_count": 1,
      "id": "07928d20",
      "metadata": {
        "id": "07928d20"
      },
      "outputs": [],
      "source": [
        "# ---------------------------------\n",
        "# データ等の準備\n",
        "# ----------------------------------\n",
        "import numpy as np\n",
        "import pandas as pd"
      ]
    },
    {
      "cell_type": "code",
      "source": [
        "import importlib\n",
        "import sys\n",
        "import subprocess\n",
        "\n",
        "# Google Colab 上で実行しているかどうかを判断するフラグ\n",
        "ON_COLAB = \"google.colab\" in sys.modules\n",
        "print(f\"ON_COLAB: {ON_COLAB}\")\n",
        "\n",
        "if ON_COLAB:\n",
        "    USE_GIT = True # Gitを使う\n",
        "    # USE_GIT = False # Gitを使わない\n",
        "\n",
        "    print(f\"USE_GIT: {USE_GIT}\")\n",
        "    if USE_GIT:\n",
        "        !git clone https://github.com/ghmagazine/kagglebook.git\n",
        "    else:\n",
        "        # Google Drive にマウントする\n",
        "        drive = importlib.import_module(\"google.colab.drive\")\n",
        "        drive.mount(\"/content/drive/\")\n",
        "\n",
        "        import os\n",
        "        colab_dir = \"/content/drive/MyDrive/kagglebook/\" # データ置き場"
      ],
      "metadata": {
        "id": "M6t_vaMfTHcI",
        "outputId": "1ce1bac6-a657-4e95-fee4-7c26e277d7eb",
        "colab": {
          "base_uri": "https://localhost:8080/"
        }
      },
      "id": "M6t_vaMfTHcI",
      "execution_count": 2,
      "outputs": [
        {
          "output_type": "stream",
          "name": "stdout",
          "text": [
            "ON_COLAB: True\n",
            "USE_GIT: True\n",
            "Cloning into 'kagglebook'...\n",
            "remote: Enumerating objects: 95, done.\u001b[K\n",
            "remote: Counting objects: 100% (94/94), done.\u001b[K\n",
            "remote: Compressing objects: 100% (73/73), done.\u001b[K\n",
            "remote: Total 95 (delta 19), reused 86 (delta 18), pack-reused 1 (from 1)\u001b[K\n",
            "Receiving objects: 100% (95/95), 3.13 MiB | 6.53 MiB/s, done.\n",
            "Resolving deltas: 100% (19/19), done.\n"
          ]
        }
      ]
    },
    {
      "cell_type": "markdown",
      "id": "bd373f23",
      "metadata": {
        "id": "bd373f23"
      },
      "source": [
        "train_xは学習データ、train_yは目的変数、test_xはテストデータ\n",
        "pandasのDataFrame, Seriesで保持します。（numpyのarrayで保持することもあります）"
      ]
    },
    {
      "cell_type": "code",
      "execution_count": 3,
      "id": "d0056183",
      "metadata": {
        "id": "d0056183"
      },
      "outputs": [],
      "source": [
        "if ON_COLAB:\n",
        "    if USE_GIT:\n",
        "        train = pd.read_csv('/content/kagglebook/input/sample-data/train_preprocessed.csv')\n",
        "    else:\n",
        "        train = pd.read_csv(os.path.join(colab_dir, 'input/sample-data/train_preprocessed.csv'))\n",
        "else:\n",
        "    train = pd.read_csv('../input/sample-data/train_preprocessed.csv')\n",
        "train_x = train.drop(['target'], axis=1)\n",
        "train_y = train['target']\n",
        "if ON_COLAB:\n",
        "    if USE_GIT:\n",
        "        test_x = pd.read_csv('/content/kagglebook/input/sample-data/test_preprocessed.csv')\n",
        "    else:\n",
        "        test_x = pd.read_csv(os.path.join(colab_dir, 'input/sample-data/test_preprocessed.csv'))\n",
        "else:\n",
        "    test_x = pd.read_csv('../input/sample-data/test_preprocessed.csv')"
      ]
    },
    {
      "cell_type": "code",
      "execution_count": 4,
      "id": "c7f5325e",
      "metadata": {
        "id": "c7f5325e"
      },
      "outputs": [],
      "source": [
        "# 学習データを学習データとバリデーションデータに分ける\n",
        "from sklearn.model_selection import KFold"
      ]
    },
    {
      "cell_type": "code",
      "execution_count": 5,
      "id": "24f9e06a",
      "metadata": {
        "id": "24f9e06a"
      },
      "outputs": [],
      "source": [
        "kf = KFold(n_splits=4, shuffle=True, random_state=71)\n",
        "tr_idx, va_idx = list(kf.split(train_x))[0]\n",
        "tr_x, va_x = train_x.iloc[tr_idx], train_x.iloc[va_idx]\n",
        "tr_y, va_y = train_y.iloc[tr_idx], train_y.iloc[va_idx]"
      ]
    },
    {
      "cell_type": "code",
      "execution_count": 6,
      "id": "f553c17b",
      "metadata": {
        "id": "f553c17b"
      },
      "outputs": [],
      "source": [
        "# -----------------------------------\n",
        "# lightgbmの実装\n",
        "# -----------------------------------\n",
        "import lightgbm as lgb\n",
        "from sklearn.metrics import log_loss"
      ]
    },
    {
      "cell_type": "code",
      "execution_count": 7,
      "id": "2e82c0ef",
      "metadata": {
        "id": "2e82c0ef"
      },
      "outputs": [],
      "source": [
        "# 特徴量と目的変数をlightgbmのデータ構造に変換する\n",
        "lgb_train = lgb.Dataset(tr_x, tr_y)\n",
        "lgb_eval = lgb.Dataset(va_x, va_y)"
      ]
    },
    {
      "cell_type": "code",
      "execution_count": 8,
      "id": "2156bf8a",
      "metadata": {
        "id": "2156bf8a"
      },
      "outputs": [],
      "source": [
        "# ハイパーパラメータの設定\n",
        "params = {'objective': 'binary', 'seed': 71, 'verbose': 0, 'metrics': 'binary_logloss'}\n",
        "num_round = 100"
      ]
    },
    {
      "cell_type": "code",
      "execution_count": 9,
      "id": "01ba2878",
      "metadata": {
        "id": "01ba2878",
        "outputId": "c41f0096-4c1b-40c6-dd22-f8419d81d769",
        "colab": {
          "base_uri": "https://localhost:8080/"
        }
      },
      "outputs": [
        {
          "output_type": "stream",
          "name": "stderr",
          "text": [
            "/usr/local/lib/python3.11/dist-packages/lightgbm/engine.py:186: LGBMDeprecationWarning: Argument 'categorical_feature' to train() is deprecated and will be removed in a future release. Set 'categorical_feature' when calling lightgbm.Dataset() instead. See https://github.com/microsoft/LightGBM/issues/6435.\n",
            "  _emit_dataset_kwarg_warning(\"train\", \"categorical_feature\")\n"
          ]
        }
      ],
      "source": [
        "# 学習の実行\n",
        "# カテゴリ変数をパラメータで指定している\n",
        "# バリデーションデータもモデルに渡し、学習の進行とともにスコアがどう変わるかモニタリングする\n",
        "categorical_features = ['product', 'medical_info_b2', 'medical_info_b3']\n",
        "model = lgb.train(params, lgb_train, num_boost_round=num_round,\n",
        "                  categorical_feature=categorical_features,\n",
        "                  valid_names=['train', 'valid'], valid_sets=[lgb_train, lgb_eval])"
      ]
    },
    {
      "cell_type": "code",
      "execution_count": 10,
      "id": "83d4369a",
      "metadata": {
        "id": "83d4369a",
        "outputId": "be153c79-1f33-4ce1-ced9-c34290a80966",
        "colab": {
          "base_uri": "https://localhost:8080/"
        }
      },
      "outputs": [
        {
          "output_type": "stream",
          "name": "stdout",
          "text": [
            "logloss: 0.2161\n"
          ]
        }
      ],
      "source": [
        "# バリデーションデータでのスコアの確認\n",
        "va_pred = model.predict(va_x)\n",
        "score = log_loss(va_y, va_pred)\n",
        "print(f'logloss: {score:.4f}')"
      ]
    },
    {
      "cell_type": "code",
      "execution_count": 11,
      "id": "6fb354ca",
      "metadata": {
        "id": "6fb354ca"
      },
      "outputs": [],
      "source": [
        "# 予測\n",
        "pred = model.predict(test_x)"
      ]
    }
  ],
  "metadata": {
    "jupytext": {
      "cell_metadata_filter": "-all",
      "main_language": "python",
      "notebook_metadata_filter": "-all"
    },
    "colab": {
      "provenance": [],
      "include_colab_link": true
    },
    "language_info": {
      "name": "python"
    },
    "kernelspec": {
      "name": "python3",
      "display_name": "Python 3"
    }
  },
  "nbformat": 4,
  "nbformat_minor": 5
}