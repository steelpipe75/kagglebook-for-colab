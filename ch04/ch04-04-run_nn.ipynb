{
  "cells": [
    {
      "cell_type": "markdown",
      "metadata": {
        "id": "view-in-github",
        "colab_type": "text"
      },
      "source": [
        "<a href=\"https://colab.research.google.com/github/steelpipe75/kagglebook-for-colab/blob/master/ch04/ch04-04-run_nn.ipynb\" target=\"_parent\"><img src=\"https://colab.research.google.com/assets/colab-badge.svg\" alt=\"Open In Colab\"/></a>"
      ]
    },
    {
      "cell_type": "code",
      "execution_count": 1,
      "id": "41e4214f",
      "metadata": {
        "id": "41e4214f"
      },
      "outputs": [],
      "source": [
        "# ---------------------------------\n",
        "# データ等の準備\n",
        "# ----------------------------------\n",
        "import numpy as np\n",
        "import pandas as pd"
      ]
    },
    {
      "cell_type": "code",
      "source": [
        "import importlib\n",
        "import sys\n",
        "import subprocess\n",
        "\n",
        "# Google Colab 上で実行しているかどうかを判断するフラグ\n",
        "ON_COLAB = \"google.colab\" in sys.modules\n",
        "print(f\"ON_COLAB: {ON_COLAB}\")\n",
        "\n",
        "if ON_COLAB:\n",
        "    USE_GIT = True # Gitを使う\n",
        "    # USE_GIT = False # Gitを使わない\n",
        "\n",
        "    print(f\"USE_GIT: {USE_GIT}\")\n",
        "    if USE_GIT:\n",
        "        !git clone https://github.com/ghmagazine/kagglebook.git\n",
        "    else:\n",
        "        # Google Drive にマウントする\n",
        "        drive = importlib.import_module(\"google.colab.drive\")\n",
        "        drive.mount(\"/content/drive/\")\n",
        "\n",
        "        import os\n",
        "        colab_dir = \"/content/drive/MyDrive/kagglebook/\" # データ置き場"
      ],
      "metadata": {
        "id": "N8y71-oTI1--",
        "outputId": "62863ff0-101f-499b-ea70-d1d0c699838c",
        "colab": {
          "base_uri": "https://localhost:8080/"
        }
      },
      "id": "N8y71-oTI1--",
      "execution_count": 2,
      "outputs": [
        {
          "output_type": "stream",
          "name": "stdout",
          "text": [
            "ON_COLAB: True\n",
            "USE_GIT: True\n",
            "fatal: destination path 'kagglebook' already exists and is not an empty directory.\n"
          ]
        }
      ]
    },
    {
      "cell_type": "markdown",
      "id": "28ea3c02",
      "metadata": {
        "id": "28ea3c02"
      },
      "source": [
        "train_xは学習データ、train_yは目的変数、test_xはテストデータ\n",
        "pandasのDataFrame, Seriesで保持します。（numpyのarrayで保持することもあります）\n",
        "one-hot encodingされたものを読み込む"
      ]
    },
    {
      "cell_type": "code",
      "execution_count": 3,
      "id": "85dc4557",
      "metadata": {
        "id": "85dc4557"
      },
      "outputs": [],
      "source": [
        "if ON_COLAB:\n",
        "    if USE_GIT:\n",
        "        train = pd.read_csv('/content/kagglebook/input/sample-data/train_preprocessed_onehot.csv')\n",
        "    else:\n",
        "        train = pd.read_csv(os.path.join(colab_dir, 'input/sample-data/train_preprocessed_onehot.csv'))\n",
        "else:\n",
        "    train = pd.read_csv('../input/sample-data/train_preprocessed_onehot.csv')\n",
        "train_x = train.drop(['target'], axis=1)\n",
        "train_y = train['target']\n",
        "if ON_COLAB:\n",
        "    if USE_GIT:\n",
        "        test_x = pd.read_csv('/content/kagglebook/input/sample-data/test_preprocessed_onehot.csv')\n",
        "    else:\n",
        "        test_x = pd.read_csv(os.path.join(colab_dir, 'input/sample-data/test_preprocessed_onehot.csv'))\n",
        "else:\n",
        "    test_x = pd.read_csv('../input/sample-data/test_preprocessed_onehot.csv')"
      ]
    },
    {
      "cell_type": "code",
      "execution_count": 4,
      "id": "fd040838",
      "metadata": {
        "id": "fd040838"
      },
      "outputs": [],
      "source": [
        "# 学習データを学習データとバリデーションデータに分ける\n",
        "from sklearn.model_selection import KFold"
      ]
    },
    {
      "cell_type": "code",
      "execution_count": 5,
      "id": "9bf4da79",
      "metadata": {
        "id": "9bf4da79"
      },
      "outputs": [],
      "source": [
        "kf = KFold(n_splits=4, shuffle=True, random_state=71)\n",
        "tr_idx, va_idx = list(kf.split(train_x))[0]\n",
        "tr_x, va_x = train_x.iloc[tr_idx], train_x.iloc[va_idx]\n",
        "tr_y, va_y = train_y.iloc[tr_idx], train_y.iloc[va_idx]"
      ]
    },
    {
      "cell_type": "code",
      "execution_count": 6,
      "id": "352197af",
      "metadata": {
        "id": "352197af"
      },
      "outputs": [],
      "source": [
        "# tensorflowの警告抑制\n",
        "import os\n",
        "os.environ['TF_CPP_MIN_LOG_LEVEL'] = '1'\n",
        "import tensorflow as tf\n",
        "tf.compat.v1.logging.set_verbosity(tf.compat.v1.logging.ERROR)"
      ]
    },
    {
      "cell_type": "code",
      "execution_count": 7,
      "id": "158682bc",
      "metadata": {
        "id": "158682bc"
      },
      "outputs": [],
      "source": [
        "# -----------------------------------\n",
        "# ニューラルネットの実装\n",
        "# -----------------------------------\n",
        "from keras.layers import Dense, Dropout\n",
        "from keras.models import Sequential\n",
        "from sklearn.metrics import log_loss\n",
        "from sklearn.preprocessing import StandardScaler"
      ]
    },
    {
      "cell_type": "code",
      "execution_count": 8,
      "id": "b7542674",
      "metadata": {
        "id": "b7542674"
      },
      "outputs": [],
      "source": [
        "# データのスケーリング\n",
        "scaler = StandardScaler()\n",
        "tr_x = scaler.fit_transform(tr_x)\n",
        "va_x = scaler.transform(va_x)\n",
        "test_x = scaler.transform(test_x)"
      ]
    },
    {
      "cell_type": "code",
      "execution_count": 9,
      "id": "a9cde901",
      "metadata": {
        "id": "a9cde901",
        "outputId": "6b56f63b-bc3b-40e0-9bcb-1e46eedf64ac",
        "colab": {
          "base_uri": "https://localhost:8080/"
        }
      },
      "outputs": [
        {
          "output_type": "stream",
          "name": "stderr",
          "text": [
            "/usr/local/lib/python3.11/dist-packages/keras/src/layers/core/dense.py:87: UserWarning: Do not pass an `input_shape`/`input_dim` argument to a layer. When using Sequential models, prefer using an `Input(shape)` object as the first layer in the model instead.\n",
            "  super().__init__(activity_regularizer=activity_regularizer, **kwargs)\n"
          ]
        }
      ],
      "source": [
        "# ニューラルネットモデルの構築\n",
        "model = Sequential()\n",
        "model.add(Dense(256, activation='relu', input_shape=(train_x.shape[1],)))\n",
        "model.add(Dropout(0.2))\n",
        "model.add(Dense(256, activation='relu'))\n",
        "model.add(Dropout(0.2))\n",
        "model.add(Dense(1, activation='sigmoid'))"
      ]
    },
    {
      "cell_type": "code",
      "execution_count": 10,
      "id": "e3fd1ff1",
      "metadata": {
        "id": "e3fd1ff1"
      },
      "outputs": [],
      "source": [
        "model.compile(loss='binary_crossentropy',\n",
        "              optimizer='adam', metrics=['accuracy'])"
      ]
    },
    {
      "cell_type": "code",
      "execution_count": 11,
      "id": "ff5a0e2c",
      "metadata": {
        "id": "ff5a0e2c",
        "outputId": "c22cac7f-a68e-44c9-d73a-326713ae8f15",
        "colab": {
          "base_uri": "https://localhost:8080/"
        }
      },
      "outputs": [
        {
          "output_type": "stream",
          "name": "stdout",
          "text": [
            "Epoch 1/10\n",
            "\u001b[1m59/59\u001b[0m \u001b[32m━━━━━━━━━━━━━━━━━━━━\u001b[0m\u001b[37m\u001b[0m \u001b[1m6s\u001b[0m 31ms/step - accuracy: 0.7898 - loss: 0.4772 - val_accuracy: 0.8472 - val_loss: 0.3845\n",
            "Epoch 2/10\n",
            "\u001b[1m59/59\u001b[0m \u001b[32m━━━━━━━━━━━━━━━━━━━━\u001b[0m\u001b[37m\u001b[0m \u001b[1m1s\u001b[0m 12ms/step - accuracy: 0.8519 - loss: 0.3715 - val_accuracy: 0.8536 - val_loss: 0.3810\n",
            "Epoch 3/10\n",
            "\u001b[1m59/59\u001b[0m \u001b[32m━━━━━━━━━━━━━━━━━━━━\u001b[0m\u001b[37m\u001b[0m \u001b[1m1s\u001b[0m 16ms/step - accuracy: 0.8651 - loss: 0.3288 - val_accuracy: 0.8464 - val_loss: 0.3715\n",
            "Epoch 4/10\n",
            "\u001b[1m59/59\u001b[0m \u001b[32m━━━━━━━━━━━━━━━━━━━━\u001b[0m\u001b[37m\u001b[0m \u001b[1m1s\u001b[0m 16ms/step - accuracy: 0.8710 - loss: 0.3197 - val_accuracy: 0.8520 - val_loss: 0.3635\n",
            "Epoch 5/10\n",
            "\u001b[1m59/59\u001b[0m \u001b[32m━━━━━━━━━━━━━━━━━━━━\u001b[0m\u001b[37m\u001b[0m \u001b[1m1s\u001b[0m 13ms/step - accuracy: 0.8773 - loss: 0.2960 - val_accuracy: 0.8600 - val_loss: 0.3438\n",
            "Epoch 6/10\n",
            "\u001b[1m59/59\u001b[0m \u001b[32m━━━━━━━━━━━━━━━━━━━━\u001b[0m\u001b[37m\u001b[0m \u001b[1m1s\u001b[0m 9ms/step - accuracy: 0.8958 - loss: 0.2652 - val_accuracy: 0.8608 - val_loss: 0.3305\n",
            "Epoch 7/10\n",
            "\u001b[1m59/59\u001b[0m \u001b[32m━━━━━━━━━━━━━━━━━━━━\u001b[0m\u001b[37m\u001b[0m \u001b[1m0s\u001b[0m 6ms/step - accuracy: 0.8986 - loss: 0.2463 - val_accuracy: 0.8688 - val_loss: 0.3063\n",
            "Epoch 8/10\n",
            "\u001b[1m59/59\u001b[0m \u001b[32m━━━━━━━━━━━━━━━━━━━━\u001b[0m\u001b[37m\u001b[0m \u001b[1m0s\u001b[0m 6ms/step - accuracy: 0.9048 - loss: 0.2269 - val_accuracy: 0.8748 - val_loss: 0.3180\n",
            "Epoch 9/10\n",
            "\u001b[1m59/59\u001b[0m \u001b[32m━━━━━━━━━━━━━━━━━━━━\u001b[0m\u001b[37m\u001b[0m \u001b[1m1s\u001b[0m 7ms/step - accuracy: 0.9140 - loss: 0.2036 - val_accuracy: 0.8732 - val_loss: 0.3021\n",
            "Epoch 10/10\n",
            "\u001b[1m59/59\u001b[0m \u001b[32m━━━━━━━━━━━━━━━━━━━━\u001b[0m\u001b[37m\u001b[0m \u001b[1m0s\u001b[0m 6ms/step - accuracy: 0.9225 - loss: 0.1876 - val_accuracy: 0.8772 - val_loss: 0.2982\n"
          ]
        }
      ],
      "source": [
        "# 学習の実行\n",
        "# バリデーションデータもモデルに渡し、学習の進行とともにスコアがどう変わるかモニタリングする\n",
        "batch_size = 128\n",
        "epochs = 10\n",
        "history = model.fit(tr_x, tr_y,\n",
        "                    batch_size=batch_size, epochs=epochs,\n",
        "                    verbose=1, validation_data=(va_x, va_y))"
      ]
    },
    {
      "cell_type": "code",
      "execution_count": 12,
      "id": "41296f45",
      "metadata": {
        "id": "41296f45",
        "outputId": "cf72a7c0-afe1-4ce3-f09d-e24cc7286295",
        "colab": {
          "base_uri": "https://localhost:8080/"
        }
      },
      "outputs": [
        {
          "output_type": "stream",
          "name": "stdout",
          "text": [
            "\u001b[1m79/79\u001b[0m \u001b[32m━━━━━━━━━━━━━━━━━━━━\u001b[0m\u001b[37m\u001b[0m \u001b[1m0s\u001b[0m 2ms/step\n",
            "logloss: 0.2982\n"
          ]
        }
      ],
      "source": [
        "# バリデーションデータでのスコアの確認\n",
        "va_pred = model.predict(va_x)\n",
        "# score = log_loss(va_y, va_pred, eps=1e-7)\n",
        "score = log_loss(va_y, va_pred)\n",
        "print(f'logloss: {score:.4f}')"
      ]
    },
    {
      "cell_type": "code",
      "execution_count": 13,
      "id": "b1b36532",
      "metadata": {
        "id": "b1b36532",
        "outputId": "dfe69a7a-fab9-4dfd-d38b-85312c179ef3",
        "colab": {
          "base_uri": "https://localhost:8080/"
        }
      },
      "outputs": [
        {
          "output_type": "stream",
          "name": "stdout",
          "text": [
            "\u001b[1m313/313\u001b[0m \u001b[32m━━━━━━━━━━━━━━━━━━━━\u001b[0m\u001b[37m\u001b[0m \u001b[1m1s\u001b[0m 2ms/step\n"
          ]
        }
      ],
      "source": [
        "# 予測\n",
        "pred = model.predict(test_x)"
      ]
    },
    {
      "cell_type": "code",
      "execution_count": 14,
      "id": "f8d8091c",
      "metadata": {
        "id": "f8d8091c"
      },
      "outputs": [],
      "source": [
        "# -----------------------------------\n",
        "# アーリーストッピング\n",
        "# -----------------------------------\n",
        "from keras.callbacks import EarlyStopping"
      ]
    },
    {
      "cell_type": "code",
      "execution_count": 15,
      "id": "0010bd33",
      "metadata": {
        "id": "0010bd33"
      },
      "outputs": [],
      "source": [
        "# アーリーストッピングの観察するroundを20とする\n",
        "# restore_best_weightsを設定することで、最適なエポックでのモデルを使用する\n",
        "epochs = 50\n",
        "early_stopping = EarlyStopping(monitor='val_loss', patience=20, restore_best_weights=True)"
      ]
    },
    {
      "cell_type": "code",
      "execution_count": 16,
      "id": "c488c980",
      "metadata": {
        "id": "c488c980",
        "outputId": "150f2984-56ea-47ce-e436-71d95d02be20",
        "colab": {
          "base_uri": "https://localhost:8080/"
        }
      },
      "outputs": [
        {
          "output_type": "stream",
          "name": "stdout",
          "text": [
            "Epoch 1/50\n",
            "\u001b[1m59/59\u001b[0m \u001b[32m━━━━━━━━━━━━━━━━━━━━\u001b[0m\u001b[37m\u001b[0m \u001b[1m0s\u001b[0m 7ms/step - accuracy: 0.9257 - loss: 0.1754 - val_accuracy: 0.8824 - val_loss: 0.2870\n",
            "Epoch 2/50\n",
            "\u001b[1m59/59\u001b[0m \u001b[32m━━━━━━━━━━━━━━━━━━━━\u001b[0m\u001b[37m\u001b[0m \u001b[1m1s\u001b[0m 11ms/step - accuracy: 0.9398 - loss: 0.1484 - val_accuracy: 0.8800 - val_loss: 0.2924\n",
            "Epoch 3/50\n",
            "\u001b[1m59/59\u001b[0m \u001b[32m━━━━━━━━━━━━━━━━━━━━\u001b[0m\u001b[37m\u001b[0m \u001b[1m1s\u001b[0m 10ms/step - accuracy: 0.9430 - loss: 0.1369 - val_accuracy: 0.8760 - val_loss: 0.3095\n",
            "Epoch 4/50\n",
            "\u001b[1m59/59\u001b[0m \u001b[32m━━━━━━━━━━━━━━━━━━━━\u001b[0m\u001b[37m\u001b[0m \u001b[1m1s\u001b[0m 10ms/step - accuracy: 0.9420 - loss: 0.1379 - val_accuracy: 0.8772 - val_loss: 0.3101\n",
            "Epoch 5/50\n",
            "\u001b[1m59/59\u001b[0m \u001b[32m━━━━━━━━━━━━━━━━━━━━\u001b[0m\u001b[37m\u001b[0m \u001b[1m0s\u001b[0m 6ms/step - accuracy: 0.9437 - loss: 0.1361 - val_accuracy: 0.8808 - val_loss: 0.2983\n",
            "Epoch 6/50\n",
            "\u001b[1m59/59\u001b[0m \u001b[32m━━━━━━━━━━━━━━━━━━━━\u001b[0m\u001b[37m\u001b[0m \u001b[1m0s\u001b[0m 7ms/step - accuracy: 0.9553 - loss: 0.1189 - val_accuracy: 0.8824 - val_loss: 0.3061\n",
            "Epoch 7/50\n",
            "\u001b[1m59/59\u001b[0m \u001b[32m━━━━━━━━━━━━━━━━━━━━\u001b[0m\u001b[37m\u001b[0m \u001b[1m1s\u001b[0m 6ms/step - accuracy: 0.9466 - loss: 0.1275 - val_accuracy: 0.8824 - val_loss: 0.3241\n",
            "Epoch 8/50\n",
            "\u001b[1m59/59\u001b[0m \u001b[32m━━━━━━━━━━━━━━━━━━━━\u001b[0m\u001b[37m\u001b[0m \u001b[1m1s\u001b[0m 6ms/step - accuracy: 0.9569 - loss: 0.1083 - val_accuracy: 0.8812 - val_loss: 0.3200\n",
            "Epoch 9/50\n",
            "\u001b[1m59/59\u001b[0m \u001b[32m━━━━━━━━━━━━━━━━━━━━\u001b[0m\u001b[37m\u001b[0m \u001b[1m1s\u001b[0m 6ms/step - accuracy: 0.9592 - loss: 0.1019 - val_accuracy: 0.8780 - val_loss: 0.3191\n",
            "Epoch 10/50\n",
            "\u001b[1m59/59\u001b[0m \u001b[32m━━━━━━━━━━━━━━━━━━━━\u001b[0m\u001b[37m\u001b[0m \u001b[1m0s\u001b[0m 6ms/step - accuracy: 0.9640 - loss: 0.0901 - val_accuracy: 0.8852 - val_loss: 0.3302\n",
            "Epoch 11/50\n",
            "\u001b[1m59/59\u001b[0m \u001b[32m━━━━━━━━━━━━━━━━━━━━\u001b[0m\u001b[37m\u001b[0m \u001b[1m0s\u001b[0m 6ms/step - accuracy: 0.9642 - loss: 0.0924 - val_accuracy: 0.8828 - val_loss: 0.3348\n",
            "Epoch 12/50\n",
            "\u001b[1m59/59\u001b[0m \u001b[32m━━━━━━━━━━━━━━━━━━━━\u001b[0m\u001b[37m\u001b[0m \u001b[1m0s\u001b[0m 7ms/step - accuracy: 0.9666 - loss: 0.0857 - val_accuracy: 0.8824 - val_loss: 0.3377\n",
            "Epoch 13/50\n",
            "\u001b[1m59/59\u001b[0m \u001b[32m━━━━━━━━━━━━━━━━━━━━\u001b[0m\u001b[37m\u001b[0m \u001b[1m1s\u001b[0m 6ms/step - accuracy: 0.9635 - loss: 0.0861 - val_accuracy: 0.8820 - val_loss: 0.3372\n",
            "Epoch 14/50\n",
            "\u001b[1m59/59\u001b[0m \u001b[32m━━━━━━━━━━━━━━━━━━━━\u001b[0m\u001b[37m\u001b[0m \u001b[1m1s\u001b[0m 6ms/step - accuracy: 0.9736 - loss: 0.0721 - val_accuracy: 0.8844 - val_loss: 0.3459\n",
            "Epoch 15/50\n",
            "\u001b[1m59/59\u001b[0m \u001b[32m━━━━━━━━━━━━━━━━━━━━\u001b[0m\u001b[37m\u001b[0m \u001b[1m0s\u001b[0m 6ms/step - accuracy: 0.9688 - loss: 0.0826 - val_accuracy: 0.8844 - val_loss: 0.3499\n",
            "Epoch 16/50\n",
            "\u001b[1m59/59\u001b[0m \u001b[32m━━━━━━━━━━━━━━━━━━━━\u001b[0m\u001b[37m\u001b[0m \u001b[1m0s\u001b[0m 7ms/step - accuracy: 0.9718 - loss: 0.0745 - val_accuracy: 0.8860 - val_loss: 0.3510\n",
            "Epoch 17/50\n",
            "\u001b[1m59/59\u001b[0m \u001b[32m━━━━━━━━━━━━━━━━━━━━\u001b[0m\u001b[37m\u001b[0m \u001b[1m0s\u001b[0m 6ms/step - accuracy: 0.9715 - loss: 0.0708 - val_accuracy: 0.8812 - val_loss: 0.3609\n",
            "Epoch 18/50\n",
            "\u001b[1m59/59\u001b[0m \u001b[32m━━━━━━━━━━━━━━━━━━━━\u001b[0m\u001b[37m\u001b[0m \u001b[1m1s\u001b[0m 6ms/step - accuracy: 0.9766 - loss: 0.0615 - val_accuracy: 0.8784 - val_loss: 0.3775\n",
            "Epoch 19/50\n",
            "\u001b[1m59/59\u001b[0m \u001b[32m━━━━━━━━━━━━━━━━━━━━\u001b[0m\u001b[37m\u001b[0m \u001b[1m1s\u001b[0m 6ms/step - accuracy: 0.9755 - loss: 0.0630 - val_accuracy: 0.8832 - val_loss: 0.3855\n",
            "Epoch 20/50\n",
            "\u001b[1m59/59\u001b[0m \u001b[32m━━━━━━━━━━━━━━━━━━━━\u001b[0m\u001b[37m\u001b[0m \u001b[1m1s\u001b[0m 6ms/step - accuracy: 0.9756 - loss: 0.0662 - val_accuracy: 0.8788 - val_loss: 0.3853\n",
            "Epoch 21/50\n",
            "\u001b[1m59/59\u001b[0m \u001b[32m━━━━━━━━━━━━━━━━━━━━\u001b[0m\u001b[37m\u001b[0m \u001b[1m0s\u001b[0m 6ms/step - accuracy: 0.9780 - loss: 0.0592 - val_accuracy: 0.8812 - val_loss: 0.3961\n",
            "\u001b[1m313/313\u001b[0m \u001b[32m━━━━━━━━━━━━━━━━━━━━\u001b[0m\u001b[37m\u001b[0m \u001b[1m0s\u001b[0m 1ms/step\n"
          ]
        }
      ],
      "source": [
        "history = model.fit(tr_x, tr_y,\n",
        "                    batch_size=batch_size, epochs=epochs,\n",
        "                    verbose=1, validation_data=(va_x, va_y), callbacks=[early_stopping])\n",
        "pred = model.predict(test_x)"
      ]
    }
  ],
  "metadata": {
    "jupytext": {
      "cell_metadata_filter": "-all",
      "main_language": "python",
      "notebook_metadata_filter": "-all"
    },
    "colab": {
      "provenance": [],
      "include_colab_link": true
    },
    "language_info": {
      "name": "python"
    },
    "kernelspec": {
      "name": "python3",
      "display_name": "Python 3"
    }
  },
  "nbformat": 4,
  "nbformat_minor": 5
}