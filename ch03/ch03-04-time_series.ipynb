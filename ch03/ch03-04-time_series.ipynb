{
 "cells": [
  {
   "cell_type": "code",
   "execution_count": null,
   "id": "a2a49c90",
   "metadata": {},
   "outputs": [],
   "source": [
    "import numpy as np\n",
    "import pandas as pd"
   ]
  },
  {
   "cell_type": "markdown",
   "id": "e0ea072c",
   "metadata": {},
   "source": [
    "-----------------------------------\n",
    "ワイドフォーマット、ロングフォーマット\n",
    "-----------------------------------"
   ]
  },
  {
   "cell_type": "code",
   "execution_count": null,
   "id": "2a07cd71",
   "metadata": {},
   "outputs": [],
   "source": [
    "# ワイドフォーマットのデータを読み込む\n",
    "df_wide = pd.read_csv('../input/ch03/time_series_wide.csv', index_col=0)\n",
    "# インデックスの型を日付型に変更する\n",
    "df_wide.index = pd.to_datetime(df_wide.index)"
   ]
  },
  {
   "cell_type": "code",
   "execution_count": null,
   "id": "6f6b9c09",
   "metadata": {},
   "outputs": [],
   "source": [
    "print(df_wide.iloc[:5, :3])\n",
    "'''\n",
    "              A     B     C\n",
    "date\n",
    "2016-07-01  532  3314  1136\n",
    "2016-07-02  798  2461  1188\n",
    "2016-07-03  823  3522  1711\n",
    "2016-07-04  937  5451  1977\n",
    "2016-07-05  881  4729  1975\n",
    "'''"
   ]
  },
  {
   "cell_type": "code",
   "execution_count": null,
   "id": "3b9b3b67",
   "metadata": {},
   "outputs": [],
   "source": [
    "# ロングフォーマットに変換する\n",
    "df_long = df_wide.stack().reset_index(1)\n",
    "df_long.columns = ['id', 'value']"
   ]
  },
  {
   "cell_type": "code",
   "execution_count": null,
   "id": "ab1ec49d",
   "metadata": {},
   "outputs": [],
   "source": [
    "print(df_long.head(10))\n",
    "'''\n",
    "           id  value\n",
    "date\n",
    "2016-07-01  A    532\n",
    "2016-07-01  B   3314\n",
    "2016-07-01  C   1136\n",
    "2016-07-02  A    798\n",
    "2016-07-02  B   2461\n",
    "2016-07-02  C   1188\n",
    "2016-07-03  A    823\n",
    "2016-07-03  B   3522\n",
    "2016-07-03  C   1711\n",
    "2016-07-04  A    937\n",
    "...\n",
    "'''"
   ]
  },
  {
   "cell_type": "code",
   "execution_count": null,
   "id": "cd425bc7",
   "metadata": {},
   "outputs": [],
   "source": [
    "# ワイドフォーマットに戻す\n",
    "df_wide = df_long.pivot(index=None, columns='id', values='value')"
   ]
  },
  {
   "cell_type": "code",
   "execution_count": null,
   "id": "dadda48e",
   "metadata": {},
   "outputs": [],
   "source": [
    "# -----------------------------------\n",
    "# ラグ変数\n",
    "# -----------------------------------\n",
    "# ワイドフォーマットのデータをセットする\n",
    "x = df_wide\n",
    "# -----------------------------------\n",
    "# xはワイドフォーマットのデータフレーム\n",
    "# インデックスが日付などの時間、列がユーザや店舗などで、値が売上などの注目する変数を表すものとする"
   ]
  },
  {
   "cell_type": "code",
   "execution_count": null,
   "id": "f8d81f9b",
   "metadata": {},
   "outputs": [],
   "source": [
    "# 1期前のlagを取得\n",
    "x_lag1 = x.shift(1)"
   ]
  },
  {
   "cell_type": "code",
   "execution_count": null,
   "id": "738e0359",
   "metadata": {},
   "outputs": [],
   "source": [
    "# 7期前のlagを取得\n",
    "x_lag7 = x.shift(7)"
   ]
  },
  {
   "cell_type": "code",
   "execution_count": null,
   "id": "a5132ee2",
   "metadata": {},
   "outputs": [],
   "source": [
    "# -----------------------------------\n",
    "# 1期前から3期間の移動平均を算出\n",
    "x_avg3 = x.shift(1).rolling(window=3).mean()"
   ]
  },
  {
   "cell_type": "code",
   "execution_count": null,
   "id": "d4137938",
   "metadata": {},
   "outputs": [],
   "source": [
    "# -----------------------------------\n",
    "# 1期前から7期間の最大値を算出\n",
    "x_max7 = x.shift(1).rolling(window=7).max()"
   ]
  },
  {
   "cell_type": "code",
   "execution_count": null,
   "id": "8dce1e58",
   "metadata": {},
   "outputs": [],
   "source": [
    "# -----------------------------------\n",
    "# 7期前, 14期前, 21期前, 28期前の値の平均\n",
    "x_e7_avg = (x.shift(7) + x.shift(14) + x.shift(21) + x.shift(28)) / 4.0"
   ]
  },
  {
   "cell_type": "code",
   "execution_count": null,
   "id": "0a420808",
   "metadata": {},
   "outputs": [],
   "source": [
    "# -----------------------------------\n",
    "# 1期先の値を取得\n",
    "x_lead1 = x.shift(-1)"
   ]
  },
  {
   "cell_type": "code",
   "execution_count": null,
   "id": "1c16b47d",
   "metadata": {},
   "outputs": [],
   "source": [
    "# -----------------------------------\n",
    "# ラグ変数\n",
    "# -----------------------------------\n",
    "# データの読み込み\n",
    "train_x = pd.read_csv('../input/ch03/time_series_train.csv')\n",
    "event_history = pd.read_csv('../input/ch03/time_series_events.csv')\n",
    "train_x['date'] = pd.to_datetime(train_x['date'])\n",
    "event_history['date'] = pd.to_datetime(event_history['date'])\n",
    "# -----------------------------------"
   ]
  },
  {
   "cell_type": "markdown",
   "id": "71379f0f",
   "metadata": {},
   "source": [
    "train_xは学習データで、ユーザID, 日付を列として持つDataFrameとする\n",
    "event_historyは、過去に開催したイベントの情報で、日付、イベントを列として持つDataFrameとする"
   ]
  },
  {
   "cell_type": "code",
   "execution_count": null,
   "id": "0d99638a",
   "metadata": {},
   "outputs": [],
   "source": [
    "# occurrencesは、日付、セールが開催されたか否かを列として持つDataFrameとなる\n",
    "dates = np.sort(train_x['date'].unique())\n",
    "occurrences = pd.DataFrame(dates, columns=['date'])\n",
    "sale_history = event_history[event_history['event'] == 'sale']\n",
    "occurrences['sale'] = occurrences['date'].isin(sale_history['date'])"
   ]
  },
  {
   "cell_type": "code",
   "execution_count": null,
   "id": "8ce4767e",
   "metadata": {},
   "outputs": [],
   "source": [
    "# 累積和をとることで、それぞれの日付での累積出現回数を表すようにする\n",
    "# occurrencesは、日付、セールの累積出現回数を列として持つDataFrameとなる\n",
    "occurrences['sale'] = occurrences['sale'].cumsum()"
   ]
  },
  {
   "cell_type": "code",
   "execution_count": null,
   "id": "6907ec35",
   "metadata": {},
   "outputs": [],
   "source": [
    "# 日付をキーとして学習データと結合する\n",
    "train_x = train_x.merge(occurrences, on='date', how='left')"
   ]
  }
 ],
 "metadata": {
  "jupytext": {
   "cell_metadata_filter": "-all",
   "main_language": "python",
   "notebook_metadata_filter": "-all"
  }
 },
 "nbformat": 4,
 "nbformat_minor": 5
}
