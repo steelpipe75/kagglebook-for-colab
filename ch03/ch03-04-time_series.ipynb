{
  "cells": [
    {
      "cell_type": "markdown",
      "metadata": {
        "id": "view-in-github",
        "colab_type": "text"
      },
      "source": [
        "<a href=\"https://colab.research.google.com/github/steelpipe75/kagglebook-for-colab/blob/master/ch03/ch03-04-time_series.ipynb\" target=\"_parent\"><img src=\"https://colab.research.google.com/assets/colab-badge.svg\" alt=\"Open In Colab\"/></a>"
      ]
    },
    {
      "cell_type": "code",
      "execution_count": 1,
      "id": "a2a49c90",
      "metadata": {
        "id": "a2a49c90"
      },
      "outputs": [],
      "source": [
        "import numpy as np\n",
        "import pandas as pd"
      ]
    },
    {
      "cell_type": "code",
      "source": [
        "import importlib\n",
        "import sys\n",
        "import subprocess\n",
        "\n",
        "# Google Colab 上で実行しているかどうかを判断するフラグ\n",
        "ON_COLAB = \"google.colab\" in sys.modules\n",
        "print(f\"ON_COLAB: {ON_COLAB}\")\n",
        "\n",
        "if ON_COLAB:\n",
        "    USE_GIT = True # Gitを使う\n",
        "    # USE_GIT = False # Gitを使わない\n",
        "\n",
        "    print(f\"USE_GIT: {USE_GIT}\")\n",
        "    if USE_GIT:\n",
        "        !git clone https://github.com/ghmagazine/kagglebook.git\n",
        "    else:\n",
        "        # Google Drive にマウントする\n",
        "        drive = importlib.import_module(\"google.colab.drive\")\n",
        "        drive.mount(\"/content/drive/\")\n",
        "\n",
        "        import os\n",
        "        colab_dir = \"/content/drive/MyDrive/kagglebook/\" # データ置き場"
      ],
      "metadata": {
        "id": "aG5iO1ISYTvQ",
        "outputId": "588e7740-8afa-4bc0-9658-6944c6009054",
        "colab": {
          "base_uri": "https://localhost:8080/"
        }
      },
      "id": "aG5iO1ISYTvQ",
      "execution_count": 2,
      "outputs": [
        {
          "output_type": "stream",
          "name": "stdout",
          "text": [
            "ON_COLAB: True\n",
            "USE_GIT: True\n",
            "fatal: destination path 'kagglebook' already exists and is not an empty directory.\n"
          ]
        }
      ]
    },
    {
      "cell_type": "markdown",
      "id": "e0ea072c",
      "metadata": {
        "id": "e0ea072c"
      },
      "source": [
        "-----------------------------------\n",
        "ワイドフォーマット、ロングフォーマット\n",
        "-----------------------------------"
      ]
    },
    {
      "cell_type": "code",
      "execution_count": 3,
      "id": "2a07cd71",
      "metadata": {
        "id": "2a07cd71"
      },
      "outputs": [],
      "source": [
        "# ワイドフォーマットのデータを読み込む\n",
        "if ON_COLAB:\n",
        "    if USE_GIT:\n",
        "        df_wide = pd.read_csv('/content/kagglebook/input/ch03/time_series_wide.csv', index_col=0)\n",
        "    else:\n",
        "        df_wide = pd.read_csv(os.path.join(colab_dir, 'input/ch03/time_series_wide.csv'), index_col=0)\n",
        "else:\n",
        "    df_wide = pd.read_csv('../input/ch03/time_series_wide.csv', index_col=0)\n",
        "# インデックスの型を日付型に変更する\n",
        "df_wide.index = pd.to_datetime(df_wide.index)"
      ]
    },
    {
      "cell_type": "code",
      "execution_count": 4,
      "id": "6f6b9c09",
      "metadata": {
        "id": "6f6b9c09",
        "outputId": "3c4d0cf2-bf2f-49fe-87d7-ef3b27acab5e",
        "colab": {
          "base_uri": "https://localhost:8080/",
          "height": 169
        }
      },
      "outputs": [
        {
          "output_type": "stream",
          "name": "stdout",
          "text": [
            "              A     B     C\n",
            "2016-07-01  532  3314  1136\n",
            "2016-07-02  798  2461  1188\n",
            "2016-07-03  823  3522  1711\n",
            "2016-07-04  937  5451  1977\n",
            "2016-07-05  881  4729  1975\n"
          ]
        },
        {
          "output_type": "execute_result",
          "data": {
            "text/plain": [
              "'\\n              A     B     C\\ndate\\n2016-07-01  532  3314  1136\\n2016-07-02  798  2461  1188\\n2016-07-03  823  3522  1711\\n2016-07-04  937  5451  1977\\n2016-07-05  881  4729  1975\\n'"
            ],
            "application/vnd.google.colaboratory.intrinsic+json": {
              "type": "string"
            }
          },
          "metadata": {},
          "execution_count": 4
        }
      ],
      "source": [
        "print(df_wide.iloc[:5, :3])\n",
        "'''\n",
        "              A     B     C\n",
        "date\n",
        "2016-07-01  532  3314  1136\n",
        "2016-07-02  798  2461  1188\n",
        "2016-07-03  823  3522  1711\n",
        "2016-07-04  937  5451  1977\n",
        "2016-07-05  881  4729  1975\n",
        "'''"
      ]
    },
    {
      "cell_type": "code",
      "execution_count": 5,
      "id": "3b9b3b67",
      "metadata": {
        "id": "3b9b3b67"
      },
      "outputs": [],
      "source": [
        "# ロングフォーマットに変換する\n",
        "df_long = df_wide.stack().reset_index(1)\n",
        "df_long.columns = ['id', 'value']"
      ]
    },
    {
      "cell_type": "code",
      "execution_count": 6,
      "id": "ab1ec49d",
      "metadata": {
        "id": "ab1ec49d",
        "outputId": "59e9bfd8-55c8-4565-a228-f50957707830",
        "colab": {
          "base_uri": "https://localhost:8080/",
          "height": 263
        }
      },
      "outputs": [
        {
          "output_type": "stream",
          "name": "stdout",
          "text": [
            "           id  value\n",
            "2016-07-01  A    532\n",
            "2016-07-01  B   3314\n",
            "2016-07-01  C   1136\n",
            "2016-07-02  A    798\n",
            "2016-07-02  B   2461\n",
            "2016-07-02  C   1188\n",
            "2016-07-03  A    823\n",
            "2016-07-03  B   3522\n",
            "2016-07-03  C   1711\n",
            "2016-07-04  A    937\n"
          ]
        },
        {
          "output_type": "execute_result",
          "data": {
            "text/plain": [
              "'\\n           id  value\\ndate\\n2016-07-01  A    532\\n2016-07-01  B   3314\\n2016-07-01  C   1136\\n2016-07-02  A    798\\n2016-07-02  B   2461\\n2016-07-02  C   1188\\n2016-07-03  A    823\\n2016-07-03  B   3522\\n2016-07-03  C   1711\\n2016-07-04  A    937\\n...\\n'"
            ],
            "application/vnd.google.colaboratory.intrinsic+json": {
              "type": "string"
            }
          },
          "metadata": {},
          "execution_count": 6
        }
      ],
      "source": [
        "print(df_long.head(10))\n",
        "'''\n",
        "           id  value\n",
        "date\n",
        "2016-07-01  A    532\n",
        "2016-07-01  B   3314\n",
        "2016-07-01  C   1136\n",
        "2016-07-02  A    798\n",
        "2016-07-02  B   2461\n",
        "2016-07-02  C   1188\n",
        "2016-07-03  A    823\n",
        "2016-07-03  B   3522\n",
        "2016-07-03  C   1711\n",
        "2016-07-04  A    937\n",
        "...\n",
        "'''"
      ]
    },
    {
      "cell_type": "code",
      "execution_count": 7,
      "id": "cd425bc7",
      "metadata": {
        "id": "cd425bc7",
        "outputId": "5b0a177e-4932-4577-aacf-debb3710af1b",
        "colab": {
          "base_uri": "https://localhost:8080/",
          "height": 455
        }
      },
      "outputs": [
        {
          "output_type": "execute_result",
          "data": {
            "text/plain": [
              "id            A     B     C\n",
              "index                      \n",
              "2016-07-01  532  3314  1136\n",
              "2016-07-02  798  2461  1188\n",
              "2016-07-03  823  3522  1711\n",
              "2016-07-04  937  5451  1977\n",
              "2016-07-05  881  4729  1975\n",
              "...         ...   ...   ...\n",
              "2016-12-27  840  4573  1850\n",
              "2016-12-28  943  4511  1764\n",
              "2016-12-29  978  4599  1787\n",
              "2016-12-30  907  4243  2069\n",
              "2016-12-31  869  4703  2233\n",
              "\n",
              "[184 rows x 3 columns]"
            ],
            "text/html": [
              "\n",
              "  <div id=\"df-dbb0881b-76c5-4321-a113-a6050653fd04\" class=\"colab-df-container\">\n",
              "    <div>\n",
              "<style scoped>\n",
              "    .dataframe tbody tr th:only-of-type {\n",
              "        vertical-align: middle;\n",
              "    }\n",
              "\n",
              "    .dataframe tbody tr th {\n",
              "        vertical-align: top;\n",
              "    }\n",
              "\n",
              "    .dataframe thead th {\n",
              "        text-align: right;\n",
              "    }\n",
              "</style>\n",
              "<table border=\"1\" class=\"dataframe\">\n",
              "  <thead>\n",
              "    <tr style=\"text-align: right;\">\n",
              "      <th>id</th>\n",
              "      <th>A</th>\n",
              "      <th>B</th>\n",
              "      <th>C</th>\n",
              "    </tr>\n",
              "    <tr>\n",
              "      <th>index</th>\n",
              "      <th></th>\n",
              "      <th></th>\n",
              "      <th></th>\n",
              "    </tr>\n",
              "  </thead>\n",
              "  <tbody>\n",
              "    <tr>\n",
              "      <th>2016-07-01</th>\n",
              "      <td>532</td>\n",
              "      <td>3314</td>\n",
              "      <td>1136</td>\n",
              "    </tr>\n",
              "    <tr>\n",
              "      <th>2016-07-02</th>\n",
              "      <td>798</td>\n",
              "      <td>2461</td>\n",
              "      <td>1188</td>\n",
              "    </tr>\n",
              "    <tr>\n",
              "      <th>2016-07-03</th>\n",
              "      <td>823</td>\n",
              "      <td>3522</td>\n",
              "      <td>1711</td>\n",
              "    </tr>\n",
              "    <tr>\n",
              "      <th>2016-07-04</th>\n",
              "      <td>937</td>\n",
              "      <td>5451</td>\n",
              "      <td>1977</td>\n",
              "    </tr>\n",
              "    <tr>\n",
              "      <th>2016-07-05</th>\n",
              "      <td>881</td>\n",
              "      <td>4729</td>\n",
              "      <td>1975</td>\n",
              "    </tr>\n",
              "    <tr>\n",
              "      <th>...</th>\n",
              "      <td>...</td>\n",
              "      <td>...</td>\n",
              "      <td>...</td>\n",
              "    </tr>\n",
              "    <tr>\n",
              "      <th>2016-12-27</th>\n",
              "      <td>840</td>\n",
              "      <td>4573</td>\n",
              "      <td>1850</td>\n",
              "    </tr>\n",
              "    <tr>\n",
              "      <th>2016-12-28</th>\n",
              "      <td>943</td>\n",
              "      <td>4511</td>\n",
              "      <td>1764</td>\n",
              "    </tr>\n",
              "    <tr>\n",
              "      <th>2016-12-29</th>\n",
              "      <td>978</td>\n",
              "      <td>4599</td>\n",
              "      <td>1787</td>\n",
              "    </tr>\n",
              "    <tr>\n",
              "      <th>2016-12-30</th>\n",
              "      <td>907</td>\n",
              "      <td>4243</td>\n",
              "      <td>2069</td>\n",
              "    </tr>\n",
              "    <tr>\n",
              "      <th>2016-12-31</th>\n",
              "      <td>869</td>\n",
              "      <td>4703</td>\n",
              "      <td>2233</td>\n",
              "    </tr>\n",
              "  </tbody>\n",
              "</table>\n",
              "<p>184 rows × 3 columns</p>\n",
              "</div>\n",
              "    <div class=\"colab-df-buttons\">\n",
              "\n",
              "  <div class=\"colab-df-container\">\n",
              "    <button class=\"colab-df-convert\" onclick=\"convertToInteractive('df-dbb0881b-76c5-4321-a113-a6050653fd04')\"\n",
              "            title=\"Convert this dataframe to an interactive table.\"\n",
              "            style=\"display:none;\">\n",
              "\n",
              "  <svg xmlns=\"http://www.w3.org/2000/svg\" height=\"24px\" viewBox=\"0 -960 960 960\">\n",
              "    <path d=\"M120-120v-720h720v720H120Zm60-500h600v-160H180v160Zm220 220h160v-160H400v160Zm0 220h160v-160H400v160ZM180-400h160v-160H180v160Zm440 0h160v-160H620v160ZM180-180h160v-160H180v160Zm440 0h160v-160H620v160Z\"/>\n",
              "  </svg>\n",
              "    </button>\n",
              "\n",
              "  <style>\n",
              "    .colab-df-container {\n",
              "      display:flex;\n",
              "      gap: 12px;\n",
              "    }\n",
              "\n",
              "    .colab-df-convert {\n",
              "      background-color: #E8F0FE;\n",
              "      border: none;\n",
              "      border-radius: 50%;\n",
              "      cursor: pointer;\n",
              "      display: none;\n",
              "      fill: #1967D2;\n",
              "      height: 32px;\n",
              "      padding: 0 0 0 0;\n",
              "      width: 32px;\n",
              "    }\n",
              "\n",
              "    .colab-df-convert:hover {\n",
              "      background-color: #E2EBFA;\n",
              "      box-shadow: 0px 1px 2px rgba(60, 64, 67, 0.3), 0px 1px 3px 1px rgba(60, 64, 67, 0.15);\n",
              "      fill: #174EA6;\n",
              "    }\n",
              "\n",
              "    .colab-df-buttons div {\n",
              "      margin-bottom: 4px;\n",
              "    }\n",
              "\n",
              "    [theme=dark] .colab-df-convert {\n",
              "      background-color: #3B4455;\n",
              "      fill: #D2E3FC;\n",
              "    }\n",
              "\n",
              "    [theme=dark] .colab-df-convert:hover {\n",
              "      background-color: #434B5C;\n",
              "      box-shadow: 0px 1px 3px 1px rgba(0, 0, 0, 0.15);\n",
              "      filter: drop-shadow(0px 1px 2px rgba(0, 0, 0, 0.3));\n",
              "      fill: #FFFFFF;\n",
              "    }\n",
              "  </style>\n",
              "\n",
              "    <script>\n",
              "      const buttonEl =\n",
              "        document.querySelector('#df-dbb0881b-76c5-4321-a113-a6050653fd04 button.colab-df-convert');\n",
              "      buttonEl.style.display =\n",
              "        google.colab.kernel.accessAllowed ? 'block' : 'none';\n",
              "\n",
              "      async function convertToInteractive(key) {\n",
              "        const element = document.querySelector('#df-dbb0881b-76c5-4321-a113-a6050653fd04');\n",
              "        const dataTable =\n",
              "          await google.colab.kernel.invokeFunction('convertToInteractive',\n",
              "                                                    [key], {});\n",
              "        if (!dataTable) return;\n",
              "\n",
              "        const docLinkHtml = 'Like what you see? Visit the ' +\n",
              "          '<a target=\"_blank\" href=https://colab.research.google.com/notebooks/data_table.ipynb>data table notebook</a>'\n",
              "          + ' to learn more about interactive tables.';\n",
              "        element.innerHTML = '';\n",
              "        dataTable['output_type'] = 'display_data';\n",
              "        await google.colab.output.renderOutput(dataTable, element);\n",
              "        const docLink = document.createElement('div');\n",
              "        docLink.innerHTML = docLinkHtml;\n",
              "        element.appendChild(docLink);\n",
              "      }\n",
              "    </script>\n",
              "  </div>\n",
              "\n",
              "\n",
              "<div id=\"df-b3993d63-9709-4ae8-8f22-e2777c9b3a29\">\n",
              "  <button class=\"colab-df-quickchart\" onclick=\"quickchart('df-b3993d63-9709-4ae8-8f22-e2777c9b3a29')\"\n",
              "            title=\"Suggest charts\"\n",
              "            style=\"display:none;\">\n",
              "\n",
              "<svg xmlns=\"http://www.w3.org/2000/svg\" height=\"24px\"viewBox=\"0 0 24 24\"\n",
              "     width=\"24px\">\n",
              "    <g>\n",
              "        <path d=\"M19 3H5c-1.1 0-2 .9-2 2v14c0 1.1.9 2 2 2h14c1.1 0 2-.9 2-2V5c0-1.1-.9-2-2-2zM9 17H7v-7h2v7zm4 0h-2V7h2v10zm4 0h-2v-4h2v4z\"/>\n",
              "    </g>\n",
              "</svg>\n",
              "  </button>\n",
              "\n",
              "<style>\n",
              "  .colab-df-quickchart {\n",
              "      --bg-color: #E8F0FE;\n",
              "      --fill-color: #1967D2;\n",
              "      --hover-bg-color: #E2EBFA;\n",
              "      --hover-fill-color: #174EA6;\n",
              "      --disabled-fill-color: #AAA;\n",
              "      --disabled-bg-color: #DDD;\n",
              "  }\n",
              "\n",
              "  [theme=dark] .colab-df-quickchart {\n",
              "      --bg-color: #3B4455;\n",
              "      --fill-color: #D2E3FC;\n",
              "      --hover-bg-color: #434B5C;\n",
              "      --hover-fill-color: #FFFFFF;\n",
              "      --disabled-bg-color: #3B4455;\n",
              "      --disabled-fill-color: #666;\n",
              "  }\n",
              "\n",
              "  .colab-df-quickchart {\n",
              "    background-color: var(--bg-color);\n",
              "    border: none;\n",
              "    border-radius: 50%;\n",
              "    cursor: pointer;\n",
              "    display: none;\n",
              "    fill: var(--fill-color);\n",
              "    height: 32px;\n",
              "    padding: 0;\n",
              "    width: 32px;\n",
              "  }\n",
              "\n",
              "  .colab-df-quickchart:hover {\n",
              "    background-color: var(--hover-bg-color);\n",
              "    box-shadow: 0 1px 2px rgba(60, 64, 67, 0.3), 0 1px 3px 1px rgba(60, 64, 67, 0.15);\n",
              "    fill: var(--button-hover-fill-color);\n",
              "  }\n",
              "\n",
              "  .colab-df-quickchart-complete:disabled,\n",
              "  .colab-df-quickchart-complete:disabled:hover {\n",
              "    background-color: var(--disabled-bg-color);\n",
              "    fill: var(--disabled-fill-color);\n",
              "    box-shadow: none;\n",
              "  }\n",
              "\n",
              "  .colab-df-spinner {\n",
              "    border: 2px solid var(--fill-color);\n",
              "    border-color: transparent;\n",
              "    border-bottom-color: var(--fill-color);\n",
              "    animation:\n",
              "      spin 1s steps(1) infinite;\n",
              "  }\n",
              "\n",
              "  @keyframes spin {\n",
              "    0% {\n",
              "      border-color: transparent;\n",
              "      border-bottom-color: var(--fill-color);\n",
              "      border-left-color: var(--fill-color);\n",
              "    }\n",
              "    20% {\n",
              "      border-color: transparent;\n",
              "      border-left-color: var(--fill-color);\n",
              "      border-top-color: var(--fill-color);\n",
              "    }\n",
              "    30% {\n",
              "      border-color: transparent;\n",
              "      border-left-color: var(--fill-color);\n",
              "      border-top-color: var(--fill-color);\n",
              "      border-right-color: var(--fill-color);\n",
              "    }\n",
              "    40% {\n",
              "      border-color: transparent;\n",
              "      border-right-color: var(--fill-color);\n",
              "      border-top-color: var(--fill-color);\n",
              "    }\n",
              "    60% {\n",
              "      border-color: transparent;\n",
              "      border-right-color: var(--fill-color);\n",
              "    }\n",
              "    80% {\n",
              "      border-color: transparent;\n",
              "      border-right-color: var(--fill-color);\n",
              "      border-bottom-color: var(--fill-color);\n",
              "    }\n",
              "    90% {\n",
              "      border-color: transparent;\n",
              "      border-bottom-color: var(--fill-color);\n",
              "    }\n",
              "  }\n",
              "</style>\n",
              "\n",
              "  <script>\n",
              "    async function quickchart(key) {\n",
              "      const quickchartButtonEl =\n",
              "        document.querySelector('#' + key + ' button');\n",
              "      quickchartButtonEl.disabled = true;  // To prevent multiple clicks.\n",
              "      quickchartButtonEl.classList.add('colab-df-spinner');\n",
              "      try {\n",
              "        const charts = await google.colab.kernel.invokeFunction(\n",
              "            'suggestCharts', [key], {});\n",
              "      } catch (error) {\n",
              "        console.error('Error during call to suggestCharts:', error);\n",
              "      }\n",
              "      quickchartButtonEl.classList.remove('colab-df-spinner');\n",
              "      quickchartButtonEl.classList.add('colab-df-quickchart-complete');\n",
              "    }\n",
              "    (() => {\n",
              "      let quickchartButtonEl =\n",
              "        document.querySelector('#df-b3993d63-9709-4ae8-8f22-e2777c9b3a29 button');\n",
              "      quickchartButtonEl.style.display =\n",
              "        google.colab.kernel.accessAllowed ? 'block' : 'none';\n",
              "    })();\n",
              "  </script>\n",
              "</div>\n",
              "\n",
              "  <div id=\"id_544528bb-4cde-4420-b57f-ef1109d5c857\">\n",
              "    <style>\n",
              "      .colab-df-generate {\n",
              "        background-color: #E8F0FE;\n",
              "        border: none;\n",
              "        border-radius: 50%;\n",
              "        cursor: pointer;\n",
              "        display: none;\n",
              "        fill: #1967D2;\n",
              "        height: 32px;\n",
              "        padding: 0 0 0 0;\n",
              "        width: 32px;\n",
              "      }\n",
              "\n",
              "      .colab-df-generate:hover {\n",
              "        background-color: #E2EBFA;\n",
              "        box-shadow: 0px 1px 2px rgba(60, 64, 67, 0.3), 0px 1px 3px 1px rgba(60, 64, 67, 0.15);\n",
              "        fill: #174EA6;\n",
              "      }\n",
              "\n",
              "      [theme=dark] .colab-df-generate {\n",
              "        background-color: #3B4455;\n",
              "        fill: #D2E3FC;\n",
              "      }\n",
              "\n",
              "      [theme=dark] .colab-df-generate:hover {\n",
              "        background-color: #434B5C;\n",
              "        box-shadow: 0px 1px 3px 1px rgba(0, 0, 0, 0.15);\n",
              "        filter: drop-shadow(0px 1px 2px rgba(0, 0, 0, 0.3));\n",
              "        fill: #FFFFFF;\n",
              "      }\n",
              "    </style>\n",
              "    <button class=\"colab-df-generate\" onclick=\"generateWithVariable('df_wide')\"\n",
              "            title=\"Generate code using this dataframe.\"\n",
              "            style=\"display:none;\">\n",
              "\n",
              "  <svg xmlns=\"http://www.w3.org/2000/svg\" height=\"24px\"viewBox=\"0 0 24 24\"\n",
              "       width=\"24px\">\n",
              "    <path d=\"M7,19H8.4L18.45,9,17,7.55,7,17.6ZM5,21V16.75L18.45,3.32a2,2,0,0,1,2.83,0l1.4,1.43a1.91,1.91,0,0,1,.58,1.4,1.91,1.91,0,0,1-.58,1.4L9.25,21ZM18.45,9,17,7.55Zm-12,3A5.31,5.31,0,0,0,4.9,8.1,5.31,5.31,0,0,0,1,6.5,5.31,5.31,0,0,0,4.9,4.9,5.31,5.31,0,0,0,6.5,1,5.31,5.31,0,0,0,8.1,4.9,5.31,5.31,0,0,0,12,6.5,5.46,5.46,0,0,0,6.5,12Z\"/>\n",
              "  </svg>\n",
              "    </button>\n",
              "    <script>\n",
              "      (() => {\n",
              "      const buttonEl =\n",
              "        document.querySelector('#id_544528bb-4cde-4420-b57f-ef1109d5c857 button.colab-df-generate');\n",
              "      buttonEl.style.display =\n",
              "        google.colab.kernel.accessAllowed ? 'block' : 'none';\n",
              "\n",
              "      buttonEl.onclick = () => {\n",
              "        google.colab.notebook.generateWithVariable('df_wide');\n",
              "      }\n",
              "      })();\n",
              "    </script>\n",
              "  </div>\n",
              "\n",
              "    </div>\n",
              "  </div>\n"
            ],
            "application/vnd.google.colaboratory.intrinsic+json": {
              "type": "dataframe",
              "variable_name": "df_wide",
              "summary": "{\n  \"name\": \"df_wide\",\n  \"rows\": 184,\n  \"fields\": [\n    {\n      \"column\": \"index\",\n      \"properties\": {\n        \"dtype\": \"date\",\n        \"min\": \"2016-07-01 00:00:00\",\n        \"max\": \"2016-12-31 00:00:00\",\n        \"num_unique_values\": 184,\n        \"samples\": [\n          \"2016-07-20 00:00:00\",\n          \"2016-08-12 00:00:00\",\n          \"2016-12-04 00:00:00\"\n        ],\n        \"semantic_type\": \"\",\n        \"description\": \"\"\n      }\n    },\n    {\n      \"column\": \"A\",\n      \"properties\": {\n        \"dtype\": \"number\",\n        \"std\": 97,\n        \"min\": 532,\n        \"max\": 1166,\n        \"num_unique_values\": 145,\n        \"samples\": [\n          861,\n          992,\n          876\n        ],\n        \"semantic_type\": \"\",\n        \"description\": \"\"\n      }\n    },\n    {\n      \"column\": \"B\",\n      \"properties\": {\n        \"dtype\": \"number\",\n        \"std\": 513,\n        \"min\": 2461,\n        \"max\": 6043,\n        \"num_unique_values\": 173,\n        \"samples\": [\n          5274,\n          4557,\n          5155\n        ],\n        \"semantic_type\": \"\",\n        \"description\": \"\"\n      }\n    },\n    {\n      \"column\": \"C\",\n      \"properties\": {\n        \"dtype\": \"number\",\n        \"std\": 208,\n        \"min\": 1136,\n        \"max\": 2535,\n        \"num_unique_values\": 163,\n        \"samples\": [\n          1991,\n          1936,\n          2001\n        ],\n        \"semantic_type\": \"\",\n        \"description\": \"\"\n      }\n    }\n  ]\n}"
            }
          },
          "metadata": {},
          "execution_count": 7
        }
      ],
      "source": [
        "# ワイドフォーマットに戻す\n",
        "# df_wide = df_long.pivot(index=None, columns='id', values='value')\n",
        "df_long_reset_index = df_long.reset_index()\n",
        "df_wide = df_long_reset_index.pivot(index='index', columns='id', values='value')\n",
        "df_wide # 確認用"
      ]
    },
    {
      "cell_type": "code",
      "execution_count": 8,
      "id": "dadda48e",
      "metadata": {
        "id": "dadda48e"
      },
      "outputs": [],
      "source": [
        "# -----------------------------------\n",
        "# ラグ変数\n",
        "# -----------------------------------\n",
        "# ワイドフォーマットのデータをセットする\n",
        "x = df_wide\n",
        "# -----------------------------------\n",
        "# xはワイドフォーマットのデータフレーム\n",
        "# インデックスが日付などの時間、列がユーザや店舗などで、値が売上などの注目する変数を表すものとする"
      ]
    },
    {
      "cell_type": "code",
      "execution_count": 9,
      "id": "f8d81f9b",
      "metadata": {
        "id": "f8d81f9b"
      },
      "outputs": [],
      "source": [
        "# 1期前のlagを取得\n",
        "x_lag1 = x.shift(1)"
      ]
    },
    {
      "cell_type": "code",
      "execution_count": 10,
      "id": "738e0359",
      "metadata": {
        "id": "738e0359"
      },
      "outputs": [],
      "source": [
        "# 7期前のlagを取得\n",
        "x_lag7 = x.shift(7)"
      ]
    },
    {
      "cell_type": "code",
      "execution_count": 11,
      "id": "a5132ee2",
      "metadata": {
        "id": "a5132ee2"
      },
      "outputs": [],
      "source": [
        "# -----------------------------------\n",
        "# 1期前から3期間の移動平均を算出\n",
        "x_avg3 = x.shift(1).rolling(window=3).mean()"
      ]
    },
    {
      "cell_type": "code",
      "execution_count": 12,
      "id": "d4137938",
      "metadata": {
        "id": "d4137938"
      },
      "outputs": [],
      "source": [
        "# -----------------------------------\n",
        "# 1期前から7期間の最大値を算出\n",
        "x_max7 = x.shift(1).rolling(window=7).max()"
      ]
    },
    {
      "cell_type": "code",
      "execution_count": 13,
      "id": "8dce1e58",
      "metadata": {
        "id": "8dce1e58"
      },
      "outputs": [],
      "source": [
        "# -----------------------------------\n",
        "# 7期前, 14期前, 21期前, 28期前の値の平均\n",
        "x_e7_avg = (x.shift(7) + x.shift(14) + x.shift(21) + x.shift(28)) / 4.0"
      ]
    },
    {
      "cell_type": "code",
      "execution_count": 14,
      "id": "0a420808",
      "metadata": {
        "id": "0a420808"
      },
      "outputs": [],
      "source": [
        "# -----------------------------------\n",
        "# 1期先の値を取得\n",
        "x_lead1 = x.shift(-1)"
      ]
    },
    {
      "cell_type": "code",
      "execution_count": 15,
      "id": "1c16b47d",
      "metadata": {
        "id": "1c16b47d"
      },
      "outputs": [],
      "source": [
        "# -----------------------------------\n",
        "# ラグ変数\n",
        "# -----------------------------------\n",
        "# データの読み込み\n",
        "if ON_COLAB:\n",
        "    if USE_GIT:\n",
        "        train_x = pd.read_csv('/content/kagglebook/input/ch03/time_series_train.csv')\n",
        "        event_history = pd.read_csv('/content/kagglebook/input/ch03/time_series_events.csv')\n",
        "    else:\n",
        "        train_x = pd.read_csv(os.path.join(colab_dir, 'input/ch03/time_series_train.csv'))\n",
        "        event_history = pd.read_csv(os.path.join(colab_dir, 'input/ch03/time_series_events.csv'))\n",
        "else:\n",
        "    train_x = pd.read_csv('../input/ch03/time_series_train.csv')\n",
        "    event_history = pd.read_csv('../input/ch03/time_series_events.csv')\n",
        "train_x['date'] = pd.to_datetime(train_x['date'])\n",
        "event_history['date'] = pd.to_datetime(event_history['date'])\n",
        "# -----------------------------------"
      ]
    },
    {
      "cell_type": "markdown",
      "id": "71379f0f",
      "metadata": {
        "id": "71379f0f"
      },
      "source": [
        "train_xは学習データで、ユーザID, 日付を列として持つDataFrameとする\n",
        "event_historyは、過去に開催したイベントの情報で、日付、イベントを列として持つDataFrameとする"
      ]
    },
    {
      "cell_type": "code",
      "execution_count": 16,
      "id": "0d99638a",
      "metadata": {
        "id": "0d99638a"
      },
      "outputs": [],
      "source": [
        "# occurrencesは、日付、セールが開催されたか否かを列として持つDataFrameとなる\n",
        "dates = np.sort(train_x['date'].unique())\n",
        "occurrences = pd.DataFrame(dates, columns=['date'])\n",
        "sale_history = event_history[event_history['event'] == 'sale']\n",
        "occurrences['sale'] = occurrences['date'].isin(sale_history['date'])"
      ]
    },
    {
      "cell_type": "code",
      "execution_count": 17,
      "id": "8ce4767e",
      "metadata": {
        "id": "8ce4767e"
      },
      "outputs": [],
      "source": [
        "# 累積和をとることで、それぞれの日付での累積出現回数を表すようにする\n",
        "# occurrencesは、日付、セールの累積出現回数を列として持つDataFrameとなる\n",
        "occurrences['sale'] = occurrences['sale'].cumsum()"
      ]
    },
    {
      "cell_type": "code",
      "execution_count": 18,
      "id": "6907ec35",
      "metadata": {
        "id": "6907ec35"
      },
      "outputs": [],
      "source": [
        "# 日付をキーとして学習データと結合する\n",
        "train_x = train_x.merge(occurrences, on='date', how='left')"
      ]
    }
  ],
  "metadata": {
    "jupytext": {
      "cell_metadata_filter": "-all",
      "main_language": "python",
      "notebook_metadata_filter": "-all"
    },
    "colab": {
      "provenance": [],
      "include_colab_link": true
    },
    "language_info": {
      "name": "python"
    },
    "kernelspec": {
      "name": "python3",
      "display_name": "Python 3"
    }
  },
  "nbformat": 4,
  "nbformat_minor": 5
}