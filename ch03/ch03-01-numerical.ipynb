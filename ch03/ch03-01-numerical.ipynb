{
 "cells": [
  {
   "cell_type": "code",
   "execution_count": null,
   "id": "5bd5ef5d",
   "metadata": {},
   "outputs": [],
   "source": [
    "# ---------------------------------\n",
    "# データ等の準備\n",
    "# ----------------------------------\n",
    "import numpy as np\n",
    "import pandas as pd"
   ]
  },
  {
   "cell_type": "markdown",
   "id": "3c682fb2",
   "metadata": {},
   "source": [
    "train_xは学習データ、train_yは目的変数、test_xはテストデータ\n",
    "pandasのDataFrame, Seriesで保持します。（numpyのarrayで保持することもあります）"
   ]
  },
  {
   "cell_type": "code",
   "execution_count": null,
   "id": "ec4efb02",
   "metadata": {},
   "outputs": [],
   "source": [
    "train = pd.read_csv('../input/sample-data/train_preprocessed.csv')\n",
    "train_x = train.drop(['target'], axis=1)\n",
    "train_y = train['target']\n",
    "test_x = pd.read_csv('../input/sample-data/test_preprocessed.csv')"
   ]
  },
  {
   "cell_type": "code",
   "execution_count": null,
   "id": "1888c586",
   "metadata": {},
   "outputs": [],
   "source": [
    "# 説明用に学習データとテストデータの元の状態を保存しておく\n",
    "train_x_saved = train_x.copy()\n",
    "test_x_saved = test_x.copy()"
   ]
  },
  {
   "cell_type": "code",
   "execution_count": null,
   "id": "97120f07",
   "metadata": {},
   "outputs": [],
   "source": [
    "# 学習データとテストデータを返す関数\n",
    "def load_data():\n",
    "    train_x, test_x = train_x_saved.copy(), test_x_saved.copy()\n",
    "    return train_x, test_x"
   ]
  },
  {
   "cell_type": "code",
   "execution_count": null,
   "id": "dbecec08",
   "metadata": {},
   "outputs": [],
   "source": [
    "# 変換する数値変数をリストに格納\n",
    "num_cols = ['age', 'height', 'weight', 'amount',\n",
    "            'medical_info_a1', 'medical_info_a2', 'medical_info_a3', 'medical_info_b1']"
   ]
  },
  {
   "cell_type": "code",
   "execution_count": null,
   "id": "7d9fdab8",
   "metadata": {},
   "outputs": [],
   "source": [
    "# -----------------------------------\n",
    "# 標準化\n",
    "# -----------------------------------\n",
    "# データの読み込み\n",
    "train_x, test_x = load_data()\n",
    "# -----------------------------------\n",
    "from sklearn.preprocessing import StandardScaler"
   ]
  },
  {
   "cell_type": "code",
   "execution_count": null,
   "id": "b5224612",
   "metadata": {},
   "outputs": [],
   "source": [
    "# 学習データに基づいて複数列の標準化を定義\n",
    "scaler = StandardScaler()\n",
    "scaler.fit(train_x[num_cols])"
   ]
  },
  {
   "cell_type": "code",
   "execution_count": null,
   "id": "edbb653d",
   "metadata": {},
   "outputs": [],
   "source": [
    "# 変換後のデータで各列を置換\n",
    "train_x[num_cols] = scaler.transform(train_x[num_cols])\n",
    "test_x[num_cols] = scaler.transform(test_x[num_cols])"
   ]
  },
  {
   "cell_type": "code",
   "execution_count": null,
   "id": "a1521e97",
   "metadata": {},
   "outputs": [],
   "source": [
    "# -----------------------------------\n",
    "# データの読み込み\n",
    "train_x, test_x = load_data()\n",
    "# -----------------------------------\n",
    "from sklearn.preprocessing import StandardScaler"
   ]
  },
  {
   "cell_type": "code",
   "execution_count": null,
   "id": "ab334fcb",
   "metadata": {},
   "outputs": [],
   "source": [
    "# 学習データとテストデータを結合したものに基づいて複数列の標準化を定義\n",
    "scaler = StandardScaler()\n",
    "scaler.fit(pd.concat([train_x[num_cols], test_x[num_cols]]))"
   ]
  },
  {
   "cell_type": "code",
   "execution_count": null,
   "id": "6ff5249b",
   "metadata": {},
   "outputs": [],
   "source": [
    "# 変換後のデータで各列を置換\n",
    "train_x[num_cols] = scaler.transform(train_x[num_cols])\n",
    "test_x[num_cols] = scaler.transform(test_x[num_cols])"
   ]
  },
  {
   "cell_type": "code",
   "execution_count": null,
   "id": "97f39273",
   "metadata": {},
   "outputs": [],
   "source": [
    "# -----------------------------------\n",
    "# データの読み込み\n",
    "train_x, test_x = load_data()\n",
    "# -----------------------------------\n",
    "from sklearn.preprocessing import StandardScaler"
   ]
  },
  {
   "cell_type": "code",
   "execution_count": null,
   "id": "67c20b34",
   "metadata": {},
   "outputs": [],
   "source": [
    "# 学習データとテストデータを別々に標準化（悪い例）\n",
    "scaler_train = StandardScaler()\n",
    "scaler_train.fit(train_x[num_cols])\n",
    "train_x[num_cols] = scaler_train.transform(train_x[num_cols])\n",
    "scaler_test = StandardScaler()\n",
    "scaler_test.fit(test_x[num_cols])\n",
    "test_x[num_cols] = scaler_test.transform(test_x[num_cols])"
   ]
  },
  {
   "cell_type": "code",
   "execution_count": null,
   "id": "ed533048",
   "metadata": {},
   "outputs": [],
   "source": [
    "# -----------------------------------\n",
    "# Min-Maxスケーリング\n",
    "# -----------------------------------\n",
    "# データの読み込み\n",
    "train_x, test_x = load_data()\n",
    "# -----------------------------------\n",
    "from sklearn.preprocessing import MinMaxScaler"
   ]
  },
  {
   "cell_type": "code",
   "execution_count": null,
   "id": "96e75dd4",
   "metadata": {},
   "outputs": [],
   "source": [
    "# 学習データに基づいて複数列のMin-Maxスケーリングを定義\n",
    "scaler = MinMaxScaler()\n",
    "scaler.fit(train_x[num_cols])"
   ]
  },
  {
   "cell_type": "code",
   "execution_count": null,
   "id": "7967574f",
   "metadata": {},
   "outputs": [],
   "source": [
    "# 変換後のデータで各列を置換\n",
    "train_x[num_cols] = scaler.transform(train_x[num_cols])\n",
    "test_x[num_cols] = scaler.transform(test_x[num_cols])"
   ]
  },
  {
   "cell_type": "code",
   "execution_count": null,
   "id": "6acd845c",
   "metadata": {},
   "outputs": [],
   "source": [
    "# -----------------------------------\n",
    "# 対数変換\n",
    "# -----------------------------------\n",
    "x = np.array([1.0, 10.0, 100.0, 1000.0, 10000.0])"
   ]
  },
  {
   "cell_type": "code",
   "execution_count": null,
   "id": "94521fd5",
   "metadata": {},
   "outputs": [],
   "source": [
    "# 単に対数をとる\n",
    "x1 = np.log(x)"
   ]
  },
  {
   "cell_type": "code",
   "execution_count": null,
   "id": "59e5ac4e",
   "metadata": {},
   "outputs": [],
   "source": [
    "# 1を加えたあとに対数をとる\n",
    "x2 = np.log1p(x)"
   ]
  },
  {
   "cell_type": "code",
   "execution_count": null,
   "id": "663e53a5",
   "metadata": {},
   "outputs": [],
   "source": [
    "# 絶対値の対数をとってから元の符号を付加する\n",
    "x3 = np.sign(x) * np.log(np.abs(x))"
   ]
  },
  {
   "cell_type": "code",
   "execution_count": null,
   "id": "e2146de4",
   "metadata": {},
   "outputs": [],
   "source": [
    "# -----------------------------------\n",
    "# Box-Cox変換\n",
    "# -----------------------------------\n",
    "# データの読み込み\n",
    "train_x, test_x = load_data()\n",
    "# -----------------------------------"
   ]
  },
  {
   "cell_type": "code",
   "execution_count": null,
   "id": "4741ff16",
   "metadata": {},
   "outputs": [],
   "source": [
    "# 正の値のみをとる変数を変換対象としてリストに格納する\n",
    "# なお、欠損値も含める場合は、(~(train_x[c] <= 0.0)).all() などとする必要があるので注意\n",
    "pos_cols = [c for c in num_cols if (train_x[c] > 0.0).all() and (test_x[c] > 0.0).all()]"
   ]
  },
  {
   "cell_type": "code",
   "execution_count": null,
   "id": "1ede99c0",
   "metadata": {},
   "outputs": [],
   "source": [
    "from sklearn.preprocessing import PowerTransformer"
   ]
  },
  {
   "cell_type": "code",
   "execution_count": null,
   "id": "9301df51",
   "metadata": {},
   "outputs": [],
   "source": [
    "# 学習データに基づいて複数列のBox-Cox変換を定義\n",
    "pt = PowerTransformer(method='box-cox')\n",
    "pt.fit(train_x[pos_cols])"
   ]
  },
  {
   "cell_type": "code",
   "execution_count": null,
   "id": "e645510e",
   "metadata": {},
   "outputs": [],
   "source": [
    "# 変換後のデータで各列を置換\n",
    "train_x[pos_cols] = pt.transform(train_x[pos_cols])\n",
    "test_x[pos_cols] = pt.transform(test_x[pos_cols])"
   ]
  },
  {
   "cell_type": "code",
   "execution_count": null,
   "id": "d0498bce",
   "metadata": {},
   "outputs": [],
   "source": [
    "# -----------------------------------\n",
    "# Yeo-Johnson変換\n",
    "# -----------------------------------\n",
    "# データの読み込み\n",
    "train_x, test_x = load_data()\n",
    "# -----------------------------------"
   ]
  },
  {
   "cell_type": "code",
   "execution_count": null,
   "id": "fac0ee6e",
   "metadata": {},
   "outputs": [],
   "source": [
    "from sklearn.preprocessing import PowerTransformer"
   ]
  },
  {
   "cell_type": "code",
   "execution_count": null,
   "id": "5f7e26d9",
   "metadata": {},
   "outputs": [],
   "source": [
    "# 学習データに基づいて複数列のYeo-Johnson変換を定義\n",
    "pt = PowerTransformer(method='yeo-johnson')\n",
    "pt.fit(train_x[num_cols])"
   ]
  },
  {
   "cell_type": "code",
   "execution_count": null,
   "id": "9d473fab",
   "metadata": {},
   "outputs": [],
   "source": [
    "# 変換後のデータで各列を置換\n",
    "train_x[num_cols] = pt.transform(train_x[num_cols])\n",
    "test_x[num_cols] = pt.transform(test_x[num_cols])"
   ]
  },
  {
   "cell_type": "code",
   "execution_count": null,
   "id": "fd1ca38f",
   "metadata": {},
   "outputs": [],
   "source": [
    "# -----------------------------------\n",
    "# clipping\n",
    "# -----------------------------------\n",
    "# データの読み込み\n",
    "train_x, test_x = load_data()\n",
    "# -----------------------------------\n",
    "# 列ごとに学習データの1％点、99％点を計算\n",
    "p01 = train_x[num_cols].quantile(0.01)\n",
    "p99 = train_x[num_cols].quantile(0.99)"
   ]
  },
  {
   "cell_type": "code",
   "execution_count": null,
   "id": "0a02aa5f",
   "metadata": {},
   "outputs": [],
   "source": [
    "# 1％点以下の値は1％点に、99％点以上の値は99％点にclippingする\n",
    "train_x[num_cols] = train_x[num_cols].clip(p01, p99, axis=1)\n",
    "test_x[num_cols] = test_x[num_cols].clip(p01, p99, axis=1)"
   ]
  },
  {
   "cell_type": "code",
   "execution_count": null,
   "id": "5a964b0c",
   "metadata": {},
   "outputs": [],
   "source": [
    "# -----------------------------------\n",
    "# binning\n",
    "# -----------------------------------\n",
    "x = [1, 7, 5, 4, 6, 3]"
   ]
  },
  {
   "cell_type": "markdown",
   "id": "9698edda",
   "metadata": {},
   "source": [
    "pandasのcut関数でbinningを行う"
   ]
  },
  {
   "cell_type": "code",
   "execution_count": null,
   "id": "6cea6882",
   "metadata": {},
   "outputs": [],
   "source": [
    "# binの数を指定する場合\n",
    "binned = pd.cut(x, 3, labels=False)\n",
    "print(binned)\n",
    "# [0 2 1 1 2 0] - 変換された値は3つのbinのどれに入ったかを表す"
   ]
  },
  {
   "cell_type": "code",
   "execution_count": null,
   "id": "5c500879",
   "metadata": {},
   "outputs": [],
   "source": [
    "# binの範囲を指定する場合（3.0以下、3.0より大きく5.0以下、5.0より大きい）\n",
    "bin_edges = [-float('inf'), 3.0, 5.0, float('inf')]\n",
    "binned = pd.cut(x, bin_edges, labels=False)\n",
    "print(binned)\n",
    "# [0 2 1 1 2 0] - 変換された値は3つのbinのどれに入ったかを表す"
   ]
  },
  {
   "cell_type": "code",
   "execution_count": null,
   "id": "1cc526ed",
   "metadata": {},
   "outputs": [],
   "source": [
    "# -----------------------------------\n",
    "# 順位への変換\n",
    "# -----------------------------------\n",
    "x = [10, 20, 30, 0, 40, 40]"
   ]
  },
  {
   "cell_type": "code",
   "execution_count": null,
   "id": "7cdf6672",
   "metadata": {},
   "outputs": [],
   "source": [
    "# pandasのrank関数で順位に変換する\n",
    "rank = pd.Series(x).rank()\n",
    "print(rank.values)\n",
    "# はじまりが1、同順位があった場合は平均の順位となる\n",
    "# [2. 3. 4. 1. 5.5 5.5]"
   ]
  },
  {
   "cell_type": "code",
   "execution_count": null,
   "id": "b74d8b7e",
   "metadata": {},
   "outputs": [],
   "source": [
    "# numpyのargsort関数を2回適用する方法で順位に変換する\n",
    "order = np.argsort(x)\n",
    "rank = np.argsort(order)\n",
    "print(rank)\n",
    "# はじまりが0、同順位があった場合はどちらかが上位となる\n",
    "# [1 2 3 0 4 5]"
   ]
  },
  {
   "cell_type": "code",
   "execution_count": null,
   "id": "511f2c5a",
   "metadata": {},
   "outputs": [],
   "source": [
    "# -----------------------------------\n",
    "# RankGauss\n",
    "# -----------------------------------\n",
    "# データの読み込み\n",
    "train_x, test_x = load_data()\n",
    "# -----------------------------------\n",
    "from sklearn.preprocessing import QuantileTransformer"
   ]
  },
  {
   "cell_type": "code",
   "execution_count": null,
   "id": "5147a773",
   "metadata": {},
   "outputs": [],
   "source": [
    "# 学習データに基づいて複数列のRankGaussによる変換を定義\n",
    "transformer = QuantileTransformer(n_quantiles=100, random_state=0, output_distribution='normal')\n",
    "transformer.fit(train_x[num_cols])"
   ]
  },
  {
   "cell_type": "code",
   "execution_count": null,
   "id": "925df244",
   "metadata": {},
   "outputs": [],
   "source": [
    "# 変換後のデータで各列を置換\n",
    "train_x[num_cols] = transformer.transform(train_x[num_cols])\n",
    "test_x[num_cols] = transformer.transform(test_x[num_cols])"
   ]
  }
 ],
 "metadata": {
  "jupytext": {
   "cell_metadata_filter": "-all",
   "main_language": "python",
   "notebook_metadata_filter": "-all"
  }
 },
 "nbformat": 4,
 "nbformat_minor": 5
}
