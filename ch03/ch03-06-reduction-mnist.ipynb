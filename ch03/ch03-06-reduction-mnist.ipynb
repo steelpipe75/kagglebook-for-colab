{
 "cells": [
  {
   "cell_type": "code",
   "execution_count": null,
   "id": "672b3511",
   "metadata": {},
   "outputs": [],
   "source": [
    "﻿# ---------------------------------\n",
    "# データ等の準備\n",
    "# ----------------------------------\n",
    "import numpy as np\n",
    "import pandas as pd\n",
    "import matplotlib.pyplot as plt"
   ]
  },
  {
   "cell_type": "markdown",
   "id": "24a6c97b",
   "metadata": {},
   "source": [
    "MNISTデータの可視化"
   ]
  },
  {
   "cell_type": "code",
   "execution_count": null,
   "id": "e5203cb8",
   "metadata": {},
   "outputs": [],
   "source": [
    "# keras.datasetsを用いてMNISTデータをダウンロードする\n",
    "from keras.datasets import mnist\n",
    "(train_x, train_y), (test_x, test_y) = mnist.load_data()"
   ]
  },
  {
   "cell_type": "code",
   "execution_count": null,
   "id": "eab51ce4",
   "metadata": {},
   "outputs": [],
   "source": [
    "# 2次元データにする\n",
    "train_x = train_x.reshape(train_x.shape[0], -1)"
   ]
  },
  {
   "cell_type": "code",
   "execution_count": null,
   "id": "0f38d6f0",
   "metadata": {},
   "outputs": [],
   "source": [
    "# 上位1000件に縮小させる\n",
    "train_x = pd.DataFrame(train_x[:1000, :])\n",
    "train_y = train_y[:1000]"
   ]
  },
  {
   "cell_type": "code",
   "execution_count": null,
   "id": "00f48462",
   "metadata": {},
   "outputs": [],
   "source": [
    "# -----------------------------------\n",
    "# PCA\n",
    "# -----------------------------------\n",
    "from sklearn.decomposition import PCA"
   ]
  },
  {
   "cell_type": "code",
   "execution_count": null,
   "id": "ef20cf4d",
   "metadata": {},
   "outputs": [],
   "source": [
    "# 学習データに基づいてPCAによる変換を定義\n",
    "pca = PCA()\n",
    "x_pca = pca.fit_transform(train_x)"
   ]
  },
  {
   "cell_type": "code",
   "execution_count": null,
   "id": "20495649",
   "metadata": {},
   "outputs": [],
   "source": [
    "# クラス毎に色分けして2次元にプロット\n",
    "f, ax = plt.subplots(1)\n",
    "for i in range(10):\n",
    "    mask = train_y == i\n",
    "    plt.scatter(x_pca[mask, 0], x_pca[mask, 1], label=i, s=10, alpha=0.5)\n",
    "ax.legend(bbox_to_anchor=(1.00, 1), loc='upper left')"
   ]
  },
  {
   "cell_type": "code",
   "execution_count": null,
   "id": "f773fed6",
   "metadata": {},
   "outputs": [],
   "source": [
    "plt.show()"
   ]
  },
  {
   "cell_type": "code",
   "execution_count": null,
   "id": "15faceb5",
   "metadata": {},
   "outputs": [],
   "source": [
    "# -----------------------------------\n",
    "# LDA (Linear Discriminant Analysis)\n",
    "# -----------------------------------\n",
    "from sklearn.discriminant_analysis import LinearDiscriminantAnalysis as LDA"
   ]
  },
  {
   "cell_type": "code",
   "execution_count": null,
   "id": "81337e9e",
   "metadata": {},
   "outputs": [],
   "source": [
    "# クラスを最も上手く分ける2軸を線形判別分析で導出\n",
    "lda = LDA(n_components=2)\n",
    "x_lda = lda.fit_transform(train_x, train_y)"
   ]
  },
  {
   "cell_type": "code",
   "execution_count": null,
   "id": "3c024a7a",
   "metadata": {},
   "outputs": [],
   "source": [
    "# クラス毎に色分けして2次元にプロット\n",
    "# 良く分割しているが、目的変数を利用しているため他と比べて非常に有利な条件となっていることに注意\n",
    "f, ax = plt.subplots(1)\n",
    "for i in range(10):\n",
    "    mask = train_y == i\n",
    "    plt.scatter(x_lda[mask, 0], x_lda[mask, 1], label=i, s=10, alpha=0.5)\n",
    "ax.legend(bbox_to_anchor=(1.00, 1), loc='upper left')"
   ]
  },
  {
   "cell_type": "code",
   "execution_count": null,
   "id": "f983131a",
   "metadata": {},
   "outputs": [],
   "source": [
    "plt.show()"
   ]
  },
  {
   "cell_type": "code",
   "execution_count": null,
   "id": "2b8b4bd6",
   "metadata": {},
   "outputs": [],
   "source": [
    "# -----------------------------------\n",
    "# t-sne\n",
    "# -----------------------------------\n",
    "from sklearn.manifold import TSNE"
   ]
  },
  {
   "cell_type": "code",
   "execution_count": null,
   "id": "7224b6d3",
   "metadata": {},
   "outputs": [],
   "source": [
    "# t-sneによる変換\n",
    "tsne = TSNE(n_components=2)\n",
    "x_tsne = tsne.fit_transform(train_x)"
   ]
  },
  {
   "cell_type": "code",
   "execution_count": null,
   "id": "3a87093f",
   "metadata": {},
   "outputs": [],
   "source": [
    "# クラス毎に色分けして2次元にプロット\n",
    "f, ax = plt.subplots(1)\n",
    "for i in range(10):\n",
    "    mask = train_y == i\n",
    "    plt.scatter(x_tsne[mask, 0], x_tsne[mask, 1], label=i, s=10, alpha=0.5)\n",
    "ax.legend(bbox_to_anchor=(1.00, 1), loc='upper left')"
   ]
  },
  {
   "cell_type": "code",
   "execution_count": null,
   "id": "8d24d39a",
   "metadata": {},
   "outputs": [],
   "source": [
    "plt.show()"
   ]
  },
  {
   "cell_type": "code",
   "execution_count": null,
   "id": "d82cdf9b",
   "metadata": {},
   "outputs": [],
   "source": [
    "# -----------------------------------\n",
    "# UMAP\n",
    "# -----------------------------------\n",
    "import umap"
   ]
  },
  {
   "cell_type": "code",
   "execution_count": null,
   "id": "a019e3f9",
   "metadata": {},
   "outputs": [],
   "source": [
    "# UMAPによる変換\n",
    "um = umap.UMAP()\n",
    "x_umap = um.fit_transform(train_x)"
   ]
  },
  {
   "cell_type": "code",
   "execution_count": null,
   "id": "c6ee682a",
   "metadata": {},
   "outputs": [],
   "source": [
    "# クラス毎に色分けして2次元にプロット\n",
    "f, ax = plt.subplots(1)\n",
    "for i in range(10):\n",
    "    mask = train_y == i\n",
    "    plt.scatter(x_umap[mask, 0], x_umap[mask, 1], label=i, s=10, alpha=0.5)\n",
    "ax.legend(bbox_to_anchor=(1.00, 1), loc='upper left')"
   ]
  },
  {
   "cell_type": "code",
   "execution_count": null,
   "id": "0bc7d785",
   "metadata": {},
   "outputs": [],
   "source": [
    "plt.show()"
   ]
  }
 ],
 "metadata": {
  "jupytext": {
   "cell_metadata_filter": "-all",
   "main_language": "python",
   "notebook_metadata_filter": "-all"
  }
 },
 "nbformat": 4,
 "nbformat_minor": 5
}
