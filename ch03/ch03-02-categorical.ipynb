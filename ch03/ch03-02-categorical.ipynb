{
  "cells": [
    {
      "cell_type": "markdown",
      "metadata": {
        "id": "view-in-github",
        "colab_type": "text"
      },
      "source": [
        "<a href=\"https://colab.research.google.com/github/steelpipe75/kagglebook-for-colab/blob/master/ch03/ch03-02-categorical.ipynb\" target=\"_parent\"><img src=\"https://colab.research.google.com/assets/colab-badge.svg\" alt=\"Open In Colab\"/></a>"
      ]
    },
    {
      "cell_type": "code",
      "execution_count": 1,
      "id": "273b1486",
      "metadata": {
        "id": "273b1486"
      },
      "outputs": [],
      "source": [
        "# ---------------------------------\n",
        "# データ等の準備\n",
        "# ----------------------------------\n",
        "import numpy as np\n",
        "import pandas as pd"
      ]
    },
    {
      "cell_type": "code",
      "source": [
        "import importlib\n",
        "import sys\n",
        "import subprocess\n",
        "\n",
        "# Google Colab 上で実行しているかどうかを判断するフラグ\n",
        "ON_COLAB = \"google.colab\" in sys.modules\n",
        "print(f\"ON_COLAB: {ON_COLAB}\")\n",
        "\n",
        "if ON_COLAB:\n",
        "    USE_GIT = True # Gitを使う\n",
        "    # USE_GIT = False # Gitを使わない\n",
        "\n",
        "    print(f\"USE_GIT: {USE_GIT}\")\n",
        "    if USE_GIT:\n",
        "        !git clone https://github.com/ghmagazine/kagglebook.git\n",
        "    else:\n",
        "        # Google Drive にマウントする\n",
        "        drive = importlib.import_module(\"google.colab.drive\")\n",
        "        drive.mount(\"/content/drive/\")\n",
        "\n",
        "        import os\n",
        "        colab_dir = \"/content/drive/MyDrive/kagglebook/\" # データ置き場"
      ],
      "metadata": {
        "id": "fC25TpQnVcg8",
        "outputId": "f03b5b67-01bd-4292-b3a3-5053a9603a0b",
        "colab": {
          "base_uri": "https://localhost:8080/"
        }
      },
      "id": "fC25TpQnVcg8",
      "execution_count": 2,
      "outputs": [
        {
          "output_type": "stream",
          "name": "stdout",
          "text": [
            "ON_COLAB: True\n",
            "USE_GIT: True\n",
            "fatal: destination path 'kagglebook' already exists and is not an empty directory.\n"
          ]
        }
      ]
    },
    {
      "cell_type": "markdown",
      "id": "bceb79da",
      "metadata": {
        "id": "bceb79da"
      },
      "source": [
        "train_xは学習データ、train_yは目的変数、test_xはテストデータ\n",
        "pandasのDataFrame, Seriesで保持します。（numpyのarrayで保持することもあります）"
      ]
    },
    {
      "cell_type": "code",
      "execution_count": 3,
      "id": "f79dba7b",
      "metadata": {
        "id": "f79dba7b"
      },
      "outputs": [],
      "source": [
        "if ON_COLAB:\n",
        "    if USE_GIT:\n",
        "        train = pd.read_csv('/content/kagglebook/input/sample-data/train.csv')\n",
        "    else:\n",
        "        train = pd.read_csv(os.path.join(colab_dir, 'input/sample-data/train.csv'))\n",
        "else:\n",
        "    train = pd.read_csv('../input/sample-data/train.csv')\n",
        "train_x = train.drop(['target'], axis=1)\n",
        "train_y = train['target']\n",
        "if ON_COLAB:\n",
        "    if USE_GIT:\n",
        "        test_x = pd.read_csv('/content/kagglebook/input/sample-data/test.csv')\n",
        "    else:\n",
        "        test_x = pd.read_csv(os.path.join(colab_dir, 'input/sample-data/test.csv'))\n",
        "else:\n",
        "    test_x = pd.read_csv('../input/sample-data/test.csv')"
      ]
    },
    {
      "cell_type": "code",
      "execution_count": 4,
      "id": "bf128e2f",
      "metadata": {
        "id": "bf128e2f"
      },
      "outputs": [],
      "source": [
        "# 説明用に学習データとテストデータの元の状態を保存しておく\n",
        "train_x_saved = train_x.copy()\n",
        "test_x_saved = test_x.copy()"
      ]
    },
    {
      "cell_type": "code",
      "execution_count": 5,
      "id": "23d0bddf",
      "metadata": {
        "id": "23d0bddf"
      },
      "outputs": [],
      "source": [
        "# 学習データとテストデータを返す関数\n",
        "def load_data():\n",
        "    train_x, test_x = train_x_saved.copy(), test_x_saved.copy()\n",
        "    return train_x, test_x"
      ]
    },
    {
      "cell_type": "code",
      "execution_count": 6,
      "id": "05cb9ef0",
      "metadata": {
        "id": "05cb9ef0"
      },
      "outputs": [],
      "source": [
        "# 変換するカテゴリ変数をリストに格納\n",
        "cat_cols = ['sex', 'product', 'medical_info_b2', 'medical_info_b3']"
      ]
    },
    {
      "cell_type": "code",
      "execution_count": 7,
      "id": "15761236",
      "metadata": {
        "id": "15761236"
      },
      "outputs": [],
      "source": [
        "# -----------------------------------\n",
        "# one-hot encoding\n",
        "# -----------------------------------\n",
        "# データの読み込み\n",
        "train_x, test_x = load_data()\n",
        "# -----------------------------------"
      ]
    },
    {
      "cell_type": "code",
      "execution_count": 8,
      "id": "f3cf2005",
      "metadata": {
        "id": "f3cf2005"
      },
      "outputs": [],
      "source": [
        "# 学習データとテストデータを結合してget_dummiesによるone-hot encodingを行う\n",
        "all_x = pd.concat([train_x, test_x])\n",
        "all_x = pd.get_dummies(all_x, columns=cat_cols)"
      ]
    },
    {
      "cell_type": "code",
      "execution_count": 9,
      "id": "26d52c25",
      "metadata": {
        "id": "26d52c25"
      },
      "outputs": [],
      "source": [
        "# 学習データとテストデータに再分割\n",
        "train_x = all_x.iloc[:train_x.shape[0], :].reset_index(drop=True)\n",
        "test_x = all_x.iloc[train_x.shape[0]:, :].reset_index(drop=True)"
      ]
    },
    {
      "cell_type": "code",
      "execution_count": 10,
      "id": "b2c8941e",
      "metadata": {
        "id": "b2c8941e"
      },
      "outputs": [],
      "source": [
        "# -----------------------------------\n",
        "# データの読み込み\n",
        "train_x, test_x = load_data()\n",
        "# -----------------------------------\n",
        "from sklearn.preprocessing import OneHotEncoder"
      ]
    },
    {
      "cell_type": "code",
      "execution_count": 11,
      "id": "1673e420",
      "metadata": {
        "id": "1673e420",
        "outputId": "63b0f810-e38e-4481-e589-850b00d39684",
        "colab": {
          "base_uri": "https://localhost:8080/",
          "height": 80
        }
      },
      "outputs": [
        {
          "output_type": "execute_result",
          "data": {
            "text/plain": [
              "OneHotEncoder(sparse_output=False)"
            ],
            "text/html": [
              "<style>#sk-container-id-1 {\n",
              "  /* Definition of color scheme common for light and dark mode */\n",
              "  --sklearn-color-text: #000;\n",
              "  --sklearn-color-text-muted: #666;\n",
              "  --sklearn-color-line: gray;\n",
              "  /* Definition of color scheme for unfitted estimators */\n",
              "  --sklearn-color-unfitted-level-0: #fff5e6;\n",
              "  --sklearn-color-unfitted-level-1: #f6e4d2;\n",
              "  --sklearn-color-unfitted-level-2: #ffe0b3;\n",
              "  --sklearn-color-unfitted-level-3: chocolate;\n",
              "  /* Definition of color scheme for fitted estimators */\n",
              "  --sklearn-color-fitted-level-0: #f0f8ff;\n",
              "  --sklearn-color-fitted-level-1: #d4ebff;\n",
              "  --sklearn-color-fitted-level-2: #b3dbfd;\n",
              "  --sklearn-color-fitted-level-3: cornflowerblue;\n",
              "\n",
              "  /* Specific color for light theme */\n",
              "  --sklearn-color-text-on-default-background: var(--sg-text-color, var(--theme-code-foreground, var(--jp-content-font-color1, black)));\n",
              "  --sklearn-color-background: var(--sg-background-color, var(--theme-background, var(--jp-layout-color0, white)));\n",
              "  --sklearn-color-border-box: var(--sg-text-color, var(--theme-code-foreground, var(--jp-content-font-color1, black)));\n",
              "  --sklearn-color-icon: #696969;\n",
              "\n",
              "  @media (prefers-color-scheme: dark) {\n",
              "    /* Redefinition of color scheme for dark theme */\n",
              "    --sklearn-color-text-on-default-background: var(--sg-text-color, var(--theme-code-foreground, var(--jp-content-font-color1, white)));\n",
              "    --sklearn-color-background: var(--sg-background-color, var(--theme-background, var(--jp-layout-color0, #111)));\n",
              "    --sklearn-color-border-box: var(--sg-text-color, var(--theme-code-foreground, var(--jp-content-font-color1, white)));\n",
              "    --sklearn-color-icon: #878787;\n",
              "  }\n",
              "}\n",
              "\n",
              "#sk-container-id-1 {\n",
              "  color: var(--sklearn-color-text);\n",
              "}\n",
              "\n",
              "#sk-container-id-1 pre {\n",
              "  padding: 0;\n",
              "}\n",
              "\n",
              "#sk-container-id-1 input.sk-hidden--visually {\n",
              "  border: 0;\n",
              "  clip: rect(1px 1px 1px 1px);\n",
              "  clip: rect(1px, 1px, 1px, 1px);\n",
              "  height: 1px;\n",
              "  margin: -1px;\n",
              "  overflow: hidden;\n",
              "  padding: 0;\n",
              "  position: absolute;\n",
              "  width: 1px;\n",
              "}\n",
              "\n",
              "#sk-container-id-1 div.sk-dashed-wrapped {\n",
              "  border: 1px dashed var(--sklearn-color-line);\n",
              "  margin: 0 0.4em 0.5em 0.4em;\n",
              "  box-sizing: border-box;\n",
              "  padding-bottom: 0.4em;\n",
              "  background-color: var(--sklearn-color-background);\n",
              "}\n",
              "\n",
              "#sk-container-id-1 div.sk-container {\n",
              "  /* jupyter's `normalize.less` sets `[hidden] { display: none; }`\n",
              "     but bootstrap.min.css set `[hidden] { display: none !important; }`\n",
              "     so we also need the `!important` here to be able to override the\n",
              "     default hidden behavior on the sphinx rendered scikit-learn.org.\n",
              "     See: https://github.com/scikit-learn/scikit-learn/issues/21755 */\n",
              "  display: inline-block !important;\n",
              "  position: relative;\n",
              "}\n",
              "\n",
              "#sk-container-id-1 div.sk-text-repr-fallback {\n",
              "  display: none;\n",
              "}\n",
              "\n",
              "div.sk-parallel-item,\n",
              "div.sk-serial,\n",
              "div.sk-item {\n",
              "  /* draw centered vertical line to link estimators */\n",
              "  background-image: linear-gradient(var(--sklearn-color-text-on-default-background), var(--sklearn-color-text-on-default-background));\n",
              "  background-size: 2px 100%;\n",
              "  background-repeat: no-repeat;\n",
              "  background-position: center center;\n",
              "}\n",
              "\n",
              "/* Parallel-specific style estimator block */\n",
              "\n",
              "#sk-container-id-1 div.sk-parallel-item::after {\n",
              "  content: \"\";\n",
              "  width: 100%;\n",
              "  border-bottom: 2px solid var(--sklearn-color-text-on-default-background);\n",
              "  flex-grow: 1;\n",
              "}\n",
              "\n",
              "#sk-container-id-1 div.sk-parallel {\n",
              "  display: flex;\n",
              "  align-items: stretch;\n",
              "  justify-content: center;\n",
              "  background-color: var(--sklearn-color-background);\n",
              "  position: relative;\n",
              "}\n",
              "\n",
              "#sk-container-id-1 div.sk-parallel-item {\n",
              "  display: flex;\n",
              "  flex-direction: column;\n",
              "}\n",
              "\n",
              "#sk-container-id-1 div.sk-parallel-item:first-child::after {\n",
              "  align-self: flex-end;\n",
              "  width: 50%;\n",
              "}\n",
              "\n",
              "#sk-container-id-1 div.sk-parallel-item:last-child::after {\n",
              "  align-self: flex-start;\n",
              "  width: 50%;\n",
              "}\n",
              "\n",
              "#sk-container-id-1 div.sk-parallel-item:only-child::after {\n",
              "  width: 0;\n",
              "}\n",
              "\n",
              "/* Serial-specific style estimator block */\n",
              "\n",
              "#sk-container-id-1 div.sk-serial {\n",
              "  display: flex;\n",
              "  flex-direction: column;\n",
              "  align-items: center;\n",
              "  background-color: var(--sklearn-color-background);\n",
              "  padding-right: 1em;\n",
              "  padding-left: 1em;\n",
              "}\n",
              "\n",
              "\n",
              "/* Toggleable style: style used for estimator/Pipeline/ColumnTransformer box that is\n",
              "clickable and can be expanded/collapsed.\n",
              "- Pipeline and ColumnTransformer use this feature and define the default style\n",
              "- Estimators will overwrite some part of the style using the `sk-estimator` class\n",
              "*/\n",
              "\n",
              "/* Pipeline and ColumnTransformer style (default) */\n",
              "\n",
              "#sk-container-id-1 div.sk-toggleable {\n",
              "  /* Default theme specific background. It is overwritten whether we have a\n",
              "  specific estimator or a Pipeline/ColumnTransformer */\n",
              "  background-color: var(--sklearn-color-background);\n",
              "}\n",
              "\n",
              "/* Toggleable label */\n",
              "#sk-container-id-1 label.sk-toggleable__label {\n",
              "  cursor: pointer;\n",
              "  display: flex;\n",
              "  width: 100%;\n",
              "  margin-bottom: 0;\n",
              "  padding: 0.5em;\n",
              "  box-sizing: border-box;\n",
              "  text-align: center;\n",
              "  align-items: start;\n",
              "  justify-content: space-between;\n",
              "  gap: 0.5em;\n",
              "}\n",
              "\n",
              "#sk-container-id-1 label.sk-toggleable__label .caption {\n",
              "  font-size: 0.6rem;\n",
              "  font-weight: lighter;\n",
              "  color: var(--sklearn-color-text-muted);\n",
              "}\n",
              "\n",
              "#sk-container-id-1 label.sk-toggleable__label-arrow:before {\n",
              "  /* Arrow on the left of the label */\n",
              "  content: \"▸\";\n",
              "  float: left;\n",
              "  margin-right: 0.25em;\n",
              "  color: var(--sklearn-color-icon);\n",
              "}\n",
              "\n",
              "#sk-container-id-1 label.sk-toggleable__label-arrow:hover:before {\n",
              "  color: var(--sklearn-color-text);\n",
              "}\n",
              "\n",
              "/* Toggleable content - dropdown */\n",
              "\n",
              "#sk-container-id-1 div.sk-toggleable__content {\n",
              "  max-height: 0;\n",
              "  max-width: 0;\n",
              "  overflow: hidden;\n",
              "  text-align: left;\n",
              "  /* unfitted */\n",
              "  background-color: var(--sklearn-color-unfitted-level-0);\n",
              "}\n",
              "\n",
              "#sk-container-id-1 div.sk-toggleable__content.fitted {\n",
              "  /* fitted */\n",
              "  background-color: var(--sklearn-color-fitted-level-0);\n",
              "}\n",
              "\n",
              "#sk-container-id-1 div.sk-toggleable__content pre {\n",
              "  margin: 0.2em;\n",
              "  border-radius: 0.25em;\n",
              "  color: var(--sklearn-color-text);\n",
              "  /* unfitted */\n",
              "  background-color: var(--sklearn-color-unfitted-level-0);\n",
              "}\n",
              "\n",
              "#sk-container-id-1 div.sk-toggleable__content.fitted pre {\n",
              "  /* unfitted */\n",
              "  background-color: var(--sklearn-color-fitted-level-0);\n",
              "}\n",
              "\n",
              "#sk-container-id-1 input.sk-toggleable__control:checked~div.sk-toggleable__content {\n",
              "  /* Expand drop-down */\n",
              "  max-height: 200px;\n",
              "  max-width: 100%;\n",
              "  overflow: auto;\n",
              "}\n",
              "\n",
              "#sk-container-id-1 input.sk-toggleable__control:checked~label.sk-toggleable__label-arrow:before {\n",
              "  content: \"▾\";\n",
              "}\n",
              "\n",
              "/* Pipeline/ColumnTransformer-specific style */\n",
              "\n",
              "#sk-container-id-1 div.sk-label input.sk-toggleable__control:checked~label.sk-toggleable__label {\n",
              "  color: var(--sklearn-color-text);\n",
              "  background-color: var(--sklearn-color-unfitted-level-2);\n",
              "}\n",
              "\n",
              "#sk-container-id-1 div.sk-label.fitted input.sk-toggleable__control:checked~label.sk-toggleable__label {\n",
              "  background-color: var(--sklearn-color-fitted-level-2);\n",
              "}\n",
              "\n",
              "/* Estimator-specific style */\n",
              "\n",
              "/* Colorize estimator box */\n",
              "#sk-container-id-1 div.sk-estimator input.sk-toggleable__control:checked~label.sk-toggleable__label {\n",
              "  /* unfitted */\n",
              "  background-color: var(--sklearn-color-unfitted-level-2);\n",
              "}\n",
              "\n",
              "#sk-container-id-1 div.sk-estimator.fitted input.sk-toggleable__control:checked~label.sk-toggleable__label {\n",
              "  /* fitted */\n",
              "  background-color: var(--sklearn-color-fitted-level-2);\n",
              "}\n",
              "\n",
              "#sk-container-id-1 div.sk-label label.sk-toggleable__label,\n",
              "#sk-container-id-1 div.sk-label label {\n",
              "  /* The background is the default theme color */\n",
              "  color: var(--sklearn-color-text-on-default-background);\n",
              "}\n",
              "\n",
              "/* On hover, darken the color of the background */\n",
              "#sk-container-id-1 div.sk-label:hover label.sk-toggleable__label {\n",
              "  color: var(--sklearn-color-text);\n",
              "  background-color: var(--sklearn-color-unfitted-level-2);\n",
              "}\n",
              "\n",
              "/* Label box, darken color on hover, fitted */\n",
              "#sk-container-id-1 div.sk-label.fitted:hover label.sk-toggleable__label.fitted {\n",
              "  color: var(--sklearn-color-text);\n",
              "  background-color: var(--sklearn-color-fitted-level-2);\n",
              "}\n",
              "\n",
              "/* Estimator label */\n",
              "\n",
              "#sk-container-id-1 div.sk-label label {\n",
              "  font-family: monospace;\n",
              "  font-weight: bold;\n",
              "  display: inline-block;\n",
              "  line-height: 1.2em;\n",
              "}\n",
              "\n",
              "#sk-container-id-1 div.sk-label-container {\n",
              "  text-align: center;\n",
              "}\n",
              "\n",
              "/* Estimator-specific */\n",
              "#sk-container-id-1 div.sk-estimator {\n",
              "  font-family: monospace;\n",
              "  border: 1px dotted var(--sklearn-color-border-box);\n",
              "  border-radius: 0.25em;\n",
              "  box-sizing: border-box;\n",
              "  margin-bottom: 0.5em;\n",
              "  /* unfitted */\n",
              "  background-color: var(--sklearn-color-unfitted-level-0);\n",
              "}\n",
              "\n",
              "#sk-container-id-1 div.sk-estimator.fitted {\n",
              "  /* fitted */\n",
              "  background-color: var(--sklearn-color-fitted-level-0);\n",
              "}\n",
              "\n",
              "/* on hover */\n",
              "#sk-container-id-1 div.sk-estimator:hover {\n",
              "  /* unfitted */\n",
              "  background-color: var(--sklearn-color-unfitted-level-2);\n",
              "}\n",
              "\n",
              "#sk-container-id-1 div.sk-estimator.fitted:hover {\n",
              "  /* fitted */\n",
              "  background-color: var(--sklearn-color-fitted-level-2);\n",
              "}\n",
              "\n",
              "/* Specification for estimator info (e.g. \"i\" and \"?\") */\n",
              "\n",
              "/* Common style for \"i\" and \"?\" */\n",
              "\n",
              ".sk-estimator-doc-link,\n",
              "a:link.sk-estimator-doc-link,\n",
              "a:visited.sk-estimator-doc-link {\n",
              "  float: right;\n",
              "  font-size: smaller;\n",
              "  line-height: 1em;\n",
              "  font-family: monospace;\n",
              "  background-color: var(--sklearn-color-background);\n",
              "  border-radius: 1em;\n",
              "  height: 1em;\n",
              "  width: 1em;\n",
              "  text-decoration: none !important;\n",
              "  margin-left: 0.5em;\n",
              "  text-align: center;\n",
              "  /* unfitted */\n",
              "  border: var(--sklearn-color-unfitted-level-1) 1pt solid;\n",
              "  color: var(--sklearn-color-unfitted-level-1);\n",
              "}\n",
              "\n",
              ".sk-estimator-doc-link.fitted,\n",
              "a:link.sk-estimator-doc-link.fitted,\n",
              "a:visited.sk-estimator-doc-link.fitted {\n",
              "  /* fitted */\n",
              "  border: var(--sklearn-color-fitted-level-1) 1pt solid;\n",
              "  color: var(--sklearn-color-fitted-level-1);\n",
              "}\n",
              "\n",
              "/* On hover */\n",
              "div.sk-estimator:hover .sk-estimator-doc-link:hover,\n",
              ".sk-estimator-doc-link:hover,\n",
              "div.sk-label-container:hover .sk-estimator-doc-link:hover,\n",
              ".sk-estimator-doc-link:hover {\n",
              "  /* unfitted */\n",
              "  background-color: var(--sklearn-color-unfitted-level-3);\n",
              "  color: var(--sklearn-color-background);\n",
              "  text-decoration: none;\n",
              "}\n",
              "\n",
              "div.sk-estimator.fitted:hover .sk-estimator-doc-link.fitted:hover,\n",
              ".sk-estimator-doc-link.fitted:hover,\n",
              "div.sk-label-container:hover .sk-estimator-doc-link.fitted:hover,\n",
              ".sk-estimator-doc-link.fitted:hover {\n",
              "  /* fitted */\n",
              "  background-color: var(--sklearn-color-fitted-level-3);\n",
              "  color: var(--sklearn-color-background);\n",
              "  text-decoration: none;\n",
              "}\n",
              "\n",
              "/* Span, style for the box shown on hovering the info icon */\n",
              ".sk-estimator-doc-link span {\n",
              "  display: none;\n",
              "  z-index: 9999;\n",
              "  position: relative;\n",
              "  font-weight: normal;\n",
              "  right: .2ex;\n",
              "  padding: .5ex;\n",
              "  margin: .5ex;\n",
              "  width: min-content;\n",
              "  min-width: 20ex;\n",
              "  max-width: 50ex;\n",
              "  color: var(--sklearn-color-text);\n",
              "  box-shadow: 2pt 2pt 4pt #999;\n",
              "  /* unfitted */\n",
              "  background: var(--sklearn-color-unfitted-level-0);\n",
              "  border: .5pt solid var(--sklearn-color-unfitted-level-3);\n",
              "}\n",
              "\n",
              ".sk-estimator-doc-link.fitted span {\n",
              "  /* fitted */\n",
              "  background: var(--sklearn-color-fitted-level-0);\n",
              "  border: var(--sklearn-color-fitted-level-3);\n",
              "}\n",
              "\n",
              ".sk-estimator-doc-link:hover span {\n",
              "  display: block;\n",
              "}\n",
              "\n",
              "/* \"?\"-specific style due to the `<a>` HTML tag */\n",
              "\n",
              "#sk-container-id-1 a.estimator_doc_link {\n",
              "  float: right;\n",
              "  font-size: 1rem;\n",
              "  line-height: 1em;\n",
              "  font-family: monospace;\n",
              "  background-color: var(--sklearn-color-background);\n",
              "  border-radius: 1rem;\n",
              "  height: 1rem;\n",
              "  width: 1rem;\n",
              "  text-decoration: none;\n",
              "  /* unfitted */\n",
              "  color: var(--sklearn-color-unfitted-level-1);\n",
              "  border: var(--sklearn-color-unfitted-level-1) 1pt solid;\n",
              "}\n",
              "\n",
              "#sk-container-id-1 a.estimator_doc_link.fitted {\n",
              "  /* fitted */\n",
              "  border: var(--sklearn-color-fitted-level-1) 1pt solid;\n",
              "  color: var(--sklearn-color-fitted-level-1);\n",
              "}\n",
              "\n",
              "/* On hover */\n",
              "#sk-container-id-1 a.estimator_doc_link:hover {\n",
              "  /* unfitted */\n",
              "  background-color: var(--sklearn-color-unfitted-level-3);\n",
              "  color: var(--sklearn-color-background);\n",
              "  text-decoration: none;\n",
              "}\n",
              "\n",
              "#sk-container-id-1 a.estimator_doc_link.fitted:hover {\n",
              "  /* fitted */\n",
              "  background-color: var(--sklearn-color-fitted-level-3);\n",
              "}\n",
              "</style><div id=\"sk-container-id-1\" class=\"sk-top-container\"><div class=\"sk-text-repr-fallback\"><pre>OneHotEncoder(sparse_output=False)</pre><b>In a Jupyter environment, please rerun this cell to show the HTML representation or trust the notebook. <br />On GitHub, the HTML representation is unable to render, please try loading this page with nbviewer.org.</b></div><div class=\"sk-container\" hidden><div class=\"sk-item\"><div class=\"sk-estimator fitted sk-toggleable\"><input class=\"sk-toggleable__control sk-hidden--visually\" id=\"sk-estimator-id-1\" type=\"checkbox\" checked><label for=\"sk-estimator-id-1\" class=\"sk-toggleable__label fitted sk-toggleable__label-arrow\"><div><div>OneHotEncoder</div></div><div><a class=\"sk-estimator-doc-link fitted\" rel=\"noreferrer\" target=\"_blank\" href=\"https://scikit-learn.org/1.6/modules/generated/sklearn.preprocessing.OneHotEncoder.html\">?<span>Documentation for OneHotEncoder</span></a><span class=\"sk-estimator-doc-link fitted\">i<span>Fitted</span></span></div></label><div class=\"sk-toggleable__content fitted\"><pre>OneHotEncoder(sparse_output=False)</pre></div> </div></div></div></div>"
            ]
          },
          "metadata": {},
          "execution_count": 11
        }
      ],
      "source": [
        "# OneHotEncoderでのencoding\n",
        "# ohe = OneHotEncoder(sparse=False, categories='auto')\n",
        "ohe = OneHotEncoder(sparse_output=False, categories='auto')\n",
        "ohe.fit(train_x[cat_cols])"
      ]
    },
    {
      "cell_type": "code",
      "execution_count": 12,
      "id": "40f78c4a",
      "metadata": {
        "id": "40f78c4a"
      },
      "outputs": [],
      "source": [
        "# ダミー変数の列名の作成\n",
        "columns = []\n",
        "for i, c in enumerate(cat_cols):\n",
        "    columns += [f'{c}_{v}' for v in ohe.categories_[i]]"
      ]
    },
    {
      "cell_type": "code",
      "execution_count": 13,
      "id": "9a42dbac",
      "metadata": {
        "id": "9a42dbac"
      },
      "outputs": [],
      "source": [
        "# 生成されたダミー変数をデータフレームに変換\n",
        "dummy_vals_train = pd.DataFrame(ohe.transform(train_x[cat_cols]), columns=columns)\n",
        "dummy_vals_test = pd.DataFrame(ohe.transform(test_x[cat_cols]), columns=columns)"
      ]
    },
    {
      "cell_type": "code",
      "execution_count": 14,
      "id": "867d4e08",
      "metadata": {
        "id": "867d4e08"
      },
      "outputs": [],
      "source": [
        "# 残りの変数と結合\n",
        "train_x = pd.concat([train_x.drop(cat_cols, axis=1), dummy_vals_train], axis=1)\n",
        "test_x = pd.concat([test_x.drop(cat_cols, axis=1), dummy_vals_test], axis=1)"
      ]
    },
    {
      "cell_type": "code",
      "execution_count": 15,
      "id": "974aab3b",
      "metadata": {
        "id": "974aab3b"
      },
      "outputs": [],
      "source": [
        "# -----------------------------------\n",
        "# label encoding\n",
        "# -----------------------------------\n",
        "# データの読み込み\n",
        "train_x, test_x = load_data()\n",
        "# -----------------------------------\n",
        "from sklearn.preprocessing import LabelEncoder"
      ]
    },
    {
      "cell_type": "code",
      "execution_count": 16,
      "id": "6196819a",
      "metadata": {
        "id": "6196819a"
      },
      "outputs": [],
      "source": [
        "# カテゴリ変数をループしてlabel encoding\n",
        "for c in cat_cols:\n",
        "    # 学習データに基づいて定義する\n",
        "    le = LabelEncoder()\n",
        "    le.fit(train_x[c])\n",
        "    train_x[c] = le.transform(train_x[c])\n",
        "    test_x[c] = le.transform(test_x[c])"
      ]
    },
    {
      "cell_type": "code",
      "execution_count": 17,
      "id": "0fa23981",
      "metadata": {
        "id": "0fa23981"
      },
      "outputs": [],
      "source": [
        "# -----------------------------------\n",
        "# feature hashing\n",
        "# -----------------------------------\n",
        "# データの読み込み\n",
        "train_x, test_x = load_data()\n",
        "# -----------------------------------\n",
        "from sklearn.feature_extraction import FeatureHasher"
      ]
    },
    {
      "cell_type": "code",
      "execution_count": 18,
      "id": "65e53373",
      "metadata": {
        "id": "65e53373"
      },
      "outputs": [],
      "source": [
        "# カテゴリ変数をループしてfeature hashing\n",
        "for c in cat_cols:\n",
        "    # FeatureHasherの使い方は、他のencoderとは少し異なる\n",
        "\n",
        "    fh = FeatureHasher(n_features=5, input_type='string')\n",
        "    # 変数を文字列に変換してからFeatureHasherを適用\n",
        "    hash_train = fh.transform(train_x[[c]].astype(str).values)\n",
        "    hash_test = fh.transform(test_x[[c]].astype(str).values)\n",
        "    # データフレームに変換\n",
        "    hash_train = pd.DataFrame(hash_train.todense(), columns=[f'{c}_{i}' for i in range(5)])\n",
        "    hash_test = pd.DataFrame(hash_test.todense(), columns=[f'{c}_{i}' for i in range(5)])\n",
        "    # 元のデータフレームと結合\n",
        "    train_x = pd.concat([train_x, hash_train], axis=1)\n",
        "    test_x = pd.concat([test_x, hash_test], axis=1)"
      ]
    },
    {
      "cell_type": "code",
      "execution_count": 19,
      "id": "03590b64",
      "metadata": {
        "id": "03590b64"
      },
      "outputs": [],
      "source": [
        "# 元のカテゴリ変数を削除\n",
        "train_x.drop(cat_cols, axis=1, inplace=True)\n",
        "test_x.drop(cat_cols, axis=1, inplace=True)"
      ]
    },
    {
      "cell_type": "code",
      "execution_count": 20,
      "id": "0c7ee28b",
      "metadata": {
        "id": "0c7ee28b"
      },
      "outputs": [],
      "source": [
        "# -----------------------------------\n",
        "# frequency encoding\n",
        "# -----------------------------------\n",
        "# データの読み込み\n",
        "train_x, test_x = load_data()\n",
        "# -----------------------------------\n",
        "# 変数をループしてfrequency encoding\n",
        "for c in cat_cols:\n",
        "    freq = train_x[c].value_counts()\n",
        "    # カテゴリの出現回数で置換\n",
        "    train_x[c] = train_x[c].map(freq)\n",
        "    test_x[c] = test_x[c].map(freq)"
      ]
    },
    {
      "cell_type": "code",
      "execution_count": 21,
      "id": "306ba43b",
      "metadata": {
        "id": "306ba43b"
      },
      "outputs": [],
      "source": [
        "# -----------------------------------\n",
        "# target encoding\n",
        "# -----------------------------------\n",
        "# データの読み込み\n",
        "train_x, test_x = load_data()\n",
        "# -----------------------------------\n",
        "from sklearn.model_selection import KFold"
      ]
    },
    {
      "cell_type": "code",
      "execution_count": 22,
      "id": "3e6dc950",
      "metadata": {
        "id": "3e6dc950"
      },
      "outputs": [],
      "source": [
        "# 変数をループしてtarget encoding\n",
        "for c in cat_cols:\n",
        "    # 学習データ全体で各カテゴリにおけるtargetの平均を計算\n",
        "    data_tmp = pd.DataFrame({c: train_x[c], 'target': train_y})\n",
        "    target_mean = data_tmp.groupby(c)['target'].mean()\n",
        "    # テストデータのカテゴリを置換\n",
        "    test_x[c] = test_x[c].map(target_mean)\n",
        "\n",
        "    # 学習データの変換後の値を格納する配列を準備\n",
        "    tmp = np.repeat(np.nan, train_x.shape[0])\n",
        "\n",
        "    # 学習データを分割\n",
        "    kf = KFold(n_splits=4, shuffle=True, random_state=72)\n",
        "    for idx_1, idx_2 in kf.split(train_x):\n",
        "        # out-of-foldで各カテゴリにおける目的変数の平均を計算\n",
        "        target_mean = data_tmp.iloc[idx_1].groupby(c)['target'].mean()\n",
        "        # 変換後の値を一時配列に格納\n",
        "        tmp[idx_2] = train_x[c].iloc[idx_2].map(target_mean)\n",
        "\n",
        "    # 変換後のデータで元の変数を置換\n",
        "    train_x[c] = tmp"
      ]
    },
    {
      "cell_type": "code",
      "execution_count": 23,
      "id": "b99645f9",
      "metadata": {
        "id": "b99645f9"
      },
      "outputs": [],
      "source": [
        "# -----------------------------------\n",
        "# target encoding - クロスバリデーションのfoldごとの場合\n",
        "# -----------------------------------\n",
        "# データの読み込み\n",
        "train_x, test_x = load_data()\n",
        "# -----------------------------------\n",
        "from sklearn.model_selection import KFold"
      ]
    },
    {
      "cell_type": "code",
      "execution_count": 24,
      "id": "f5396be6",
      "metadata": {
        "id": "f5396be6",
        "outputId": "5b6d0799-218f-4dc9-b7f5-d1dd1b2cf7ba",
        "colab": {
          "base_uri": "https://localhost:8080/"
        }
      },
      "outputs": [
        {
          "output_type": "stream",
          "name": "stderr",
          "text": [
            "<ipython-input-24-95eeb7c3eb62>:15: FutureWarning: Setting an item of incompatible dtype is deprecated and will raise in a future error of pandas. Value '[0.17988008 0.19290704 0.19290704 ... 0.17988008 0.19290704 0.19607843]' has dtype incompatible with int64, please explicitly cast to a compatible dtype first.\n",
            "  va_x.loc[:, c] = va_x[c].map(target_mean)\n",
            "<ipython-input-24-95eeb7c3eb62>:26: FutureWarning: Setting an item of incompatible dtype is deprecated and will raise in a future error of pandas. Value '[0.1821397  0.19775596 0.18150685 ... 0.19697515 0.19872023 0.19872023]' has dtype incompatible with int64, please explicitly cast to a compatible dtype first.\n",
            "  tr_x.loc[:, c] = tmp\n",
            "<ipython-input-24-95eeb7c3eb62>:15: FutureWarning: Setting an item of incompatible dtype is deprecated and will raise in a future error of pandas. Value '[0.20266312 0.18891856 0.20266312 ... 0.20266312 0.20266312 0.20266312]' has dtype incompatible with int64, please explicitly cast to a compatible dtype first.\n",
            "  va_x.loc[:, c] = va_x[c].map(target_mean)\n",
            "<ipython-input-24-95eeb7c3eb62>:26: FutureWarning: Setting an item of incompatible dtype is deprecated and will raise in a future error of pandas. Value '[0.20318021 0.18323442 0.20136519 ... 0.19541875 0.20873613 0.20873613]' has dtype incompatible with int64, please explicitly cast to a compatible dtype first.\n",
            "  tr_x.loc[:, c] = tmp\n",
            "<ipython-input-24-95eeb7c3eb62>:15: FutureWarning: Setting an item of incompatible dtype is deprecated and will raise in a future error of pandas. Value '[0.18926174 0.17745415 0.17745415 ... 0.17745415 0.19967966 0.19967966]' has dtype incompatible with int64, please explicitly cast to a compatible dtype first.\n",
            "  va_x.loc[:, c] = va_x[c].map(target_mean)\n",
            "<ipython-input-24-95eeb7c3eb62>:26: FutureWarning: Setting an item of incompatible dtype is deprecated and will raise in a future error of pandas. Value '[0.16666667 0.20201294 0.20021413 ... 0.19411973 0.20021413 0.17310443]' has dtype incompatible with int64, please explicitly cast to a compatible dtype first.\n",
            "  tr_x.loc[:, c] = tmp\n",
            "<ipython-input-24-95eeb7c3eb62>:15: FutureWarning: Setting an item of incompatible dtype is deprecated and will raise in a future error of pandas. Value '[0.17302799 0.19877919 0.19877919 ... 0.18644068 0.19877919 0.19877919]' has dtype incompatible with int64, please explicitly cast to a compatible dtype first.\n",
            "  va_x.loc[:, c] = va_x[c].map(target_mean)\n",
            "<ipython-input-24-95eeb7c3eb62>:26: FutureWarning: Setting an item of incompatible dtype is deprecated and will raise in a future error of pandas. Value '[0.18442256 0.17685119 0.20190948 ... 0.18870622 0.20190948 0.20190948]' has dtype incompatible with int64, please explicitly cast to a compatible dtype first.\n",
            "  tr_x.loc[:, c] = tmp\n"
          ]
        }
      ],
      "source": [
        "# クロスバリデーションのfoldごとにtarget encodingをやり直す\n",
        "kf = KFold(n_splits=4, shuffle=True, random_state=71)\n",
        "for i, (tr_idx, va_idx) in enumerate(kf.split(train_x)):\n",
        "\n",
        "    # 学習データからバリデーションデータを分ける\n",
        "    tr_x, va_x = train_x.iloc[tr_idx].copy(), train_x.iloc[va_idx].copy()\n",
        "    tr_y, va_y = train_y.iloc[tr_idx], train_y.iloc[va_idx]\n",
        "\n",
        "    # 変数をループしてtarget encoding\n",
        "    for c in cat_cols:\n",
        "        # 学習データ全体で各カテゴリにおけるtargetの平均を計算\n",
        "        data_tmp = pd.DataFrame({c: tr_x[c], 'target': tr_y})\n",
        "        target_mean = data_tmp.groupby(c)['target'].mean()\n",
        "        # バリデーションデータのカテゴリを置換\n",
        "        va_x.loc[:, c] = va_x[c].map(target_mean)\n",
        "\n",
        "        # 学習データの変換後の値を格納する配列を準備\n",
        "        tmp = np.repeat(np.nan, tr_x.shape[0])\n",
        "        kf_encoding = KFold(n_splits=4, shuffle=True, random_state=72)\n",
        "        for idx_1, idx_2 in kf_encoding.split(tr_x):\n",
        "            # out-of-foldで各カテゴリにおける目的変数の平均を計算\n",
        "            target_mean = data_tmp.iloc[idx_1].groupby(c)['target'].mean()\n",
        "            # 変換後の値を一時配列に格納\n",
        "            tmp[idx_2] = tr_x[c].iloc[idx_2].map(target_mean)\n",
        "\n",
        "        tr_x.loc[:, c] = tmp\n",
        "\n",
        "    # 必要に応じてencodeされた特徴量を保存し、あとで読み込めるようにしておく"
      ]
    },
    {
      "cell_type": "code",
      "execution_count": 25,
      "id": "f3ff066e",
      "metadata": {
        "id": "f3ff066e"
      },
      "outputs": [],
      "source": [
        "# -----------------------------------\n",
        "# target encoding - クロスバリデーションのfoldとtarget encodingのfoldの分割を合わせる場合\n",
        "# -----------------------------------\n",
        "# データの読み込み\n",
        "train_x, test_x = load_data()\n",
        "# -----------------------------------\n",
        "from sklearn.model_selection import KFold"
      ]
    },
    {
      "cell_type": "code",
      "execution_count": 26,
      "id": "720c85d4",
      "metadata": {
        "id": "720c85d4"
      },
      "outputs": [],
      "source": [
        "# クロスバリデーションのfoldを定義\n",
        "kf = KFold(n_splits=4, shuffle=True, random_state=71)"
      ]
    },
    {
      "cell_type": "code",
      "execution_count": 27,
      "id": "97de8330",
      "metadata": {
        "id": "97de8330"
      },
      "outputs": [],
      "source": [
        "# 変数をループしてtarget encoding\n",
        "for c in cat_cols:\n",
        "\n",
        "    # targetを付加\n",
        "    data_tmp = pd.DataFrame({c: train_x[c], 'target': train_y})\n",
        "    # 変換後の値を格納する配列を準備\n",
        "    tmp = np.repeat(np.nan, train_x.shape[0])\n",
        "\n",
        "    # 学習データからバリデーションデータを分ける\n",
        "    for i, (tr_idx, va_idx) in enumerate(kf.split(train_x)):\n",
        "        # 学習データについて、各カテゴリにおける目的変数の平均を計算\n",
        "        target_mean = data_tmp.iloc[tr_idx].groupby(c)['target'].mean()\n",
        "        # バリデーションデータについて、変換後の値を一時配列に格納\n",
        "        tmp[va_idx] = train_x[c].iloc[va_idx].map(target_mean)\n",
        "\n",
        "    # 変換後のデータで元の変数を置換\n",
        "    train_x[c] = tmp"
      ]
    }
  ],
  "metadata": {
    "jupytext": {
      "cell_metadata_filter": "-all",
      "main_language": "python",
      "notebook_metadata_filter": "-all"
    },
    "colab": {
      "provenance": [],
      "include_colab_link": true
    },
    "language_info": {
      "name": "python"
    },
    "kernelspec": {
      "name": "python3",
      "display_name": "Python 3"
    }
  },
  "nbformat": 4,
  "nbformat_minor": 5
}