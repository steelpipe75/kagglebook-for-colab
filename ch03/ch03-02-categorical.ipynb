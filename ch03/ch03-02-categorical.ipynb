{
 "cells": [
  {
   "cell_type": "code",
   "execution_count": null,
   "id": "273b1486",
   "metadata": {},
   "outputs": [],
   "source": [
    "# ---------------------------------\n",
    "# データ等の準備\n",
    "# ----------------------------------\n",
    "import numpy as np\n",
    "import pandas as pd"
   ]
  },
  {
   "cell_type": "markdown",
   "id": "bceb79da",
   "metadata": {},
   "source": [
    "train_xは学習データ、train_yは目的変数、test_xはテストデータ\n",
    "pandasのDataFrame, Seriesで保持します。（numpyのarrayで保持することもあります）"
   ]
  },
  {
   "cell_type": "code",
   "execution_count": null,
   "id": "f79dba7b",
   "metadata": {},
   "outputs": [],
   "source": [
    "train = pd.read_csv('../input/sample-data/train.csv')\n",
    "train_x = train.drop(['target'], axis=1)\n",
    "train_y = train['target']\n",
    "test_x = pd.read_csv('../input/sample-data/test.csv')"
   ]
  },
  {
   "cell_type": "code",
   "execution_count": null,
   "id": "bf128e2f",
   "metadata": {},
   "outputs": [],
   "source": [
    "# 説明用に学習データとテストデータの元の状態を保存しておく\n",
    "train_x_saved = train_x.copy()\n",
    "test_x_saved = test_x.copy()"
   ]
  },
  {
   "cell_type": "code",
   "execution_count": null,
   "id": "23d0bddf",
   "metadata": {},
   "outputs": [],
   "source": [
    "# 学習データとテストデータを返す関数\n",
    "def load_data():\n",
    "    train_x, test_x = train_x_saved.copy(), test_x_saved.copy()\n",
    "    return train_x, test_x"
   ]
  },
  {
   "cell_type": "code",
   "execution_count": null,
   "id": "05cb9ef0",
   "metadata": {},
   "outputs": [],
   "source": [
    "# 変換するカテゴリ変数をリストに格納\n",
    "cat_cols = ['sex', 'product', 'medical_info_b2', 'medical_info_b3']"
   ]
  },
  {
   "cell_type": "code",
   "execution_count": null,
   "id": "15761236",
   "metadata": {},
   "outputs": [],
   "source": [
    "# -----------------------------------\n",
    "# one-hot encoding\n",
    "# -----------------------------------\n",
    "# データの読み込み\n",
    "train_x, test_x = load_data()\n",
    "# -----------------------------------"
   ]
  },
  {
   "cell_type": "code",
   "execution_count": null,
   "id": "f3cf2005",
   "metadata": {},
   "outputs": [],
   "source": [
    "# 学習データとテストデータを結合してget_dummiesによるone-hot encodingを行う\n",
    "all_x = pd.concat([train_x, test_x])\n",
    "all_x = pd.get_dummies(all_x, columns=cat_cols)"
   ]
  },
  {
   "cell_type": "code",
   "execution_count": null,
   "id": "26d52c25",
   "metadata": {},
   "outputs": [],
   "source": [
    "# 学習データとテストデータに再分割\n",
    "train_x = all_x.iloc[:train_x.shape[0], :].reset_index(drop=True)\n",
    "test_x = all_x.iloc[train_x.shape[0]:, :].reset_index(drop=True)"
   ]
  },
  {
   "cell_type": "code",
   "execution_count": null,
   "id": "b2c8941e",
   "metadata": {},
   "outputs": [],
   "source": [
    "# -----------------------------------\n",
    "# データの読み込み\n",
    "train_x, test_x = load_data()\n",
    "# -----------------------------------\n",
    "from sklearn.preprocessing import OneHotEncoder"
   ]
  },
  {
   "cell_type": "code",
   "execution_count": null,
   "id": "1673e420",
   "metadata": {},
   "outputs": [],
   "source": [
    "# OneHotEncoderでのencoding\n",
    "ohe = OneHotEncoder(sparse=False, categories='auto')\n",
    "ohe.fit(train_x[cat_cols])"
   ]
  },
  {
   "cell_type": "code",
   "execution_count": null,
   "id": "40f78c4a",
   "metadata": {},
   "outputs": [],
   "source": [
    "# ダミー変数の列名の作成\n",
    "columns = []\n",
    "for i, c in enumerate(cat_cols):\n",
    "    columns += [f'{c}_{v}' for v in ohe.categories_[i]]"
   ]
  },
  {
   "cell_type": "code",
   "execution_count": null,
   "id": "9a42dbac",
   "metadata": {},
   "outputs": [],
   "source": [
    "# 生成されたダミー変数をデータフレームに変換\n",
    "dummy_vals_train = pd.DataFrame(ohe.transform(train_x[cat_cols]), columns=columns)\n",
    "dummy_vals_test = pd.DataFrame(ohe.transform(test_x[cat_cols]), columns=columns)"
   ]
  },
  {
   "cell_type": "code",
   "execution_count": null,
   "id": "867d4e08",
   "metadata": {},
   "outputs": [],
   "source": [
    "# 残りの変数と結合\n",
    "train_x = pd.concat([train_x.drop(cat_cols, axis=1), dummy_vals_train], axis=1)\n",
    "test_x = pd.concat([test_x.drop(cat_cols, axis=1), dummy_vals_test], axis=1)"
   ]
  },
  {
   "cell_type": "code",
   "execution_count": null,
   "id": "974aab3b",
   "metadata": {},
   "outputs": [],
   "source": [
    "# -----------------------------------\n",
    "# label encoding\n",
    "# -----------------------------------\n",
    "# データの読み込み\n",
    "train_x, test_x = load_data()\n",
    "# -----------------------------------\n",
    "from sklearn.preprocessing import LabelEncoder"
   ]
  },
  {
   "cell_type": "code",
   "execution_count": null,
   "id": "6196819a",
   "metadata": {},
   "outputs": [],
   "source": [
    "# カテゴリ変数をループしてlabel encoding\n",
    "for c in cat_cols:\n",
    "    # 学習データに基づいて定義する\n",
    "    le = LabelEncoder()\n",
    "    le.fit(train_x[c])\n",
    "    train_x[c] = le.transform(train_x[c])\n",
    "    test_x[c] = le.transform(test_x[c])"
   ]
  },
  {
   "cell_type": "code",
   "execution_count": null,
   "id": "0fa23981",
   "metadata": {},
   "outputs": [],
   "source": [
    "# -----------------------------------\n",
    "# feature hashing\n",
    "# -----------------------------------\n",
    "# データの読み込み\n",
    "train_x, test_x = load_data()\n",
    "# -----------------------------------\n",
    "from sklearn.feature_extraction import FeatureHasher"
   ]
  },
  {
   "cell_type": "code",
   "execution_count": null,
   "id": "65e53373",
   "metadata": {},
   "outputs": [],
   "source": [
    "# カテゴリ変数をループしてfeature hashing\n",
    "for c in cat_cols:\n",
    "    # FeatureHasherの使い方は、他のencoderとは少し異なる\n",
    "\n",
    "    fh = FeatureHasher(n_features=5, input_type='string')\n",
    "    # 変数を文字列に変換してからFeatureHasherを適用\n",
    "    hash_train = fh.transform(train_x[[c]].astype(str).values)\n",
    "    hash_test = fh.transform(test_x[[c]].astype(str).values)\n",
    "    # データフレームに変換\n",
    "    hash_train = pd.DataFrame(hash_train.todense(), columns=[f'{c}_{i}' for i in range(5)])\n",
    "    hash_test = pd.DataFrame(hash_test.todense(), columns=[f'{c}_{i}' for i in range(5)])\n",
    "    # 元のデータフレームと結合\n",
    "    train_x = pd.concat([train_x, hash_train], axis=1)\n",
    "    test_x = pd.concat([test_x, hash_test], axis=1)"
   ]
  },
  {
   "cell_type": "code",
   "execution_count": null,
   "id": "03590b64",
   "metadata": {},
   "outputs": [],
   "source": [
    "# 元のカテゴリ変数を削除\n",
    "train_x.drop(cat_cols, axis=1, inplace=True)\n",
    "test_x.drop(cat_cols, axis=1, inplace=True)"
   ]
  },
  {
   "cell_type": "code",
   "execution_count": null,
   "id": "0c7ee28b",
   "metadata": {},
   "outputs": [],
   "source": [
    "# -----------------------------------\n",
    "# frequency encoding\n",
    "# -----------------------------------\n",
    "# データの読み込み\n",
    "train_x, test_x = load_data()\n",
    "# -----------------------------------\n",
    "# 変数をループしてfrequency encoding\n",
    "for c in cat_cols:\n",
    "    freq = train_x[c].value_counts()\n",
    "    # カテゴリの出現回数で置換\n",
    "    train_x[c] = train_x[c].map(freq)\n",
    "    test_x[c] = test_x[c].map(freq)"
   ]
  },
  {
   "cell_type": "code",
   "execution_count": null,
   "id": "306ba43b",
   "metadata": {},
   "outputs": [],
   "source": [
    "# -----------------------------------\n",
    "# target encoding\n",
    "# -----------------------------------\n",
    "# データの読み込み\n",
    "train_x, test_x = load_data()\n",
    "# -----------------------------------\n",
    "from sklearn.model_selection import KFold"
   ]
  },
  {
   "cell_type": "code",
   "execution_count": null,
   "id": "3e6dc950",
   "metadata": {},
   "outputs": [],
   "source": [
    "# 変数をループしてtarget encoding\n",
    "for c in cat_cols:\n",
    "    # 学習データ全体で各カテゴリにおけるtargetの平均を計算\n",
    "    data_tmp = pd.DataFrame({c: train_x[c], 'target': train_y})\n",
    "    target_mean = data_tmp.groupby(c)['target'].mean()\n",
    "    # テストデータのカテゴリを置換\n",
    "    test_x[c] = test_x[c].map(target_mean)\n",
    "\n",
    "    # 学習データの変換後の値を格納する配列を準備\n",
    "    tmp = np.repeat(np.nan, train_x.shape[0])\n",
    "\n",
    "    # 学習データを分割\n",
    "    kf = KFold(n_splits=4, shuffle=True, random_state=72)\n",
    "    for idx_1, idx_2 in kf.split(train_x):\n",
    "        # out-of-foldで各カテゴリにおける目的変数の平均を計算\n",
    "        target_mean = data_tmp.iloc[idx_1].groupby(c)['target'].mean()\n",
    "        # 変換後の値を一時配列に格納\n",
    "        tmp[idx_2] = train_x[c].iloc[idx_2].map(target_mean)\n",
    "\n",
    "    # 変換後のデータで元の変数を置換\n",
    "    train_x[c] = tmp"
   ]
  },
  {
   "cell_type": "code",
   "execution_count": null,
   "id": "b99645f9",
   "metadata": {},
   "outputs": [],
   "source": [
    "# -----------------------------------\n",
    "# target encoding - クロスバリデーションのfoldごとの場合\n",
    "# -----------------------------------\n",
    "# データの読み込み\n",
    "train_x, test_x = load_data()\n",
    "# -----------------------------------\n",
    "from sklearn.model_selection import KFold"
   ]
  },
  {
   "cell_type": "code",
   "execution_count": null,
   "id": "f5396be6",
   "metadata": {},
   "outputs": [],
   "source": [
    "# クロスバリデーションのfoldごとにtarget encodingをやり直す\n",
    "kf = KFold(n_splits=4, shuffle=True, random_state=71)\n",
    "for i, (tr_idx, va_idx) in enumerate(kf.split(train_x)):\n",
    "\n",
    "    # 学習データからバリデーションデータを分ける\n",
    "    tr_x, va_x = train_x.iloc[tr_idx].copy(), train_x.iloc[va_idx].copy()\n",
    "    tr_y, va_y = train_y.iloc[tr_idx], train_y.iloc[va_idx]\n",
    "\n",
    "    # 変数をループしてtarget encoding\n",
    "    for c in cat_cols:\n",
    "        # 学習データ全体で各カテゴリにおけるtargetの平均を計算\n",
    "        data_tmp = pd.DataFrame({c: tr_x[c], 'target': tr_y})\n",
    "        target_mean = data_tmp.groupby(c)['target'].mean()\n",
    "        # バリデーションデータのカテゴリを置換\n",
    "        va_x.loc[:, c] = va_x[c].map(target_mean)\n",
    "\n",
    "        # 学習データの変換後の値を格納する配列を準備\n",
    "        tmp = np.repeat(np.nan, tr_x.shape[0])\n",
    "        kf_encoding = KFold(n_splits=4, shuffle=True, random_state=72)\n",
    "        for idx_1, idx_2 in kf_encoding.split(tr_x):\n",
    "            # out-of-foldで各カテゴリにおける目的変数の平均を計算\n",
    "            target_mean = data_tmp.iloc[idx_1].groupby(c)['target'].mean()\n",
    "            # 変換後の値を一時配列に格納\n",
    "            tmp[idx_2] = tr_x[c].iloc[idx_2].map(target_mean)\n",
    "\n",
    "        tr_x.loc[:, c] = tmp\n",
    "\n",
    "    # 必要に応じてencodeされた特徴量を保存し、あとで読み込めるようにしておく"
   ]
  },
  {
   "cell_type": "code",
   "execution_count": null,
   "id": "f3ff066e",
   "metadata": {},
   "outputs": [],
   "source": [
    "# -----------------------------------\n",
    "# target encoding - クロスバリデーションのfoldとtarget encodingのfoldの分割を合わせる場合\n",
    "# -----------------------------------\n",
    "# データの読み込み\n",
    "train_x, test_x = load_data()\n",
    "# -----------------------------------\n",
    "from sklearn.model_selection import KFold"
   ]
  },
  {
   "cell_type": "code",
   "execution_count": null,
   "id": "720c85d4",
   "metadata": {},
   "outputs": [],
   "source": [
    "# クロスバリデーションのfoldを定義\n",
    "kf = KFold(n_splits=4, shuffle=True, random_state=71)"
   ]
  },
  {
   "cell_type": "code",
   "execution_count": null,
   "id": "97de8330",
   "metadata": {},
   "outputs": [],
   "source": [
    "# 変数をループしてtarget encoding\n",
    "for c in cat_cols:\n",
    "\n",
    "    # targetを付加\n",
    "    data_tmp = pd.DataFrame({c: train_x[c], 'target': train_y})\n",
    "    # 変換後の値を格納する配列を準備\n",
    "    tmp = np.repeat(np.nan, train_x.shape[0])\n",
    "\n",
    "    # 学習データからバリデーションデータを分ける\n",
    "    for i, (tr_idx, va_idx) in enumerate(kf.split(train_x)):\n",
    "        # 学習データについて、各カテゴリにおける目的変数の平均を計算\n",
    "        target_mean = data_tmp.iloc[tr_idx].groupby(c)['target'].mean()\n",
    "        # バリデーションデータについて、変換後の値を一時配列に格納\n",
    "        tmp[va_idx] = train_x[c].iloc[va_idx].map(target_mean)\n",
    "\n",
    "    # 変換後のデータで元の変数を置換\n",
    "    train_x[c] = tmp"
   ]
  }
 ],
 "metadata": {
  "jupytext": {
   "cell_metadata_filter": "-all",
   "main_language": "python",
   "notebook_metadata_filter": "-all"
  }
 },
 "nbformat": 4,
 "nbformat_minor": 5
}
