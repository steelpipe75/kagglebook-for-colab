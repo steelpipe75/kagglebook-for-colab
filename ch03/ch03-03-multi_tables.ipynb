{
 "cells": [
  {
   "cell_type": "code",
   "execution_count": null,
   "id": "11a5a83e",
   "metadata": {},
   "outputs": [],
   "source": [
    "import numpy as np\n",
    "import pandas as pd"
   ]
  },
  {
   "cell_type": "code",
   "execution_count": null,
   "id": "9490eaf4",
   "metadata": {},
   "outputs": [],
   "source": [
    "# -----------------------------------\n",
    "# データの結合\n",
    "# -----------------------------------\n",
    "# データの読み込み\n",
    "train = pd.read_csv('../input/ch03/multi_table_train.csv')\n",
    "product_master = pd.read_csv('../input/ch03/multi_table_product.csv')\n",
    "user_log = pd.read_csv('../input/ch03/multi_table_log.csv')"
   ]
  },
  {
   "cell_type": "markdown",
   "id": "11ad5a94",
   "metadata": {},
   "source": [
    "-----------------------------------\n",
    "図の形式のデータフレームがあるとする\n",
    "train         : 学習データ（ユーザID, 商品ID, 目的変数などの列がある）\n",
    "product_master: 商品マスタ（商品IDと商品の情報を表す列がある）\n",
    "user_log      : ユーザの行動のログデータ（ユーザIDと各行動の情報を表す列がある）"
   ]
  },
  {
   "cell_type": "code",
   "execution_count": null,
   "id": "14b38f9c",
   "metadata": {},
   "outputs": [],
   "source": [
    "# 商品マスタを学習データと結合する\n",
    "train = train.merge(product_master, on='product_id', how='left')"
   ]
  },
  {
   "cell_type": "code",
   "execution_count": null,
   "id": "25a471e4",
   "metadata": {},
   "outputs": [],
   "source": [
    "# ログデータのユーザごとの行数を集計し、学習データと結合する\n",
    "user_log_agg = user_log.groupby('user_id').size().reset_index().rename(columns={0: 'user_count'})\n",
    "train = train.merge(user_log_agg, on='user_id', how='left')"
   ]
  }
 ],
 "metadata": {
  "jupytext": {
   "cell_metadata_filter": "-all",
   "main_language": "python",
   "notebook_metadata_filter": "-all"
  }
 },
 "nbformat": 4,
 "nbformat_minor": 5
}
