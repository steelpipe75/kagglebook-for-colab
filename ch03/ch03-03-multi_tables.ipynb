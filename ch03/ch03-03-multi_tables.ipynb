{
  "cells": [
    {
      "cell_type": "markdown",
      "metadata": {
        "id": "view-in-github",
        "colab_type": "text"
      },
      "source": [
        "<a href=\"https://colab.research.google.com/github/steelpipe75/kagglebook-for-colab/blob/master/ch03/ch03-03-multi_tables.ipynb\" target=\"_parent\"><img src=\"https://colab.research.google.com/assets/colab-badge.svg\" alt=\"Open In Colab\"/></a>"
      ]
    },
    {
      "cell_type": "code",
      "execution_count": 1,
      "id": "11a5a83e",
      "metadata": {
        "id": "11a5a83e"
      },
      "outputs": [],
      "source": [
        "import numpy as np\n",
        "import pandas as pd"
      ]
    },
    {
      "cell_type": "code",
      "source": [
        "import importlib\n",
        "import sys\n",
        "import subprocess\n",
        "\n",
        "# Google Colab 上で実行しているかどうかを判断するフラグ\n",
        "ON_COLAB = \"google.colab\" in sys.modules\n",
        "print(f\"ON_COLAB: {ON_COLAB}\")\n",
        "\n",
        "if ON_COLAB:\n",
        "    USE_GIT = True # Gitを使う\n",
        "    # USE_GIT = False # Gitを使わない\n",
        "\n",
        "    print(f\"USE_GIT: {USE_GIT}\")\n",
        "    if USE_GIT:\n",
        "        !git clone https://github.com/ghmagazine/kagglebook.git\n",
        "    else:\n",
        "        # Google Drive にマウントする\n",
        "        drive = importlib.import_module(\"google.colab.drive\")\n",
        "        drive.mount(\"/content/drive/\")\n",
        "\n",
        "        import os\n",
        "        colab_dir = \"/content/drive/MyDrive/kagglebook/\" # データ置き場"
      ],
      "metadata": {
        "id": "ycAT4grhXhHK",
        "outputId": "1997ed03-44ff-4fa2-b2ba-561d7e09462f",
        "colab": {
          "base_uri": "https://localhost:8080/"
        }
      },
      "id": "ycAT4grhXhHK",
      "execution_count": 2,
      "outputs": [
        {
          "output_type": "stream",
          "name": "stdout",
          "text": [
            "ON_COLAB: True\n",
            "USE_GIT: True\n",
            "Cloning into 'kagglebook'...\n",
            "remote: Enumerating objects: 95, done.\u001b[K\n",
            "remote: Counting objects: 100% (94/94), done.\u001b[K\n",
            "remote: Compressing objects: 100% (73/73), done.\u001b[K\n",
            "remote: Total 95 (delta 19), reused 87 (delta 18), pack-reused 1 (from 1)\u001b[K\n",
            "Receiving objects: 100% (95/95), 3.13 MiB | 9.97 MiB/s, done.\n",
            "Resolving deltas: 100% (19/19), done.\n"
          ]
        }
      ]
    },
    {
      "cell_type": "code",
      "execution_count": 3,
      "id": "9490eaf4",
      "metadata": {
        "id": "9490eaf4"
      },
      "outputs": [],
      "source": [
        "# -----------------------------------\n",
        "# データの結合\n",
        "# -----------------------------------\n",
        "# データの読み込み\n",
        "if ON_COLAB:\n",
        "    if USE_GIT:\n",
        "        train = pd.read_csv('/content/kagglebook/input/ch03/multi_table_train.csv')\n",
        "        product_master = pd.read_csv('/content/kagglebook/input/ch03/multi_table_product.csv')\n",
        "        user_log = pd.read_csv('/content/kagglebook/input/ch03/multi_table_log.csv')\n",
        "    else:\n",
        "        train = pd.read_csv(os.path.join(colab_dir, 'input/ch03/multi_table_train.csv'))\n",
        "        product_master = pd.read_csv(os.path.join(colab_dir, 'input/ch03/multi_table_product.csv'))\n",
        "        user_log = pd.read_csv(os.path.join(colab_dir, 'input/ch03/multi_table_log.csv'))\n",
        "else:\n",
        "    train = pd.read_csv('../input/ch03/multi_table_train.csv')\n",
        "    product_master = pd.read_csv('../input/ch03/multi_table_product.csv')\n",
        "    user_log = pd.read_csv('../input/ch03/multi_table_log.csv')"
      ]
    },
    {
      "cell_type": "markdown",
      "id": "11ad5a94",
      "metadata": {
        "id": "11ad5a94"
      },
      "source": [
        "-----------------------------------\n",
        "図の形式のデータフレームがあるとする\n",
        "train         : 学習データ（ユーザID, 商品ID, 目的変数などの列がある）\n",
        "product_master: 商品マスタ（商品IDと商品の情報を表す列がある）\n",
        "user_log      : ユーザの行動のログデータ（ユーザIDと各行動の情報を表す列がある）"
      ]
    },
    {
      "cell_type": "code",
      "execution_count": 4,
      "id": "14b38f9c",
      "metadata": {
        "id": "14b38f9c"
      },
      "outputs": [],
      "source": [
        "# 商品マスタを学習データと結合する\n",
        "train = train.merge(product_master, on='product_id', how='left')"
      ]
    },
    {
      "cell_type": "code",
      "execution_count": 5,
      "id": "25a471e4",
      "metadata": {
        "id": "25a471e4"
      },
      "outputs": [],
      "source": [
        "# ログデータのユーザごとの行数を集計し、学習データと結合する\n",
        "user_log_agg = user_log.groupby('user_id').size().reset_index().rename(columns={0: 'user_count'})\n",
        "train = train.merge(user_log_agg, on='user_id', how='left')"
      ]
    }
  ],
  "metadata": {
    "jupytext": {
      "cell_metadata_filter": "-all",
      "main_language": "python",
      "notebook_metadata_filter": "-all"
    },
    "colab": {
      "provenance": [],
      "include_colab_link": true
    },
    "language_info": {
      "name": "python"
    },
    "kernelspec": {
      "name": "python3",
      "display_name": "Python 3"
    }
  },
  "nbformat": 4,
  "nbformat_minor": 5
}