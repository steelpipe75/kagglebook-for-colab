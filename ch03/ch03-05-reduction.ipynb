{
 "cells": [
  {
   "cell_type": "code",
   "execution_count": null,
   "id": "3f7fa303",
   "metadata": {},
   "outputs": [],
   "source": [
    "# ---------------------------------\n",
    "# データ等の準備\n",
    "# ----------------------------------\n",
    "import numpy as np\n",
    "import pandas as pd"
   ]
  },
  {
   "cell_type": "markdown",
   "id": "fa2e7f3a",
   "metadata": {},
   "source": [
    "train_xは学習データ、train_yは目的変数、test_xはテストデータ\n",
    "pandasのDataFrame, Seriesで保持します。（numpyのarrayで保持することもあります）"
   ]
  },
  {
   "cell_type": "code",
   "execution_count": null,
   "id": "e548545b",
   "metadata": {},
   "outputs": [],
   "source": [
    "train = pd.read_csv('../input/sample-data/train_preprocessed_onehot.csv')\n",
    "train_x = train.drop(['target'], axis=1)\n",
    "train_y = train['target']\n",
    "test_x = pd.read_csv('../input/sample-data/test_preprocessed_onehot.csv')"
   ]
  },
  {
   "cell_type": "code",
   "execution_count": null,
   "id": "f9dba176",
   "metadata": {},
   "outputs": [],
   "source": [
    "# 説明用に学習データとテストデータの元の状態を保存しておく\n",
    "train_x_saved = train_x.copy()\n",
    "test_x_saved = test_x.copy()"
   ]
  },
  {
   "cell_type": "code",
   "execution_count": null,
   "id": "978e9eae",
   "metadata": {},
   "outputs": [],
   "source": [
    "from sklearn.preprocessing import StandardScaler, MinMaxScaler"
   ]
  },
  {
   "cell_type": "code",
   "execution_count": null,
   "id": "c84d676c",
   "metadata": {},
   "outputs": [],
   "source": [
    "# 標準化を行った学習データとテストデータを返す関数\n",
    "def load_standarized_data():\n",
    "    train_x, test_x = train_x_saved.copy(), test_x_saved.copy()\n",
    "\n",
    "    scaler = StandardScaler()\n",
    "    scaler.fit(train_x)\n",
    "    train_x = scaler.transform(train_x)\n",
    "    test_x = scaler.transform(test_x)\n",
    "    return pd.DataFrame(train_x), pd.DataFrame(test_x)"
   ]
  },
  {
   "cell_type": "code",
   "execution_count": null,
   "id": "a2cf22e4",
   "metadata": {},
   "outputs": [],
   "source": [
    "# MinMaxスケーリングを行った学習データとテストデータを返す関数\n",
    "def load_minmax_scaled_data():\n",
    "    train_x, test_x = train_x_saved.copy(), test_x_saved.copy()\n",
    "\n",
    "    # Min-Max Scalingを行う\n",
    "    scaler = MinMaxScaler()\n",
    "    scaler.fit(pd.concat([train_x, test_x], axis=0))\n",
    "    train_x = scaler.transform(train_x)\n",
    "    test_x = scaler.transform(test_x)\n",
    "\n",
    "    return pd.DataFrame(train_x), pd.DataFrame(test_x)"
   ]
  },
  {
   "cell_type": "code",
   "execution_count": null,
   "id": "68d6e62e",
   "metadata": {},
   "outputs": [],
   "source": [
    "# -----------------------------------\n",
    "# PCA\n",
    "# -----------------------------------\n",
    "# 標準化されたデータを用いる\n",
    "train_x, test_x = load_standarized_data()\n",
    "# -----------------------------------\n",
    "# PCA\n",
    "from sklearn.decomposition import PCA"
   ]
  },
  {
   "cell_type": "markdown",
   "id": "bd6f18d9",
   "metadata": {},
   "source": [
    "データは標準化などのスケールを揃える前処理が行われているものとする"
   ]
  },
  {
   "cell_type": "code",
   "execution_count": null,
   "id": "50bb6f0c",
   "metadata": {},
   "outputs": [],
   "source": [
    "# 学習データに基づいてPCAによる変換を定義\n",
    "pca = PCA(n_components=5)\n",
    "pca.fit(train_x)"
   ]
  },
  {
   "cell_type": "code",
   "execution_count": null,
   "id": "99e74b55",
   "metadata": {},
   "outputs": [],
   "source": [
    "# 変換の適用\n",
    "train_x = pca.transform(train_x)\n",
    "test_x = pca.transform(test_x)"
   ]
  },
  {
   "cell_type": "code",
   "execution_count": null,
   "id": "447a5dc3",
   "metadata": {},
   "outputs": [],
   "source": [
    "# -----------------------------------\n",
    "# 標準化されたデータを用いる\n",
    "train_x, test_x = load_standarized_data()\n",
    "# -----------------------------------\n",
    "# TruncatedSVD\n",
    "from sklearn.decomposition import TruncatedSVD"
   ]
  },
  {
   "cell_type": "markdown",
   "id": "8d3e93e8",
   "metadata": {},
   "source": [
    "データは標準化などのスケールを揃える前処理が行われているものとする"
   ]
  },
  {
   "cell_type": "code",
   "execution_count": null,
   "id": "45f96570",
   "metadata": {},
   "outputs": [],
   "source": [
    "# 学習データに基づいてSVDによる変換を定義\n",
    "svd = TruncatedSVD(n_components=5, random_state=71)\n",
    "svd.fit(train_x)"
   ]
  },
  {
   "cell_type": "code",
   "execution_count": null,
   "id": "2141c060",
   "metadata": {},
   "outputs": [],
   "source": [
    "# 変換の適用\n",
    "train_x = svd.transform(train_x)\n",
    "test_x = svd.transform(test_x)"
   ]
  },
  {
   "cell_type": "code",
   "execution_count": null,
   "id": "ed64d68e",
   "metadata": {},
   "outputs": [],
   "source": [
    "# -----------------------------------\n",
    "# NMF\n",
    "# -----------------------------------\n",
    "# 非負の値とするため、MinMaxスケーリングを行ったデータを用いる\n",
    "train_x, test_x = load_minmax_scaled_data()\n",
    "# -----------------------------------\n",
    "from sklearn.decomposition import NMF"
   ]
  },
  {
   "cell_type": "markdown",
   "id": "574e3b3f",
   "metadata": {},
   "source": [
    "データは非負の値から構成されているとする"
   ]
  },
  {
   "cell_type": "code",
   "execution_count": null,
   "id": "7f468136",
   "metadata": {},
   "outputs": [],
   "source": [
    "# 学習データに基づいてNMFによる変換を定義\n",
    "model = NMF(n_components=5, init='random', random_state=71)\n",
    "model.fit(train_x)"
   ]
  },
  {
   "cell_type": "code",
   "execution_count": null,
   "id": "3cda07a2",
   "metadata": {},
   "outputs": [],
   "source": [
    "# 変換の適用\n",
    "train_x = model.transform(train_x)\n",
    "test_x = model.transform(test_x)"
   ]
  },
  {
   "cell_type": "code",
   "execution_count": null,
   "id": "35f18cc7",
   "metadata": {},
   "outputs": [],
   "source": [
    "# -----------------------------------\n",
    "# LatentDirichletAllocation\n",
    "# -----------------------------------\n",
    "# MinMaxスケーリングを行ったデータを用いる\n",
    "# カウント行列ではないが、非負の値であれば計算は可能\n",
    "train_x, test_x = load_minmax_scaled_data()\n",
    "# -----------------------------------\n",
    "from sklearn.decomposition import LatentDirichletAllocation"
   ]
  },
  {
   "cell_type": "markdown",
   "id": "dff632fa",
   "metadata": {},
   "source": [
    "データは単語文書のカウント行列などとする"
   ]
  },
  {
   "cell_type": "code",
   "execution_count": null,
   "id": "51d46a0a",
   "metadata": {},
   "outputs": [],
   "source": [
    "# 学習データに基づいてLDAによる変換を定義\n",
    "model = LatentDirichletAllocation(n_components=5, random_state=71)\n",
    "model.fit(train_x)"
   ]
  },
  {
   "cell_type": "code",
   "execution_count": null,
   "id": "9905686b",
   "metadata": {},
   "outputs": [],
   "source": [
    "# 変換の適用\n",
    "train_x = model.transform(train_x)\n",
    "test_x = model.transform(test_x)"
   ]
  },
  {
   "cell_type": "code",
   "execution_count": null,
   "id": "7e4e7f85",
   "metadata": {},
   "outputs": [],
   "source": [
    "# -----------------------------------\n",
    "# LinearDiscriminantAnalysis\n",
    "# -----------------------------------\n",
    "# 標準化されたデータを用いる\n",
    "train_x, test_x = load_standarized_data()\n",
    "# -----------------------------------\n",
    "from sklearn.discriminant_analysis import LinearDiscriminantAnalysis as LDA"
   ]
  },
  {
   "cell_type": "markdown",
   "id": "2010377f",
   "metadata": {},
   "source": [
    "データは標準化などのスケールを揃える前処理が行われているものとする"
   ]
  },
  {
   "cell_type": "code",
   "execution_count": null,
   "id": "9272ade0",
   "metadata": {},
   "outputs": [],
   "source": [
    "# 学習データに基づいてLDAによる変換を定義\n",
    "lda = LDA(n_components=1)\n",
    "lda.fit(train_x, train_y)"
   ]
  },
  {
   "cell_type": "code",
   "execution_count": null,
   "id": "ec7f40a0",
   "metadata": {},
   "outputs": [],
   "source": [
    "# 変換の適用\n",
    "train_x = lda.transform(train_x)\n",
    "test_x = lda.transform(test_x)"
   ]
  },
  {
   "cell_type": "code",
   "execution_count": null,
   "id": "8373d39a",
   "metadata": {},
   "outputs": [],
   "source": [
    "# -----------------------------------\n",
    "# t-sne\n",
    "# -----------------------------------\n",
    "# 標準化されたデータを用いる\n",
    "train_x, test_x = load_standarized_data()\n",
    "# -----------------------------------\n",
    "import bhtsne"
   ]
  },
  {
   "cell_type": "markdown",
   "id": "09b3cdf4",
   "metadata": {},
   "source": [
    "データは標準化などのスケールを揃える前処理が行われているものとする"
   ]
  },
  {
   "cell_type": "code",
   "execution_count": null,
   "id": "f360b3bd",
   "metadata": {},
   "outputs": [],
   "source": [
    "# t-sneによる変換\n",
    "data = pd.concat([train_x, test_x])\n",
    "embedded = bhtsne.tsne(data.astype(np.float64), dimensions=2, rand_seed=71)"
   ]
  },
  {
   "cell_type": "code",
   "execution_count": null,
   "id": "a4e9e642",
   "metadata": {},
   "outputs": [],
   "source": [
    "# -----------------------------------\n",
    "# UMAP\n",
    "# -----------------------------------\n",
    "# 標準化されたデータを用いる\n",
    "train_x, test_x = load_standarized_data()\n",
    "# -----------------------------------\n",
    "import umap"
   ]
  },
  {
   "cell_type": "markdown",
   "id": "8dbd8bd7",
   "metadata": {},
   "source": [
    "データは標準化などのスケールを揃える前処理が行われているものとする"
   ]
  },
  {
   "cell_type": "code",
   "execution_count": null,
   "id": "5ca05e1c",
   "metadata": {},
   "outputs": [],
   "source": [
    "# 学習データに基づいてUMAPによる変換を定義\n",
    "um = umap.UMAP()\n",
    "um.fit(train_x)"
   ]
  },
  {
   "cell_type": "code",
   "execution_count": null,
   "id": "33bcec14",
   "metadata": {},
   "outputs": [],
   "source": [
    "# 変換の適用\n",
    "train_x = um.transform(train_x)\n",
    "test_x = um.transform(test_x)"
   ]
  },
  {
   "cell_type": "code",
   "execution_count": null,
   "id": "604df57b",
   "metadata": {},
   "outputs": [],
   "source": [
    "# -----------------------------------\n",
    "# クラスタリング\n",
    "# -----------------------------------\n",
    "# 標準化されたデータを用いる\n",
    "train_x, test_x = load_standarized_data()\n",
    "# -----------------------------------\n",
    "from sklearn.cluster import MiniBatchKMeans"
   ]
  },
  {
   "cell_type": "markdown",
   "id": "308688ba",
   "metadata": {},
   "source": [
    "データは標準化などのスケールを揃える前処理が行われているものとする"
   ]
  },
  {
   "cell_type": "code",
   "execution_count": null,
   "id": "db0c9621",
   "metadata": {},
   "outputs": [],
   "source": [
    "# 学習データに基づいてMini-Batch K-Meansによる変換を定義\n",
    "kmeans = MiniBatchKMeans(n_clusters=10, random_state=71)\n",
    "kmeans.fit(train_x)"
   ]
  },
  {
   "cell_type": "code",
   "execution_count": null,
   "id": "8e81afe6",
   "metadata": {},
   "outputs": [],
   "source": [
    "# 属するクラスタを出力する\n",
    "train_clusters = kmeans.predict(train_x)\n",
    "test_clusters = kmeans.predict(test_x)"
   ]
  },
  {
   "cell_type": "code",
   "execution_count": null,
   "id": "a54e56c3",
   "metadata": {},
   "outputs": [],
   "source": [
    "# 各クラスタの中心までの距離を出力する\n",
    "train_distances = kmeans.transform(train_x)\n",
    "test_distances = kmeans.transform(test_x)"
   ]
  }
 ],
 "metadata": {
  "jupytext": {
   "cell_metadata_filter": "-all",
   "main_language": "python",
   "notebook_metadata_filter": "-all"
  }
 },
 "nbformat": 4,
 "nbformat_minor": 5
}
