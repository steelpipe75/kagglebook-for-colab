{
 "cells": [
  {
   "cell_type": "code",
   "execution_count": null,
   "id": "9aac4007",
   "metadata": {},
   "outputs": [],
   "source": [
    "# ---------------------------------\n",
    "# データ等の準備\n",
    "# ----------------------------------\n",
    "import numpy as np\n",
    "import pandas as pd"
   ]
  },
  {
   "cell_type": "markdown",
   "id": "4a8e47f0",
   "metadata": {},
   "source": [
    "train_xは学習データ、train_yは目的変数、test_xはテストデータ\n",
    "pandasのDataFrame, Seriesで保持します。（numpyのarrayで保持することもあります）"
   ]
  },
  {
   "cell_type": "code",
   "execution_count": null,
   "id": "83dcd05b",
   "metadata": {},
   "outputs": [],
   "source": [
    "train = pd.read_csv('../input/sample-data/train_preprocessed.csv')\n",
    "train_x = train.drop(['target'], axis=1)\n",
    "train_y = train['target']\n",
    "test_x = pd.read_csv('../input/sample-data/test_preprocessed.csv')"
   ]
  },
  {
   "cell_type": "code",
   "execution_count": null,
   "id": "825d7477",
   "metadata": {},
   "outputs": [],
   "source": [
    "# 時系列データであり、時間に沿って変数periodを設定したとする\n",
    "train_x['period'] = np.arange(0, len(train_x)) // (len(train_x) // 4)\n",
    "train_x['period'] = np.clip(train_x['period'], 0, 3)\n",
    "test_x['period'] = 4"
   ]
  },
  {
   "cell_type": "code",
   "execution_count": null,
   "id": "474df6d9",
   "metadata": {},
   "outputs": [],
   "source": [
    "# -----------------------------------\n",
    "# 時系列データのhold-out法\n",
    "# -----------------------------------\n",
    "# 変数periodを基準に分割することにする（0から3までが学習データ、4がテストデータとする）\n",
    "# ここでは、学習データのうち、変数periodが3のデータをバリデーションデータとし、0から2までのデータを学習に用いる\n",
    "is_tr = train_x['period'] < 3\n",
    "is_va = train_x['period'] == 3\n",
    "tr_x, va_x = train_x[is_tr], train_x[is_va]\n",
    "tr_y, va_y = train_y[is_tr], train_y[is_va]"
   ]
  },
  {
   "cell_type": "markdown",
   "id": "1202ff9f",
   "metadata": {},
   "source": [
    "-----------------------------------\n",
    "時系列データのクロスバリデーション（時系列に沿って行う方法）\n",
    "-----------------------------------\n",
    "変数periodを基準に分割することにする（0から3までが学習データ、4がテストデータとする）\n",
    "変数periodが1, 2, 3のデータをそれぞれバリデーションデータとし、それ以前のデータを学習に使う"
   ]
  },
  {
   "cell_type": "code",
   "execution_count": null,
   "id": "28f635a8",
   "metadata": {},
   "outputs": [],
   "source": [
    "va_period_list = [1, 2, 3]\n",
    "for va_period in va_period_list:\n",
    "    is_tr = train_x['period'] < va_period\n",
    "    is_va = train_x['period'] == va_period\n",
    "    tr_x, va_x = train_x[is_tr], train_x[is_va]\n",
    "    tr_y, va_y = train_y[is_tr], train_y[is_va]"
   ]
  },
  {
   "cell_type": "code",
   "execution_count": null,
   "id": "4ae9bb77",
   "metadata": {},
   "outputs": [],
   "source": [
    "# （参考）TimeSeriesSplitの場合、データの並び順しか使えないため使いづらい\n",
    "from sklearn.model_selection import TimeSeriesSplit"
   ]
  },
  {
   "cell_type": "code",
   "execution_count": null,
   "id": "e8e2bc55",
   "metadata": {},
   "outputs": [],
   "source": [
    "tss = TimeSeriesSplit(n_splits=4)\n",
    "for tr_idx, va_idx in tss.split(train_x):\n",
    "    tr_x, va_x = train_x.iloc[tr_idx], train_x.iloc[va_idx]\n",
    "    tr_y, va_y = train_y.iloc[tr_idx], train_y.iloc[va_idx]"
   ]
  },
  {
   "cell_type": "markdown",
   "id": "c990bfbb",
   "metadata": {},
   "source": [
    "-----------------------------------\n",
    "時系列データのクロスバリデーション（単純に時間で分割する方法）\n",
    "-----------------------------------\n",
    "変数periodを基準に分割することにする（0から3までが学習データ、4がテストデータとする）\n",
    "変数periodが0, 1, 2, 3のデータをそれぞれバリデーションデータとし、それ以外の学習データを学習に使う"
   ]
  },
  {
   "cell_type": "code",
   "execution_count": null,
   "id": "5fc4a0d5",
   "metadata": {},
   "outputs": [],
   "source": [
    "va_period_list = [0, 1, 2, 3]\n",
    "for va_period in va_period_list:\n",
    "    is_tr = train_x['period'] != va_period\n",
    "    is_va = train_x['period'] == va_period\n",
    "    tr_x, va_x = train_x[is_tr], train_x[is_va]\n",
    "    tr_y, va_y = train_y[is_tr], train_y[is_va]"
   ]
  }
 ],
 "metadata": {
  "jupytext": {
   "cell_metadata_filter": "-all",
   "main_language": "python",
   "notebook_metadata_filter": "-all"
  }
 },
 "nbformat": 4,
 "nbformat_minor": 5
}
