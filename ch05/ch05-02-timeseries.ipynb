{
  "cells": [
    {
      "cell_type": "markdown",
      "metadata": {
        "id": "view-in-github",
        "colab_type": "text"
      },
      "source": [
        "<a href=\"https://colab.research.google.com/github/steelpipe75/kagglebook-for-colab/blob/master/ch05/ch05-02-timeseries.ipynb\" target=\"_parent\"><img src=\"https://colab.research.google.com/assets/colab-badge.svg\" alt=\"Open In Colab\"/></a>"
      ]
    },
    {
      "cell_type": "code",
      "execution_count": 1,
      "id": "9aac4007",
      "metadata": {
        "id": "9aac4007"
      },
      "outputs": [],
      "source": [
        "# ---------------------------------\n",
        "# データ等の準備\n",
        "# ----------------------------------\n",
        "import numpy as np\n",
        "import pandas as pd"
      ]
    },
    {
      "cell_type": "code",
      "source": [
        "import importlib\n",
        "import sys\n",
        "import subprocess\n",
        "\n",
        "# Google Colab 上で実行しているかどうかを判断するフラグ\n",
        "ON_COLAB = \"google.colab\" in sys.modules\n",
        "print(f\"ON_COLAB: {ON_COLAB}\")\n",
        "\n",
        "if ON_COLAB:\n",
        "    USE_GIT = True # Gitを使う\n",
        "    # USE_GIT = False # Gitを使わない\n",
        "\n",
        "    print(f\"USE_GIT: {USE_GIT}\")\n",
        "    if USE_GIT:\n",
        "        !git clone https://github.com/ghmagazine/kagglebook.git\n",
        "    else:\n",
        "        # Google Drive にマウントする\n",
        "        drive = importlib.import_module(\"google.colab.drive\")\n",
        "        drive.mount(\"/content/drive/\")\n",
        "\n",
        "        import os\n",
        "        colab_dir = \"/content/drive/MyDrive/kagglebook/\" # データ置き場"
      ],
      "metadata": {
        "id": "Llu2iblsjuzk",
        "outputId": "e2ddc21b-dbca-45ea-ffc9-d4841311e162",
        "colab": {
          "base_uri": "https://localhost:8080/"
        }
      },
      "id": "Llu2iblsjuzk",
      "execution_count": 2,
      "outputs": [
        {
          "output_type": "stream",
          "name": "stdout",
          "text": [
            "ON_COLAB: True\n",
            "USE_GIT: True\n",
            "fatal: destination path 'kagglebook' already exists and is not an empty directory.\n"
          ]
        }
      ]
    },
    {
      "cell_type": "markdown",
      "id": "4a8e47f0",
      "metadata": {
        "id": "4a8e47f0"
      },
      "source": [
        "train_xは学習データ、train_yは目的変数、test_xはテストデータ\n",
        "pandasのDataFrame, Seriesで保持します。（numpyのarrayで保持することもあります）"
      ]
    },
    {
      "cell_type": "code",
      "execution_count": 3,
      "id": "83dcd05b",
      "metadata": {
        "id": "83dcd05b"
      },
      "outputs": [],
      "source": [
        "if ON_COLAB:\n",
        "    if USE_GIT:\n",
        "        train = pd.read_csv('/content/kagglebook/input/sample-data/train_preprocessed.csv')\n",
        "    else:\n",
        "        train = pd.read_csv(os.path.join(colab_dir, 'input/sample-data/train_preprocessed.csv'))\n",
        "else:\n",
        "    train = pd.read_csv('../input/sample-data/train_preprocessed.csv')\n",
        "train_x = train.drop(['target'], axis=1)\n",
        "train_y = train['target']\n",
        "if ON_COLAB:\n",
        "    if USE_GIT:\n",
        "        test_x = pd.read_csv('/content/kagglebook/input/sample-data/test_preprocessed.csv')\n",
        "    else:\n",
        "        test_x = pd.read_csv(os.path.join(colab_dir, 'input/sample-data/test_preprocessed.csv'))\n",
        "else:\n",
        "    test_x = pd.read_csv('../input/sample-data/test_preprocessed.csv')"
      ]
    },
    {
      "cell_type": "code",
      "execution_count": 4,
      "id": "825d7477",
      "metadata": {
        "id": "825d7477"
      },
      "outputs": [],
      "source": [
        "# 時系列データであり、時間に沿って変数periodを設定したとする\n",
        "train_x['period'] = np.arange(0, len(train_x)) // (len(train_x) // 4)\n",
        "train_x['period'] = np.clip(train_x['period'], 0, 3)\n",
        "test_x['period'] = 4"
      ]
    },
    {
      "cell_type": "code",
      "execution_count": 5,
      "id": "474df6d9",
      "metadata": {
        "id": "474df6d9"
      },
      "outputs": [],
      "source": [
        "# -----------------------------------\n",
        "# 時系列データのhold-out法\n",
        "# -----------------------------------\n",
        "# 変数periodを基準に分割することにする（0から3までが学習データ、4がテストデータとする）\n",
        "# ここでは、学習データのうち、変数periodが3のデータをバリデーションデータとし、0から2までのデータを学習に用いる\n",
        "is_tr = train_x['period'] < 3\n",
        "is_va = train_x['period'] == 3\n",
        "tr_x, va_x = train_x[is_tr], train_x[is_va]\n",
        "tr_y, va_y = train_y[is_tr], train_y[is_va]"
      ]
    },
    {
      "cell_type": "markdown",
      "id": "1202ff9f",
      "metadata": {
        "id": "1202ff9f"
      },
      "source": [
        "-----------------------------------\n",
        "時系列データのクロスバリデーション（時系列に沿って行う方法）\n",
        "-----------------------------------\n",
        "変数periodを基準に分割することにする（0から3までが学習データ、4がテストデータとする）\n",
        "変数periodが1, 2, 3のデータをそれぞれバリデーションデータとし、それ以前のデータを学習に使う"
      ]
    },
    {
      "cell_type": "code",
      "execution_count": 6,
      "id": "28f635a8",
      "metadata": {
        "id": "28f635a8"
      },
      "outputs": [],
      "source": [
        "va_period_list = [1, 2, 3]\n",
        "for va_period in va_period_list:\n",
        "    is_tr = train_x['period'] < va_period\n",
        "    is_va = train_x['period'] == va_period\n",
        "    tr_x, va_x = train_x[is_tr], train_x[is_va]\n",
        "    tr_y, va_y = train_y[is_tr], train_y[is_va]"
      ]
    },
    {
      "cell_type": "code",
      "execution_count": 7,
      "id": "4ae9bb77",
      "metadata": {
        "id": "4ae9bb77"
      },
      "outputs": [],
      "source": [
        "# （参考）TimeSeriesSplitの場合、データの並び順しか使えないため使いづらい\n",
        "from sklearn.model_selection import TimeSeriesSplit"
      ]
    },
    {
      "cell_type": "code",
      "execution_count": 8,
      "id": "e8e2bc55",
      "metadata": {
        "id": "e8e2bc55"
      },
      "outputs": [],
      "source": [
        "tss = TimeSeriesSplit(n_splits=4)\n",
        "for tr_idx, va_idx in tss.split(train_x):\n",
        "    tr_x, va_x = train_x.iloc[tr_idx], train_x.iloc[va_idx]\n",
        "    tr_y, va_y = train_y.iloc[tr_idx], train_y.iloc[va_idx]"
      ]
    },
    {
      "cell_type": "markdown",
      "id": "c990bfbb",
      "metadata": {
        "id": "c990bfbb"
      },
      "source": [
        "-----------------------------------\n",
        "時系列データのクロスバリデーション（単純に時間で分割する方法）\n",
        "-----------------------------------\n",
        "変数periodを基準に分割することにする（0から3までが学習データ、4がテストデータとする）\n",
        "変数periodが0, 1, 2, 3のデータをそれぞれバリデーションデータとし、それ以外の学習データを学習に使う"
      ]
    },
    {
      "cell_type": "code",
      "execution_count": 9,
      "id": "5fc4a0d5",
      "metadata": {
        "id": "5fc4a0d5"
      },
      "outputs": [],
      "source": [
        "va_period_list = [0, 1, 2, 3]\n",
        "for va_period in va_period_list:\n",
        "    is_tr = train_x['period'] != va_period\n",
        "    is_va = train_x['period'] == va_period\n",
        "    tr_x, va_x = train_x[is_tr], train_x[is_va]\n",
        "    tr_y, va_y = train_y[is_tr], train_y[is_va]"
      ]
    }
  ],
  "metadata": {
    "jupytext": {
      "cell_metadata_filter": "-all",
      "main_language": "python",
      "notebook_metadata_filter": "-all"
    },
    "colab": {
      "provenance": [],
      "include_colab_link": true
    },
    "language_info": {
      "name": "python"
    },
    "kernelspec": {
      "name": "python3",
      "display_name": "Python 3"
    }
  },
  "nbformat": 4,
  "nbformat_minor": 5
}