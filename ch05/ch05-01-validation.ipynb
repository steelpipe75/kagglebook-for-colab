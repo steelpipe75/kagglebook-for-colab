{
 "cells": [
  {
   "cell_type": "code",
   "execution_count": null,
   "id": "cf07fd07",
   "metadata": {},
   "outputs": [],
   "source": [
    "# ---------------------------------\n",
    "# データ等の準備\n",
    "# ----------------------------------\n",
    "import numpy as np\n",
    "import pandas as pd"
   ]
  },
  {
   "cell_type": "markdown",
   "id": "75a31f36",
   "metadata": {},
   "source": [
    "train_xは学習データ、train_yは目的変数、test_xはテストデータ\n",
    "pandasのDataFrame, Seriesで保持します。（numpyのarrayで保持することもあります）"
   ]
  },
  {
   "cell_type": "code",
   "execution_count": null,
   "id": "818d6381",
   "metadata": {},
   "outputs": [],
   "source": [
    "train = pd.read_csv('../input/sample-data/train_preprocessed.csv')\n",
    "train_x = train.drop(['target'], axis=1)\n",
    "train_y = train['target']\n",
    "test_x = pd.read_csv('../input/sample-data/test_preprocessed.csv')"
   ]
  },
  {
   "cell_type": "code",
   "execution_count": null,
   "id": "40d6bd1b",
   "metadata": {},
   "outputs": [],
   "source": [
    "# xgboostによる学習・予測を行うクラス\n",
    "import xgboost as xgb"
   ]
  },
  {
   "cell_type": "code",
   "execution_count": null,
   "id": "f0e3b28c",
   "metadata": {},
   "outputs": [],
   "source": [
    "class Model:\n",
    "\n",
    "    def __init__(self, params=None):\n",
    "        self.model = None\n",
    "        if params is None:\n",
    "            self.params = {}\n",
    "        else:\n",
    "            self.params = params\n",
    "\n",
    "    def fit(self, tr_x, tr_y, va_x, va_y):\n",
    "        params = {'objective': 'binary:logistic', 'silent': 1, 'random_state': 71}\n",
    "        params.update(self.params)\n",
    "        num_round = 10\n",
    "        dtrain = xgb.DMatrix(tr_x, label=tr_y)\n",
    "        dvalid = xgb.DMatrix(va_x, label=va_y)\n",
    "        watchlist = [(dtrain, 'train'), (dvalid, 'eval')]\n",
    "        self.model = xgb.train(params, dtrain, num_round, evals=watchlist)\n",
    "\n",
    "    def predict(self, x):\n",
    "        data = xgb.DMatrix(x)\n",
    "        pred = self.model.predict(data)\n",
    "        return pred"
   ]
  },
  {
   "cell_type": "markdown",
   "id": "e4ec27f7",
   "metadata": {},
   "source": [
    "-----------------------------------\n",
    "hold-out法\n",
    "-----------------------------------\n",
    "hold-out法でのバリデーションデータの分割"
   ]
  },
  {
   "cell_type": "code",
   "execution_count": null,
   "id": "90e6c635",
   "metadata": {},
   "outputs": [],
   "source": [
    "from sklearn.model_selection import train_test_split"
   ]
  },
  {
   "cell_type": "code",
   "execution_count": null,
   "id": "3f2d01ab",
   "metadata": {},
   "outputs": [],
   "source": [
    "# train_test_split関数を用いてhold-out法で分割する\n",
    "tr_x, va_x, tr_y, va_y = train_test_split(train_x, train_y,\n",
    "                                          test_size=0.25, random_state=71, shuffle=True)"
   ]
  },
  {
   "cell_type": "markdown",
   "id": "bf844ef6",
   "metadata": {},
   "source": [
    "-----------------------------------\n",
    "hold-out法でバリデーションを行う"
   ]
  },
  {
   "cell_type": "code",
   "execution_count": null,
   "id": "015d83ac",
   "metadata": {},
   "outputs": [],
   "source": [
    "from sklearn.metrics import log_loss\n",
    "from sklearn.model_selection import train_test_split"
   ]
  },
  {
   "cell_type": "markdown",
   "id": "8d071c04",
   "metadata": {},
   "source": [
    "Modelクラスを定義しているものとする\n",
    "Modelクラスは、fitで学習し、predictで予測値の確率を出力する"
   ]
  },
  {
   "cell_type": "code",
   "execution_count": null,
   "id": "6f02aa12",
   "metadata": {},
   "outputs": [],
   "source": [
    "# train_test_split関数を用いてhold-out法で分割する\n",
    "tr_x, va_x, tr_y, va_y = train_test_split(train_x, train_y,\n",
    "                                          test_size=0.25, random_state=71, shuffle=True)"
   ]
  },
  {
   "cell_type": "code",
   "execution_count": null,
   "id": "f0f7ddfe",
   "metadata": {},
   "outputs": [],
   "source": [
    "# 学習の実行、バリデーションデータの予測値の出力、スコアの計算を行う\n",
    "model = Model()\n",
    "model.fit(tr_x, tr_y, va_x, va_y)\n",
    "va_pred = model.predict(va_x)\n",
    "score = log_loss(va_y, va_pred)\n",
    "print(score)"
   ]
  },
  {
   "cell_type": "markdown",
   "id": "09c8c082",
   "metadata": {},
   "source": [
    "-----------------------------------\n",
    "KFoldクラスを用いてhold-out法でバリデーションデータを分割"
   ]
  },
  {
   "cell_type": "code",
   "execution_count": null,
   "id": "4512b6f9",
   "metadata": {},
   "outputs": [],
   "source": [
    "from sklearn.model_selection import KFold"
   ]
  },
  {
   "cell_type": "code",
   "execution_count": null,
   "id": "4d64826e",
   "metadata": {},
   "outputs": [],
   "source": [
    "# KFoldクラスを用いてhold-out法で分割する\n",
    "kf = KFold(n_splits=4, shuffle=True, random_state=71)\n",
    "tr_idx, va_idx = list(kf.split(train_x))[0]\n",
    "tr_x, va_x = train_x.iloc[tr_idx], train_x.iloc[va_idx]\n",
    "tr_y, va_y = train_y.iloc[tr_idx], train_y.iloc[va_idx]"
   ]
  },
  {
   "cell_type": "markdown",
   "id": "ebcd78c0",
   "metadata": {},
   "source": [
    "-----------------------------------\n",
    "クロスバリデーション\n",
    "-----------------------------------\n",
    "クロスバリデーションでのデータの分割"
   ]
  },
  {
   "cell_type": "code",
   "execution_count": null,
   "id": "c82885d2",
   "metadata": {},
   "outputs": [],
   "source": [
    "from sklearn.model_selection import KFold"
   ]
  },
  {
   "cell_type": "code",
   "execution_count": null,
   "id": "487f045c",
   "metadata": {},
   "outputs": [],
   "source": [
    "# KFoldクラスを用いてクロスバリデーションの分割を行う\n",
    "kf = KFold(n_splits=4, shuffle=True, random_state=71)\n",
    "for tr_idx, va_idx in kf.split(train_x):\n",
    "    tr_x, va_x = train_x.iloc[tr_idx], train_x.iloc[va_idx]\n",
    "    tr_y, va_y = train_y.iloc[tr_idx], train_y.iloc[va_idx]"
   ]
  },
  {
   "cell_type": "markdown",
   "id": "6d2e2548",
   "metadata": {},
   "source": [
    "-----------------------------------\n",
    "クロスバリデーションを行う"
   ]
  },
  {
   "cell_type": "code",
   "execution_count": null,
   "id": "d726c90e",
   "metadata": {},
   "outputs": [],
   "source": [
    "from sklearn.metrics import log_loss\n",
    "from sklearn.model_selection import KFold"
   ]
  },
  {
   "cell_type": "markdown",
   "id": "bba8ef6d",
   "metadata": {},
   "source": [
    "Modelクラスを定義しているものとする\n",
    "Modelクラスは、fitで学習し、predictで予測値の確率を出力する"
   ]
  },
  {
   "cell_type": "code",
   "execution_count": null,
   "id": "d712ebe5",
   "metadata": {},
   "outputs": [],
   "source": [
    "scores = []"
   ]
  },
  {
   "cell_type": "code",
   "execution_count": null,
   "id": "cf9c6258",
   "metadata": {},
   "outputs": [],
   "source": [
    "# KFoldクラスを用いてクロスバリデーションの分割を行う\n",
    "kf = KFold(n_splits=4, shuffle=True, random_state=71)\n",
    "for tr_idx, va_idx in kf.split(train_x):\n",
    "    tr_x, va_x = train_x.iloc[tr_idx], train_x.iloc[va_idx]\n",
    "    tr_y, va_y = train_y.iloc[tr_idx], train_y.iloc[va_idx]\n",
    "\n",
    "    # 学習の実行、バリデーションデータの予測値の出力、スコアの計算を行う\n",
    "    model = Model()\n",
    "    model.fit(tr_x, tr_y, va_x, va_y)\n",
    "    va_pred = model.predict(va_x)\n",
    "    score = log_loss(va_y, va_pred)\n",
    "    scores.append(score)"
   ]
  },
  {
   "cell_type": "code",
   "execution_count": null,
   "id": "ed5f71ad",
   "metadata": {},
   "outputs": [],
   "source": [
    "# 各foldのスコアの平均をとる\n",
    "print(np.mean(scores))"
   ]
  },
  {
   "cell_type": "code",
   "execution_count": null,
   "id": "ee393440",
   "metadata": {},
   "outputs": [],
   "source": [
    "# -----------------------------------\n",
    "# Stratified K-Fold\n",
    "# -----------------------------------\n",
    "from sklearn.model_selection import StratifiedKFold"
   ]
  },
  {
   "cell_type": "code",
   "execution_count": null,
   "id": "bd4d60af",
   "metadata": {},
   "outputs": [],
   "source": [
    "# StratifiedKFoldクラスを用いて層化抽出による分割を行う\n",
    "kf = StratifiedKFold(n_splits=4, shuffle=True, random_state=71)\n",
    "for tr_idx, va_idx in kf.split(train_x, train_y):\n",
    "    tr_x, va_x = train_x.iloc[tr_idx], train_x.iloc[va_idx]\n",
    "    tr_y, va_y = train_y.iloc[tr_idx], train_y.iloc[va_idx]"
   ]
  },
  {
   "cell_type": "code",
   "execution_count": null,
   "id": "41e70dcd",
   "metadata": {},
   "outputs": [],
   "source": [
    "# -----------------------------------\n",
    "# GroupKFold\n",
    "# -----------------------------------\n",
    "# 4件ずつ同じユーザーがいるデータであったとする\n",
    "train_x['user_id'] = np.arange(0, len(train_x)) // 4\n",
    "# -----------------------------------"
   ]
  },
  {
   "cell_type": "code",
   "execution_count": null,
   "id": "c132b5b9",
   "metadata": {},
   "outputs": [],
   "source": [
    "from sklearn.model_selection import KFold, GroupKFold"
   ]
  },
  {
   "cell_type": "code",
   "execution_count": null,
   "id": "9611fa31",
   "metadata": {},
   "outputs": [],
   "source": [
    "# user_id列の顧客IDを単位として分割することにする\n",
    "user_id = train_x['user_id']\n",
    "unique_user_ids = user_id.unique()"
   ]
  },
  {
   "cell_type": "code",
   "execution_count": null,
   "id": "96f81e80",
   "metadata": {},
   "outputs": [],
   "source": [
    "# KFoldクラスを用いて、顧客ID単位で分割する\n",
    "scores = []\n",
    "kf = KFold(n_splits=4, shuffle=True, random_state=71)\n",
    "for tr_group_idx, va_group_idx in kf.split(unique_user_ids):\n",
    "    # 顧客IDをtrain/valid（学習に使うデータ、バリデーションデータ）に分割する\n",
    "    tr_groups, va_groups = unique_user_ids[tr_group_idx], unique_user_ids[va_group_idx]\n",
    "\n",
    "    # 各レコードの顧客IDがtrain/validのどちらに属しているかによって分割する\n",
    "    is_tr = user_id.isin(tr_groups)\n",
    "    is_va = user_id.isin(va_groups)\n",
    "    tr_x, va_x = train_x[is_tr], train_x[is_va]\n",
    "    tr_y, va_y = train_y[is_tr], train_y[is_va]"
   ]
  },
  {
   "cell_type": "code",
   "execution_count": null,
   "id": "23707931",
   "metadata": {},
   "outputs": [],
   "source": [
    "# （参考）GroupKFoldクラスではシャッフルと乱数シードの指定ができないため使いづらい\n",
    "kf = GroupKFold(n_splits=4)\n",
    "for tr_idx, va_idx in kf.split(train_x, train_y, user_id):\n",
    "    tr_x, va_x = train_x.iloc[tr_idx], train_x.iloc[va_idx]\n",
    "    tr_y, va_y = train_y.iloc[tr_idx], train_y.iloc[va_idx]"
   ]
  },
  {
   "cell_type": "code",
   "execution_count": null,
   "id": "1a95a73d",
   "metadata": {},
   "outputs": [],
   "source": [
    "# -----------------------------------\n",
    "# leave-one-out\n",
    "# -----------------------------------\n",
    "# データが100件しかないものとする\n",
    "train_x = train_x.iloc[:100, :].copy()\n",
    "# -----------------------------------\n",
    "from sklearn.model_selection import LeaveOneOut"
   ]
  },
  {
   "cell_type": "code",
   "execution_count": null,
   "id": "edffc2a1",
   "metadata": {},
   "outputs": [],
   "source": [
    "loo = LeaveOneOut()\n",
    "for tr_idx, va_idx in loo.split(train_x):\n",
    "    tr_x, va_x = train_x.iloc[tr_idx], train_x.iloc[va_idx]\n",
    "    tr_y, va_y = train_y.iloc[tr_idx], train_y.iloc[va_idx]"
   ]
  }
 ],
 "metadata": {
  "jupytext": {
   "cell_metadata_filter": "-all",
   "main_language": "python",
   "notebook_metadata_filter": "-all"
  }
 },
 "nbformat": 4,
 "nbformat_minor": 5
}
