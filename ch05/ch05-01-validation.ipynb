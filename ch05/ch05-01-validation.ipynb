{
  "cells": [
    {
      "cell_type": "markdown",
      "metadata": {
        "id": "view-in-github",
        "colab_type": "text"
      },
      "source": [
        "<a href=\"https://colab.research.google.com/github/steelpipe75/kagglebook-for-colab/blob/master/ch05/ch05-01-validation.ipynb\" target=\"_parent\"><img src=\"https://colab.research.google.com/assets/colab-badge.svg\" alt=\"Open In Colab\"/></a>"
      ]
    },
    {
      "cell_type": "code",
      "execution_count": 1,
      "id": "cf07fd07",
      "metadata": {
        "id": "cf07fd07"
      },
      "outputs": [],
      "source": [
        "# ---------------------------------\n",
        "# データ等の準備\n",
        "# ----------------------------------\n",
        "import numpy as np\n",
        "import pandas as pd"
      ]
    },
    {
      "cell_type": "code",
      "source": [
        "import importlib\n",
        "import sys\n",
        "import subprocess\n",
        "\n",
        "# Google Colab 上で実行しているかどうかを判断するフラグ\n",
        "ON_COLAB = \"google.colab\" in sys.modules\n",
        "print(f\"ON_COLAB: {ON_COLAB}\")\n",
        "\n",
        "if ON_COLAB:\n",
        "    USE_GIT = True # Gitを使う\n",
        "    # USE_GIT = False # Gitを使わない\n",
        "\n",
        "    print(f\"USE_GIT: {USE_GIT}\")\n",
        "    if USE_GIT:\n",
        "        !git clone https://github.com/ghmagazine/kagglebook.git\n",
        "    else:\n",
        "        # Google Drive にマウントする\n",
        "        drive = importlib.import_module(\"google.colab.drive\")\n",
        "        drive.mount(\"/content/drive/\")\n",
        "\n",
        "        import os\n",
        "        colab_dir = \"/content/drive/MyDrive/kagglebook/\" # データ置き場"
      ],
      "metadata": {
        "id": "_UwmL6iUhO6D",
        "outputId": "10cecfee-50f5-44ee-e728-db29d1c9e704",
        "colab": {
          "base_uri": "https://localhost:8080/"
        }
      },
      "id": "_UwmL6iUhO6D",
      "execution_count": 2,
      "outputs": [
        {
          "output_type": "stream",
          "name": "stdout",
          "text": [
            "ON_COLAB: True\n",
            "USE_GIT: True\n",
            "fatal: destination path 'kagglebook' already exists and is not an empty directory.\n"
          ]
        }
      ]
    },
    {
      "cell_type": "markdown",
      "id": "75a31f36",
      "metadata": {
        "id": "75a31f36"
      },
      "source": [
        "train_xは学習データ、train_yは目的変数、test_xはテストデータ\n",
        "pandasのDataFrame, Seriesで保持します。（numpyのarrayで保持することもあります）"
      ]
    },
    {
      "cell_type": "code",
      "execution_count": 3,
      "id": "818d6381",
      "metadata": {
        "id": "818d6381"
      },
      "outputs": [],
      "source": [
        "if ON_COLAB:\n",
        "    if USE_GIT:\n",
        "        train = pd.read_csv('/content/kagglebook/input/sample-data/train_preprocessed.csv')\n",
        "    else:\n",
        "        train = pd.read_csv(os.path.join(colab_dir, 'input/sample-data/train_preprocessed.csv'))\n",
        "else:\n",
        "    train = pd.read_csv('../input/sample-data/train_preprocessed.csv')\n",
        "train_x = train.drop(['target'], axis=1)\n",
        "train_y = train['target']\n",
        "if ON_COLAB:\n",
        "    if USE_GIT:\n",
        "        test_x = pd.read_csv('/content/kagglebook/input/sample-data/test_preprocessed.csv')\n",
        "    else:\n",
        "        test_x = pd.read_csv(os.path.join(colab_dir, 'input/sample-data/test_preprocessed.csv'))\n",
        "else:\n",
        "    test_x = pd.read_csv('../input/sample-data/test_preprocessed.csv')"
      ]
    },
    {
      "cell_type": "code",
      "execution_count": 4,
      "id": "40d6bd1b",
      "metadata": {
        "id": "40d6bd1b"
      },
      "outputs": [],
      "source": [
        "# xgboostによる学習・予測を行うクラス\n",
        "import xgboost as xgb"
      ]
    },
    {
      "cell_type": "code",
      "execution_count": 5,
      "id": "f0e3b28c",
      "metadata": {
        "id": "f0e3b28c"
      },
      "outputs": [],
      "source": [
        "class Model:\n",
        "\n",
        "    def __init__(self, params=None):\n",
        "        self.model = None\n",
        "        if params is None:\n",
        "            self.params = {}\n",
        "        else:\n",
        "            self.params = params\n",
        "\n",
        "    def fit(self, tr_x, tr_y, va_x, va_y):\n",
        "        params = {'objective': 'binary:logistic', 'silent': 1, 'random_state': 71}\n",
        "        params.update(self.params)\n",
        "        num_round = 10\n",
        "        dtrain = xgb.DMatrix(tr_x, label=tr_y)\n",
        "        dvalid = xgb.DMatrix(va_x, label=va_y)\n",
        "        watchlist = [(dtrain, 'train'), (dvalid, 'eval')]\n",
        "        self.model = xgb.train(params, dtrain, num_round, evals=watchlist)\n",
        "\n",
        "    def predict(self, x):\n",
        "        data = xgb.DMatrix(x)\n",
        "        pred = self.model.predict(data)\n",
        "        return pred"
      ]
    },
    {
      "cell_type": "markdown",
      "id": "e4ec27f7",
      "metadata": {
        "id": "e4ec27f7"
      },
      "source": [
        "-----------------------------------\n",
        "hold-out法\n",
        "-----------------------------------\n",
        "hold-out法でのバリデーションデータの分割"
      ]
    },
    {
      "cell_type": "code",
      "execution_count": 6,
      "id": "90e6c635",
      "metadata": {
        "id": "90e6c635"
      },
      "outputs": [],
      "source": [
        "from sklearn.model_selection import train_test_split"
      ]
    },
    {
      "cell_type": "code",
      "execution_count": 7,
      "id": "3f2d01ab",
      "metadata": {
        "id": "3f2d01ab"
      },
      "outputs": [],
      "source": [
        "# train_test_split関数を用いてhold-out法で分割する\n",
        "tr_x, va_x, tr_y, va_y = train_test_split(train_x, train_y,\n",
        "                                          test_size=0.25, random_state=71, shuffle=True)"
      ]
    },
    {
      "cell_type": "markdown",
      "id": "bf844ef6",
      "metadata": {
        "id": "bf844ef6"
      },
      "source": [
        "-----------------------------------\n",
        "hold-out法でバリデーションを行う"
      ]
    },
    {
      "cell_type": "code",
      "execution_count": 8,
      "id": "015d83ac",
      "metadata": {
        "id": "015d83ac"
      },
      "outputs": [],
      "source": [
        "from sklearn.metrics import log_loss\n",
        "from sklearn.model_selection import train_test_split"
      ]
    },
    {
      "cell_type": "markdown",
      "id": "8d071c04",
      "metadata": {
        "id": "8d071c04"
      },
      "source": [
        "Modelクラスを定義しているものとする\n",
        "Modelクラスは、fitで学習し、predictで予測値の確率を出力する"
      ]
    },
    {
      "cell_type": "code",
      "execution_count": 9,
      "id": "6f02aa12",
      "metadata": {
        "id": "6f02aa12"
      },
      "outputs": [],
      "source": [
        "# train_test_split関数を用いてhold-out法で分割する\n",
        "tr_x, va_x, tr_y, va_y = train_test_split(train_x, train_y,\n",
        "                                          test_size=0.25, random_state=71, shuffle=True)"
      ]
    },
    {
      "cell_type": "code",
      "execution_count": 10,
      "id": "f0f7ddfe",
      "metadata": {
        "id": "f0f7ddfe",
        "outputId": "1e170623-8c67-4f0e-8479-a8d247ae9cbb",
        "colab": {
          "base_uri": "https://localhost:8080/"
        }
      },
      "outputs": [
        {
          "output_type": "stream",
          "name": "stdout",
          "text": [
            "[0]\ttrain-logloss:0.41663\teval-logloss:0.43550\n",
            "[1]\ttrain-logloss:0.37126\teval-logloss:0.39889\n",
            "[2]\ttrain-logloss:0.33889\teval-logloss:0.37205\n",
            "[3]\ttrain-logloss:0.31320\teval-logloss:0.35606\n",
            "[4]\ttrain-logloss:0.29062\teval-logloss:0.33709\n",
            "[5]\ttrain-logloss:0.27315\teval-logloss:0.32549\n"
          ]
        },
        {
          "output_type": "stream",
          "name": "stderr",
          "text": [
            "/usr/local/lib/python3.11/dist-packages/xgboost/core.py:158: UserWarning: [14:09:04] WARNING: /workspace/src/learner.cc:740: \n",
            "Parameters: { \"silent\" } are not used.\n",
            "\n",
            "  warnings.warn(smsg, UserWarning)\n"
          ]
        },
        {
          "output_type": "stream",
          "name": "stdout",
          "text": [
            "[6]\ttrain-logloss:0.25735\teval-logloss:0.31328\n",
            "[7]\ttrain-logloss:0.24299\teval-logloss:0.30434\n",
            "[8]\ttrain-logloss:0.22850\teval-logloss:0.29755\n",
            "[9]\ttrain-logloss:0.21984\teval-logloss:0.29490\n",
            "0.2948980098778489\n"
          ]
        }
      ],
      "source": [
        "# 学習の実行、バリデーションデータの予測値の出力、スコアの計算を行う\n",
        "model = Model()\n",
        "model.fit(tr_x, tr_y, va_x, va_y)\n",
        "va_pred = model.predict(va_x)\n",
        "score = log_loss(va_y, va_pred)\n",
        "print(score)"
      ]
    },
    {
      "cell_type": "markdown",
      "id": "09c8c082",
      "metadata": {
        "id": "09c8c082"
      },
      "source": [
        "-----------------------------------\n",
        "KFoldクラスを用いてhold-out法でバリデーションデータを分割"
      ]
    },
    {
      "cell_type": "code",
      "execution_count": 11,
      "id": "4512b6f9",
      "metadata": {
        "id": "4512b6f9"
      },
      "outputs": [],
      "source": [
        "from sklearn.model_selection import KFold"
      ]
    },
    {
      "cell_type": "code",
      "execution_count": 12,
      "id": "4d64826e",
      "metadata": {
        "id": "4d64826e"
      },
      "outputs": [],
      "source": [
        "# KFoldクラスを用いてhold-out法で分割する\n",
        "kf = KFold(n_splits=4, shuffle=True, random_state=71)\n",
        "tr_idx, va_idx = list(kf.split(train_x))[0]\n",
        "tr_x, va_x = train_x.iloc[tr_idx], train_x.iloc[va_idx]\n",
        "tr_y, va_y = train_y.iloc[tr_idx], train_y.iloc[va_idx]"
      ]
    },
    {
      "cell_type": "markdown",
      "id": "ebcd78c0",
      "metadata": {
        "id": "ebcd78c0"
      },
      "source": [
        "-----------------------------------\n",
        "クロスバリデーション\n",
        "-----------------------------------\n",
        "クロスバリデーションでのデータの分割"
      ]
    },
    {
      "cell_type": "code",
      "execution_count": 13,
      "id": "c82885d2",
      "metadata": {
        "id": "c82885d2"
      },
      "outputs": [],
      "source": [
        "from sklearn.model_selection import KFold"
      ]
    },
    {
      "cell_type": "code",
      "execution_count": 14,
      "id": "487f045c",
      "metadata": {
        "id": "487f045c"
      },
      "outputs": [],
      "source": [
        "# KFoldクラスを用いてクロスバリデーションの分割を行う\n",
        "kf = KFold(n_splits=4, shuffle=True, random_state=71)\n",
        "for tr_idx, va_idx in kf.split(train_x):\n",
        "    tr_x, va_x = train_x.iloc[tr_idx], train_x.iloc[va_idx]\n",
        "    tr_y, va_y = train_y.iloc[tr_idx], train_y.iloc[va_idx]"
      ]
    },
    {
      "cell_type": "markdown",
      "id": "6d2e2548",
      "metadata": {
        "id": "6d2e2548"
      },
      "source": [
        "-----------------------------------\n",
        "クロスバリデーションを行う"
      ]
    },
    {
      "cell_type": "code",
      "execution_count": 15,
      "id": "d726c90e",
      "metadata": {
        "id": "d726c90e"
      },
      "outputs": [],
      "source": [
        "from sklearn.metrics import log_loss\n",
        "from sklearn.model_selection import KFold"
      ]
    },
    {
      "cell_type": "markdown",
      "id": "bba8ef6d",
      "metadata": {
        "id": "bba8ef6d"
      },
      "source": [
        "Modelクラスを定義しているものとする\n",
        "Modelクラスは、fitで学習し、predictで予測値の確率を出力する"
      ]
    },
    {
      "cell_type": "code",
      "execution_count": 16,
      "id": "d712ebe5",
      "metadata": {
        "id": "d712ebe5"
      },
      "outputs": [],
      "source": [
        "scores = []"
      ]
    },
    {
      "cell_type": "code",
      "execution_count": 17,
      "id": "cf9c6258",
      "metadata": {
        "id": "cf9c6258",
        "outputId": "b67be2ba-ba8a-45a7-f277-695e3b17f532",
        "colab": {
          "base_uri": "https://localhost:8080/"
        }
      },
      "outputs": [
        {
          "output_type": "stream",
          "name": "stderr",
          "text": [
            "/usr/local/lib/python3.11/dist-packages/xgboost/core.py:158: UserWarning: [14:09:05] WARNING: /workspace/src/learner.cc:740: \n",
            "Parameters: { \"silent\" } are not used.\n",
            "\n",
            "  warnings.warn(smsg, UserWarning)\n"
          ]
        },
        {
          "output_type": "stream",
          "name": "stdout",
          "text": [
            "[0]\ttrain-logloss:0.41663\teval-logloss:0.43550\n",
            "[1]\ttrain-logloss:0.37126\teval-logloss:0.39889\n",
            "[2]\ttrain-logloss:0.33889\teval-logloss:0.37205\n",
            "[3]\ttrain-logloss:0.31320\teval-logloss:0.35606\n",
            "[4]\ttrain-logloss:0.29062\teval-logloss:0.33709\n",
            "[5]\ttrain-logloss:0.27315\teval-logloss:0.32549\n",
            "[6]\ttrain-logloss:0.25735\teval-logloss:0.31328\n",
            "[7]\ttrain-logloss:0.24299\teval-logloss:0.30434\n",
            "[8]\ttrain-logloss:0.22850\teval-logloss:0.29755\n",
            "[9]\ttrain-logloss:0.21984\teval-logloss:0.29490\n",
            "[0]\ttrain-logloss:0.41964\teval-logloss:0.41762\n"
          ]
        },
        {
          "output_type": "stream",
          "name": "stderr",
          "text": [
            "/usr/local/lib/python3.11/dist-packages/xgboost/core.py:158: UserWarning: [14:09:06] WARNING: /workspace/src/learner.cc:740: \n",
            "Parameters: { \"silent\" } are not used.\n",
            "\n",
            "  warnings.warn(smsg, UserWarning)\n"
          ]
        },
        {
          "output_type": "stream",
          "name": "stdout",
          "text": [
            "[1]\ttrain-logloss:0.37576\teval-logloss:0.38620\n",
            "[2]\ttrain-logloss:0.34343\teval-logloss:0.36018\n",
            "[3]\ttrain-logloss:0.31776\teval-logloss:0.34322\n",
            "[4]\ttrain-logloss:0.29396\teval-logloss:0.32650\n",
            "[5]\ttrain-logloss:0.27618\teval-logloss:0.31509\n",
            "[6]\ttrain-logloss:0.26377\teval-logloss:0.30590\n",
            "[7]\ttrain-logloss:0.24848\teval-logloss:0.29695\n",
            "[8]\ttrain-logloss:0.23521\teval-logloss:0.28744\n",
            "[9]\ttrain-logloss:0.22311\teval-logloss:0.28122\n",
            "[0]\ttrain-logloss:0.41890\teval-logloss:0.43249\n",
            "[1]\ttrain-logloss:0.37293\teval-logloss:0.39662\n",
            "[2]\ttrain-logloss:0.34196\teval-logloss:0.37120\n",
            "[3]\ttrain-logloss:0.31459\teval-logloss:0.35191\n",
            "[4]\ttrain-logloss:0.29310\teval-logloss:0.33963\n",
            "[5]\ttrain-logloss:0.27737\teval-logloss:0.32667\n",
            "[6]\ttrain-logloss:0.25757\teval-logloss:0.31103\n",
            "[7]\ttrain-logloss:0.24559\teval-logloss:0.30324\n",
            "[8]\ttrain-logloss:0.23499\teval-logloss:0.29798\n"
          ]
        },
        {
          "output_type": "stream",
          "name": "stderr",
          "text": [
            "/usr/local/lib/python3.11/dist-packages/xgboost/core.py:158: UserWarning: [14:09:06] WARNING: /workspace/src/learner.cc:740: \n",
            "Parameters: { \"silent\" } are not used.\n",
            "\n",
            "  warnings.warn(smsg, UserWarning)\n"
          ]
        },
        {
          "output_type": "stream",
          "name": "stdout",
          "text": [
            "[9]\ttrain-logloss:0.22137\teval-logloss:0.28779\n",
            "[0]\ttrain-logloss:0.41761\teval-logloss:0.43674\n",
            "[1]\ttrain-logloss:0.37038\teval-logloss:0.39970\n",
            "[2]\ttrain-logloss:0.33898\teval-logloss:0.37438\n",
            "[3]\ttrain-logloss:0.31250\teval-logloss:0.35629\n",
            "[4]\ttrain-logloss:0.28992\teval-logloss:0.34197\n",
            "[5]\ttrain-logloss:0.27194\teval-logloss:0.33111\n",
            "[6]\ttrain-logloss:0.25641\teval-logloss:0.32024\n",
            "[7]\ttrain-logloss:0.24382\teval-logloss:0.31233\n",
            "[8]\ttrain-logloss:0.23406\teval-logloss:0.30578\n",
            "[9]\ttrain-logloss:0.22478\teval-logloss:0.30087\n"
          ]
        },
        {
          "output_type": "stream",
          "name": "stderr",
          "text": [
            "/usr/local/lib/python3.11/dist-packages/xgboost/core.py:158: UserWarning: [14:09:06] WARNING: /workspace/src/learner.cc:740: \n",
            "Parameters: { \"silent\" } are not used.\n",
            "\n",
            "  warnings.warn(smsg, UserWarning)\n"
          ]
        }
      ],
      "source": [
        "# KFoldクラスを用いてクロスバリデーションの分割を行う\n",
        "kf = KFold(n_splits=4, shuffle=True, random_state=71)\n",
        "for tr_idx, va_idx in kf.split(train_x):\n",
        "    tr_x, va_x = train_x.iloc[tr_idx], train_x.iloc[va_idx]\n",
        "    tr_y, va_y = train_y.iloc[tr_idx], train_y.iloc[va_idx]\n",
        "\n",
        "    # 学習の実行、バリデーションデータの予測値の出力、スコアの計算を行う\n",
        "    model = Model()\n",
        "    model.fit(tr_x, tr_y, va_x, va_y)\n",
        "    va_pred = model.predict(va_x)\n",
        "    score = log_loss(va_y, va_pred)\n",
        "    scores.append(score)"
      ]
    },
    {
      "cell_type": "code",
      "execution_count": 18,
      "id": "ed5f71ad",
      "metadata": {
        "id": "ed5f71ad",
        "outputId": "fae5ae3a-3241-4d9e-d69c-12b36fb0eff8",
        "colab": {
          "base_uri": "https://localhost:8080/"
        }
      },
      "outputs": [
        {
          "output_type": "stream",
          "name": "stdout",
          "text": [
            "0.2911975271969166\n"
          ]
        }
      ],
      "source": [
        "# 各foldのスコアの平均をとる\n",
        "print(np.mean(scores))"
      ]
    },
    {
      "cell_type": "code",
      "execution_count": 19,
      "id": "ee393440",
      "metadata": {
        "id": "ee393440"
      },
      "outputs": [],
      "source": [
        "# -----------------------------------\n",
        "# Stratified K-Fold\n",
        "# -----------------------------------\n",
        "from sklearn.model_selection import StratifiedKFold"
      ]
    },
    {
      "cell_type": "code",
      "execution_count": 20,
      "id": "bd4d60af",
      "metadata": {
        "id": "bd4d60af"
      },
      "outputs": [],
      "source": [
        "# StratifiedKFoldクラスを用いて層化抽出による分割を行う\n",
        "kf = StratifiedKFold(n_splits=4, shuffle=True, random_state=71)\n",
        "for tr_idx, va_idx in kf.split(train_x, train_y):\n",
        "    tr_x, va_x = train_x.iloc[tr_idx], train_x.iloc[va_idx]\n",
        "    tr_y, va_y = train_y.iloc[tr_idx], train_y.iloc[va_idx]"
      ]
    },
    {
      "cell_type": "code",
      "execution_count": 21,
      "id": "41e70dcd",
      "metadata": {
        "id": "41e70dcd"
      },
      "outputs": [],
      "source": [
        "# -----------------------------------\n",
        "# GroupKFold\n",
        "# -----------------------------------\n",
        "# 4件ずつ同じユーザーがいるデータであったとする\n",
        "train_x['user_id'] = np.arange(0, len(train_x)) // 4\n",
        "# -----------------------------------"
      ]
    },
    {
      "cell_type": "code",
      "execution_count": 22,
      "id": "c132b5b9",
      "metadata": {
        "id": "c132b5b9"
      },
      "outputs": [],
      "source": [
        "from sklearn.model_selection import KFold, GroupKFold"
      ]
    },
    {
      "cell_type": "code",
      "execution_count": 23,
      "id": "9611fa31",
      "metadata": {
        "id": "9611fa31"
      },
      "outputs": [],
      "source": [
        "# user_id列の顧客IDを単位として分割することにする\n",
        "user_id = train_x['user_id']\n",
        "unique_user_ids = user_id.unique()"
      ]
    },
    {
      "cell_type": "code",
      "execution_count": 24,
      "id": "96f81e80",
      "metadata": {
        "id": "96f81e80"
      },
      "outputs": [],
      "source": [
        "# KFoldクラスを用いて、顧客ID単位で分割する\n",
        "scores = []\n",
        "kf = KFold(n_splits=4, shuffle=True, random_state=71)\n",
        "for tr_group_idx, va_group_idx in kf.split(unique_user_ids):\n",
        "    # 顧客IDをtrain/valid（学習に使うデータ、バリデーションデータ）に分割する\n",
        "    tr_groups, va_groups = unique_user_ids[tr_group_idx], unique_user_ids[va_group_idx]\n",
        "\n",
        "    # 各レコードの顧客IDがtrain/validのどちらに属しているかによって分割する\n",
        "    is_tr = user_id.isin(tr_groups)\n",
        "    is_va = user_id.isin(va_groups)\n",
        "    tr_x, va_x = train_x[is_tr], train_x[is_va]\n",
        "    tr_y, va_y = train_y[is_tr], train_y[is_va]"
      ]
    },
    {
      "cell_type": "code",
      "execution_count": 25,
      "id": "23707931",
      "metadata": {
        "id": "23707931"
      },
      "outputs": [],
      "source": [
        "# （参考）GroupKFoldクラスではシャッフルと乱数シードの指定ができないため使いづらい\n",
        "kf = GroupKFold(n_splits=4)\n",
        "for tr_idx, va_idx in kf.split(train_x, train_y, user_id):\n",
        "    tr_x, va_x = train_x.iloc[tr_idx], train_x.iloc[va_idx]\n",
        "    tr_y, va_y = train_y.iloc[tr_idx], train_y.iloc[va_idx]"
      ]
    },
    {
      "cell_type": "code",
      "execution_count": 26,
      "id": "1a95a73d",
      "metadata": {
        "id": "1a95a73d"
      },
      "outputs": [],
      "source": [
        "# -----------------------------------\n",
        "# leave-one-out\n",
        "# -----------------------------------\n",
        "# データが100件しかないものとする\n",
        "train_x = train_x.iloc[:100, :].copy()\n",
        "# -----------------------------------\n",
        "from sklearn.model_selection import LeaveOneOut"
      ]
    },
    {
      "cell_type": "code",
      "execution_count": 27,
      "id": "edffc2a1",
      "metadata": {
        "id": "edffc2a1"
      },
      "outputs": [],
      "source": [
        "loo = LeaveOneOut()\n",
        "for tr_idx, va_idx in loo.split(train_x):\n",
        "    tr_x, va_x = train_x.iloc[tr_idx], train_x.iloc[va_idx]\n",
        "    tr_y, va_y = train_y.iloc[tr_idx], train_y.iloc[va_idx]"
      ]
    }
  ],
  "metadata": {
    "jupytext": {
      "cell_metadata_filter": "-all",
      "main_language": "python",
      "notebook_metadata_filter": "-all"
    },
    "colab": {
      "provenance": [],
      "include_colab_link": true
    },
    "language_info": {
      "name": "python"
    },
    "kernelspec": {
      "name": "python3",
      "display_name": "Python 3"
    }
  },
  "nbformat": 4,
  "nbformat_minor": 5
}